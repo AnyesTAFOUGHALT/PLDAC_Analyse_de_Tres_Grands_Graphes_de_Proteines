{
 "cells": [
  {
   "cell_type": "code",
   "execution_count": null,
   "id": "cce4d500-26bc-4ec0-b46f-cb1ec868964d",
   "metadata": {},
   "outputs": [],
   "source": []
  },
  {
   "cell_type": "code",
   "execution_count": null,
   "id": "7f5052ea-68bb-4030-835d-8966fd8b2d64",
   "metadata": {},
   "outputs": [],
   "source": []
  },
  {
   "cell_type": "code",
   "execution_count": 1,
   "id": "02d8462d-44fb-44c0-ab29-9c59b835811e",
   "metadata": {},
   "outputs": [],
   "source": [
    "import pandas as pd\n",
    "import findspark\n",
    "from pyspark.sql import SparkSession\n",
    "from pyspark import SparkConf\n",
    "\n",
    "# for dataframe and udf\n",
    "from pyspark.sql import *\n",
    "from pyspark.sql.functions import *\n",
    "from pyspark.sql.types import *\n",
    "\n",
    "\n",
    "from pyspark.sql.functions import col\n",
    "from pyspark.sql import functions as F\n",
    "\n",
    "from igraph import Graph\n",
    "from pyspark.sql.window import Window\n",
    "from pyspark.sql.functions import col\n",
    "\n",
    "from functools import reduce\n",
    "from pyspark.sql.functions import collect_set, min as min_, expr,array_min,max\n",
    "from pyspark.sql.functions import lit\n",
    "\n",
    "from pyspark.sql.types import StringType, IntegerType, LongType, FloatType, ArrayType,StructType,StructField, BooleanType\n",
    "\n",
    "import pandas as pd\n",
    "import glob\n",
    "\n",
    "import time\n",
    "\n",
    "import matplotlib.pyplot as plt\n",
    "\n",
    "from pyspark.sql.types import BooleanType\n"
   ]
  },
  {
   "cell_type": "code",
   "execution_count": 2,
   "id": "fea5a7b4-89f1-4ee1-a98d-6790c3576160",
   "metadata": {},
   "outputs": [],
   "source": [
    "import os\n",
    "os.environ[\"SPARK_HOME\"] =  \"/root/anaconda3/lib/python3.9/site-packages/pyspark\" \n",
    "os.environ[\"JAVA_HOME\"] =\"/usr\""
   ]
  },
  {
   "cell_type": "markdown",
   "id": "6e7f358e-a5f8-4bee-8922-f12a9e524adc",
   "metadata": {},
   "source": [
    "# Lancer spark"
   ]
  },
  {
   "cell_type": "code",
   "execution_count": 3,
   "id": "2deec490-d52c-40f9-82ae-9d6fffdb3333",
   "metadata": {},
   "outputs": [],
   "source": [
    "findspark.init() \n",
    "\n",
    "def demarrer_spark(NB_CORES):\n",
    "  local = f\"local[{NB_CORES}]\"\n",
    "  # le parametre spark.local.dir indique le repertoire contenant les données temporaires ecrites sur disque lorsque le shufle ne tient pas en memoire\n",
    "  appName = \"PLDAC\"\n",
    "  configLocale = SparkConf().setAppName(appName).setMaster(local).\\\n",
    "  set(\"spark.executor.memory\", \"320G\").\\\n",
    "  set(\"spark.driver.memory\",\"320G\").\\\n",
    "  set(\"spark.sql.catalogImplementation\",\"in-memory\").\\\n",
    "  set(\"spark.driver.maxResultSize\", \"20G\").\\\n",
    "  set(\"spark.local.dir\", \"/data/bd/spark/tmp\").\\\n",
    "  set(\"spark.sql.execution.arrow.pyspark.enabled\", \"true\")\n",
    "    \n",
    "\n",
    "# # to allow sharing in memory arow format between pandas and spark : speeds up the creation of a spark df from a pandas df\n",
    "# spark.conf.set(\"spark.sql.execution.arrow.pyspark.enabled\", \"true\")\n",
    "\n",
    "\n",
    "  spark = SparkSession.builder.config(conf = configLocale).getOrCreate()\n",
    "  sc = spark.sparkContext\n",
    "  sc.setLogLevel(\"ERROR\")\n",
    "  \n",
    "  # spark.conf.set(\"spark.sql.autoBroadcastJoinThreshold\",\"-1\")\n",
    "    \n",
    "  # On ajuste l'environnement d'exécution des requêtes à la taille du cluster (NB_CORES coeurs)\n",
    "  shuffle_partitions = 3 * NB_CORES\n",
    "  print(\"shuffle\", shuffle_partitions)\n",
    "  spark.conf.set(\"spark.sql.shuffle.partitions\", str(shuffle_partitions))    \n",
    "\n",
    "  print(\"session démarrée, son id est \", sc.applicationId)\n",
    "  return spark\n"
   ]
  },
  {
   "cell_type": "code",
   "execution_count": 4,
   "id": "ad4ccfe3-55fc-4509-a3ad-651aaba59b1b",
   "metadata": {},
   "outputs": [],
   "source": [
    "def calculate_partition_components(partition_folder , nb_partition):\n",
    "   \n",
    "    def components(partition_file, num_file , d) :\n",
    "        # print(partition_file)\n",
    "        df = pd.read_parquet(partition_file )\n",
    "        g = Graph.TupleList(df[['query_id', 'target_id']].itertuples(index=False), directed=False)\n",
    "        connected_components = g.connected_components()\n",
    "        node_ids=[]\n",
    "        for component in connected_components:\n",
    "            node_ids.append([g.vs[node_index]['name'] for node_index in component])\n",
    "        #on trie en fonction de la taille \n",
    "        composantes_triees = sorted(node_ids, key=len, reverse=True)\n",
    "        # Créer une liste de lignes pour chaque composante\n",
    "        rows = []\n",
    "        for i, component in enumerate(composantes_triees):\n",
    "            for seqid in component:\n",
    "                rows.append((seqid , i)) \n",
    "        # result_df = pd.DataFrame(rows, columns=['seqid', 'component'])\n",
    "        # file_path = f\"/data/bd/dataset/proteine/80_80/G99/graph_partitionned_components/200_partitions_components/partition_{num_file}.parquet\"\n",
    "        # result_df.to_parquet(file_path, index=False)\n",
    "\n",
    "        return rows\n",
    "\n",
    "    # Schéma du DataFrame\n",
    "    schema = StructType([\n",
    "        StructField(\"file\", StringType(), False)\n",
    "    ])\n",
    "    \n",
    "    # Données à partir desquelles créer le DataFrame\n",
    "    # data = [(file,) for file in os.listdir(partition_folder)]\n",
    "    # data = [(i,) for i, file in enumerate(os.listdir(partition_folder))]\n",
    "    data = [(i,) for i in range(nb_partition)]\n",
    "\n",
    "    # Création du DataFrame\n",
    "    df = spark.createDataFrame(data, schema).repartition(nb_partition)\n",
    "    # Enregistrer la fonction UDF\n",
    "    schema_components = StructType([\n",
    "        StructField(\"seqID\", StringType(), nullable=False),\n",
    "        StructField(\"component_id\", IntegerType(), nullable=False)\n",
    "    ])\n",
    "    components_udf = F.udf(components, ArrayType(schema_components))\n",
    "    #df_with_components = df.withColumn(\"components\", components_udf(F.concat(F.lit(partition_folder+\"/\"), df[\"file\"])))\n",
    "    df_with_components = df.withColumn(\n",
    "        \"components\",\n",
    "        components_udf(\n",
    "            F.concat(\n",
    "                F.lit(partition_folder + \"/partition_\"), \n",
    "                df[\"file\"] , \n",
    "                F.lit(\".parquet\")\n",
    "            ) , \n",
    "            df[\"file\"],\n",
    "            F.lit(nb_partition)\n",
    "        )\n",
    "    )\n",
    "    \n",
    "    return df_with_components"
   ]
  },
  {
   "cell_type": "code",
   "execution_count": 5,
   "id": "6379522e-0fed-40a8-bddc-7046e739ee93",
   "metadata": {},
   "outputs": [],
   "source": [
    "from igraph import Graph\n",
    "\n",
    "def components_2(edges):\n",
    "    # Créer un graphe à partir des arêtes\n",
    "    g = Graph.TupleList(edges, directed=False)\n",
    "    \n",
    "    connected_components = g.connected_components()\n",
    "    node_ids=[]\n",
    "    for component in connected_components:\n",
    "        node_ids.append([g.vs[node_index]['name'] for node_index in component])\n",
    "    #on trie en fonction de la taille \n",
    "    composantes_triees = sorted(node_ids, key=len, reverse=True)\n",
    "    # Créer une liste de lignes pour chaque composante\n",
    "    rows = []\n",
    "    for i, component in enumerate(composantes_triees):\n",
    "        for seqid in component:\n",
    "            rows.append(Row(partial_component=seqid ,component=i ))\n",
    "    \n",
    "    # Créer un DataFrame Spark à partir de la liste de lignes\n",
    "    result_df = spark.createDataFrame(rows)\n",
    "    \n",
    "    return result_df"
   ]
  },
  {
   "cell_type": "code",
   "execution_count": 6,
   "id": "31efabac-bd7b-4aeb-a0a4-79246ca3351c",
   "metadata": {},
   "outputs": [
    {
     "name": "stderr",
     "output_type": "stream",
     "text": [
      "WARNING: An illegal reflective access operation has occurred\n",
      "WARNING: Illegal reflective access by org.apache.spark.unsafe.Platform (file:/root/anaconda3/lib/python3.9/site-packages/pyspark/jars/spark-unsafe_2.12-3.1.2.jar) to constructor java.nio.DirectByteBuffer(long,int)\n",
      "WARNING: Please consider reporting this to the maintainers of org.apache.spark.unsafe.Platform\n",
      "WARNING: Use --illegal-access=warn to enable warnings of further illegal reflective access operations\n",
      "WARNING: All illegal access operations will be denied in a future release\n",
      "24/04/28 02:27:47 WARN NativeCodeLoader: Unable to load native-hadoop library for your platform... using builtin-java classes where applicable\n",
      "Using Spark's default log4j profile: org/apache/spark/log4j-defaults.properties\n",
      "Setting default log level to \"WARN\".\n",
      "To adjust logging level use sc.setLogLevel(newLevel). For SparkR, use setLogLevel(newLevel).\n",
      "24/04/28 02:27:47 WARN SparkConf: Note that spark.local.dir will be overridden by the value set by the cluster manager (via SPARK_LOCAL_DIRS in mesos/standalone/kubernetes and LOCAL_DIRS in YARN).\n",
      "24/04/28 02:27:48 WARN Utils: Service 'SparkUI' could not bind on port 4040. Attempting port 4041.\n",
      "24/04/28 02:27:48 WARN Utils: Service 'SparkUI' could not bind on port 4041. Attempting port 4042.\n"
     ]
    },
    {
     "name": "stdout",
     "output_type": "stream",
     "text": [
      "shuffle 180\n",
      "session démarrée, son id est  local-1714264068664\n"
     ]
    }
   ],
   "source": [
    "spark = demarrer_spark(60)"
   ]
  },
  {
   "cell_type": "code",
   "execution_count": 13,
   "id": "9207cd0d-03f1-460b-b4c7-f823d33f70f8",
   "metadata": {},
   "outputs": [
    {
     "name": "stdout",
     "output_type": "stream",
     "text": [
      "Avec un nombre de partitions égale à :  70\n",
      "here ::  /data/bd/dataset/proteine/80_80/G99/TEST_RACHA_CALCUL_COMPOSANTES/partitions/70_partitions\n"
     ]
    },
    {
     "name": "stderr",
     "output_type": "stream",
     "text": [
      "                                                                                \r"
     ]
    },
    {
     "name": "stdout",
     "output_type": "stream",
     "text": [
      "G prime  [2471.6794362068176, 1194.6440687179565, 1063.8501031398773]\n",
      "Time total    [4585.95818400383, 2147.652998447418, 1843.6668572425842]\n",
      "Durée :  1843.667141199112\n",
      "Avec un nombre de partitions égale à :  100\n",
      "here ::  /data/bd/dataset/proteine/80_80/G99/TEST_RACHA_CALCUL_COMPOSANTES/partitions/100_partitions\n"
     ]
    },
    {
     "name": "stderr",
     "output_type": "stream",
     "text": [
      "                                                                                \r"
     ]
    },
    {
     "name": "stdout",
     "output_type": "stream",
     "text": [
      "G prime  [2471.6794362068176, 1194.6440687179565, 1063.8501031398773, 1045.029902458191]\n",
      "Time total    [4585.95818400383, 2147.652998447418, 1843.6668572425842, 1755.5635607242584]\n",
      "Durée :  1755.5638461112976\n",
      "Avec un nombre de partitions égale à :  150\n",
      "here ::  /data/bd/dataset/proteine/80_80/G99/TEST_RACHA_CALCUL_COMPOSANTES/partitions/150_partitions\n"
     ]
    },
    {
     "name": "stderr",
     "output_type": "stream",
     "text": [
      "[Stage 74:=============================================>       (155 + 25) / 180]\r"
     ]
    },
    {
     "name": "stdout",
     "output_type": "stream",
     "text": [
      "G prime  [2471.6794362068176, 1194.6440687179565, 1063.8501031398773, 1045.029902458191, 1057.8321268558502]\n",
      "Time total    [4585.95818400383, 2147.652998447418, 1843.6668572425842, 1755.5635607242584, 1793.3706398010254]\n",
      "Durée :  1793.3708143234253\n"
     ]
    },
    {
     "name": "stderr",
     "output_type": "stream",
     "text": [
      "                                                                                \r"
     ]
    }
   ],
   "source": [
    "times_Gprime_moy_total=[2471.6794362068176, 1194.6440687179565]\n",
    "times_moy_total=[4585.95818400383, 2147.652998447418]\n",
    "\n",
    "\n",
    "\"\"\"\n",
    "times_Gprime_moy_total [2471.6794362068176, 1194.6440687179565]\n",
    "times_moy_total [4585.95818400383, 2147.652998447418]\n",
    "\"\"\"\n",
    "nb_partitions = [70,100,150]\n",
    "for num_partitions in nb_partitions :\n",
    "    print(\"Avec un nombre de partitions égale à : \",num_partitions)\n",
    "    start_time = time.time()\n",
    "\n",
    "    partition_folder = f\"/data/bd/dataset/proteine/80_80/G99/TEST_RACHA_CALCUL_COMPOSANTES/partitions/{num_partitions}_partitions\"\n",
    "    print(\"here :: \",partition_folder)\n",
    "    df_with_components = calculate_partition_components(partition_folder,num_partitions)\n",
    "\n",
    "    df_exploded = df_with_components.select('file',  F.explode('components').alias('component'))\n",
    "    df_split = df_exploded.select(\"file\", col(\"component.seqID\").alias(\"seqID\"), col(\"component.component_id\").alias(\"component_id\"))\n",
    "\n",
    "    # # Ajouter une colonne d'identifiant unique basée sur le couple (file, component_id)\n",
    "    windowSpec = Window.orderBy(\"file\", \"component_id\")\n",
    "    df = df_split.withColumn(\"new_component_id\", dense_rank().over(windowSpec))\n",
    "    new_df = df.select(\"seqID\",\"new_component_id\")\n",
    "\n",
    "\n",
    "    components_per_node = new_df \\\n",
    "        .groupby(\"seqID\") \\\n",
    "        .agg(collect_set(\"new_component_id\").alias(\"components\")) \\\n",
    "        .withColumn(\"min_component\", array_min(\"components\"))\n",
    "\n",
    "\n",
    "    components_per_node_exploded = components_per_node.select('seqID', 'min_component', F.explode('components').alias('component'))\n",
    "    result = components_per_node_exploded.where(col(\"component\") > col(\"min_component\")).drop(\"seqID\").dropDuplicates()\n",
    "\n",
    "\n",
    "    new_graph = result.withColumnRenamed(\"min_component\", \"src\").withColumnRenamed(\"component\", \"dst\")\n",
    "\n",
    "\n",
    "    new_graph.select('src', 'dst').write.csv(f'/data/bd/dataset/proteine/80_80/G99/TEST_RACHA_CALCUL_COMPOSANTES/20_50_70_150_G_prime_time_comp/{num_partitions}_part_graphe_60_G_prime.csv')\n",
    "\n",
    "    #--------------------\n",
    "    edges = spark.read.csv(f'/data/bd/dataset/proteine/80_80/G99/TEST_RACHA_CALCUL_COMPOSANTES/20_50_70_150_G_prime_time_comp/{num_partitions}_part_graphe_60_G_prime.csv', header=False, inferSchema=True)\n",
    "\n",
    "    # Création du graph avec igraph\n",
    "    from igraph import Graph\n",
    "\n",
    "    # Conversion des arêtes DataFrame en liste de tuples\n",
    "    edges_list = edges.rdd.map(lambda row: (row[0], row[1])).collect()\n",
    "\n",
    "    start_timeG = time.time()\n",
    "\n",
    "    #___________\n",
    "    composantes_df = components_2(edges_list)\n",
    "    composantes_df_exploded = composantes_df \\\n",
    "    .groupby(\"component\") \\\n",
    "    .agg(collect_set(\"partial_component\").alias(\"partial_components\")) \\\n",
    "    .withColumn(\"min_partial_component\", array_min(\"partial_components\")) \\\n",
    "    .selectExpr(\"explode(partial_components) as partial_component\" , \"min_partial_component\")\n",
    "\n",
    "    # #resultat final en faisant une jointure gauche\n",
    "    result = components_per_node.join(composantes_df_exploded, components_per_node.min_component == composantes_df_exploded.partial_component, \"left_outer\") \\\n",
    "               .select(components_per_node.seqID, when(composantes_df_exploded.partial_component.isNull(), components_per_node.min_component).otherwise(composantes_df_exploded.min_partial_component).alias(\"new_component_id\"))\n",
    "\n",
    "\n",
    "    #ecriture du résultat dans des fichier parquet\n",
    "    file_path = f\"/data/bd/dataset/proteine/80_80/G99/TEST_RACHA_CALCUL_COMPOSANTES/composantes_finales_test_temps_23_avril\"\n",
    "    result.write.mode(\"overwrite\").parquet(file_path)\n",
    "\n",
    "    times_Gprime_moy_total.append(time.time() - start_timeG)\n",
    "    times_moy_total.append(time.time() - start_time)\n",
    "    print(\"G prime \",times_Gprime_moy_total)\n",
    "    print(\"Time total   \",times_moy_total)\n",
    "\n",
    "    stop_time_total = time.time()-start_time\n",
    "\n",
    "    print(\"Durée : \",stop_time_total)"
   ]
  },
  {
   "cell_type": "code",
   "execution_count": 14,
   "id": "155a5744-69d7-4f25-aa79-74892d62b3cd",
   "metadata": {},
   "outputs": [
    {
     "name": "stdout",
     "output_type": "stream",
     "text": [
      "times_Gprime_moy_total [2471.6794362068176, 1194.6440687179565, 1063.8501031398773, 1045.029902458191, 1057.8321268558502]\n",
      "times_moy_total [4585.95818400383, 2147.652998447418, 1843.6668572425842, 1755.5635607242584, 1793.3706398010254]\n"
     ]
    }
   ],
   "source": [
    "print(\"times_Gprime_moy_total\",times_Gprime_moy_total)\n",
    "print(\"times_moy_total\",times_moy_total)\n"
   ]
  },
  {
   "cell_type": "code",
   "execution_count": 16,
   "id": "bfeefd09-3ccf-4736-96e9-8cafa87ca20c",
   "metadata": {},
   "outputs": [
    {
     "data": {
      "image/png": "[encoded data removed]",
      "text/plain": [
       "<Figure size 432x288 with 1 Axes>"
      ]
     },
     "metadata": {
      "needs_background": "light"
     },
     "output_type": "display_data"
    }
   ],
   "source": [
    "degree_parallelisme = [20,50,70,100,150]\n",
    "plt.plot(degree_parallelisme, times_Gprime_moy_total)\n",
    "\n",
    "plt.xlabel('Degrée de Parallélisme')\n",
    "plt.ylabel('Temps')\n",
    "plt.title('Comparaison du temps de calcul de G prime avec 200_partitions') \n",
    "\n",
    "plt.show()"
   ]
  },
  {
   "cell_type": "code",
   "execution_count": 17,
   "id": "3158019f-62a9-471a-b832-8293229e34e5",
   "metadata": {},
   "outputs": [
    {
     "data": {
      "image/png": "[encoded data removed]",
      "text/plain": [
       "<Figure size 432x288 with 1 Axes>"
      ]
     },
     "metadata": {
      "needs_background": "light"
     },
     "output_type": "display_data"
    }
   ],
   "source": [
    "plt.plot(degree_parallelisme, times_moy_total)\n",
    "\n",
    "plt.xlabel('Degrée de Parallélisme')\n",
    "plt.ylabel('Temps')\n",
    "plt.title('Comparaison du temps de calcul des composantes finales avec 200_partitions') \n",
    "\n",
    "plt.show()"
   ]
  },
  {
   "cell_type": "markdown",
   "id": "fbb291d9-6dda-4ed8-87de-947415279fd0",
   "metadata": {},
   "source": [
    "### Test 29 avril avec 500 partitions : "
   ]
  },
  {
   "cell_type": "code",
   "execution_count": 9,
   "id": "8f65ceac-10c3-49d3-9052-a1e4308ebb5c",
   "metadata": {},
   "outputs": [
    {
     "name": "stdout",
     "output_type": "stream",
     "text": [
      "shuffle 180\n",
      "session démarrée, son id est  local-1714380608043\n"
     ]
    }
   ],
   "source": [
    "spark = demarrer_spark(60)"
   ]
  },
  {
   "cell_type": "code",
   "execution_count": 10,
   "id": "0552eede-049e-402f-8b4a-b79c4841f7de",
   "metadata": {},
   "outputs": [
    {
     "name": "stdout",
     "output_type": "stream",
     "text": [
      "here :  /data/bd/dataset/proteine/80_80/G99/TEST_RACHA_CALCUL_COMPOSANTES/partitions/500_partitions\n"
     ]
    },
    {
     "name": "stderr",
     "output_type": "stream",
     "text": [
      "[Stage 14:=========================================>           (142 + 38) / 180]\r"
     ]
    },
    {
     "name": "stdout",
     "output_type": "stream",
     "text": [
      "G prime  117.19477224349976\n",
      "Time total    210.56169748306274\n"
     ]
    },
    {
     "name": "stderr",
     "output_type": "stream",
     "text": [
      "                                                                                \r"
     ]
    }
   ],
   "source": [
    "num_partitions= 500\n",
    "start_time = time.time()\n",
    "\n",
    "partition_folder = f\"/data/bd/dataset/proteine/80_80/G99/TEST_RACHA_CALCUL_COMPOSANTES/partitions/{num_partitions}_partitions\"\n",
    "print(\"here : \",partition_folder)\n",
    "df_with_components = calculate_partition_components(partition_folder,60)\n",
    "\n",
    "df_exploded = df_with_components.select('file',  F.explode('components').alias('component'))\n",
    "df_split = df_exploded.select(\"file\", col(\"component.seqID\").alias(\"seqID\"), col(\"component.component_id\").alias(\"component_id\"))\n",
    "\n",
    "# # Ajouter une colonne d'identifiant unique basée sur le couple (file, component_id)\n",
    "windowSpec = Window.orderBy(\"file\", \"component_id\")\n",
    "df = df_split.withColumn(\"new_component_id\", dense_rank().over(windowSpec))\n",
    "new_df = df.select(\"seqID\",\"new_component_id\")\n",
    "\n",
    "\n",
    "components_per_node = new_df \\\n",
    "    .groupby(\"seqID\") \\\n",
    "    .agg(collect_set(\"new_component_id\").alias(\"components\")) \\\n",
    "    .withColumn(\"min_component\", array_min(\"components\"))\n",
    "\n",
    "\n",
    "components_per_node_exploded = components_per_node.select('seqID', 'min_component', F.explode('components').alias('component'))\n",
    "result = components_per_node_exploded.where(col(\"component\") > col(\"min_component\")).drop(\"seqID\").dropDuplicates()\n",
    "\n",
    "\n",
    "new_graph = result.withColumnRenamed(\"min_component\", \"src\").withColumnRenamed(\"component\", \"dst\")\n",
    "\n",
    "\n",
    "new_graph.select('src', 'dst').write.csv(f'/data/bd/dataset/proteine/80_80/G99/TEST_RACHA_CALCUL_COMPOSANTES/20_50_70_150_G_prime_time_comp/{num_partitions}_part_graphe_60_G_prime.csv')\n",
    "\n",
    "#--------------------\n",
    "edges = spark.read.csv(f'/data/bd/dataset/proteine/80_80/G99/TEST_RACHA_CALCUL_COMPOSANTES/20_50_70_150_G_prime_time_comp/{num_partitions}_part_graphe_60_G_prime.csv', header=False, inferSchema=True)\n",
    "\n",
    "# Création du graph avec igraph\n",
    "from igraph import Graph\n",
    "\n",
    "# Conversion des arêtes DataFrame en liste de tuples\n",
    "edges_list = edges.rdd.map(lambda row: (row[0], row[1])).collect()\n",
    "\n",
    "start_timeG = time.time()\n",
    "\n",
    "#___________\n",
    "composantes_df = components_2(edges_list)\n",
    "composantes_df_exploded = composantes_df \\\n",
    ".groupby(\"component\") \\\n",
    ".agg(collect_set(\"partial_component\").alias(\"partial_components\")) \\\n",
    ".withColumn(\"min_partial_component\", array_min(\"partial_components\")) \\\n",
    ".selectExpr(\"explode(partial_components) as partial_component\" , \"min_partial_component\")\n",
    "\n",
    "# #resultat final en faisant une jointure gauche\n",
    "result = components_per_node.join(composantes_df_exploded, components_per_node.min_component == composantes_df_exploded.partial_component, \"left_outer\") \\\n",
    "           .select(components_per_node.seqID, when(composantes_df_exploded.partial_component.isNull(), components_per_node.min_component).otherwise(composantes_df_exploded.min_partial_component).alias(\"new_component_id\"))\n",
    "\n",
    "\n",
    "#ecriture du résultat dans des fichier parquet\n",
    "file_path = f\"/data/bd/dataset/proteine/80_80/G99/TEST_RACHA_CALCUL_COMPOSANTES/composantes_finales_test_temps_23_avril\"\n",
    "result.write.mode(\"overwrite\").parquet(file_path)\n",
    "stop_time_total = time.time()-start_time\n",
    "stop_time_g_PRIME = time.time()-start_timeG\n",
    "\n",
    "\n",
    "print(\"G prime \",stop_time_g_PRIME)\n",
    "print(\"Time total   \",stop_time_total)\n",
    "\n",
    "\n"
   ]
  },
  {
   "cell_type": "code",
   "execution_count": 13,
   "id": "76900fa9-c2d7-4d26-aa6c-81c4599b4a5f",
   "metadata": {},
   "outputs": [
    {
     "name": "stdout",
     "output_type": "stream",
     "text": [
      "here :  /data/bd/dataset/proteine/80_80/G99/TEST_RACHA_CALCUL_COMPOSANTES/partitions/50_partitions\n"
     ]
    },
    {
     "name": "stderr",
     "output_type": "stream",
     "text": [
      "[Stage 29:=============================================>       (153 + 27) / 180]\r"
     ]
    },
    {
     "name": "stdout",
     "output_type": "stream",
     "text": [
      "G prime  1175.597425699234\n",
      "Time total    2071.1763184070587\n"
     ]
    },
    {
     "name": "stderr",
     "output_type": "stream",
     "text": [
      "                                                                                \r"
     ]
    }
   ],
   "source": [
    "num_partitions= 50\n",
    "start_time = time.time()\n",
    "\n",
    "partition_folder = f\"/data/bd/dataset/proteine/80_80/G99/TEST_RACHA_CALCUL_COMPOSANTES/partitions/{num_partitions}_partitions\"\n",
    "print(\"here : \",partition_folder)\n",
    "df_with_components = calculate_partition_components(partition_folder,50)\n",
    "\n",
    "df_exploded = df_with_components.select('file',  F.explode('components').alias('component'))\n",
    "df_split = df_exploded.select(\"file\", col(\"component.seqID\").alias(\"seqID\"), col(\"component.component_id\").alias(\"component_id\"))\n",
    "\n",
    "# # Ajouter une colonne d'identifiant unique basée sur le couple (file, component_id)\n",
    "windowSpec = Window.orderBy(\"file\", \"component_id\")\n",
    "df = df_split.withColumn(\"new_component_id\", dense_rank().over(windowSpec))\n",
    "new_df = df.select(\"seqID\",\"new_component_id\")\n",
    "\n",
    "\n",
    "components_per_node = new_df \\\n",
    "    .groupby(\"seqID\") \\\n",
    "    .agg(collect_set(\"new_component_id\").alias(\"components\")) \\\n",
    "    .withColumn(\"min_component\", array_min(\"components\"))\n",
    "\n",
    "\n",
    "components_per_node_exploded = components_per_node.select('seqID', 'min_component', F.explode('components').alias('component'))\n",
    "result = components_per_node_exploded.where(col(\"component\") > col(\"min_component\")).drop(\"seqID\").dropDuplicates()\n",
    "\n",
    "\n",
    "new_graph = result.withColumnRenamed(\"min_component\", \"src\").withColumnRenamed(\"component\", \"dst\")\n",
    "\n",
    "\n",
    "new_graph.select('src', 'dst').write.csv(f'/data/bd/dataset/proteine/80_80/G99/TEST_RACHA_CALCUL_COMPOSANTES/20_50_70_150_G_prime_time_comp/{num_partitions}_part_graphe_60_G_prime.csv')\n",
    "\n",
    "#--------------------\n",
    "edges = spark.read.csv(f'/data/bd/dataset/proteine/80_80/G99/TEST_RACHA_CALCUL_COMPOSANTES/20_50_70_150_G_prime_time_comp/{num_partitions}_part_graphe_60_G_prime.csv', header=False, inferSchema=True)\n",
    "\n",
    "# Création du graph avec igraph\n",
    "from igraph import Graph\n",
    "\n",
    "# Conversion des arêtes DataFrame en liste de tuples\n",
    "edges_list = edges.rdd.map(lambda row: (row[0], row[1])).collect()\n",
    "\n",
    "start_timeG = time.time()\n",
    "\n",
    "#___________\n",
    "composantes_df = components_2(edges_list)\n",
    "composantes_df_exploded = composantes_df \\\n",
    ".groupby(\"component\") \\\n",
    ".agg(collect_set(\"partial_component\").alias(\"partial_components\")) \\\n",
    ".withColumn(\"min_partial_component\", array_min(\"partial_components\")) \\\n",
    ".selectExpr(\"explode(partial_components) as partial_component\" , \"min_partial_component\")\n",
    "\n",
    "# #resultat final en faisant une jointure gauche\n",
    "result = components_per_node.join(composantes_df_exploded, components_per_node.min_component == composantes_df_exploded.partial_component, \"left_outer\") \\\n",
    "           .select(components_per_node.seqID, when(composantes_df_exploded.partial_component.isNull(), components_per_node.min_component).otherwise(composantes_df_exploded.min_partial_component).alias(\"new_component_id\"))\n",
    "\n",
    "\n",
    "#ecriture du résultat dans des fichier parquet\n",
    "file_path = f\"/data/bd/dataset/proteine/80_80/G99/TEST_RACHA_CALCUL_COMPOSANTES/composantes_finales_test_temps_23_avril\"\n",
    "result.write.mode(\"overwrite\").parquet(file_path)\n",
    "stop_time_total = time.time()-start_time\n",
    "stop_time_g_PRIME = time.time()-start_timeG\n",
    "\n",
    "\n",
    "print(\"G prime \",stop_time_g_PRIME)\n",
    "print(\"Time total   \",stop_time_total)\n",
    "\n",
    "\n"
   ]
  },
  {
   "cell_type": "code",
   "execution_count": 15,
   "id": "c1a3d462-1f28-4df7-b1ed-972b1d438a5c",
   "metadata": {},
   "outputs": [
    {
     "name": "stdout",
     "output_type": "stream",
     "text": [
      "shuffle 150\n",
      "session démarrée, son id est  local-1714380608043\n",
      "here :  /data/bd/dataset/proteine/80_80/G99/TEST_RACHA_CALCUL_COMPOSANTES/partitions/50_partitions\n"
     ]
    },
    {
     "name": "stderr",
     "output_type": "stream",
     "text": [
      "                                                                                \r"
     ]
    },
    {
     "name": "stdout",
     "output_type": "stream",
     "text": [
      "G prime  370.2670750617981\n",
      "Time total    2566.8542625904083\n"
     ]
    }
   ],
   "source": [
    "num_partitions= 50\n",
    "spark = demarrer_spark(num_partitions)\n",
    "start_time = time.time()\n",
    "\n",
    "partition_folder = f\"/data/bd/dataset/proteine/80_80/G99/TEST_RACHA_CALCUL_COMPOSANTES/partitions/{num_partitions}_partitions\"\n",
    "print(\"here : \",partition_folder)\n",
    "df_with_components = calculate_partition_components(partition_folder,num_partitions)\n",
    "\n",
    "df_exploded = df_with_components.select('file',  F.explode('components').alias('component'))\n",
    "df_split = df_exploded.select(\"file\", col(\"component.seqID\").alias(\"seqID\"), col(\"component.component_id\").alias(\"component_id\"))\n",
    "\n",
    "# # Ajouter une colonne d'identifiant unique basée sur le couple (file, component_id)\n",
    "windowSpec = Window.orderBy(\"file\", \"component_id\")\n",
    "df = df_split.withColumn(\"new_component_id\", dense_rank().over(windowSpec))\n",
    "new_df = df.select(\"seqID\",\"new_component_id\")\n",
    "\n",
    "\n",
    "components_per_node = new_df \\\n",
    "    .groupby(\"seqID\") \\\n",
    "    .agg(collect_set(\"new_component_id\").alias(\"components\")) \\\n",
    "    .withColumn(\"min_component\", array_min(\"components\"))\n",
    "\n",
    "\n",
    "components_per_node_exploded = components_per_node.select('seqID', 'min_component', F.explode('components').alias('component'))\n",
    "result = components_per_node_exploded.where(col(\"component\") > col(\"min_component\")).drop(\"seqID\").dropDuplicates()\n",
    "\n",
    "\n",
    "new_graph = result.withColumnRenamed(\"min_component\", \"src\").withColumnRenamed(\"component\", \"dst\")\n",
    "\n",
    "\n",
    "new_graph.select('src', 'dst').write.csv(f'/data/bd/dataset/proteine/80_80/G99/TEST_RACHA_CALCUL_COMPOSANTES/20_50_70_150_G_prime_time_comp/{num_partitions}_part_graphe_60_G_prime.csv')\n",
    "\n",
    "#--------------------\n",
    "edges = spark.read.csv(f'/data/bd/dataset/proteine/80_80/G99/TEST_RACHA_CALCUL_COMPOSANTES/20_50_70_150_G_prime_time_comp/{num_partitions}_part_graphe_60_G_prime.csv', header=False, inferSchema=True)\n",
    "\n",
    "# Création du graph avec igraph\n",
    "from igraph import Graph\n",
    "\n",
    "# Conversion des arêtes DataFrame en liste de tuples\n",
    "edges_list = edges.rdd.map(lambda row: (row[0], row[1])).collect()\n",
    "\n",
    "\n",
    "g_prime_folder = f'/data/bd/dataset/proteine/80_80/G99/TEST_RACHA_CALCUL_COMPOSANTES/20_50_70_150_G_prime_time_comp/G_prime_folder'\n",
    "start_timeG = time.time()\n",
    "\n",
    "#___________\n",
    "composantes_df = components_2(edges_list)\n",
    "\n",
    "composantes_df.write.mode(\"overwrite\").parquet(g_prime_folder)\n",
    "stop_time_g_PRIME = time.time()-start_timeG\n",
    "\n",
    "composantes_df_exploded = composantes_df \\\n",
    ".groupby(\"component\") \\\n",
    ".agg(collect_set(\"partial_component\").alias(\"partial_components\")) \\\n",
    ".withColumn(\"min_partial_component\", array_min(\"partial_components\")) \\\n",
    ".selectExpr(\"explode(partial_components) as partial_component\" , \"min_partial_component\")\n",
    "\n",
    "# #resultat final en faisant une jointure gauche\n",
    "result = components_per_node.join(composantes_df_exploded, components_per_node.min_component == composantes_df_exploded.partial_component, \"left_outer\") \\\n",
    "           .select(components_per_node.seqID, when(composantes_df_exploded.partial_component.isNull(), components_per_node.min_component).otherwise(composantes_df_exploded.min_partial_component).alias(\"new_component_id\"))\n",
    "\n",
    "\n",
    "#ecriture du résultat dans des fichier parquet\n",
    "file_path = f\"/data/bd/dataset/proteine/80_80/G99/TEST_RACHA_CALCUL_COMPOSANTES/composantes_finales_test_temps_23_avril\"\n",
    "result.write.mode(\"overwrite\").parquet(file_path)\n",
    "stop_time_total = time.time()-start_time\n",
    "\n",
    "\n",
    "print(\"G prime \",stop_time_g_PRIME)\n",
    "print(\"Time total   \",stop_time_total)\n",
    "\n",
    "spark.stop()\n"
   ]
  },
  {
   "cell_type": "code",
   "execution_count": 11,
   "id": "3c5ea6c8-101d-4119-805b-c7483e7df3c5",
   "metadata": {},
   "outputs": [
    {
     "name": "stdout",
     "output_type": "stream",
     "text": [
      "shuffle 180\n",
      "session démarrée, son id est  local-1714391197415\n",
      "here :  /data/bd/dataset/proteine/80_80/G99/TEST_RACHA_CALCUL_COMPOSANTES/partitions/150_partitions\n"
     ]
    },
    {
     "name": "stderr",
     "output_type": "stream",
     "text": [
      "                                                                                \r"
     ]
    },
    {
     "name": "stdout",
     "output_type": "stream",
     "text": [
      "G prime  464.7268805503845\n",
      "Time total    2229.211688041687\n"
     ]
    }
   ],
   "source": [
    "num_partitions= 150\n",
    "spark = demarrer_spark(60)\n",
    "start_time = time.time()\n",
    "\n",
    "partition_folder = f\"/data/bd/dataset/proteine/80_80/G99/TEST_RACHA_CALCUL_COMPOSANTES/partitions/{num_partitions}_partitions\"\n",
    "print(\"here : \",partition_folder)\n",
    "df_with_components = calculate_partition_components(partition_folder,60)\n",
    "\n",
    "df_exploded = df_with_components.select('file',  F.explode('components').alias('component'))\n",
    "df_split = df_exploded.select(\"file\", col(\"component.seqID\").alias(\"seqID\"), col(\"component.component_id\").alias(\"component_id\"))\n",
    "\n",
    "# # Ajouter une colonne d'identifiant unique basée sur le couple (file, component_id)\n",
    "windowSpec = Window.orderBy(\"file\", \"component_id\")\n",
    "df = df_split.withColumn(\"new_component_id\", dense_rank().over(windowSpec))\n",
    "new_df = df.select(\"seqID\",\"new_component_id\")\n",
    "\n",
    "\n",
    "components_per_node = new_df \\\n",
    "    .groupby(\"seqID\") \\\n",
    "    .agg(collect_set(\"new_component_id\").alias(\"components\")) \\\n",
    "    .withColumn(\"min_component\", array_min(\"components\"))\n",
    "\n",
    "\n",
    "components_per_node_exploded = components_per_node.select('seqID', 'min_component', F.explode('components').alias('component'))\n",
    "result = components_per_node_exploded.where(col(\"component\") > col(\"min_component\")).drop(\"seqID\").dropDuplicates()\n",
    "\n",
    "\n",
    "new_graph = result.withColumnRenamed(\"min_component\", \"src\").withColumnRenamed(\"component\", \"dst\")\n",
    "\n",
    "\n",
    "new_graph.select('src', 'dst').write.csv(f'/data/bd/dataset/proteine/80_80/G99/TEST_RACHA_CALCUL_COMPOSANTES/20_50_70_150_G_prime_time_comp/{num_partitions}_part_graphe_60_G_prime.csv')\n",
    "\n",
    "#--------------------\n",
    "edges = spark.read.csv(f'/data/bd/dataset/proteine/80_80/G99/TEST_RACHA_CALCUL_COMPOSANTES/20_50_70_150_G_prime_time_comp/{num_partitions}_part_graphe_60_G_prime.csv', header=False, inferSchema=True)\n",
    "\n",
    "# Création du graph avec igraph\n",
    "\n",
    "# Conversion des arêtes DataFrame en liste de tuples\n",
    "edges_list = edges.rdd.map(lambda row: (row[0], row[1])).collect()\n",
    "\n",
    "g_prime_folder = f'/data/bd/dataset/proteine/80_80/G99/TEST_RACHA_CALCUL_COMPOSANTES/20_50_70_150_G_prime_time_comp/G_prime_folder'\n",
    "start_timeG = time.time()\n",
    "\n",
    "#___________\n",
    "composantes_df = components_2(edges_list)\n",
    "\n",
    "composantes_df.write.mode(\"overwrite\").parquet(g_prime_folder)\n",
    "stop_time_g_PRIME = time.time()-start_timeG\n",
    "\n",
    "composantes_df_exploded = composantes_df \\\n",
    ".groupby(\"component\") \\\n",
    ".agg(collect_set(\"partial_component\").alias(\"partial_components\")) \\\n",
    ".withColumn(\"min_partial_component\", array_min(\"partial_components\")) \\\n",
    ".selectExpr(\"explode(partial_components) as partial_component\" , \"min_partial_component\")\n",
    "\n",
    "# #resultat final en faisant une jointure gauche\n",
    "result = components_per_node.join(composantes_df_exploded, components_per_node.min_component == composantes_df_exploded.partial_component, \"left_outer\") \\\n",
    "           .select(components_per_node.seqID, when(composantes_df_exploded.partial_component.isNull(), components_per_node.min_component).otherwise(composantes_df_exploded.min_partial_component).alias(\"new_component_id\"))\n",
    "\n",
    "\n",
    "#ecriture du résultat dans des fichier parquet\n",
    "file_path = f\"/data/bd/dataset/proteine/80_80/G99/TEST_RACHA_CALCUL_COMPOSANTES/composantes_finales_test_temps_23_avril\"\n",
    "result.write.mode(\"overwrite\").parquet(file_path)\n",
    "stop_time_total = time.time()-start_time\n",
    "\n",
    "\n",
    "print(\"G prime \",stop_time_g_PRIME)\n",
    "print(\"Time total   \",stop_time_total)\n",
    "\n",
    "spark.stop()\n"
   ]
  },
  {
   "cell_type": "code",
   "execution_count": 8,
   "id": "86880287-328e-47d4-8a6e-42271abeebe3",
   "metadata": {},
   "outputs": [
    {
     "name": "stdout",
     "output_type": "stream",
     "text": [
      "shuffle 60\n",
      "session démarrée, son id est  local-1714395912286\n",
      "here :  /data/bd/dataset/proteine/80_80/G99/TEST_RACHA_CALCUL_COMPOSANTES/partitions/20_partitions\n"
     ]
    },
    {
     "name": "stderr",
     "output_type": "stream",
     "text": [
      "                                                                                \r"
     ]
    },
    {
     "name": "stdout",
     "output_type": "stream",
     "text": [
      "G prime  343.11279368400574\n",
      "Time total    4639.943820714951\n"
     ]
    }
   ],
   "source": [
    "num_partitions= 20\n",
    "spark = demarrer_spark(20)\n",
    "start_time = time.time()\n",
    "\n",
    "partition_folder = f\"/data/bd/dataset/proteine/80_80/G99/TEST_RACHA_CALCUL_COMPOSANTES/partitions/{num_partitions}_partitions\"\n",
    "print(\"here : \",partition_folder)\n",
    "df_with_components = calculate_partition_components(partition_folder,20)\n",
    "\n",
    "df_exploded = df_with_components.select('file',  F.explode('components').alias('component'))\n",
    "df_split = df_exploded.select(\"file\", col(\"component.seqID\").alias(\"seqID\"), col(\"component.component_id\").alias(\"component_id\"))\n",
    "\n",
    "# # Ajouter une colonne d'identifiant unique basée sur le couple (file, component_id)\n",
    "windowSpec = Window.orderBy(\"file\", \"component_id\")\n",
    "df = df_split.withColumn(\"new_component_id\", dense_rank().over(windowSpec))\n",
    "new_df = df.select(\"seqID\",\"new_component_id\")\n",
    "\n",
    "\n",
    "components_per_node = new_df \\\n",
    "    .groupby(\"seqID\") \\\n",
    "    .agg(collect_set(\"new_component_id\").alias(\"components\")) \\\n",
    "    .withColumn(\"min_component\", array_min(\"components\"))\n",
    "\n",
    "\n",
    "components_per_node_exploded = components_per_node.select('seqID', 'min_component', F.explode('components').alias('component'))\n",
    "result = components_per_node_exploded.where(col(\"component\") > col(\"min_component\")).drop(\"seqID\").dropDuplicates()\n",
    "\n",
    "\n",
    "new_graph = result.withColumnRenamed(\"min_component\", \"src\").withColumnRenamed(\"component\", \"dst\")\n",
    "\n",
    "\n",
    "new_graph.select('src', 'dst').write.csv(f'/data/bd/dataset/proteine/80_80/G99/TEST_RACHA_CALCUL_COMPOSANTES/20_50_70_150_G_prime_time_comp/{num_partitions}_part_graphe_60_G_prime.csv')\n",
    "\n",
    "#--------------------\n",
    "edges = spark.read.csv(f'/data/bd/dataset/proteine/80_80/G99/TEST_RACHA_CALCUL_COMPOSANTES/20_50_70_150_G_prime_time_comp/{num_partitions}_part_graphe_60_G_prime.csv', header=False, inferSchema=True)\n",
    "\n",
    "# Création du graph avec igraph\n",
    "\n",
    "# Conversion des arêtes DataFrame en liste de tuples\n",
    "edges_list = edges.rdd.map(lambda row: (row[0], row[1])).collect()\n",
    "\n",
    "g_prime_folder = f'/data/bd/dataset/proteine/80_80/G99/TEST_RACHA_CALCUL_COMPOSANTES/20_50_70_150_G_prime_time_comp/G_prime_folder'\n",
    "start_timeG = time.time()\n",
    "\n",
    "#___________\n",
    "composantes_df = components_2(edges_list)\n",
    "\n",
    "composantes_df.write.mode(\"overwrite\").parquet(g_prime_folder)\n",
    "stop_time_g_PRIME = time.time()-start_timeG\n",
    "\n",
    "composantes_df_exploded = composantes_df \\\n",
    ".groupby(\"component\") \\\n",
    ".agg(collect_set(\"partial_component\").alias(\"partial_components\")) \\\n",
    ".withColumn(\"min_partial_component\", array_min(\"partial_components\")) \\\n",
    ".selectExpr(\"explode(partial_components) as partial_component\" , \"min_partial_component\")\n",
    "\n",
    "# #resultat final en faisant une jointure gauche\n",
    "result = components_per_node.join(composantes_df_exploded, components_per_node.min_component == composantes_df_exploded.partial_component, \"left_outer\") \\\n",
    "           .select(components_per_node.seqID, when(composantes_df_exploded.partial_component.isNull(), components_per_node.min_component).otherwise(composantes_df_exploded.min_partial_component).alias(\"new_component_id\"))\n",
    "\n",
    "\n",
    "#ecriture du résultat dans des fichier parquet\n",
    "file_path = f\"/data/bd/dataset/proteine/80_80/G99/TEST_RACHA_CALCUL_COMPOSANTES/composantes_finales_test_temps_23_avril\"\n",
    "result.write.mode(\"overwrite\").parquet(file_path)\n",
    "stop_time_total = time.time()-start_time\n",
    "\n",
    "\n",
    "print(\"G prime \",stop_time_g_PRIME)\n",
    "print(\"Time total   \",stop_time_total)\n",
    "\n",
    "spark.stop()\n"
   ]
  },
  {
   "cell_type": "code",
   "execution_count": 6,
   "id": "faaae932-1e5b-43d3-bd13-ddaf7edea789",
   "metadata": {},
   "outputs": [
    {
     "name": "stderr",
     "output_type": "stream",
     "text": [
      "WARNING: An illegal reflective access operation has occurred\n",
      "WARNING: Illegal reflective access by org.apache.spark.unsafe.Platform (file:/root/anaconda3/lib/python3.9/site-packages/pyspark/jars/spark-unsafe_2.12-3.1.2.jar) to constructor java.nio.DirectByteBuffer(long,int)\n",
      "WARNING: Please consider reporting this to the maintainers of org.apache.spark.unsafe.Platform\n",
      "WARNING: Use --illegal-access=warn to enable warnings of further illegal reflective access operations\n",
      "WARNING: All illegal access operations will be denied in a future release\n",
      "24/04/29 18:18:15 WARN NativeCodeLoader: Unable to load native-hadoop library for your platform... using builtin-java classes where applicable\n",
      "Using Spark's default log4j profile: org/apache/spark/log4j-defaults.properties\n",
      "Setting default log level to \"WARN\".\n",
      "To adjust logging level use sc.setLogLevel(newLevel). For SparkR, use setLogLevel(newLevel).\n",
      "24/04/29 18:18:15 WARN SparkConf: Note that spark.local.dir will be overridden by the value set by the cluster manager (via SPARK_LOCAL_DIRS in mesos/standalone/kubernetes and LOCAL_DIRS in YARN).\n",
      "24/04/29 18:18:16 WARN Utils: Service 'SparkUI' could not bind on port 4040. Attempting port 4041.\n",
      "24/04/29 18:18:16 WARN Utils: Service 'SparkUI' could not bind on port 4041. Attempting port 4042.\n",
      "24/04/29 18:18:16 WARN Utils: Service 'SparkUI' could not bind on port 4042. Attempting port 4043.\n"
     ]
    },
    {
     "name": "stdout",
     "output_type": "stream",
     "text": [
      "shuffle 180\n",
      "session démarrée, son id est  local-1714407496559\n",
      "here :  /data/bd/dataset/proteine/80_80/G99/TEST_RACHA_CALCUL_COMPOSANTES/partitions/60_partitions\n"
     ]
    },
    {
     "name": "stderr",
     "output_type": "stream",
     "text": [
      "                                                                                \r"
     ]
    },
    {
     "name": "stdout",
     "output_type": "stream",
     "text": [
      "G prime  409.04388642311096\n",
      "Time total    1987.750917673111\n"
     ]
    }
   ],
   "source": [
    "num_partitions= 60\n",
    "spark = demarrer_spark(60)\n",
    "start_time = time.time()\n",
    "\n",
    "partition_folder = f\"/data/bd/dataset/proteine/80_80/G99/TEST_RACHA_CALCUL_COMPOSANTES/partitions/{num_partitions}_partitions\"\n",
    "print(\"here : \",partition_folder)\n",
    "df_with_components = calculate_partition_components(partition_folder,60)\n",
    "\n",
    "df_exploded = df_with_components.select('file',  F.explode('components').alias('component'))\n",
    "df_split = df_exploded.select(\"file\", col(\"component.seqID\").alias(\"seqID\"), col(\"component.component_id\").alias(\"component_id\"))\n",
    "\n",
    "# # Ajouter une colonne d'identifiant unique basée sur le couple (file, component_id)\n",
    "windowSpec = Window.orderBy(\"file\", \"component_id\")\n",
    "df = df_split.withColumn(\"new_component_id\", dense_rank().over(windowSpec))\n",
    "new_df = df.select(\"seqID\",\"new_component_id\")\n",
    "\n",
    "\n",
    "components_per_node = new_df \\\n",
    "    .groupby(\"seqID\") \\\n",
    "    .agg(collect_set(\"new_component_id\").alias(\"components\")) \\\n",
    "    .withColumn(\"min_component\", array_min(\"components\"))\n",
    "\n",
    "\n",
    "components_per_node_exploded = components_per_node.select('seqID', 'min_component', F.explode('components').alias('component'))\n",
    "result = components_per_node_exploded.where(col(\"component\") > col(\"min_component\")).drop(\"seqID\").dropDuplicates()\n",
    "\n",
    "\n",
    "new_graph = result.withColumnRenamed(\"min_component\", \"src\").withColumnRenamed(\"component\", \"dst\")\n",
    "\n",
    "\n",
    "new_graph.select('src', 'dst').write.csv(f'/data/bd/dataset/proteine/80_80/G99/TEST_RACHA_CALCUL_COMPOSANTES/20_50_70_150_G_prime_time_comp/{num_partitions}_part_graphe_60_G_prime.csv')\n",
    "\n",
    "#--------------------\n",
    "edges = spark.read.csv(f'/data/bd/dataset/proteine/80_80/G99/TEST_RACHA_CALCUL_COMPOSANTES/20_50_70_150_G_prime_time_comp/{num_partitions}_part_graphe_60_G_prime.csv', header=False, inferSchema=True)\n",
    "\n",
    "# Création du graph avec igraph\n",
    "\n",
    "# Conversion des arêtes DataFrame en liste de tuples\n",
    "edges_list = edges.rdd.map(lambda row: (row[0], row[1])).collect()\n",
    "\n",
    "g_prime_folder = f'/data/bd/dataset/proteine/80_80/G99/TEST_RACHA_CALCUL_COMPOSANTES/20_50_70_150_G_prime_time_comp/G_prime_folder'\n",
    "start_timeG = time.time()\n",
    "\n",
    "#___________\n",
    "composantes_df = components_2(edges_list)\n",
    "\n",
    "composantes_df.write.mode(\"overwrite\").parquet(g_prime_folder)\n",
    "stop_time_g_PRIME = time.time()-start_timeG\n",
    "\n",
    "composantes_df_exploded = composantes_df \\\n",
    ".groupby(\"component\") \\\n",
    ".agg(collect_set(\"partial_component\").alias(\"partial_components\")) \\\n",
    ".withColumn(\"min_partial_component\", array_min(\"partial_components\")) \\\n",
    ".selectExpr(\"explode(partial_components) as partial_component\" , \"min_partial_component\")\n",
    "\n",
    "# #resultat final en faisant une jointure gauche\n",
    "result = components_per_node.join(composantes_df_exploded, components_per_node.min_component == composantes_df_exploded.partial_component, \"left_outer\") \\\n",
    "           .select(components_per_node.seqID, when(composantes_df_exploded.partial_component.isNull(), components_per_node.min_component).otherwise(composantes_df_exploded.min_partial_component).alias(\"new_component_id\"))\n",
    "\n",
    "\n",
    "#ecriture du résultat dans des fichier parquet\n",
    "file_path = f\"/data/bd/dataset/proteine/80_80/G99/TEST_RACHA_CALCUL_COMPOSANTES/composantes_finales_test_temps_23_avril\"\n",
    "result.write.mode(\"overwrite\").parquet(file_path)\n",
    "stop_time_total = time.time()-start_time\n",
    "\n",
    "\n",
    "print(\"G prime \",stop_time_g_PRIME)\n",
    "print(\"Time total   \",stop_time_total)\n",
    "\n",
    "spark.stop()\n"
   ]
  },
  {
   "cell_type": "code",
   "execution_count": null,
   "id": "18455a27",
   "metadata": {},
   "outputs": [],
   "source": [
    "for num_partitions in [30,40]:\n",
    "    print(num_partitions)\n",
    "    spark = demarrer_spark(num_partitions)\n",
    "    start_time = time.time()\n",
    "\n",
    "    partition_folder = f\"/data/bd/dataset/proteine/80_80/G99/TEST_RACHA_CALCUL_COMPOSANTES/partitions/{num_partitions}_partitions\"\n",
    "    print(\"here : \",partition_folder)\n",
    "    df_with_components = calculate_partition_components(partition_folder,num_partitions)\n",
    "\n",
    "    df_exploded = df_with_components.select('file',  F.explode('components').alias('component'))\n",
    "    df_split = df_exploded.select(\"file\", col(\"component.seqID\").alias(\"seqID\"), col(\"component.component_id\").alias(\"component_id\"))\n",
    "\n",
    "    # # Ajouter une colonne d'identifiant unique basée sur le couple (file, component_id)\n",
    "    windowSpec = Window.orderBy(\"file\", \"component_id\")\n",
    "    df = df_split.withColumn(\"new_component_id\", dense_rank().over(windowSpec))\n",
    "    new_df = df.select(\"seqID\",\"new_component_id\")\n",
    "\n",
    "\n",
    "    components_per_node = new_df \\\n",
    "        .groupby(\"seqID\") \\\n",
    "        .agg(collect_set(\"new_component_id\").alias(\"components\")) \\\n",
    "        .withColumn(\"min_component\", array_min(\"components\"))\n",
    "\n",
    "\n",
    "    components_per_node_exploded = components_per_node.select('seqID', 'min_component', F.explode('components').alias('component'))\n",
    "    result = components_per_node_exploded.where(col(\"component\") > col(\"min_component\")).drop(\"seqID\").dropDuplicates()\n",
    "\n",
    "\n",
    "    new_graph = result.withColumnRenamed(\"min_component\", \"src\").withColumnRenamed(\"component\", \"dst\")\n",
    "\n",
    "\n",
    "    new_graph.select('src', 'dst').write.csv(f'/data/bd/dataset/proteine/80_80/G99/TEST_RACHA_CALCUL_COMPOSANTES/20_50_70_150_G_prime_time_comp/{num_partitions}_part_graphe_60_G_prime.csv')\n",
    "\n",
    "    #--------------------\n",
    "    edges = spark.read.csv(f'/data/bd/dataset/proteine/80_80/G99/TEST_RACHA_CALCUL_COMPOSANTES/20_50_70_150_G_prime_time_comp/{num_partitions}_part_graphe_60_G_prime.csv', header=False, inferSchema=True)\n",
    "\n",
    "    # Création du graph avec igraph\n",
    "\n",
    "    # Conversion des arêtes DataFrame en liste de tuples\n",
    "    edges_list = edges.rdd.map(lambda row: (row[0], row[1])).collect()\n",
    "\n",
    "    g_prime_folder = f'/data/bd/dataset/proteine/80_80/G99/TEST_RACHA_CALCUL_COMPOSANTES/20_50_70_150_G_prime_time_comp/G_prime_folder'\n",
    "    start_timeG = time.time()\n",
    "\n",
    "    #___________\n",
    "    composantes_df = components_2(edges_list)\n",
    "\n",
    "    composantes_df.write.mode(\"overwrite\").parquet(g_prime_folder)\n",
    "    stop_time_g_PRIME = time.time()-start_timeG\n",
    "\n",
    "    composantes_df_exploded = composantes_df \\\n",
    "    .groupby(\"component\") \\\n",
    "    .agg(collect_set(\"partial_component\").alias(\"partial_components\")) \\\n",
    "    .withColumn(\"min_partial_component\", array_min(\"partial_components\")) \\\n",
    "    .selectExpr(\"explode(partial_components) as partial_component\" , \"min_partial_component\")\n",
    "\n",
    "    # #resultat final en faisant une jointure gauche\n",
    "    result = components_per_node.join(composantes_df_exploded, components_per_node.min_component == composantes_df_exploded.partial_component, \"left_outer\") \\\n",
    "               .select(components_per_node.seqID, when(composantes_df_exploded.partial_component.isNull(), components_per_node.min_component).otherwise(composantes_df_exploded.min_partial_component).alias(\"new_component_id\"))\n",
    "\n",
    "\n",
    "    #ecriture du résultat dans des fichier parquet\n",
    "    file_path = f\"/data/bd/dataset/proteine/80_80/G99/TEST_RACHA_CALCUL_COMPOSANTES/composantes_finales_test_temps_23_avril\"\n",
    "    result.write.mode(\"overwrite\").parquet(file_path)\n",
    "    stop_time_total = time.time()-start_time\n",
    "\n",
    "\n",
    "    print(\"G prime \",stop_time_g_PRIME)\n",
    "    print(\"Time total   \",stop_time_total)\n",
    "\n",
    "    spark.stop()\n",
    "    \n",
    "print( \n",
    "\"\"\"\n",
    "pour 10\n",
    "shuffle 30\n",
    "session démarrée, son id est  local-1714434792588\n",
    "here :  /data/bd/dataset/proteine/80_80/G99/TEST_RACHA_CALCUL_COMPOSANTES/partitions/10_partitions\n",
    "                                                                                \n",
    "G prime  318.4092836380005\n",
    "Time total    6119.700418710709\n",
    "\"\"\"\n",
    ")"
   ]
  },
  {
   "cell_type": "markdown",
   "id": "23218420-39e2-4ab9-8751-37002bc62da6",
   "metadata": {
    "jp-MarkdownHeadingCollapsed": true,
    "tags": []
   },
   "source": [
    "## AUTRES : "
   ]
  },
  {
   "cell_type": "code",
   "execution_count": null,
   "id": "30023964-5171-4645-bc36-1334df86f96d",
   "metadata": {},
   "outputs": [],
   "source": [
    "times_Gprime_moy_total=[2471.6794362068176, 1194.6440687179565]\n",
    "times_moy_total=[4585.95818400383, 2147.652998447418]\n",
    "\n",
    "\n",
    "\"\"\"\n",
    "times_Gprime_moy_total [2471.6794362068176, 1194.6440687179565]\n",
    "times_moy_total [4585.95818400383, 2147.652998447418]\n",
    "\"\"\"\n",
    "nb_partitions = [70,100,150]\n",
    "for num_partitions in nb_partitions :\n",
    "    print(\"Avec un nombre de partitions égale à : \",num_partitions)\n",
    "    start_time = time.time()\n",
    "\n",
    "    partition_folder = f\"/data/bd/dataset/proteine/80_80/G99/TEST_RACHA_CALCUL_COMPOSANTES/partitions/{num_partitions}_partitions\"\n",
    "    print(\"here :: \",partition_folder)\n",
    "    df_with_components = calculate_partition_components(partition_folder,num_partitions)\n",
    "\n",
    "    df_exploded = df_with_components.select('file',  F.explode('components').alias('component'))\n",
    "    df_split = df_exploded.select(\"file\", col(\"component.seqID\").alias(\"seqID\"), col(\"component.component_id\").alias(\"component_id\"))\n",
    "\n",
    "    # # Ajouter une colonne d'identifiant unique basée sur le couple (file, component_id)\n",
    "    windowSpec = Window.orderBy(\"file\", \"component_id\")\n",
    "    df = df_split.withColumn(\"new_component_id\", dense_rank().over(windowSpec))\n",
    "    new_df = df.select(\"seqID\",\"new_component_id\")\n",
    "\n",
    "\n",
    "    components_per_node = new_df \\\n",
    "        .groupby(\"seqID\") \\\n",
    "        .agg(collect_set(\"new_component_id\").alias(\"components\")) \\\n",
    "        .withColumn(\"min_component\", array_min(\"components\"))\n",
    "\n",
    "\n",
    "    components_per_node_exploded = components_per_node.select('seqID', 'min_component', F.explode('components').alias('component'))\n",
    "    result = components_per_node_exploded.where(col(\"component\") > col(\"min_component\")).drop(\"seqID\").dropDuplicates()\n",
    "\n",
    "\n",
    "    new_graph = result.withColumnRenamed(\"min_component\", \"src\").withColumnRenamed(\"component\", \"dst\")\n",
    "\n",
    "\n",
    "    new_graph.select('src', 'dst').write.csv(f'/data/bd/dataset/proteine/80_80/G99/TEST_RACHA_CALCUL_COMPOSANTES/20_50_70_150_G_prime_time_comp/{num_partitions}_part_graphe_60_G_prime.csv')\n",
    "\n",
    "    #--------------------\n",
    "    edges = spark.read.csv(f'/data/bd/dataset/proteine/80_80/G99/TEST_RACHA_CALCUL_COMPOSANTES/20_50_70_150_G_prime_time_comp/{num_partitions}_part_graphe_60_G_prime.csv', header=False, inferSchema=True)\n",
    "\n",
    "    # Création du graph avec igraph\n",
    "    from igraph import Graph\n",
    "\n",
    "    # Conversion des arêtes DataFrame en liste de tuples\n",
    "    edges_list = edges.rdd.map(lambda row: (row[0], row[1])).collect()\n",
    "\n",
    "    start_timeG = time.time()\n",
    "\n",
    "    #___________\n",
    "    composantes_df = components_2(edges_list)\n",
    "    composantes_df_exploded = composantes_df \\\n",
    "    .groupby(\"component\") \\\n",
    "    .agg(collect_set(\"partial_component\").alias(\"partial_components\")) \\\n",
    "    .withColumn(\"min_partial_component\", array_min(\"partial_components\")) \\\n",
    "    .selectExpr(\"explode(partial_components) as partial_component\" , \"min_partial_component\")\n",
    "\n",
    "    # #resultat final en faisant une jointure gauche\n",
    "    result = components_per_node.join(composantes_df_exploded, components_per_node.min_component == composantes_df_exploded.partial_component, \"left_outer\") \\\n",
    "               .select(components_per_node.seqID, when(composantes_df_exploded.partial_component.isNull(), components_per_node.min_component).otherwise(composantes_df_exploded.min_partial_component).alias(\"new_component_id\"))\n",
    "\n",
    "\n",
    "    #ecriture du résultat dans des fichier parquet\n",
    "    file_path = f\"/data/bd/dataset/proteine/80_80/G99/TEST_RACHA_CALCUL_COMPOSANTES/composantes_finales_test_temps_23_avril\"\n",
    "    result.write.mode(\"overwrite\").parquet(file_path)\n",
    "\n",
    "    times_Gprime_moy_total.append(time.time() - start_timeG)\n",
    "    times_moy_total.append(time.time() - start_time)\n",
    "    print(\"G prime \",times_Gprime_moy_total)\n",
    "    print(\"Time total   \",times_moy_total)\n",
    "\n",
    "    stop_time_total = time.time()-start_time\n",
    "\n",
    "    print(\"Durée : \",stop_time_total)"
   ]
  },
  {
   "cell_type": "code",
   "execution_count": null,
   "id": "b1f17d45-412b-404e-9c74-7f6b31661471",
   "metadata": {},
   "outputs": [],
   "source": [
    "# start_time2 = time.time()\n",
    "# start_timeG2 = time.time()\n",
    "\n",
    "# composantes_df_exploded = composantes_df \\\n",
    "#         .groupby(\"component\") \\\n",
    "#         .agg(collect_set(\"partial_component\").alias(\"partial_components\")) \\\n",
    "#         .withColumn(\"min_partial_component\", array_min(\"partial_components\")) \\\n",
    "#         .selectExpr(\"explode(partial_components) as partial_component\" , \"min_partial_component\")\n",
    "\n",
    "# # #resultat final en faisant une jointure gauche\n",
    "# result = components_per_node.join(composantes_df_exploded, components_per_node.min_component == composantes_df_exploded.partial_component, \"left_outer\") \\\n",
    "#            .select(components_per_node.seqID, when(composantes_df_exploded.partial_component.isNull(), components_per_node.min_component).otherwise(composantes_df_exploded.min_partial_component).alias(\"new_component_id\"))\n",
    "\n",
    "\n",
    "# #ecriture du résultat dans des fichier parquet\n",
    "# file_path = f\"/data/bd/dataset/proteine/80_80/G99/TEST_RACHA_CALCUL_COMPOSANTES/composantes_finales_test_temps\"\n",
    "# result.repartition(1).write.mode(\"overwrite\").parquet(file_path)\n",
    "\n",
    "\n",
    "# stop_timeG2 = time.time()-start_timeG2\n",
    "# stop_time_total2 = time.time()-start_time2\n",
    "\n",
    "\n",
    "# print('Le temps total :',stop_timeG2+start_timeG2)\n",
    "# print('Le temps g prime :',stop_time_total+stop_time_total2)"
   ]
  },
  {
   "cell_type": "code",
   "execution_count": 6,
   "id": "0148333d-5368-47a6-9d02-92e4475ef6cd",
   "metadata": {},
   "outputs": [],
   "source": [
    "def calculate_components_bis(folder_partition,d ):    \n",
    "    # partition_folder = f\"/data/bd/dataset/proteine/80_80/G99/TEST_RACHA_CALCUL_COMPOSANTES/200_partitions/\"\n",
    "    df_with_components = calculate_partition_components(folder_partition,d)\n",
    "\n",
    "    df_exploded = df_with_components.select('file',  F.explode('components').alias('component'))\n",
    "    df_split = df_exploded.select(\"file\", col(\"component.seqID\").alias(\"seqID\"), col(\"component.component_id\").alias(\"component_id\"))\n",
    "\n",
    "    # # Ajouter une colonne d'identifiant unique basée sur le couple (file, component_id)\n",
    "    windowSpec = Window.orderBy(\"file\", \"component_id\")\n",
    "    df = df_split.withColumn(\"new_component_id\", dense_rank().over(windowSpec))\n",
    "    new_df = df.select(\"seqID\",\"new_component_id\")\n",
    "\n",
    "\n",
    "    components_per_node = new_df \\\n",
    "        .groupby(\"seqID\") \\\n",
    "        .agg(collect_set(\"new_component_id\").alias(\"components\")) \\\n",
    "        .withColumn(\"min_component\", array_min(\"components\"))\n",
    "\n",
    "\n",
    "    components_per_node_exploded = components_per_node.select('seqID', 'min_component', F.explode('components').alias('component'))\n",
    "    result = components_per_node_exploded.where(col(\"component\") > col(\"min_component\")).drop(\"seqID\").dropDuplicates()\n",
    "\n",
    "\n",
    "    new_graph = result.withColumnRenamed(\"min_component\", \"src\").withColumnRenamed(\"component\", \"dst\")\n",
    "\n",
    "\n",
    "    new_graph.select('src', 'dst').write.csv(f'/data/bd/dataset/proteine/80_80/G99/TEST_RACHA_CALCUL_COMPOSANTES/200_part_test_60/200_part_graphe_{d}_G_prime.csv')\n",
    "\n",
    "    #--------------------\n",
    "    edges = spark.read.csv(f'/data/bd/dataset/proteine/80_80/G99/TEST_RACHA_CALCUL_COMPOSANTES/200_part_test_60/200_part_graphe_{d}_G_prime.csv', header=False, inferSchema=True)\n",
    "\n",
    "    # Création du graph avec igraph\n",
    "    # from igraph import Graph\n",
    "\n",
    "    # Conversion des arêtes DataFrame en liste de tuples\n",
    "    edges_list = edges.rdd.map(lambda row: (row[0], row[1])).collect()\n",
    "\n",
    "    start_timeG = time.time()\n",
    "\n",
    "    #___________\n",
    "    composantes_df = components_2(edges_list)\n",
    "    \n",
    "    composantes_df_exploded = composantes_df \\\n",
    "        .groupby(\"component\") \\\n",
    "        .agg(collect_set(\"partial_component\").alias(\"partial_components\")) \\\n",
    "        .withColumn(\"min_partial_component\", array_min(\"partial_components\")) \\\n",
    "        .selectExpr(\"explode(partial_components) as partial_component\" , \"min_partial_component\")\n",
    "\n",
    "    # #resultat final en faisant une jointure gauche\n",
    "    result = components_per_node.join(composantes_df_exploded, components_per_node.min_component == composantes_df_exploded.partial_component, \"left_outer\") \\\n",
    "               .select(components_per_node.seqID, when(composantes_df_exploded.partial_component.isNull(), components_per_node.min_component).otherwise(composantes_df_exploded.min_partial_component).alias(\"new_component_id\"))\n",
    "\n",
    "\n",
    "    #ecriture du résultat dans des fichier parquet\n",
    "    # file_path = f\"/data/bd/dataset/proteine/80_80/G99/TEST_RACHA_CALCUL_COMPOSANTES/composantes_finales_test_temps\"\n",
    "    # result.write.mode(\"overwrite\").parquet(file_path)\n",
    "\n",
    "    return result"
   ]
  },
  {
   "cell_type": "code",
   "execution_count": 7,
   "id": "b718c8df-c05a-4fba-ace4-1f3add87b2cf",
   "metadata": {},
   "outputs": [
    {
     "name": "stderr",
     "output_type": "stream",
     "text": [
      "WARNING: An illegal reflective access operation has occurred\n",
      "WARNING: Illegal reflective access by org.apache.spark.unsafe.Platform (file:/root/anaconda3/lib/python3.9/site-packages/pyspark/jars/spark-unsafe_2.12-3.1.2.jar) to constructor java.nio.DirectByteBuffer(long,int)\n",
      "WARNING: Please consider reporting this to the maintainers of org.apache.spark.unsafe.Platform\n",
      "WARNING: Use --illegal-access=warn to enable warnings of further illegal reflective access operations\n",
      "WARNING: All illegal access operations will be denied in a future release\n",
      "24/04/24 01:58:30 WARN NativeCodeLoader: Unable to load native-hadoop library for your platform... using builtin-java classes where applicable\n",
      "Using Spark's default log4j profile: org/apache/spark/log4j-defaults.properties\n",
      "Setting default log level to \"WARN\".\n",
      "To adjust logging level use sc.setLogLevel(newLevel). For SparkR, use setLogLevel(newLevel).\n",
      "24/04/24 01:58:30 WARN SparkConf: Note that spark.local.dir will be overridden by the value set by the cluster manager (via SPARK_LOCAL_DIRS in mesos/standalone/kubernetes and LOCAL_DIRS in YARN).\n",
      "24/04/24 01:58:31 WARN Utils: Service 'SparkUI' could not bind on port 4040. Attempting port 4041.\n",
      "24/04/24 01:58:31 WARN Utils: Service 'SparkUI' could not bind on port 4041. Attempting port 4042.\n"
     ]
    },
    {
     "name": "stdout",
     "output_type": "stream",
     "text": [
      "shuffle 180\n",
      "session démarrée, son id est  local-1713916711821\n"
     ]
    }
   ],
   "source": [
    "spark = demarrer_spark(60)"
   ]
  },
  {
   "cell_type": "code",
   "execution_count": 8,
   "id": "fea2834e-2ce6-4a93-b8d7-58eddcbe48c9",
   "metadata": {},
   "outputs": [],
   "source": [
    "partition_folder = f\"/data/bd/dataset/proteine/80_80/G99/TEST_RACHA_CALCUL_COMPOSANTES/200_partitions/\""
   ]
  },
  {
   "cell_type": "code",
   "execution_count": 10,
   "id": "b7e4da2d-d485-4206-afb2-9d0d56d7986b",
   "metadata": {},
   "outputs": [
    {
     "name": "stderr",
     "output_type": "stream",
     "text": [
      "[Stage 0:>                                                        (0 + 60) / 60]\r"
     ]
    },
    {
     "name": "stdout",
     "output_type": "stream",
     "text": [
      "#\n",
      "# There is insufficient memory for the Java Runtime Environment to continue.\n",
      "# Native memory allocation (mmap) failed to map 19931332608 bytes for committing reserved memory.\n",
      "# An error report file with more information is saved as:\n",
      "# /root/PLDAC/hs_err_pid46087.log\n"
     ]
    },
    {
     "name": "stderr",
     "output_type": "stream",
     "text": [
      "OpenJDK 64-Bit Server VM warning: INFO: os::commit_memory(0x00007f4494000000, 19931332608, 0) failed; error='Not enough space' (errno=12)\n",
      "ERROR:root:Exception while sending command.\n",
      "Traceback (most recent call last):\n",
      "  File \"/root/anaconda3/lib/python3.9/site-packages/py4j/java_gateway.py\", line 1207, in send_command\n",
      "    raise Py4JNetworkError(\"Answer from Java side is empty\")\n",
      "py4j.protocol.Py4JNetworkError: Answer from Java side is empty\n",
      "\n",
      "During handling of the above exception, another exception occurred:\n",
      "\n",
      "Traceback (most recent call last):\n",
      "  File \"/root/anaconda3/lib/python3.9/site-packages/py4j/java_gateway.py\", line 1033, in send_command\n",
      "    response = connection.send_command(command)\n",
      "  File \"/root/anaconda3/lib/python3.9/site-packages/py4j/java_gateway.py\", line 1211, in send_command\n",
      "    raise Py4JNetworkError(\n",
      "py4j.protocol.Py4JNetworkError: Error while receiving\n"
     ]
    },
    {
     "ename": "Py4JError",
     "evalue": "An error occurred while calling o282.csv",
     "output_type": "error",
     "traceback": [
      "\u001b[0;31m---------------------------------------------------------------------------\u001b[0m",
      "\u001b[0;31mPy4JError\u001b[0m                                 Traceback (most recent call last)",
      "\u001b[0;32m/tmp/ipykernel_46064/954916481.py\u001b[0m in \u001b[0;36m<module>\u001b[0;34m\u001b[0m\n\u001b[1;32m      1\u001b[0m \u001b[0mstart_time\u001b[0m \u001b[0;34m=\u001b[0m \u001b[0mtime\u001b[0m\u001b[0;34m.\u001b[0m\u001b[0mtime\u001b[0m\u001b[0;34m(\u001b[0m\u001b[0;34m)\u001b[0m\u001b[0;34m\u001b[0m\u001b[0;34m\u001b[0m\u001b[0m\n\u001b[0;32m----> 2\u001b[0;31m \u001b[0mdf_with_component\u001b[0m \u001b[0;34m=\u001b[0m \u001b[0mcalculate_components_bis\u001b[0m\u001b[0;34m(\u001b[0m\u001b[0mpartition_folder\u001b[0m \u001b[0;34m,\u001b[0m \u001b[0;36m60\u001b[0m\u001b[0;34m)\u001b[0m\u001b[0;34m\u001b[0m\u001b[0;34m\u001b[0m\u001b[0m\n\u001b[0m\u001b[1;32m      3\u001b[0m \u001b[0;34m\u001b[0m\u001b[0m\n\u001b[1;32m      4\u001b[0m \u001b[0mfile_path\u001b[0m \u001b[0;34m=\u001b[0m \u001b[0;34mf\"/data/bd/dataset/proteine/80_80/G99/TEST_RACHA_CALCUL_COMPOSANTES/composantes_finales_test_temps\"\u001b[0m\u001b[0;34m\u001b[0m\u001b[0;34m\u001b[0m\u001b[0m\n\u001b[1;32m      5\u001b[0m \u001b[0mdf_with_component\u001b[0m\u001b[0;34m.\u001b[0m\u001b[0mwrite\u001b[0m\u001b[0;34m.\u001b[0m\u001b[0mmode\u001b[0m\u001b[0;34m(\u001b[0m\u001b[0;34m\"overwrite\"\u001b[0m\u001b[0;34m)\u001b[0m\u001b[0;34m.\u001b[0m\u001b[0mparquet\u001b[0m\u001b[0;34m(\u001b[0m\u001b[0mfile_path\u001b[0m\u001b[0;34m)\u001b[0m\u001b[0;34m\u001b[0m\u001b[0;34m\u001b[0m\u001b[0m\n",
      "\u001b[0;32m/tmp/ipykernel_46064/2429985945.py\u001b[0m in \u001b[0;36mcalculate_components_bis\u001b[0;34m(folder_partition, d)\u001b[0m\n\u001b[1;32m     25\u001b[0m \u001b[0;34m\u001b[0m\u001b[0m\n\u001b[1;32m     26\u001b[0m \u001b[0;34m\u001b[0m\u001b[0m\n\u001b[0;32m---> 27\u001b[0;31m     \u001b[0mnew_graph\u001b[0m\u001b[0;34m.\u001b[0m\u001b[0mselect\u001b[0m\u001b[0;34m(\u001b[0m\u001b[0;34m'src'\u001b[0m\u001b[0;34m,\u001b[0m \u001b[0;34m'dst'\u001b[0m\u001b[0;34m)\u001b[0m\u001b[0;34m.\u001b[0m\u001b[0mwrite\u001b[0m\u001b[0;34m.\u001b[0m\u001b[0mcsv\u001b[0m\u001b[0;34m(\u001b[0m\u001b[0;34mf'/data/bd/dataset/proteine/80_80/G99/TEST_RACHA_CALCUL_COMPOSANTES/200_part_test_60/200_part_graphe_{d}_G_prime.csv'\u001b[0m\u001b[0;34m)\u001b[0m\u001b[0;34m\u001b[0m\u001b[0;34m\u001b[0m\u001b[0m\n\u001b[0m\u001b[1;32m     28\u001b[0m \u001b[0;34m\u001b[0m\u001b[0m\n\u001b[1;32m     29\u001b[0m     \u001b[0;31m#--------------------\u001b[0m\u001b[0;34m\u001b[0m\u001b[0;34m\u001b[0m\u001b[0m\n",
      "\u001b[0;32m~/anaconda3/lib/python3.9/site-packages/pyspark/sql/readwriter.py\u001b[0m in \u001b[0;36mcsv\u001b[0;34m(self, path, mode, compression, sep, quote, escape, header, nullValue, escapeQuotes, quoteAll, dateFormat, timestampFormat, ignoreLeadingWhiteSpace, ignoreTrailingWhiteSpace, charToEscapeQuoteEscaping, encoding, emptyValue, lineSep)\u001b[0m\n\u001b[1;32m   1370\u001b[0m                        \u001b[0mcharToEscapeQuoteEscaping\u001b[0m\u001b[0;34m=\u001b[0m\u001b[0mcharToEscapeQuoteEscaping\u001b[0m\u001b[0;34m,\u001b[0m\u001b[0;34m\u001b[0m\u001b[0;34m\u001b[0m\u001b[0m\n\u001b[1;32m   1371\u001b[0m                        encoding=encoding, emptyValue=emptyValue, lineSep=lineSep)\n\u001b[0;32m-> 1372\u001b[0;31m         \u001b[0mself\u001b[0m\u001b[0;34m.\u001b[0m\u001b[0m_jwrite\u001b[0m\u001b[0;34m.\u001b[0m\u001b[0mcsv\u001b[0m\u001b[0;34m(\u001b[0m\u001b[0mpath\u001b[0m\u001b[0;34m)\u001b[0m\u001b[0;34m\u001b[0m\u001b[0;34m\u001b[0m\u001b[0m\n\u001b[0m\u001b[1;32m   1373\u001b[0m \u001b[0;34m\u001b[0m\u001b[0m\n\u001b[1;32m   1374\u001b[0m     \u001b[0;32mdef\u001b[0m \u001b[0morc\u001b[0m\u001b[0;34m(\u001b[0m\u001b[0mself\u001b[0m\u001b[0;34m,\u001b[0m \u001b[0mpath\u001b[0m\u001b[0;34m,\u001b[0m \u001b[0mmode\u001b[0m\u001b[0;34m=\u001b[0m\u001b[0;32mNone\u001b[0m\u001b[0;34m,\u001b[0m \u001b[0mpartitionBy\u001b[0m\u001b[0;34m=\u001b[0m\u001b[0;32mNone\u001b[0m\u001b[0;34m,\u001b[0m \u001b[0mcompression\u001b[0m\u001b[0;34m=\u001b[0m\u001b[0;32mNone\u001b[0m\u001b[0;34m)\u001b[0m\u001b[0;34m:\u001b[0m\u001b[0;34m\u001b[0m\u001b[0;34m\u001b[0m\u001b[0m\n",
      "\u001b[0;32m~/anaconda3/lib/python3.9/site-packages/py4j/java_gateway.py\u001b[0m in \u001b[0;36m__call__\u001b[0;34m(self, *args)\u001b[0m\n\u001b[1;32m   1302\u001b[0m \u001b[0;34m\u001b[0m\u001b[0m\n\u001b[1;32m   1303\u001b[0m         \u001b[0manswer\u001b[0m \u001b[0;34m=\u001b[0m \u001b[0mself\u001b[0m\u001b[0;34m.\u001b[0m\u001b[0mgateway_client\u001b[0m\u001b[0;34m.\u001b[0m\u001b[0msend_command\u001b[0m\u001b[0;34m(\u001b[0m\u001b[0mcommand\u001b[0m\u001b[0;34m)\u001b[0m\u001b[0;34m\u001b[0m\u001b[0;34m\u001b[0m\u001b[0m\n\u001b[0;32m-> 1304\u001b[0;31m         return_value = get_return_value(\n\u001b[0m\u001b[1;32m   1305\u001b[0m             answer, self.gateway_client, self.target_id, self.name)\n\u001b[1;32m   1306\u001b[0m \u001b[0;34m\u001b[0m\u001b[0m\n",
      "\u001b[0;32m~/anaconda3/lib/python3.9/site-packages/pyspark/sql/utils.py\u001b[0m in \u001b[0;36mdeco\u001b[0;34m(*a, **kw)\u001b[0m\n\u001b[1;32m    109\u001b[0m     \u001b[0;32mdef\u001b[0m \u001b[0mdeco\u001b[0m\u001b[0;34m(\u001b[0m\u001b[0;34m*\u001b[0m\u001b[0ma\u001b[0m\u001b[0;34m,\u001b[0m \u001b[0;34m**\u001b[0m\u001b[0mkw\u001b[0m\u001b[0;34m)\u001b[0m\u001b[0;34m:\u001b[0m\u001b[0;34m\u001b[0m\u001b[0;34m\u001b[0m\u001b[0m\n\u001b[1;32m    110\u001b[0m         \u001b[0;32mtry\u001b[0m\u001b[0;34m:\u001b[0m\u001b[0;34m\u001b[0m\u001b[0;34m\u001b[0m\u001b[0m\n\u001b[0;32m--> 111\u001b[0;31m             \u001b[0;32mreturn\u001b[0m \u001b[0mf\u001b[0m\u001b[0;34m(\u001b[0m\u001b[0;34m*\u001b[0m\u001b[0ma\u001b[0m\u001b[0;34m,\u001b[0m \u001b[0;34m**\u001b[0m\u001b[0mkw\u001b[0m\u001b[0;34m)\u001b[0m\u001b[0;34m\u001b[0m\u001b[0;34m\u001b[0m\u001b[0m\n\u001b[0m\u001b[1;32m    112\u001b[0m         \u001b[0;32mexcept\u001b[0m \u001b[0mpy4j\u001b[0m\u001b[0;34m.\u001b[0m\u001b[0mprotocol\u001b[0m\u001b[0;34m.\u001b[0m\u001b[0mPy4JJavaError\u001b[0m \u001b[0;32mas\u001b[0m \u001b[0me\u001b[0m\u001b[0;34m:\u001b[0m\u001b[0;34m\u001b[0m\u001b[0;34m\u001b[0m\u001b[0m\n\u001b[1;32m    113\u001b[0m             \u001b[0mconverted\u001b[0m \u001b[0;34m=\u001b[0m \u001b[0mconvert_exception\u001b[0m\u001b[0;34m(\u001b[0m\u001b[0me\u001b[0m\u001b[0;34m.\u001b[0m\u001b[0mjava_exception\u001b[0m\u001b[0;34m)\u001b[0m\u001b[0;34m\u001b[0m\u001b[0;34m\u001b[0m\u001b[0m\n",
      "\u001b[0;32m~/anaconda3/lib/python3.9/site-packages/py4j/protocol.py\u001b[0m in \u001b[0;36mget_return_value\u001b[0;34m(answer, gateway_client, target_id, name)\u001b[0m\n\u001b[1;32m    332\u001b[0m                     format(target_id, \".\", name, value))\n\u001b[1;32m    333\u001b[0m         \u001b[0;32melse\u001b[0m\u001b[0;34m:\u001b[0m\u001b[0;34m\u001b[0m\u001b[0;34m\u001b[0m\u001b[0m\n\u001b[0;32m--> 334\u001b[0;31m             raise Py4JError(\n\u001b[0m\u001b[1;32m    335\u001b[0m                 \u001b[0;34m\"An error occurred while calling {0}{1}{2}\"\u001b[0m\u001b[0;34m.\u001b[0m\u001b[0;34m\u001b[0m\u001b[0;34m\u001b[0m\u001b[0m\n\u001b[1;32m    336\u001b[0m                 format(target_id, \".\", name))\n",
      "\u001b[0;31mPy4JError\u001b[0m: An error occurred while calling o282.csv"
     ]
    }
   ],
   "source": [
    "start_time = time.time()\n",
    "df_with_component = calculate_components_bis(partition_folder , 60)\n",
    "\n",
    "file_path = f\"/data/bd/dataset/proteine/80_80/G99/TEST_RACHA_CALCUL_COMPOSANTES/composantes_finales_test_temps\"\n",
    "df_with_component.write.mode(\"overwrite\").parquet(file_path)\n",
    "print(time.time() - start_time)\n"
   ]
  },
  {
   "cell_type": "code",
   "execution_count": null,
   "id": "309107ce-84fc-44b0-bc62-d8c222b38915",
   "metadata": {},
   "outputs": [],
   "source": [
    "degree_parallelisme = range(1,50,10)\n",
    "times_moy = []\n",
    "\n",
    "for d in degree_parallelisme:\n",
    "    spark = demarrer_spark(d)\n",
    "\n",
    "    times=[]\n",
    "    \n",
    "    for i in range(5):\n",
    "        start_time = time.time()\n",
    "        df_with_component = calculate_components_bis(partition_folder , d)\n",
    "\n",
    "        file_path = f\"/data/bd/dataset/proteine/80_80/G99/TEST_RACHA_CALCUL_COMPOSANTES/composantes_finales_test_temps\"\n",
    "        result.write.mode(\"overwrite\").parquet(file_path)\n",
    "\n",
    "        times.append(time.time() - start_time)\n",
    "        \n",
    "    times_moy.append(np.mean(times))\n",
    "    spark.stop()\n",
    "    \n",
    "    "
   ]
  },
  {
   "cell_type": "code",
   "execution_count": 20,
   "id": "595611cd-7dfe-47fc-869c-077a03bfa7a2",
   "metadata": {},
   "outputs": [
    {
     "data": {
      "image/png": "[encoded data removed]",
      "text/plain": [
       "<Figure size 432x288 with 1 Axes>"
      ]
     },
     "metadata": {
      "needs_background": "light"
     },
     "output_type": "display_data"
    }
   ],
   "source": [
    "plt.plot(degree_parallelisme, times_moy_total)\n",
    "\n",
    "plt.xlabel('Degrée de Parallélisme')\n",
    "plt.ylabel('Temps')\n",
    "plt.title('Comparaison du temps de calcul des composantes finales avec 200_partitions') \n",
    "\n",
    "plt.show()"
   ]
  },
  {
   "cell_type": "code",
   "execution_count": null,
   "id": "34dcbae7-8d8b-4e47-b460-21965f31a902",
   "metadata": {},
   "outputs": [],
   "source": [
    "spark.stop()"
   ]
  }
 ],
 "metadata": {
  "kernelspec": {
   "display_name": "Python 3 (ipykernel)",
   "language": "python",
   "name": "python3"
  },
  "language_info": {
   "codemirror_mode": {
    "name": "ipython",
    "version": 3
   },
   "file_extension": ".py",
   "mimetype": "text/x-python",
   "name": "python",
   "nbconvert_exporter": "python",
   "pygments_lexer": "ipython3",
   "version": "3.9.7"
  }
 },
 "nbformat": 4,
 "nbformat_minor": 5
}

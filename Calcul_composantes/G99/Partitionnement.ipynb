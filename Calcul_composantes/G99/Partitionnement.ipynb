{
 "cells": [
  {
   "cell_type": "markdown",
   "id": "d2a11117-d512-4925-8aeb-026b9cf91225",
   "metadata": {
    "tags": []
   },
   "source": [
    "# Importation des bibliothéques"
   ]
  },
  {
   "cell_type": "code",
   "execution_count": 1,
   "id": "b9943c7f-202a-4e7d-aa80-22a2560fc356",
   "metadata": {},
   "outputs": [],
   "source": [
    "import pandas as pd\n",
    "import glob"
   ]
  },
  {
   "cell_type": "code",
   "execution_count": 2,
   "id": "86874681-b52b-4bde-98a8-d82989d3855f",
   "metadata": {},
   "outputs": [],
   "source": [
    "import pandas as pd\n",
    "import findspark\n",
    "from pyspark.sql import SparkSession\n",
    "from pyspark import SparkConf\n",
    "\n",
    "# for dataframe and udf\n",
    "from pyspark.sql import *\n",
    "from pyspark.sql.functions import *\n",
    "from pyspark.sql.types import *\n",
    "\n",
    "\n",
    "from pyspark.sql.functions import col\n",
    "from pyspark.sql import functions as F\n",
    "\n",
    "from igraph import Graph\n",
    "from pyspark.sql.window import Window\n",
    "from pyspark.sql.functions import col\n",
    "\n",
    "from functools import reduce\n",
    "from pyspark.sql.functions import collect_set, min as min_, expr,array_min,max\n",
    "from pyspark.sql.functions import lit\n",
    "\n",
    "from pyspark.sql.types import StringType, IntegerType, LongType, FloatType, ArrayType,StructType,StructField, BooleanType\n",
    "\n",
    "import pandas as pd\n",
    "import glob\n",
    "\n",
    "import time\n",
    "\n",
    "import matplotlib.pyplot as plt\n",
    "\n",
    "from pyspark.sql.types import BooleanType\n"
   ]
  },
  {
   "cell_type": "code",
   "execution_count": 3,
   "id": "97873d39-64d5-469d-8c23-bfb010ac3867",
   "metadata": {},
   "outputs": [],
   "source": [
    "import os\n",
    "os.environ[\"SPARK_HOME\"] =  \"/root/anaconda3/lib/python3.9/site-packages/pyspark\" \n",
    "os.environ[\"JAVA_HOME\"] =\"/usr\""
   ]
  },
  {
   "cell_type": "markdown",
   "id": "96490a68-57e2-4831-b0c5-6db2c3cc75f2",
   "metadata": {},
   "source": [
    "# Lancer spark"
   ]
  },
  {
   "cell_type": "code",
   "execution_count": 4,
   "id": "98c24f03-afa0-4047-b16a-4e5522fd4fe7",
   "metadata": {},
   "outputs": [],
   "source": [
    "findspark.init() \n",
    "\n",
    "def demarrer_spark(NB_CORES):\n",
    "  local = f\"local[{NB_CORES}]\"\n",
    "  # le parametre spark.local.dir indique le repertoire contenant les données temporaires ecrites sur disque lorsque le shufle ne tient pas en memoire\n",
    "  appName = \"PLDAC\"\n",
    "  configLocale = SparkConf().setAppName(appName).setMaster(local).\\\n",
    "  set(\"spark.executor.memory\", \"320G\").\\\n",
    "  set(\"spark.driver.memory\",\"320G\").\\\n",
    "  set(\"spark.sql.catalogImplementation\",\"in-memory\").\\\n",
    "  set(\"spark.driver.maxResultSize\", \"20G\").\\\n",
    "  set(\"spark.local.dir\", \"/data/bd/spark/tmp\").\\\n",
    "  set(\"spark.sql.execution.arrow.pyspark.enabled\", \"true\")\n",
    "    \n",
    "\n",
    "# # to allow sharing in memory arow format between pandas and spark : speeds up the creation of a spark df from a pandas df\n",
    "# spark.conf.set(\"spark.sql.execution.arrow.pyspark.enabled\", \"true\")\n",
    "\n",
    "\n",
    "  spark = SparkSession.builder.config(conf = configLocale).getOrCreate()\n",
    "  sc = spark.sparkContext\n",
    "  sc.setLogLevel(\"ERROR\")\n",
    "  \n",
    "  # spark.conf.set(\"spark.sql.autoBroadcastJoinThreshold\",\"-1\")\n",
    "    \n",
    "  # On ajuste l'environnement d'exécution des requêtes à la taille du cluster (NB_CORES coeurs)\n",
    "  shuffle_partitions = 3 * NB_CORES\n",
    "  print(\"shuffle\", shuffle_partitions)\n",
    "  spark.conf.set(\"spark.sql.shuffle.partitions\", str(shuffle_partitions))    \n",
    "\n",
    "  print(\"session démarrée, son id est \", sc.applicationId)\n",
    "  return spark\n"
   ]
  },
  {
   "cell_type": "markdown",
   "id": "9b68b56c-c847-4c62-a89e-d1b422d4b8a4",
   "metadata": {},
   "source": [
    "# Lecture des données"
   ]
  },
  {
   "cell_type": "code",
   "execution_count": 5,
   "id": "fcf8cd40-1ec4-4819-81ee-3905bb234be2",
   "metadata": {},
   "outputs": [
    {
     "name": "stderr",
     "output_type": "stream",
     "text": [
      "WARNING: An illegal reflective access operation has occurred\n",
      "WARNING: Illegal reflective access by org.apache.spark.unsafe.Platform (file:/root/anaconda3/lib/python3.9/site-packages/pyspark/jars/spark-unsafe_2.12-3.1.2.jar) to constructor java.nio.DirectByteBuffer(long,int)\n",
      "WARNING: Please consider reporting this to the maintainers of org.apache.spark.unsafe.Platform\n",
      "WARNING: Use --illegal-access=warn to enable warnings of further illegal reflective access operations\n",
      "WARNING: All illegal access operations will be denied in a future release\n",
      "24/04/30 17:20:35 WARN NativeCodeLoader: Unable to load native-hadoop library for your platform... using builtin-java classes where applicable\n",
      "Using Spark's default log4j profile: org/apache/spark/log4j-defaults.properties\n",
      "Setting default log level to \"WARN\".\n",
      "To adjust logging level use sc.setLogLevel(newLevel). For SparkR, use setLogLevel(newLevel).\n",
      "24/04/30 17:20:35 WARN SparkConf: Note that spark.local.dir will be overridden by the value set by the cluster manager (via SPARK_LOCAL_DIRS in mesos/standalone/kubernetes and LOCAL_DIRS in YARN).\n",
      "24/04/30 17:20:36 WARN Utils: Service 'SparkUI' could not bind on port 4040. Attempting port 4041.\n",
      "24/04/30 17:20:36 WARN Utils: Service 'SparkUI' could not bind on port 4041. Attempting port 4042.\n"
     ]
    },
    {
     "name": "stdout",
     "output_type": "stream",
     "text": [
      "shuffle 180\n",
      "session démarrée, son id est  local-1714490436485\n"
     ]
    }
   ],
   "source": [
    "spark = demarrer_spark(60)\n"
   ]
  },
  {
   "cell_type": "code",
   "execution_count": 6,
   "id": "acd88b14-b72d-4b79-9454-895360e1d1d8",
   "metadata": {},
   "outputs": [
    {
     "name": "stderr",
     "output_type": "stream",
     "text": [
      "[Stage 1:>                                                          (0 + 1) / 1]\r"
     ]
    },
    {
     "name": "stdout",
     "output_type": "stream",
     "text": [
      "+-----------+------------+-----------+-------------+------------+----------------+-------+------------+---+\n",
      "|   query_id|query_length|  target_id|target_length|match_length|percent_identity|e_value|relative_sim|  r|\n",
      "+-----------+------------+-----------+-------------+------------+----------------+-------+------------+---+\n",
      "|100003172:0|          89|143094166:3|          799|          89|           100.0|2.2E-46|         1.0|  1|\n",
      "|100003668:0|         102| 48815973:0|          222|         102|            99.0|3.9E-55|        0.99|  1|\n",
      "|100004301:0|         169|106189136:2|          695|         169|            99.4|3.9E-94|       0.994|  1|\n",
      "|100004301:0|         169|117840121:3|          264|         169|           100.0|1.9E-94|         1.0|  1|\n",
      "|100004301:0|         169| 44038038:1|          524|         169|           100.0|5.4E-94|         1.0|  1|\n",
      "|100004301:0|         169| 49847952:5|          458|         169|            99.4|1.2E-93|       0.994|  1|\n",
      "|100004301:0|         169| 68146322:0|          509|         169|            99.4|3.6E-94|       0.994|  1|\n",
      "|100004301:0|         169| 91784634:5|          532|         169|            99.4|2.2E-94|       0.994|  1|\n",
      "| 10000486:1|          77| 40045340:2|           84|          77|           100.0|1.1E-28|         1.0|  1|\n",
      "|100005477:3|          83|  1061792:3|          295|          83|           100.0|2.3E-42|         1.0|  1|\n",
      "|100005477:3|          83| 46123706:0|          215|          83|           100.0|6.9E-42|         1.0|  1|\n",
      "|100007146:0|          89|110429047:0|          153|          89|           100.0|1.2E-41|         1.0|  1|\n",
      "|100007146:0|          89| 12065225:3|          324|          89|           100.0|1.2E-41|         1.0|  1|\n",
      "|100007146:0|          89|125644689:2|          264|          89|           100.0|1.3E-41|         1.0|  1|\n",
      "|100007146:0|          89|125759723:0|          219|          89|           100.0|1.3E-41|         1.0|  1|\n",
      "|100007146:0|          89|136141594:0|          202|          89|           100.0|1.3E-41|         1.0|  1|\n",
      "|100007146:0|          89|139761590:0|          154|          89|           100.0|1.3E-41|         1.0|  1|\n",
      "|100007146:0|          89|152563487:0|          237|          89|           100.0|1.6E-41|         1.0|  1|\n",
      "|100007146:0|          89| 16942694:2|          249|          89|           100.0|3.7E-41|         1.0|  1|\n",
      "|100007146:0|          89| 21547212:2|          199|          89|           100.0|3.7E-41|         1.0|  1|\n",
      "+-----------+------------+-----------+-------------+------------+----------------+-------+------------+---+\n",
      "only showing top 20 rows\n",
      "\n"
     ]
    },
    {
     "name": "stderr",
     "output_type": "stream",
     "text": [
      "                                                                                \r"
     ]
    }
   ],
   "source": [
    "parquet_folder = \"/data/bd/dataset/proteine/80_80/G99/graph_deduplicated_v2/\"\n",
    "\n",
    "df = spark.read.parquet(parquet_folder)\n",
    "df.show(20)"
   ]
  },
  {
   "cell_type": "code",
   "execution_count": 7,
   "id": "bed269db-8e5f-4a96-a2e1-054484525e70",
   "metadata": {},
   "outputs": [
    {
     "data": {
      "text/plain": [
       "341807741"
      ]
     },
     "execution_count": 7,
     "metadata": {},
     "output_type": "execute_result"
    }
   ],
   "source": [
    "df = df[['target_id', 'query_id']]\n",
    "df.count()"
   ]
  },
  {
   "cell_type": "markdown",
   "id": "3002d8dc-a562-49bc-afd1-ce48b53f67f7",
   "metadata": {},
   "source": [
    "Ici dans chaque dossier ayant le nom N_partitions : contient N partitions : "
   ]
  },
  {
   "cell_type": "code",
   "execution_count": null,
   "id": "86113ec5-8b16-4549-bbf3-4a9890b1956e",
   "metadata": {},
   "outputs": [
    {
     "name": "stderr",
     "output_type": "stream",
     "text": [
      "[Stage 6:>                                                        (0 + 60) / 60]\r"
     ]
    }
   ],
   "source": [
    "# Répartissez le DataFrame en n partitions\n",
    "nb_partitions = [200] # ici on peut mettre une liste si pn souhaote avoir plusieurs dossiers avec différents nombre de partitionnemnts\n",
    "for num_partitions in nb_partitions :\n",
    "    df_repartitioned = df.repartition(num_partitions, 'target_id')\n",
    "\n",
    "    # Écrivez le DataFrame réparti sur le disque\n",
    "    # Vous pouvez ajuster le format et l'emplacement de sortie selon vos besoins\n",
    "    output_path = f\"/data/bd/dataset/proteine/80_80/G99/TEST_RACHA_CALCUL_COMPOSANTES/partitions/{num_partitions}_partitions\"\n",
    "    df_repartitioned.write.mode(\"overwrite\").parquet(output_path)\n"
   ]
  },
  {
   "cell_type": "markdown",
   "id": "cee7f626-ac9d-403e-ae8a-11f0f880e244",
   "metadata": {},
   "source": [
    "## Pour renommer les fichiers afin de les adapter au format de nos méthodes :\n",
    "\n",
    "Chaque fichier aura un nom sous le formart : partition_NUM_DE_LA_PARTITION.parquet\n",
    "et ces fichiers ont contenus dans un dossier nommé N_partitions comme précisé précedemment"
   ]
  },
  {
   "cell_type": "code",
   "execution_count": 9,
   "id": "045e27b6-9389-4773-af5f-8bd6dfc5862e",
   "metadata": {},
   "outputs": [
    {
     "name": "stdout",
     "output_type": "stream",
     "text": [
      "200\n",
      "Renommage de part-00181-ae90d12e-6ff5-48f9-ab84-3595289fde18-c000.snappy.parquet en partition_0.parquet\n",
      "Renommage de part-00122-ae90d12e-6ff5-48f9-ab84-3595289fde18-c000.snappy.parquet en partition_1.parquet\n",
      "Renommage de part-00155-ae90d12e-6ff5-48f9-ab84-3595289fde18-c000.snappy.parquet en partition_2.parquet\n",
      "Renommage de part-00043-ae90d12e-6ff5-48f9-ab84-3595289fde18-c000.snappy.parquet en partition_3.parquet\n",
      "Renommage de part-00150-ae90d12e-6ff5-48f9-ab84-3595289fde18-c000.snappy.parquet en partition_4.parquet\n",
      "Renommage de part-00042-ae90d12e-6ff5-48f9-ab84-3595289fde18-c000.snappy.parquet en partition_5.parquet\n",
      "Renommage de part-00140-ae90d12e-6ff5-48f9-ab84-3595289fde18-c000.snappy.parquet en partition_6.parquet\n",
      "Renommage de part-00099-ae90d12e-6ff5-48f9-ab84-3595289fde18-c000.snappy.parquet en partition_7.parquet\n",
      "Renommage de part-00011-ae90d12e-6ff5-48f9-ab84-3595289fde18-c000.snappy.parquet en partition_8.parquet\n",
      "Renommage de part-00100-ae90d12e-6ff5-48f9-ab84-3595289fde18-c000.snappy.parquet en partition_9.parquet\n",
      "Renommage de part-00139-ae90d12e-6ff5-48f9-ab84-3595289fde18-c000.snappy.parquet en partition_10.parquet\n",
      "Renommage de part-00037-ae90d12e-6ff5-48f9-ab84-3595289fde18-c000.snappy.parquet en partition_11.parquet\n",
      "Renommage de part-00034-ae90d12e-6ff5-48f9-ab84-3595289fde18-c000.snappy.parquet en partition_12.parquet\n",
      "Renommage de part-00107-ae90d12e-6ff5-48f9-ab84-3595289fde18-c000.snappy.parquet en partition_13.parquet\n",
      "Renommage de part-00154-ae90d12e-6ff5-48f9-ab84-3595289fde18-c000.snappy.parquet en partition_14.parquet\n",
      "Renommage de part-00056-ae90d12e-6ff5-48f9-ab84-3595289fde18-c000.snappy.parquet en partition_15.parquet\n",
      "Renommage de part-00164-ae90d12e-6ff5-48f9-ab84-3595289fde18-c000.snappy.parquet en partition_16.parquet\n",
      "Renommage de part-00047-ae90d12e-6ff5-48f9-ab84-3595289fde18-c000.snappy.parquet en partition_17.parquet\n",
      "Renommage de part-00117-ae90d12e-6ff5-48f9-ab84-3595289fde18-c000.snappy.parquet en partition_18.parquet\n",
      "Renommage de part-00177-ae90d12e-6ff5-48f9-ab84-3595289fde18-c000.snappy.parquet en partition_19.parquet\n",
      "Renommage de part-00151-ae90d12e-6ff5-48f9-ab84-3595289fde18-c000.snappy.parquet en partition_20.parquet\n",
      "Renommage de part-00128-ae90d12e-6ff5-48f9-ab84-3595289fde18-c000.snappy.parquet en partition_21.parquet\n",
      "Renommage de part-00081-ae90d12e-6ff5-48f9-ab84-3595289fde18-c000.snappy.parquet en partition_22.parquet\n",
      "Renommage de part-00172-ae90d12e-6ff5-48f9-ab84-3595289fde18-c000.snappy.parquet en partition_23.parquet\n",
      "Renommage de part-00198-ae90d12e-6ff5-48f9-ab84-3595289fde18-c000.snappy.parquet en partition_24.parquet\n",
      "Renommage de part-00152-ae90d12e-6ff5-48f9-ab84-3595289fde18-c000.snappy.parquet en partition_25.parquet\n",
      "Renommage de part-00093-ae90d12e-6ff5-48f9-ab84-3595289fde18-c000.snappy.parquet en partition_26.parquet\n",
      "Renommage de part-00094-ae90d12e-6ff5-48f9-ab84-3595289fde18-c000.snappy.parquet en partition_27.parquet\n",
      "Renommage de part-00125-ae90d12e-6ff5-48f9-ab84-3595289fde18-c000.snappy.parquet en partition_28.parquet\n",
      "Renommage de part-00121-ae90d12e-6ff5-48f9-ab84-3595289fde18-c000.snappy.parquet en partition_29.parquet\n",
      "Renommage de part-00105-ae90d12e-6ff5-48f9-ab84-3595289fde18-c000.snappy.parquet en partition_30.parquet\n",
      "Renommage de part-00189-ae90d12e-6ff5-48f9-ab84-3595289fde18-c000.snappy.parquet en partition_31.parquet\n",
      "Renommage de part-00190-ae90d12e-6ff5-48f9-ab84-3595289fde18-c000.snappy.parquet en partition_32.parquet\n",
      "Renommage de part-00091-ae90d12e-6ff5-48f9-ab84-3595289fde18-c000.snappy.parquet en partition_33.parquet\n",
      "Renommage de part-00184-ae90d12e-6ff5-48f9-ab84-3595289fde18-c000.snappy.parquet en partition_34.parquet\n",
      "Renommage de part-00185-ae90d12e-6ff5-48f9-ab84-3595289fde18-c000.snappy.parquet en partition_35.parquet\n",
      "Renommage de part-00080-ae90d12e-6ff5-48f9-ab84-3595289fde18-c000.snappy.parquet en partition_36.parquet\n",
      "Renommage de part-00124-ae90d12e-6ff5-48f9-ab84-3595289fde18-c000.snappy.parquet en partition_37.parquet\n",
      "Renommage de part-00118-ae90d12e-6ff5-48f9-ab84-3595289fde18-c000.snappy.parquet en partition_38.parquet\n",
      "Renommage de part-00030-ae90d12e-6ff5-48f9-ab84-3595289fde18-c000.snappy.parquet en partition_39.parquet\n",
      "Renommage de part-00055-ae90d12e-6ff5-48f9-ab84-3595289fde18-c000.snappy.parquet en partition_40.parquet\n",
      "Renommage de part-00002-ae90d12e-6ff5-48f9-ab84-3595289fde18-c000.snappy.parquet en partition_41.parquet\n",
      "Renommage de part-00168-ae90d12e-6ff5-48f9-ab84-3595289fde18-c000.snappy.parquet en partition_42.parquet\n",
      "Renommage de part-00170-ae90d12e-6ff5-48f9-ab84-3595289fde18-c000.snappy.parquet en partition_43.parquet\n",
      "Renommage de part-00183-ae90d12e-6ff5-48f9-ab84-3595289fde18-c000.snappy.parquet en partition_44.parquet\n",
      "Renommage de part-00157-ae90d12e-6ff5-48f9-ab84-3595289fde18-c000.snappy.parquet en partition_45.parquet\n",
      "Renommage de part-00116-ae90d12e-6ff5-48f9-ab84-3595289fde18-c000.snappy.parquet en partition_46.parquet\n",
      "Renommage de part-00167-ae90d12e-6ff5-48f9-ab84-3595289fde18-c000.snappy.parquet en partition_47.parquet\n",
      "Renommage de part-00005-ae90d12e-6ff5-48f9-ab84-3595289fde18-c000.snappy.parquet en partition_48.parquet\n",
      "Renommage de part-00075-ae90d12e-6ff5-48f9-ab84-3595289fde18-c000.snappy.parquet en partition_49.parquet\n",
      "Renommage de part-00024-ae90d12e-6ff5-48f9-ab84-3595289fde18-c000.snappy.parquet en partition_50.parquet\n",
      "Renommage de part-00197-ae90d12e-6ff5-48f9-ab84-3595289fde18-c000.snappy.parquet en partition_51.parquet\n",
      "Renommage de part-00058-ae90d12e-6ff5-48f9-ab84-3595289fde18-c000.snappy.parquet en partition_52.parquet\n",
      "Renommage de part-00138-ae90d12e-6ff5-48f9-ab84-3595289fde18-c000.snappy.parquet en partition_53.parquet\n",
      "Renommage de part-00048-ae90d12e-6ff5-48f9-ab84-3595289fde18-c000.snappy.parquet en partition_54.parquet\n",
      "Renommage de part-00114-ae90d12e-6ff5-48f9-ab84-3595289fde18-c000.snappy.parquet en partition_55.parquet\n",
      "Renommage de part-00046-ae90d12e-6ff5-48f9-ab84-3595289fde18-c000.snappy.parquet en partition_56.parquet\n",
      "Renommage de part-00133-ae90d12e-6ff5-48f9-ab84-3595289fde18-c000.snappy.parquet en partition_57.parquet\n",
      "Renommage de part-00110-ae90d12e-6ff5-48f9-ab84-3595289fde18-c000.snappy.parquet en partition_58.parquet\n",
      "Renommage de part-00066-ae90d12e-6ff5-48f9-ab84-3595289fde18-c000.snappy.parquet en partition_59.parquet\n",
      "Renommage de part-00097-ae90d12e-6ff5-48f9-ab84-3595289fde18-c000.snappy.parquet en partition_60.parquet\n",
      "Renommage de part-00035-ae90d12e-6ff5-48f9-ab84-3595289fde18-c000.snappy.parquet en partition_61.parquet\n",
      "Renommage de part-00176-ae90d12e-6ff5-48f9-ab84-3595289fde18-c000.snappy.parquet en partition_62.parquet\n",
      "Renommage de part-00045-ae90d12e-6ff5-48f9-ab84-3595289fde18-c000.snappy.parquet en partition_63.parquet\n",
      "Renommage de part-00079-ae90d12e-6ff5-48f9-ab84-3595289fde18-c000.snappy.parquet en partition_64.parquet\n",
      "Renommage de part-00074-ae90d12e-6ff5-48f9-ab84-3595289fde18-c000.snappy.parquet en partition_65.parquet\n",
      "Renommage de part-00195-ae90d12e-6ff5-48f9-ab84-3595289fde18-c000.snappy.parquet en partition_66.parquet\n",
      "Renommage de part-00000-ae90d12e-6ff5-48f9-ab84-3595289fde18-c000.snappy.parquet en partition_67.parquet\n",
      "Renommage de part-00159-ae90d12e-6ff5-48f9-ab84-3595289fde18-c000.snappy.parquet en partition_68.parquet\n",
      "Renommage de part-00029-ae90d12e-6ff5-48f9-ab84-3595289fde18-c000.snappy.parquet en partition_69.parquet\n",
      "Renommage de part-00126-ae90d12e-6ff5-48f9-ab84-3595289fde18-c000.snappy.parquet en partition_70.parquet\n",
      "Renommage de part-00196-ae90d12e-6ff5-48f9-ab84-3595289fde18-c000.snappy.parquet en partition_71.parquet\n",
      "Renommage de part-00003-ae90d12e-6ff5-48f9-ab84-3595289fde18-c000.snappy.parquet en partition_72.parquet\n",
      "Renommage de part-00022-ae90d12e-6ff5-48f9-ab84-3595289fde18-c000.snappy.parquet en partition_73.parquet\n",
      "Renommage de part-00162-ae90d12e-6ff5-48f9-ab84-3595289fde18-c000.snappy.parquet en partition_74.parquet\n",
      "Renommage de part-00112-ae90d12e-6ff5-48f9-ab84-3595289fde18-c000.snappy.parquet en partition_75.parquet\n",
      "Renommage de part-00136-ae90d12e-6ff5-48f9-ab84-3595289fde18-c000.snappy.parquet en partition_76.parquet\n",
      "Renommage de part-00038-ae90d12e-6ff5-48f9-ab84-3595289fde18-c000.snappy.parquet en partition_77.parquet\n",
      "Renommage de part-00004-ae90d12e-6ff5-48f9-ab84-3595289fde18-c000.snappy.parquet en partition_78.parquet\n",
      "Renommage de part-00068-ae90d12e-6ff5-48f9-ab84-3595289fde18-c000.snappy.parquet en partition_79.parquet\n",
      "Renommage de part-00103-ae90d12e-6ff5-48f9-ab84-3595289fde18-c000.snappy.parquet en partition_80.parquet\n",
      "Renommage de part-00059-ae90d12e-6ff5-48f9-ab84-3595289fde18-c000.snappy.parquet en partition_81.parquet\n",
      "Renommage de part-00145-ae90d12e-6ff5-48f9-ab84-3595289fde18-c000.snappy.parquet en partition_82.parquet\n",
      "Renommage de part-00076-ae90d12e-6ff5-48f9-ab84-3595289fde18-c000.snappy.parquet en partition_83.parquet\n",
      "Renommage de part-00163-ae90d12e-6ff5-48f9-ab84-3595289fde18-c000.snappy.parquet en partition_84.parquet\n",
      "Renommage de part-00031-ae90d12e-6ff5-48f9-ab84-3595289fde18-c000.snappy.parquet en partition_85.parquet\n",
      "Renommage de part-00153-ae90d12e-6ff5-48f9-ab84-3595289fde18-c000.snappy.parquet en partition_86.parquet\n",
      "Renommage de part-00070-ae90d12e-6ff5-48f9-ab84-3595289fde18-c000.snappy.parquet en partition_87.parquet\n",
      "Renommage de part-00130-ae90d12e-6ff5-48f9-ab84-3595289fde18-c000.snappy.parquet en partition_88.parquet\n",
      "Renommage de part-00001-ae90d12e-6ff5-48f9-ab84-3595289fde18-c000.snappy.parquet en partition_89.parquet\n",
      "Renommage de part-00028-ae90d12e-6ff5-48f9-ab84-3595289fde18-c000.snappy.parquet en partition_90.parquet\n",
      "Renommage de part-00062-ae90d12e-6ff5-48f9-ab84-3595289fde18-c000.snappy.parquet en partition_91.parquet\n",
      "Renommage de part-00192-ae90d12e-6ff5-48f9-ab84-3595289fde18-c000.snappy.parquet en partition_92.parquet\n",
      "Renommage de part-00086-ae90d12e-6ff5-48f9-ab84-3595289fde18-c000.snappy.parquet en partition_93.parquet\n",
      "Renommage de part-00135-ae90d12e-6ff5-48f9-ab84-3595289fde18-c000.snappy.parquet en partition_94.parquet\n",
      "Renommage de part-00013-ae90d12e-6ff5-48f9-ab84-3595289fde18-c000.snappy.parquet en partition_95.parquet\n",
      "Renommage de part-00060-ae90d12e-6ff5-48f9-ab84-3595289fde18-c000.snappy.parquet en partition_96.parquet\n",
      "Renommage de part-00090-ae90d12e-6ff5-48f9-ab84-3595289fde18-c000.snappy.parquet en partition_97.parquet\n",
      "Renommage de part-00174-ae90d12e-6ff5-48f9-ab84-3595289fde18-c000.snappy.parquet en partition_98.parquet\n",
      "Renommage de part-00019-ae90d12e-6ff5-48f9-ab84-3595289fde18-c000.snappy.parquet en partition_99.parquet\n",
      "Renommage de part-00033-ae90d12e-6ff5-48f9-ab84-3595289fde18-c000.snappy.parquet en partition_100.parquet\n",
      "Renommage de part-00123-ae90d12e-6ff5-48f9-ab84-3595289fde18-c000.snappy.parquet en partition_101.parquet\n",
      "Renommage de part-00010-ae90d12e-6ff5-48f9-ab84-3595289fde18-c000.snappy.parquet en partition_102.parquet\n",
      "Renommage de part-00064-ae90d12e-6ff5-48f9-ab84-3595289fde18-c000.snappy.parquet en partition_103.parquet\n",
      "Renommage de part-00158-ae90d12e-6ff5-48f9-ab84-3595289fde18-c000.snappy.parquet en partition_104.parquet\n",
      "Renommage de part-00063-ae90d12e-6ff5-48f9-ab84-3595289fde18-c000.snappy.parquet en partition_105.parquet\n",
      "Renommage de part-00009-ae90d12e-6ff5-48f9-ab84-3595289fde18-c000.snappy.parquet en partition_106.parquet\n",
      "Renommage de part-00160-ae90d12e-6ff5-48f9-ab84-3595289fde18-c000.snappy.parquet en partition_107.parquet\n",
      "Renommage de part-00036-ae90d12e-6ff5-48f9-ab84-3595289fde18-c000.snappy.parquet en partition_108.parquet\n",
      "Renommage de part-00095-ae90d12e-6ff5-48f9-ab84-3595289fde18-c000.snappy.parquet en partition_109.parquet\n",
      "Renommage de part-00104-ae90d12e-6ff5-48f9-ab84-3595289fde18-c000.snappy.parquet en partition_110.parquet\n",
      "Renommage de part-00106-ae90d12e-6ff5-48f9-ab84-3595289fde18-c000.snappy.parquet en partition_111.parquet\n",
      "Renommage de part-00187-ae90d12e-6ff5-48f9-ab84-3595289fde18-c000.snappy.parquet en partition_112.parquet\n",
      "Renommage de part-00077-ae90d12e-6ff5-48f9-ab84-3595289fde18-c000.snappy.parquet en partition_113.parquet\n",
      "Renommage de part-00012-ae90d12e-6ff5-48f9-ab84-3595289fde18-c000.snappy.parquet en partition_114.parquet\n",
      "Renommage de part-00143-ae90d12e-6ff5-48f9-ab84-3595289fde18-c000.snappy.parquet en partition_115.parquet\n",
      "Renommage de part-00007-ae90d12e-6ff5-48f9-ab84-3595289fde18-c000.snappy.parquet en partition_116.parquet\n",
      "Renommage de part-00073-ae90d12e-6ff5-48f9-ab84-3595289fde18-c000.snappy.parquet en partition_117.parquet\n",
      "Renommage de part-00096-ae90d12e-6ff5-48f9-ab84-3595289fde18-c000.snappy.parquet en partition_118.parquet\n",
      "Renommage de part-00137-ae90d12e-6ff5-48f9-ab84-3595289fde18-c000.snappy.parquet en partition_119.parquet\n",
      "Renommage de part-00180-ae90d12e-6ff5-48f9-ab84-3595289fde18-c000.snappy.parquet en partition_120.parquet\n",
      "Renommage de part-00142-ae90d12e-6ff5-48f9-ab84-3595289fde18-c000.snappy.parquet en partition_121.parquet\n",
      "Renommage de part-00109-ae90d12e-6ff5-48f9-ab84-3595289fde18-c000.snappy.parquet en partition_122.parquet\n",
      "Renommage de part-00188-ae90d12e-6ff5-48f9-ab84-3595289fde18-c000.snappy.parquet en partition_123.parquet\n",
      "Renommage de part-00057-ae90d12e-6ff5-48f9-ab84-3595289fde18-c000.snappy.parquet en partition_124.parquet\n",
      "Renommage de part-00115-ae90d12e-6ff5-48f9-ab84-3595289fde18-c000.snappy.parquet en partition_125.parquet\n",
      "Renommage de part-00165-ae90d12e-6ff5-48f9-ab84-3595289fde18-c000.snappy.parquet en partition_126.parquet\n",
      "Renommage de part-00173-ae90d12e-6ff5-48f9-ab84-3595289fde18-c000.snappy.parquet en partition_127.parquet\n",
      "Renommage de part-00182-ae90d12e-6ff5-48f9-ab84-3595289fde18-c000.snappy.parquet en partition_128.parquet\n",
      "Renommage de part-00102-ae90d12e-6ff5-48f9-ab84-3595289fde18-c000.snappy.parquet en partition_129.parquet\n",
      "Renommage de part-00148-ae90d12e-6ff5-48f9-ab84-3595289fde18-c000.snappy.parquet en partition_130.parquet\n",
      "Renommage de part-00166-ae90d12e-6ff5-48f9-ab84-3595289fde18-c000.snappy.parquet en partition_131.parquet\n",
      "Renommage de part-00061-ae90d12e-6ff5-48f9-ab84-3595289fde18-c000.snappy.parquet en partition_132.parquet\n",
      "Renommage de part-00027-ae90d12e-6ff5-48f9-ab84-3595289fde18-c000.snappy.parquet en partition_133.parquet\n",
      "Renommage de part-00015-ae90d12e-6ff5-48f9-ab84-3595289fde18-c000.snappy.parquet en partition_134.parquet\n",
      "Renommage de part-00041-ae90d12e-6ff5-48f9-ab84-3595289fde18-c000.snappy.parquet en partition_135.parquet\n",
      "Renommage de part-00021-ae90d12e-6ff5-48f9-ab84-3595289fde18-c000.snappy.parquet en partition_136.parquet\n",
      "Renommage de part-00156-ae90d12e-6ff5-48f9-ab84-3595289fde18-c000.snappy.parquet en partition_137.parquet\n",
      "Renommage de part-00120-ae90d12e-6ff5-48f9-ab84-3595289fde18-c000.snappy.parquet en partition_138.parquet\n",
      "Renommage de part-00054-ae90d12e-6ff5-48f9-ab84-3595289fde18-c000.snappy.parquet en partition_139.parquet\n",
      "Renommage de part-00049-ae90d12e-6ff5-48f9-ab84-3595289fde18-c000.snappy.parquet en partition_140.parquet\n",
      "Renommage de part-00186-ae90d12e-6ff5-48f9-ab84-3595289fde18-c000.snappy.parquet en partition_141.parquet\n",
      "Renommage de part-00017-ae90d12e-6ff5-48f9-ab84-3595289fde18-c000.snappy.parquet en partition_142.parquet\n",
      "Renommage de part-00067-ae90d12e-6ff5-48f9-ab84-3595289fde18-c000.snappy.parquet en partition_143.parquet\n",
      "Renommage de part-00014-ae90d12e-6ff5-48f9-ab84-3595289fde18-c000.snappy.parquet en partition_144.parquet\n",
      "Renommage de part-00016-ae90d12e-6ff5-48f9-ab84-3595289fde18-c000.snappy.parquet en partition_145.parquet\n",
      "Renommage de part-00023-ae90d12e-6ff5-48f9-ab84-3595289fde18-c000.snappy.parquet en partition_146.parquet\n",
      "Renommage de part-00098-ae90d12e-6ff5-48f9-ab84-3595289fde18-c000.snappy.parquet en partition_147.parquet\n",
      "Renommage de part-00144-ae90d12e-6ff5-48f9-ab84-3595289fde18-c000.snappy.parquet en partition_148.parquet\n",
      "Renommage de part-00050-ae90d12e-6ff5-48f9-ab84-3595289fde18-c000.snappy.parquet en partition_149.parquet\n",
      "Renommage de part-00065-ae90d12e-6ff5-48f9-ab84-3595289fde18-c000.snappy.parquet en partition_150.parquet\n",
      "Renommage de part-00171-ae90d12e-6ff5-48f9-ab84-3595289fde18-c000.snappy.parquet en partition_151.parquet\n",
      "Renommage de part-00008-ae90d12e-6ff5-48f9-ab84-3595289fde18-c000.snappy.parquet en partition_152.parquet\n",
      "Renommage de part-00084-ae90d12e-6ff5-48f9-ab84-3595289fde18-c000.snappy.parquet en partition_153.parquet\n",
      "Renommage de part-00169-ae90d12e-6ff5-48f9-ab84-3595289fde18-c000.snappy.parquet en partition_154.parquet\n",
      "Renommage de part-00071-ae90d12e-6ff5-48f9-ab84-3595289fde18-c000.snappy.parquet en partition_155.parquet\n",
      "Renommage de part-00083-ae90d12e-6ff5-48f9-ab84-3595289fde18-c000.snappy.parquet en partition_156.parquet\n",
      "Renommage de part-00132-ae90d12e-6ff5-48f9-ab84-3595289fde18-c000.snappy.parquet en partition_157.parquet\n",
      "Renommage de part-00178-ae90d12e-6ff5-48f9-ab84-3595289fde18-c000.snappy.parquet en partition_158.parquet\n",
      "Renommage de part-00113-ae90d12e-6ff5-48f9-ab84-3595289fde18-c000.snappy.parquet en partition_159.parquet\n",
      "Renommage de part-00078-ae90d12e-6ff5-48f9-ab84-3595289fde18-c000.snappy.parquet en partition_160.parquet\n",
      "Renommage de part-00044-ae90d12e-6ff5-48f9-ab84-3595289fde18-c000.snappy.parquet en partition_161.parquet\n",
      "Renommage de part-00082-ae90d12e-6ff5-48f9-ab84-3595289fde18-c000.snappy.parquet en partition_162.parquet\n",
      "Renommage de part-00025-ae90d12e-6ff5-48f9-ab84-3595289fde18-c000.snappy.parquet en partition_163.parquet\n",
      "Renommage de part-00134-ae90d12e-6ff5-48f9-ab84-3595289fde18-c000.snappy.parquet en partition_164.parquet\n",
      "Renommage de part-00146-ae90d12e-6ff5-48f9-ab84-3595289fde18-c000.snappy.parquet en partition_165.parquet\n",
      "Renommage de part-00088-ae90d12e-6ff5-48f9-ab84-3595289fde18-c000.snappy.parquet en partition_166.parquet\n",
      "Renommage de part-00006-ae90d12e-6ff5-48f9-ab84-3595289fde18-c000.snappy.parquet en partition_167.parquet\n",
      "Renommage de part-00179-ae90d12e-6ff5-48f9-ab84-3595289fde18-c000.snappy.parquet en partition_168.parquet\n",
      "Renommage de part-00101-ae90d12e-6ff5-48f9-ab84-3595289fde18-c000.snappy.parquet en partition_169.parquet\n",
      "Renommage de part-00108-ae90d12e-6ff5-48f9-ab84-3595289fde18-c000.snappy.parquet en partition_170.parquet\n",
      "Renommage de part-00053-ae90d12e-6ff5-48f9-ab84-3595289fde18-c000.snappy.parquet en partition_171.parquet\n",
      "Renommage de part-00199-ae90d12e-6ff5-48f9-ab84-3595289fde18-c000.snappy.parquet en partition_172.parquet\n",
      "Renommage de part-00129-ae90d12e-6ff5-48f9-ab84-3595289fde18-c000.snappy.parquet en partition_173.parquet\n",
      "Renommage de part-00089-ae90d12e-6ff5-48f9-ab84-3595289fde18-c000.snappy.parquet en partition_174.parquet\n",
      "Renommage de part-00020-ae90d12e-6ff5-48f9-ab84-3595289fde18-c000.snappy.parquet en partition_175.parquet\n",
      "Renommage de part-00040-ae90d12e-6ff5-48f9-ab84-3595289fde18-c000.snappy.parquet en partition_176.parquet\n",
      "Renommage de part-00072-ae90d12e-6ff5-48f9-ab84-3595289fde18-c000.snappy.parquet en partition_177.parquet\n",
      "Renommage de part-00131-ae90d12e-6ff5-48f9-ab84-3595289fde18-c000.snappy.parquet en partition_178.parquet\n",
      "Renommage de part-00018-ae90d12e-6ff5-48f9-ab84-3595289fde18-c000.snappy.parquet en partition_179.parquet\n",
      "Renommage de part-00087-ae90d12e-6ff5-48f9-ab84-3595289fde18-c000.snappy.parquet en partition_180.parquet\n",
      "Renommage de part-00092-ae90d12e-6ff5-48f9-ab84-3595289fde18-c000.snappy.parquet en partition_181.parquet\n",
      "Renommage de part-00026-ae90d12e-6ff5-48f9-ab84-3595289fde18-c000.snappy.parquet en partition_182.parquet\n",
      "Renommage de part-00032-ae90d12e-6ff5-48f9-ab84-3595289fde18-c000.snappy.parquet en partition_183.parquet\n",
      "Renommage de part-00111-ae90d12e-6ff5-48f9-ab84-3595289fde18-c000.snappy.parquet en partition_184.parquet\n",
      "Renommage de part-00127-ae90d12e-6ff5-48f9-ab84-3595289fde18-c000.snappy.parquet en partition_185.parquet\n",
      "Renommage de part-00052-ae90d12e-6ff5-48f9-ab84-3595289fde18-c000.snappy.parquet en partition_186.parquet\n",
      "Renommage de part-00161-ae90d12e-6ff5-48f9-ab84-3595289fde18-c000.snappy.parquet en partition_187.parquet\n",
      "Renommage de part-00147-ae90d12e-6ff5-48f9-ab84-3595289fde18-c000.snappy.parquet en partition_188.parquet\n",
      "Renommage de part-00039-ae90d12e-6ff5-48f9-ab84-3595289fde18-c000.snappy.parquet en partition_189.parquet\n",
      "Renommage de part-00149-ae90d12e-6ff5-48f9-ab84-3595289fde18-c000.snappy.parquet en partition_190.parquet\n",
      "Renommage de part-00051-ae90d12e-6ff5-48f9-ab84-3595289fde18-c000.snappy.parquet en partition_191.parquet\n",
      "Renommage de part-00193-ae90d12e-6ff5-48f9-ab84-3595289fde18-c000.snappy.parquet en partition_192.parquet\n",
      "Renommage de part-00191-ae90d12e-6ff5-48f9-ab84-3595289fde18-c000.snappy.parquet en partition_193.parquet\n",
      "Renommage de part-00194-ae90d12e-6ff5-48f9-ab84-3595289fde18-c000.snappy.parquet en partition_194.parquet\n",
      "Renommage de part-00175-ae90d12e-6ff5-48f9-ab84-3595289fde18-c000.snappy.parquet en partition_195.parquet\n",
      "Renommage de part-00085-ae90d12e-6ff5-48f9-ab84-3595289fde18-c000.snappy.parquet en partition_196.parquet\n",
      "Renommage de part-00119-ae90d12e-6ff5-48f9-ab84-3595289fde18-c000.snappy.parquet en partition_197.parquet\n",
      "Renommage de part-00141-ae90d12e-6ff5-48f9-ab84-3595289fde18-c000.snappy.parquet en partition_198.parquet\n",
      "Renommage de part-00069-ae90d12e-6ff5-48f9-ab84-3595289fde18-c000.snappy.parquet en partition_199.parquet\n"
     ]
    }
   ],
   "source": [
    "import os\n",
    "num_partitions = 200\n",
    "# Chemin vers le dossier contenant les fichiers à renommer\n",
    "output_path = f\"/data/bd/dataset/proteine/80_80/G99/TEST_RACHA_CALCUL_COMPOSANTES/partitions/{num_partitions}_partitions\"\n",
    "\n",
    "# Liste de tous les fichiers non cachés dans le dossier\n",
    "files = [file for file in os.listdir(output_path) if not (file.startswith('.') or file==\"_SUCCESS\")]  # Exclure les fichiers cachés\n",
    "print(len(files))\n",
    "\n",
    "# Numéro de départ pour le renommage\n",
    "start_index = 0\n",
    "\n",
    "# Parcourir tous les fichiers\n",
    "for filename in files:\n",
    "    # Construction du nouveau nom de fichier en utilisant le numéro actuel\n",
    "    new_filename = f\"partition_{start_index}.parquet\"\n",
    "    \n",
    "    # Chemin complet vers l'ancien et le nouveau fichier\n",
    "    old_file_path = os.path.join(output_path, filename)\n",
    "    new_file_path = os.path.join(output_path, new_filename)\n",
    "    \n",
    "    # Renommer le fichier\n",
    "    os.rename(old_file_path, new_file_path)\n",
    "    \n",
    "    # Affichage pour confirmation\n",
    "    print(f\"Renommage de {filename} en {new_filename}\")\n",
    "    \n",
    "    # Incrémenter le numéro de départ pour le prochain fichier\n",
    "    start_index += 1\n"
   ]
  },
  {
   "cell_type": "markdown",
   "id": "73f927ba-f8fb-46ae-9511-50295de56752",
   "metadata": {},
   "source": [
    "### Quelques tests : "
   ]
  },
  {
   "cell_type": "code",
   "execution_count": 16,
   "id": "5b249095-186b-4cb9-804d-97d4e2c0a9eb",
   "metadata": {},
   "outputs": [
    {
     "name": "stdout",
     "output_type": "stream",
     "text": [
      "Le fichier /data/bd/dataset/proteine/80_80/G99/TEST_RACHA_CALCUL_COMPOSANTES/partitions/50_partitions/part-00049-bbae4cde-d0d9-4958-9a0a-5953aa180d0c-c000.snappy.parquet contient 6904102 lignes.\n"
     ]
    }
   ],
   "source": [
    "num_partitions = 50\n",
    "output_path = f\"/data/bd/dataset/proteine/80_80/G99/TEST_RACHA_CALCUL_COMPOSANTES/partitions/{num_partitions}_partitions/part-00049-bbae4cde-d0d9-4958-9a0a-5953aa180d0c-c000.snappy.parquet\"\n",
    "\n",
    "df = spark.read.parquet(output_path)\n",
    "num_rows = df.count()\n",
    "print(f\"Le fichier {output_path} contient {num_rows} lignes.\")\n"
   ]
  },
  {
   "cell_type": "code",
   "execution_count": 6,
   "id": "ec9a6712-b750-4d1d-b037-85505701a8c2",
   "metadata": {},
   "outputs": [
    {
     "name": "stdout",
     "output_type": "stream",
     "text": [
      "Le fichier /data/bd/dataset/proteine/80_80/G99/TEST_RACHA_CALCUL_COMPOSANTES/partitions/150_partitions/part-00149-cf23f7e6-df01-44ab-a44f-c9faa14d4ab4-c000.snappy.parquet contient 2305246 lignes.\n"
     ]
    }
   ],
   "source": [
    "num_partitions = 150\n",
    "output_path = f\"/data/bd/dataset/proteine/80_80/G99/TEST_RACHA_CALCUL_COMPOSANTES/partitions/{num_partitions}_partitions/part-00149-cf23f7e6-df01-44ab-a44f-c9faa14d4ab4-c000.snappy.parquet\"\n",
    "\n",
    "df = spark.read.parquet(output_path)\n",
    "num_rows = df.count()\n",
    "print(f\"Le fichier {output_path} contient {num_rows} lignes.\")\n"
   ]
  },
  {
   "cell_type": "code",
   "execution_count": 34,
   "id": "1db8425f-a3f6-4b84-8099-347c19deda4f",
   "metadata": {},
   "outputs": [],
   "source": [
    "spark.stop()"
   ]
  }
 ],
 "metadata": {
  "kernelspec": {
   "display_name": "Python 3 (ipykernel)",
   "language": "python",
   "name": "python3"
  },
  "language_info": {
   "codemirror_mode": {
    "name": "ipython",
    "version": 3
   },
   "file_extension": ".py",
   "mimetype": "text/x-python",
   "name": "python",
   "nbconvert_exporter": "python",
   "pygments_lexer": "ipython3",
   "version": "3.9.7"
  }
 },
 "nbformat": 4,
 "nbformat_minor": 5
}

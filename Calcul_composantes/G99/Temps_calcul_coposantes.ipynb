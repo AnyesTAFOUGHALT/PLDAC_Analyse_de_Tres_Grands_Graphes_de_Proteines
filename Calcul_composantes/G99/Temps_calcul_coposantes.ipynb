{
 "cells": [
  {
   "cell_type": "code",
   "execution_count": 1,
   "id": "02d8462d-44fb-44c0-ab29-9c59b835811e",
   "metadata": {},
   "outputs": [],
   "source": [
    "import pandas as pd\n",
    "import findspark\n",
    "from pyspark.sql import SparkSession\n",
    "from pyspark import SparkConf\n",
    "\n",
    "# for dataframe and udf\n",
    "from pyspark.sql import *\n",
    "from pyspark.sql.functions import *\n",
    "from pyspark.sql.types import *\n",
    "\n",
    "\n",
    "from pyspark.sql.functions import col\n",
    "from pyspark.sql import functions as F\n",
    "\n",
    "from igraph import Graph\n",
    "from pyspark.sql.window import Window\n",
    "from pyspark.sql.functions import col\n",
    "\n",
    "from functools import reduce\n",
    "from pyspark.sql.functions import collect_set, min as min_, expr,array_min,max\n",
    "from pyspark.sql.functions import lit\n",
    "\n",
    "from pyspark.sql.types import StringType, IntegerType, LongType, FloatType, ArrayType,StructType,StructField, BooleanType\n",
    "\n",
    "import pandas as pd\n",
    "import glob\n",
    "\n",
    "import time\n",
    "\n",
    "import matplotlib.pyplot as plt\n",
    "\n",
    "from pyspark.sql.types import BooleanType\n"
   ]
  },
  {
   "cell_type": "code",
   "execution_count": 2,
   "id": "fea5a7b4-89f1-4ee1-a98d-6790c3576160",
   "metadata": {},
   "outputs": [],
   "source": [
    "import os\n",
    "os.environ[\"SPARK_HOME\"] =  \"/root/anaconda3/lib/python3.9/site-packages/pyspark\" \n",
    "os.environ[\"JAVA_HOME\"] =\"/usr\""
   ]
  },
  {
   "cell_type": "markdown",
   "id": "6e7f358e-a5f8-4bee-8922-f12a9e524adc",
   "metadata": {},
   "source": [
    "# Lancer spark"
   ]
  },
  {
   "cell_type": "code",
   "execution_count": 3,
   "id": "2deec490-d52c-40f9-82ae-9d6fffdb3333",
   "metadata": {},
   "outputs": [],
   "source": [
    "findspark.init() \n",
    "\n",
    "def demarrer_spark(NB_CORES):\n",
    "  local = f\"local[{NB_CORES}]\"\n",
    "  # le parametre spark.local.dir indique le repertoire contenant les données temporaires ecrites sur disque lorsque le shufle ne tient pas en memoire\n",
    "  appName = \"PLDAC\"\n",
    "  configLocale = SparkConf().setAppName(appName).setMaster(local).\\\n",
    "  set(\"spark.executor.memory\", \"320G\").\\\n",
    "  set(\"spark.driver.memory\",\"320G\").\\\n",
    "  set(\"spark.sql.catalogImplementation\",\"in-memory\").\\\n",
    "  set(\"spark.driver.maxResultSize\", \"20G\").\\\n",
    "  set(\"spark.local.dir\", \"/data/bd/spark/tmp\").\\\n",
    "  set(\"spark.sql.execution.arrow.pyspark.enabled\", \"true\")\n",
    "    \n",
    "\n",
    "# # to allow sharing in memory arow format between pandas and spark : speeds up the creation of a spark df from a pandas df\n",
    "# spark.conf.set(\"spark.sql.execution.arrow.pyspark.enabled\", \"true\")\n",
    "\n",
    "\n",
    "  spark = SparkSession.builder.config(conf = configLocale).getOrCreate()\n",
    "  sc = spark.sparkContext\n",
    "  sc.setLogLevel(\"ERROR\")\n",
    "  \n",
    "  # spark.conf.set(\"spark.sql.autoBroadcastJoinThreshold\",\"-1\")\n",
    "    \n",
    "  # On ajuste l'environnement d'exécution des requêtes à la taille du cluster (NB_CORES coeurs)\n",
    "  shuffle_partitions = 3 * NB_CORES\n",
    "  print(\"shuffle\", shuffle_partitions)\n",
    "  spark.conf.set(\"spark.sql.shuffle.partitions\", str(shuffle_partitions))    \n",
    "\n",
    "  print(\"session démarrée, son id est \", sc.applicationId)\n",
    "  return spark\n"
   ]
  },
  {
   "cell_type": "markdown",
   "id": "0c6cd0e7-5da2-45e5-b0f2-214116a02bac",
   "metadata": {},
   "source": [
    "## Calcul des composantes partielles :\n",
    "Cette fonction calcule les composantes connexe de chaque partition (appellées des composantes partielles ) "
   ]
  },
  {
   "cell_type": "code",
   "execution_count": 4,
   "id": "ad4ccfe3-55fc-4509-a3ad-651aaba59b1b",
   "metadata": {},
   "outputs": [],
   "source": [
    "def calculate_partition_components(partition_folder , nb_partition):\n",
    "   \n",
    "    def components(partition_file, num_file , d) :\n",
    "        # print(partition_file)\n",
    "        df = pd.read_parquet(partition_file )\n",
    "        g = Graph.TupleList(df[['query_id', 'target_id']].itertuples(index=False), directed=False)\n",
    "        connected_components = g.connected_components()\n",
    "        node_ids=[]\n",
    "        for component in connected_components:\n",
    "            node_ids.append([g.vs[node_index]['name'] for node_index in component])\n",
    "        #on trie en fonction de la taille \n",
    "        composantes_triees = sorted(node_ids, key=len, reverse=True)\n",
    "        # Créer une liste de lignes pour chaque composante\n",
    "        rows = []\n",
    "        for i, component in enumerate(composantes_triees):\n",
    "            for seqid in component:\n",
    "                rows.append((seqid , i)) \n",
    "        # result_df = pd.DataFrame(rows, columns=['seqid', 'component'])\n",
    "        # file_path = f\"/data/bd/dataset/proteine/80_80/G99/graph_partitionned_components/200_partitions_components/partition_{num_file}.parquet\"\n",
    "        # result_df.to_parquet(file_path, index=False)\n",
    "\n",
    "        return rows\n",
    "\n",
    "    # Schéma du DataFrame\n",
    "    schema = StructType([\n",
    "        StructField(\"file\", StringType(), False)\n",
    "    ])\n",
    "    \n",
    "    # Données à partir desquelles créer le DataFrame\n",
    "    # data = [(file,) for file in os.listdir(partition_folder)]\n",
    "    # data = [(i,) for i, file in enumerate(os.listdir(partition_folder))]\n",
    "    data = [(i,) for i in range(nb_partition)]\n",
    "\n",
    "    # Création du DataFrame\n",
    "    df = spark.createDataFrame(data, schema).repartition(nb_partition)\n",
    "    # Enregistrer la fonction UDF\n",
    "    schema_components = StructType([\n",
    "        StructField(\"seqID\", StringType(), nullable=False),\n",
    "        StructField(\"component_id\", IntegerType(), nullable=False)\n",
    "    ])\n",
    "    components_udf = F.udf(components, ArrayType(schema_components))\n",
    "    #df_with_components = df.withColumn(\"components\", components_udf(F.concat(F.lit(partition_folder+\"/\"), df[\"file\"])))\n",
    "    df_with_components = df.withColumn(\n",
    "        \"components\",\n",
    "        components_udf(\n",
    "            F.concat(\n",
    "                F.lit(partition_folder + \"/partition_\"), \n",
    "                df[\"file\"] , \n",
    "                F.lit(\".parquet\")\n",
    "            ) , \n",
    "            df[\"file\"],\n",
    "            F.lit(nb_partition)\n",
    "        )\n",
    "    )\n",
    "    \n",
    "    return df_with_components"
   ]
  },
  {
   "cell_type": "markdown",
   "id": "ac7deb96-2a69-49f8-894c-cb6bcca42618",
   "metadata": {},
   "source": [
    "## Calcul des composantes de G prime :\n",
    "Le graphe G prime est crée a partir des composantes partielles calculées en effet chaque noeud de G prime représente un noeuds de G prime "
   ]
  },
  {
   "cell_type": "code",
   "execution_count": 5,
   "id": "6379522e-0fed-40a8-bddc-7046e739ee93",
   "metadata": {},
   "outputs": [],
   "source": [
    "from igraph import Graph\n",
    "\n",
    "def components_2(edges):\n",
    "    # Créer un graphe à partir des arêtes\n",
    "    g = Graph.TupleList(edges, directed=False)\n",
    "    \n",
    "    connected_components = g.connected_components()\n",
    "    node_ids=[]\n",
    "    for component in connected_components:\n",
    "        node_ids.append([g.vs[node_index]['name'] for node_index in component])\n",
    "    #on trie en fonction de la taille \n",
    "    composantes_triees = sorted(node_ids, key=len, reverse=True)\n",
    "    # Créer une liste de lignes pour chaque composante\n",
    "    rows = []\n",
    "    for i, component in enumerate(composantes_triees):\n",
    "        for seqid in component:\n",
    "            rows.append(Row(partial_component=seqid ,component=i ))\n",
    "    \n",
    "    # Créer un DataFrame Spark à partir de la liste de lignes\n",
    "    result_df = spark.createDataFrame(rows)\n",
    "    \n",
    "    return result_df"
   ]
  },
  {
   "cell_type": "code",
   "execution_count": 10,
   "id": "31efabac-bd7b-4aeb-a0a4-79246ca3351c",
   "metadata": {},
   "outputs": [
    {
     "name": "stderr",
     "output_type": "stream",
     "text": [
      "WARNING: An illegal reflective access operation has occurred\n",
      "WARNING: Illegal reflective access by org.apache.spark.unsafe.Platform (file:/root/anaconda3/lib/python3.9/site-packages/pyspark/jars/spark-unsafe_2.12-3.1.2.jar) to constructor java.nio.DirectByteBuffer(long,int)\n",
      "WARNING: Please consider reporting this to the maintainers of org.apache.spark.unsafe.Platform\n",
      "WARNING: Use --illegal-access=warn to enable warnings of further illegal reflective access operations\n",
      "WARNING: All illegal access operations will be denied in a future release\n",
      "24/04/30 23:26:21 WARN NativeCodeLoader: Unable to load native-hadoop library for your platform... using builtin-java classes where applicable\n",
      "Using Spark's default log4j profile: org/apache/spark/log4j-defaults.properties\n",
      "Setting default log level to \"WARN\".\n",
      "To adjust logging level use sc.setLogLevel(newLevel). For SparkR, use setLogLevel(newLevel).\n",
      "24/04/30 23:26:21 WARN SparkConf: Note that spark.local.dir will be overridden by the value set by the cluster manager (via SPARK_LOCAL_DIRS in mesos/standalone/kubernetes and LOCAL_DIRS in YARN).\n",
      "24/04/30 23:26:22 WARN Utils: Service 'SparkUI' could not bind on port 4040. Attempting port 4041.\n",
      "24/04/30 23:26:22 WARN Utils: Service 'SparkUI' could not bind on port 4041. Attempting port 4042.\n",
      "24/04/30 23:26:22 WARN Utils: Service 'SparkUI' could not bind on port 4042. Attempting port 4043.\n"
     ]
    },
    {
     "name": "stdout",
     "output_type": "stream",
     "text": [
      "shuffle 180\n",
      "session démarrée, son id est  local-1714512382180\n"
     ]
    }
   ],
   "source": [
    "spark = demarrer_spark(60)"
   ]
  },
  {
   "cell_type": "markdown",
   "id": "fbb291d9-6dda-4ed8-87de-947415279fd0",
   "metadata": {},
   "source": [
    "### Temps d'éxécution : "
   ]
  },
  {
   "cell_type": "code",
   "execution_count": 11,
   "id": "8f65ceac-10c3-49d3-9052-a1e4308ebb5c",
   "metadata": {},
   "outputs": [],
   "source": [
    "spark = demarrer_spark(60)"
   ]
  },
  {
   "cell_type": "code",
   "execution_count": 15,
   "id": "c1a3d462-1f28-4df7-b1ed-972b1d438a5c",
   "metadata": {},
   "outputs": [
    {
     "name": "stdout",
     "output_type": "stream",
     "text": [
      "shuffle 150\n",
      "session démarrée, son id est  local-1714380608043\n",
      "here :  /data/bd/dataset/proteine/80_80/G99/TEST_RACHA_CALCUL_COMPOSANTES/partitions/50_partitions\n"
     ]
    },
    {
     "name": "stderr",
     "output_type": "stream",
     "text": [
      "                                                                                \r"
     ]
    },
    {
     "name": "stdout",
     "output_type": "stream",
     "text": [
      "G prime  370.2670750617981\n",
      "Time total    2566.8542625904083\n"
     ]
    }
   ],
   "source": [
    "num_partitions= 50\n",
    "spark = demarrer_spark(num_partitions)\n",
    "start_time = time.time()\n",
    "\n",
    "partition_folder = f\"/data/bd/dataset/proteine/80_80/G99/TEST_RACHA_CALCUL_COMPOSANTES/partitions/{num_partitions}_partitions\"\n",
    "print(\"here : \",partition_folder)\n",
    "df_with_components = calculate_partition_components(partition_folder,num_partitions)\n",
    "\n",
    "df_exploded = df_with_components.select('file',  F.explode('components').alias('component'))\n",
    "df_split = df_exploded.select(\"file\", col(\"component.seqID\").alias(\"seqID\"), col(\"component.component_id\").alias(\"component_id\"))\n",
    "\n",
    "# # Ajouter une colonne d'identifiant unique basée sur le couple (file, component_id)\n",
    "windowSpec = Window.orderBy(\"file\", \"component_id\")\n",
    "df = df_split.withColumn(\"new_component_id\", dense_rank().over(windowSpec))\n",
    "new_df = df.select(\"seqID\",\"new_component_id\")\n",
    "\n",
    "\n",
    "components_per_node = new_df \\\n",
    "    .groupby(\"seqID\") \\\n",
    "    .agg(collect_set(\"new_component_id\").alias(\"components\")) \\\n",
    "    .withColumn(\"min_component\", array_min(\"components\"))\n",
    "\n",
    "\n",
    "components_per_node_exploded = components_per_node.select('seqID', 'min_component', F.explode('components').alias('component'))\n",
    "result = components_per_node_exploded.where(col(\"component\") > col(\"min_component\")).drop(\"seqID\").dropDuplicates()\n",
    "\n",
    "\n",
    "new_graph = result.withColumnRenamed(\"min_component\", \"src\").withColumnRenamed(\"component\", \"dst\")\n",
    "\n",
    "\n",
    "new_graph.select('src', 'dst').write.csv(f'/data/bd/dataset/proteine/80_80/G99/TEST_RACHA_CALCUL_COMPOSANTES/20_50_70_150_G_prime_time_comp/{num_partitions}_part_graphe_60_G_prime.csv')\n",
    "\n",
    "#--------------------\n",
    "edges = spark.read.csv(f'/data/bd/dataset/proteine/80_80/G99/TEST_RACHA_CALCUL_COMPOSANTES/20_50_70_150_G_prime_time_comp/{num_partitions}_part_graphe_60_G_prime.csv', header=False, inferSchema=True)\n",
    "\n",
    "# Création du graph avec igraph\n",
    "from igraph import Graph\n",
    "\n",
    "# Conversion des arêtes DataFrame en liste de tuples\n",
    "edges_list = edges.rdd.map(lambda row: (row[0], row[1])).collect()\n",
    "\n",
    "\n",
    "g_prime_folder = f'/data/bd/dataset/proteine/80_80/G99/TEST_RACHA_CALCUL_COMPOSANTES/20_50_70_150_G_prime_time_comp/G_prime_folder'\n",
    "start_timeG = time.time()\n",
    "\n",
    "#___________\n",
    "composantes_df = components_2(edges_list)\n",
    "\n",
    "composantes_df.write.mode(\"overwrite\").parquet(g_prime_folder)\n",
    "stop_time_g_PRIME = time.time()-start_timeG\n",
    "\n",
    "composantes_df_exploded = composantes_df \\\n",
    ".groupby(\"component\") \\\n",
    ".agg(collect_set(\"partial_component\").alias(\"partial_components\")) \\\n",
    ".withColumn(\"min_partial_component\", array_min(\"partial_components\")) \\\n",
    ".selectExpr(\"explode(partial_components) as partial_component\" , \"min_partial_component\")\n",
    "\n",
    "# #resultat final en faisant une jointure gauche\n",
    "result = components_per_node.join(composantes_df_exploded, components_per_node.min_component == composantes_df_exploded.partial_component, \"left_outer\") \\\n",
    "           .select(components_per_node.seqID, when(composantes_df_exploded.partial_component.isNull(), components_per_node.min_component).otherwise(composantes_df_exploded.min_partial_component).alias(\"new_component_id\"))\n",
    "\n",
    "\n",
    "#ecriture du résultat dans des fichier parquet\n",
    "file_path = f\"/data/bd/dataset/proteine/80_80/G99/TEST_RACHA_CALCUL_COMPOSANTES/composantes_finales_test_temps_23_avril\"\n",
    "result.write.mode(\"overwrite\").parquet(file_path)\n",
    "stop_time_total = time.time()-start_time\n",
    "\n",
    "\n",
    "print(\"G prime \",stop_time_g_PRIME)\n",
    "print(\"Time total   \",stop_time_total)\n",
    "\n",
    "spark.stop()\n"
   ]
  },
  {
   "cell_type": "code",
   "execution_count": 11,
   "id": "3c5ea6c8-101d-4119-805b-c7483e7df3c5",
   "metadata": {},
   "outputs": [
    {
     "name": "stdout",
     "output_type": "stream",
     "text": [
      "shuffle 180\n",
      "session démarrée, son id est  local-1714391197415\n",
      "here :  /data/bd/dataset/proteine/80_80/G99/TEST_RACHA_CALCUL_COMPOSANTES/partitions/150_partitions\n"
     ]
    },
    {
     "name": "stderr",
     "output_type": "stream",
     "text": [
      "                                                                                \r"
     ]
    },
    {
     "name": "stdout",
     "output_type": "stream",
     "text": [
      "G prime  464.7268805503845\n",
      "Time total    2229.211688041687\n"
     ]
    }
   ],
   "source": [
    "num_partitions= 150\n",
    "spark = demarrer_spark(60)\n",
    "start_time = time.time()\n",
    "\n",
    "partition_folder = f\"/data/bd/dataset/proteine/80_80/G99/TEST_RACHA_CALCUL_COMPOSANTES/partitions/{num_partitions}_partitions\"\n",
    "print(\"here : \",partition_folder)\n",
    "df_with_components = calculate_partition_components(partition_folder,60)\n",
    "\n",
    "df_exploded = df_with_components.select('file',  F.explode('components').alias('component'))\n",
    "df_split = df_exploded.select(\"file\", col(\"component.seqID\").alias(\"seqID\"), col(\"component.component_id\").alias(\"component_id\"))\n",
    "\n",
    "# # Ajouter une colonne d'identifiant unique basée sur le couple (file, component_id)\n",
    "windowSpec = Window.orderBy(\"file\", \"component_id\")\n",
    "df = df_split.withColumn(\"new_component_id\", dense_rank().over(windowSpec))\n",
    "new_df = df.select(\"seqID\",\"new_component_id\")\n",
    "\n",
    "\n",
    "components_per_node = new_df \\\n",
    "    .groupby(\"seqID\") \\\n",
    "    .agg(collect_set(\"new_component_id\").alias(\"components\")) \\\n",
    "    .withColumn(\"min_component\", array_min(\"components\"))\n",
    "\n",
    "\n",
    "components_per_node_exploded = components_per_node.select('seqID', 'min_component', F.explode('components').alias('component'))\n",
    "result = components_per_node_exploded.where(col(\"component\") > col(\"min_component\")).drop(\"seqID\").dropDuplicates()\n",
    "\n",
    "\n",
    "new_graph = result.withColumnRenamed(\"min_component\", \"src\").withColumnRenamed(\"component\", \"dst\")\n",
    "\n",
    "\n",
    "new_graph.select('src', 'dst').write.csv(f'/data/bd/dataset/proteine/80_80/G99/TEST_RACHA_CALCUL_COMPOSANTES/20_50_70_150_G_prime_time_comp/{num_partitions}_part_graphe_60_G_prime.csv')\n",
    "\n",
    "#--------------------\n",
    "edges = spark.read.csv(f'/data/bd/dataset/proteine/80_80/G99/TEST_RACHA_CALCUL_COMPOSANTES/20_50_70_150_G_prime_time_comp/{num_partitions}_part_graphe_60_G_prime.csv', header=False, inferSchema=True)\n",
    "\n",
    "# Création du graph avec igraph\n",
    "\n",
    "# Conversion des arêtes DataFrame en liste de tuples\n",
    "edges_list = edges.rdd.map(lambda row: (row[0], row[1])).collect()\n",
    "\n",
    "g_prime_folder = f'/data/bd/dataset/proteine/80_80/G99/TEST_RACHA_CALCUL_COMPOSANTES/20_50_70_150_G_prime_time_comp/G_prime_folder'\n",
    "start_timeG = time.time()\n",
    "\n",
    "#___________\n",
    "composantes_df = components_2(edges_list)\n",
    "\n",
    "composantes_df.write.mode(\"overwrite\").parquet(g_prime_folder)\n",
    "stop_time_g_PRIME = time.time()-start_timeG\n",
    "\n",
    "composantes_df_exploded = composantes_df \\\n",
    ".groupby(\"component\") \\\n",
    ".agg(collect_set(\"partial_component\").alias(\"partial_components\")) \\\n",
    ".withColumn(\"min_partial_component\", array_min(\"partial_components\")) \\\n",
    ".selectExpr(\"explode(partial_components) as partial_component\" , \"min_partial_component\")\n",
    "\n",
    "# #resultat final en faisant une jointure gauche\n",
    "result = components_per_node.join(composantes_df_exploded, components_per_node.min_component == composantes_df_exploded.partial_component, \"left_outer\") \\\n",
    "           .select(components_per_node.seqID, when(composantes_df_exploded.partial_component.isNull(), components_per_node.min_component).otherwise(composantes_df_exploded.min_partial_component).alias(\"new_component_id\"))\n",
    "\n",
    "\n",
    "#ecriture du résultat dans des fichier parquet\n",
    "file_path = f\"/data/bd/dataset/proteine/80_80/G99/TEST_RACHA_CALCUL_COMPOSANTES/composantes_finales_test_temps_23_avril\"\n",
    "result.write.mode(\"overwrite\").parquet(file_path)\n",
    "stop_time_total = time.time()-start_time\n",
    "\n",
    "\n",
    "print(\"G prime \",stop_time_g_PRIME)\n",
    "print(\"Time total   \",stop_time_total)\n",
    "\n",
    "spark.stop()\n"
   ]
  },
  {
   "cell_type": "code",
   "execution_count": 8,
   "id": "86880287-328e-47d4-8a6e-42271abeebe3",
   "metadata": {},
   "outputs": [
    {
     "name": "stdout",
     "output_type": "stream",
     "text": [
      "shuffle 60\n",
      "session démarrée, son id est  local-1714395912286\n",
      "here :  /data/bd/dataset/proteine/80_80/G99/TEST_RACHA_CALCUL_COMPOSANTES/partitions/20_partitions\n"
     ]
    },
    {
     "name": "stderr",
     "output_type": "stream",
     "text": [
      "                                                                                \r"
     ]
    },
    {
     "name": "stdout",
     "output_type": "stream",
     "text": [
      "G prime  343.11279368400574\n",
      "Time total    4639.943820714951\n"
     ]
    }
   ],
   "source": [
    "num_partitions= 20\n",
    "spark = demarrer_spark(20)\n",
    "start_time = time.time()\n",
    "\n",
    "partition_folder = f\"/data/bd/dataset/proteine/80_80/G99/TEST_RACHA_CALCUL_COMPOSANTES/partitions/{num_partitions}_partitions\"\n",
    "print(\"here : \",partition_folder)\n",
    "df_with_components = calculate_partition_components(partition_folder,20)\n",
    "\n",
    "df_exploded = df_with_components.select('file',  F.explode('components').alias('component'))\n",
    "df_split = df_exploded.select(\"file\", col(\"component.seqID\").alias(\"seqID\"), col(\"component.component_id\").alias(\"component_id\"))\n",
    "\n",
    "# # Ajouter une colonne d'identifiant unique basée sur le couple (file, component_id)\n",
    "windowSpec = Window.orderBy(\"file\", \"component_id\")\n",
    "df = df_split.withColumn(\"new_component_id\", dense_rank().over(windowSpec))\n",
    "new_df = df.select(\"seqID\",\"new_component_id\")\n",
    "\n",
    "\n",
    "components_per_node = new_df \\\n",
    "    .groupby(\"seqID\") \\\n",
    "    .agg(collect_set(\"new_component_id\").alias(\"components\")) \\\n",
    "    .withColumn(\"min_component\", array_min(\"components\"))\n",
    "\n",
    "\n",
    "components_per_node_exploded = components_per_node.select('seqID', 'min_component', F.explode('components').alias('component'))\n",
    "result = components_per_node_exploded.where(col(\"component\") > col(\"min_component\")).drop(\"seqID\").dropDuplicates()\n",
    "\n",
    "\n",
    "new_graph = result.withColumnRenamed(\"min_component\", \"src\").withColumnRenamed(\"component\", \"dst\")\n",
    "\n",
    "\n",
    "new_graph.select('src', 'dst').write.csv(f'/data/bd/dataset/proteine/80_80/G99/TEST_RACHA_CALCUL_COMPOSANTES/20_50_70_150_G_prime_time_comp/{num_partitions}_part_graphe_60_G_prime.csv')\n",
    "\n",
    "#--------------------\n",
    "edges = spark.read.csv(f'/data/bd/dataset/proteine/80_80/G99/TEST_RACHA_CALCUL_COMPOSANTES/20_50_70_150_G_prime_time_comp/{num_partitions}_part_graphe_60_G_prime.csv', header=False, inferSchema=True)\n",
    "\n",
    "# Création du graph avec igraph\n",
    "\n",
    "# Conversion des arêtes DataFrame en liste de tuples\n",
    "edges_list = edges.rdd.map(lambda row: (row[0], row[1])).collect()\n",
    "\n",
    "g_prime_folder = f'/data/bd/dataset/proteine/80_80/G99/TEST_RACHA_CALCUL_COMPOSANTES/20_50_70_150_G_prime_time_comp/G_prime_folder'\n",
    "start_timeG = time.time()\n",
    "\n",
    "#___________\n",
    "composantes_df = components_2(edges_list)\n",
    "\n",
    "composantes_df.write.mode(\"overwrite\").parquet(g_prime_folder)\n",
    "stop_time_g_PRIME = time.time()-start_timeG\n",
    "\n",
    "composantes_df_exploded = composantes_df \\\n",
    ".groupby(\"component\") \\\n",
    ".agg(collect_set(\"partial_component\").alias(\"partial_components\")) \\\n",
    ".withColumn(\"min_partial_component\", array_min(\"partial_components\")) \\\n",
    ".selectExpr(\"explode(partial_components) as partial_component\" , \"min_partial_component\")\n",
    "\n",
    "# #resultat final en faisant une jointure gauche\n",
    "result = components_per_node.join(composantes_df_exploded, components_per_node.min_component == composantes_df_exploded.partial_component, \"left_outer\") \\\n",
    "           .select(components_per_node.seqID, when(composantes_df_exploded.partial_component.isNull(), components_per_node.min_component).otherwise(composantes_df_exploded.min_partial_component).alias(\"new_component_id\"))\n",
    "\n",
    "\n",
    "#ecriture du résultat dans des fichier parquet\n",
    "file_path = f\"/data/bd/dataset/proteine/80_80/G99/TEST_RACHA_CALCUL_COMPOSANTES/composantes_finales_test_temps_23_avril\"\n",
    "result.write.mode(\"overwrite\").parquet(file_path)\n",
    "stop_time_total = time.time()-start_time\n",
    "\n",
    "\n",
    "print(\"G prime \",stop_time_g_PRIME)\n",
    "print(\"Time total   \",stop_time_total)\n",
    "\n",
    "spark.stop()\n"
   ]
  },
  {
   "cell_type": "code",
   "execution_count": 6,
   "id": "faaae932-1e5b-43d3-bd13-ddaf7edea789",
   "metadata": {},
   "outputs": [
    {
     "name": "stderr",
     "output_type": "stream",
     "text": [
      "WARNING: An illegal reflective access operation has occurred\n",
      "WARNING: Illegal reflective access by org.apache.spark.unsafe.Platform (file:/root/anaconda3/lib/python3.9/site-packages/pyspark/jars/spark-unsafe_2.12-3.1.2.jar) to constructor java.nio.DirectByteBuffer(long,int)\n",
      "WARNING: Please consider reporting this to the maintainers of org.apache.spark.unsafe.Platform\n",
      "WARNING: Use --illegal-access=warn to enable warnings of further illegal reflective access operations\n",
      "WARNING: All illegal access operations will be denied in a future release\n",
      "24/04/29 18:18:15 WARN NativeCodeLoader: Unable to load native-hadoop library for your platform... using builtin-java classes where applicable\n",
      "Using Spark's default log4j profile: org/apache/spark/log4j-defaults.properties\n",
      "Setting default log level to \"WARN\".\n",
      "To adjust logging level use sc.setLogLevel(newLevel). For SparkR, use setLogLevel(newLevel).\n",
      "24/04/29 18:18:15 WARN SparkConf: Note that spark.local.dir will be overridden by the value set by the cluster manager (via SPARK_LOCAL_DIRS in mesos/standalone/kubernetes and LOCAL_DIRS in YARN).\n",
      "24/04/29 18:18:16 WARN Utils: Service 'SparkUI' could not bind on port 4040. Attempting port 4041.\n",
      "24/04/29 18:18:16 WARN Utils: Service 'SparkUI' could not bind on port 4041. Attempting port 4042.\n",
      "24/04/29 18:18:16 WARN Utils: Service 'SparkUI' could not bind on port 4042. Attempting port 4043.\n"
     ]
    },
    {
     "name": "stdout",
     "output_type": "stream",
     "text": [
      "shuffle 180\n",
      "session démarrée, son id est  local-1714407496559\n",
      "here :  /data/bd/dataset/proteine/80_80/G99/TEST_RACHA_CALCUL_COMPOSANTES/partitions/60_partitions\n"
     ]
    },
    {
     "name": "stderr",
     "output_type": "stream",
     "text": [
      "                                                                                \r"
     ]
    },
    {
     "name": "stdout",
     "output_type": "stream",
     "text": [
      "G prime  409.04388642311096\n",
      "Time total    1987.750917673111\n"
     ]
    }
   ],
   "source": [
    "num_partitions= 60\n",
    "spark = demarrer_spark(60)\n",
    "start_time = time.time()\n",
    "\n",
    "partition_folder = f\"/data/bd/dataset/proteine/80_80/G99/TEST_RACHA_CALCUL_COMPOSANTES/partitions/{num_partitions}_partitions\"\n",
    "print(\"here : \",partition_folder)\n",
    "df_with_components = calculate_partition_components(partition_folder,60)\n",
    "\n",
    "df_exploded = df_with_components.select('file',  F.explode('components').alias('component'))\n",
    "df_split = df_exploded.select(\"file\", col(\"component.seqID\").alias(\"seqID\"), col(\"component.component_id\").alias(\"component_id\"))\n",
    "\n",
    "# # Ajouter une colonne d'identifiant unique basée sur le couple (file, component_id)\n",
    "windowSpec = Window.orderBy(\"file\", \"component_id\")\n",
    "df = df_split.withColumn(\"new_component_id\", dense_rank().over(windowSpec))\n",
    "new_df = df.select(\"seqID\",\"new_component_id\")\n",
    "\n",
    "\n",
    "components_per_node = new_df \\\n",
    "    .groupby(\"seqID\") \\\n",
    "    .agg(collect_set(\"new_component_id\").alias(\"components\")) \\\n",
    "    .withColumn(\"min_component\", array_min(\"components\"))\n",
    "\n",
    "\n",
    "components_per_node_exploded = components_per_node.select('seqID', 'min_component', F.explode('components').alias('component'))\n",
    "result = components_per_node_exploded.where(col(\"component\") > col(\"min_component\")).drop(\"seqID\").dropDuplicates()\n",
    "\n",
    "\n",
    "new_graph = result.withColumnRenamed(\"min_component\", \"src\").withColumnRenamed(\"component\", \"dst\")\n",
    "\n",
    "\n",
    "new_graph.select('src', 'dst').write.csv(f'/data/bd/dataset/proteine/80_80/G99/TEST_RACHA_CALCUL_COMPOSANTES/20_50_70_150_G_prime_time_comp/{num_partitions}_part_graphe_60_G_prime.csv')\n",
    "\n",
    "#--------------------\n",
    "edges = spark.read.csv(f'/data/bd/dataset/proteine/80_80/G99/TEST_RACHA_CALCUL_COMPOSANTES/20_50_70_150_G_prime_time_comp/{num_partitions}_part_graphe_60_G_prime.csv', header=False, inferSchema=True)\n",
    "\n",
    "# Création du graph avec igraph\n",
    "\n",
    "# Conversion des arêtes DataFrame en liste de tuples\n",
    "edges_list = edges.rdd.map(lambda row: (row[0], row[1])).collect()\n",
    "\n",
    "g_prime_folder = f'/data/bd/dataset/proteine/80_80/G99/TEST_RACHA_CALCUL_COMPOSANTES/20_50_70_150_G_prime_time_comp/G_prime_folder'\n",
    "start_timeG = time.time()\n",
    "\n",
    "#___________\n",
    "composantes_df = components_2(edges_list)\n",
    "\n",
    "composantes_df.write.mode(\"overwrite\").parquet(g_prime_folder)\n",
    "stop_time_g_PRIME = time.time()-start_timeG\n",
    "\n",
    "composantes_df_exploded = composantes_df \\\n",
    ".groupby(\"component\") \\\n",
    ".agg(collect_set(\"partial_component\").alias(\"partial_components\")) \\\n",
    ".withColumn(\"min_partial_component\", array_min(\"partial_components\")) \\\n",
    ".selectExpr(\"explode(partial_components) as partial_component\" , \"min_partial_component\")\n",
    "\n",
    "# #resultat final en faisant une jointure gauche\n",
    "result = components_per_node.join(composantes_df_exploded, components_per_node.min_component == composantes_df_exploded.partial_component, \"left_outer\") \\\n",
    "           .select(components_per_node.seqID, when(composantes_df_exploded.partial_component.isNull(), components_per_node.min_component).otherwise(composantes_df_exploded.min_partial_component).alias(\"new_component_id\"))\n",
    "\n",
    "\n",
    "#ecriture du résultat dans des fichier parquet\n",
    "file_path = f\"/data/bd/dataset/proteine/80_80/G99/TEST_RACHA_CALCUL_COMPOSANTES/composantes_finales_test_temps_23_avril\"\n",
    "result.write.mode(\"overwrite\").parquet(file_path)\n",
    "stop_time_total = time.time()-start_time\n",
    "\n",
    "\n",
    "print(\"G prime \",stop_time_g_PRIME)\n",
    "print(\"Time total   \",stop_time_total)\n",
    "\n",
    "spark.stop()\n"
   ]
  },
  {
   "cell_type": "code",
   "execution_count": 6,
   "id": "611c8103-ffa4-47c7-be66-568b5adca14f",
   "metadata": {},
   "outputs": [
    {
     "name": "stdout",
     "output_type": "stream",
     "text": [
      "50\n"
     ]
    },
    {
     "name": "stderr",
     "output_type": "stream",
     "text": [
      "WARNING: An illegal reflective access operation has occurred\n",
      "WARNING: Illegal reflective access by org.apache.spark.unsafe.Platform (file:/root/anaconda3/lib/python3.9/site-packages/pyspark/jars/spark-unsafe_2.12-3.1.2.jar) to constructor java.nio.DirectByteBuffer(long,int)\n",
      "WARNING: Please consider reporting this to the maintainers of org.apache.spark.unsafe.Platform\n",
      "WARNING: Use --illegal-access=warn to enable warnings of further illegal reflective access operations\n",
      "WARNING: All illegal access operations will be denied in a future release\n",
      "24/04/30 16:49:53 WARN NativeCodeLoader: Unable to load native-hadoop library for your platform... using builtin-java classes where applicable\n",
      "Using Spark's default log4j profile: org/apache/spark/log4j-defaults.properties\n",
      "Setting default log level to \"WARN\".\n",
      "To adjust logging level use sc.setLogLevel(newLevel). For SparkR, use setLogLevel(newLevel).\n",
      "24/04/30 16:49:53 WARN SparkConf: Note that spark.local.dir will be overridden by the value set by the cluster manager (via SPARK_LOCAL_DIRS in mesos/standalone/kubernetes and LOCAL_DIRS in YARN).\n",
      "24/04/30 16:49:54 WARN Utils: Service 'SparkUI' could not bind on port 4040. Attempting port 4041.\n",
      "24/04/30 16:49:54 WARN Utils: Service 'SparkUI' could not bind on port 4041. Attempting port 4042.\n",
      "24/04/30 16:49:54 WARN Utils: Service 'SparkUI' could not bind on port 4042. Attempting port 4043.\n"
     ]
    },
    {
     "name": "stdout",
     "output_type": "stream",
     "text": [
      "shuffle 150\n",
      "session démarrée, son id est  local-1714488594686\n",
      "here :  /data/bd/dataset/proteine/80_80/G99/TEST_RACHA_CALCUL_COMPOSANTES/partitions/50_partitions\n"
     ]
    },
    {
     "name": "stderr",
     "output_type": "stream",
     "text": [
      "                                                                                \r"
     ]
    },
    {
     "name": "stdout",
     "output_type": "stream",
     "text": [
      "G prime  402.47188997268677\n",
      "Time total    1274.4492621421814\n",
      "\n",
      "pour 10\n",
      "shuffle 30\n",
      "session démarrée, son id est  local-1714434792588\n",
      "here :  /data/bd/dataset/proteine/80_80/G99/TEST_RACHA_CALCUL_COMPOSANTES/partitions/10_partitions\n",
      "                                                                                \n",
      "G prime  318.4092836380005\n",
      "Time total    6119.700418710709\n",
      "\n",
      "pour 30\n",
      "shuffle 90\n",
      "session démarrée, son id est  local-1714474814547\n",
      "here :  /data/bd/dataset/proteine/80_80/G99/TEST_RACHA_CALCUL_COMPOSANTES/partitions/30_partitions\n",
      "                                                                                \n",
      "G prime  375.805379152298\n",
      "Time total    3402.2417879104614\n",
      "40\n",
      "\n"
     ]
    }
   ],
   "source": [
    "for num_partitions in [50]:\n",
    "    print(num_partitions)\n",
    "    spark = demarrer_spark(num_partitions)\n",
    "    start_time = time.time()\n",
    "\n",
    "    partition_folder = f\"/data/bd/dataset/proteine/80_80/G99/TEST_RACHA_CALCUL_COMPOSANTES/partitions/{num_partitions}_partitions\"\n",
    "    print(\"here : \",partition_folder)\n",
    "    df_with_components = calculate_partition_components(partition_folder,num_partitions)\n",
    "\n",
    "    df_exploded = df_with_components.select('file',  F.explode('components').alias('component'))\n",
    "    df_split = df_exploded.select(\"file\", col(\"component.seqID\").alias(\"seqID\"), col(\"component.component_id\").alias(\"component_id\"))\n",
    "\n",
    "    # # Ajouter une colonne d'identifiant unique basée sur le couple (file, component_id)\n",
    "    windowSpec = Window.orderBy(\"file\", \"component_id\")\n",
    "    df = df_split.withColumn(\"new_component_id\", dense_rank().over(windowSpec))\n",
    "    new_df = df.select(\"seqID\",\"new_component_id\")\n",
    "\n",
    "\n",
    "    components_per_node = new_df \\\n",
    "        .groupby(\"seqID\") \\\n",
    "        .agg(collect_set(\"new_component_id\").alias(\"components\")) \\\n",
    "        .withColumn(\"min_component\", array_min(\"components\"))\n",
    "\n",
    "\n",
    "    components_per_node_exploded = components_per_node.select('seqID', 'min_component', F.explode('components').alias('component'))\n",
    "    result = components_per_node_exploded.where(col(\"component\") > col(\"min_component\")).drop(\"seqID\").dropDuplicates()\n",
    "\n",
    "\n",
    "    new_graph = result.withColumnRenamed(\"min_component\", \"src\").withColumnRenamed(\"component\", \"dst\")\n",
    "\n",
    "\n",
    "    new_graph.select('src', 'dst').write.csv(f'/data/bd/dataset/proteine/80_80/G99/TEST_RACHA_CALCUL_COMPOSANTES/20_50_70_150_G_prime_time_comp/{num_partitions}_part_graphe_60_G_prime.csv')\n",
    "\n",
    "    #--------------------\n",
    "    edges = spark.read.csv(f'/data/bd/dataset/proteine/80_80/G99/TEST_RACHA_CALCUL_COMPOSANTES/20_50_70_150_G_prime_time_comp/{num_partitions}_part_graphe_60_G_prime.csv', header=False, inferSchema=True)\n",
    "\n",
    "    # Création du graph avec igraph\n",
    "\n",
    "    # Conversion des arêtes DataFrame en liste de tuples\n",
    "    edges_list = edges.rdd.map(lambda row: (row[0], row[1])).collect()\n",
    "\n",
    "    g_prime_folder = f'/data/bd/dataset/proteine/80_80/G99/TEST_RACHA_CALCUL_COMPOSANTES/20_50_70_150_G_prime_time_comp/G_prime_folder'\n",
    "    start_timeG = time.time()\n",
    "\n",
    "    #___________\n",
    "    composantes_df = components_2(edges_list)\n",
    "\n",
    "    composantes_df.write.mode(\"overwrite\").parquet(g_prime_folder)\n",
    "    stop_time_g_PRIME = time.time()-start_timeG\n",
    "\n",
    "    composantes_df_exploded = composantes_df \\\n",
    "    .groupby(\"component\") \\\n",
    "    .agg(collect_set(\"partial_component\").alias(\"partial_components\")) \\\n",
    "    .withColumn(\"min_partial_component\", array_min(\"partial_components\")) \\\n",
    "    .selectExpr(\"explode(partial_components) as partial_component\" , \"min_partial_component\")\n",
    "\n",
    "    # #resultat final en faisant une jointure gauche\n",
    "    result = components_per_node.join(composantes_df_exploded, components_per_node.min_component == composantes_df_exploded.partial_component, \"left_outer\") \\\n",
    "               .select(components_per_node.seqID, when(composantes_df_exploded.partial_component.isNull(), components_per_node.min_component).otherwise(composantes_df_exploded.min_partial_component).alias(\"new_component_id\"))\n",
    "\n",
    "\n",
    "    #ecriture du résultat dans des fichier parquet\n",
    "    file_path = f\"/data/bd/dataset/proteine/80_80/G99/TEST_RACHA_CALCUL_COMPOSANTES/composantes_finales_test_temps_23_avril\"\n",
    "    result.write.mode(\"overwrite\").parquet(file_path)\n",
    "    stop_time_total = time.time()-start_time\n",
    "\n",
    "\n",
    "    print(\"G prime \",stop_time_g_PRIME)\n",
    "    print(\"Time total   \",stop_time_total)\n",
    "\n",
    "    spark.stop()\n",
    "    \n",
    "print( \n",
    "\"\"\"\n",
    "pour 10\n",
    "shuffle 30\n",
    "session démarrée, son id est  local-1714434792588\n",
    "here :  /data/bd/dataset/proteine/80_80/G99/TEST_RACHA_CALCUL_COMPOSANTES/partitions/10_partitions\n",
    "                                                                                \n",
    "G prime  318.4092836380005\n",
    "Time total    6119.700418710709\n",
    "\n",
    "pour 30\n",
    "shuffle 90\n",
    "session démarrée, son id est  local-1714474814547\n",
    "here :  /data/bd/dataset/proteine/80_80/G99/TEST_RACHA_CALCUL_COMPOSANTES/partitions/30_partitions\n",
    "                                                                                \n",
    "G prime  375.805379152298\n",
    "Time total    3402.2417879104614\n",
    "40\n",
    "\"\"\"\n",
    ")"
   ]
  },
  {
   "cell_type": "markdown",
   "id": "d441972d-c634-4d3e-aff4-c3e39f6b0e18",
   "metadata": {},
   "source": [
    "## Graphes : "
   ]
  },
  {
   "cell_type": "code",
   "execution_count": 32,
   "id": "d1727055-1e8d-41d1-8281-b6440db0fbb9",
   "metadata": {},
   "outputs": [
    {
     "data": {
      "image/png": "[encoded data removed]",
      "text/plain": [
       "<Figure size 432x288 with 1 Axes>"
      ]
     },
     "metadata": {
      "needs_background": "light"
     },
     "output_type": "display_data"
    }
   ],
   "source": [
    "# Ici nous avons inclu le temps utilsié avec 150 partitions\n",
    "degree_parallelisme = [10,20,30,40,50,60,150]\n",
    "times_Gprime_moy_total = [318.4092836380005,343.11279368400574,375.805379152298,386.84582018852234,402.47188997268677,409.04388642311096,464.7268805503845]\n",
    "plt.plot(degree_parallelisme, times_Gprime_moy_total)\n",
    "\n",
    "plt.xlabel('Degrée de Parallélisme')\n",
    "plt.ylabel('Temps')\n",
    "plt.title('Comparaison du temps de calcul de G prime avec différents degrés de paralélisme') \n",
    "\n",
    "plt.show()\n"
   ]
  },
  {
   "cell_type": "code",
   "execution_count": 33,
   "id": "1d087334-67b4-427b-8fb9-3a536900e023",
   "metadata": {},
   "outputs": [
    {
     "data": {
      "image/png": "[encoded data removed]",
      "text/plain": [
       "<Figure size 432x288 with 1 Axes>"
      ]
     },
     "metadata": {
      "needs_background": "light"
     },
     "output_type": "display_data"
    }
   ],
   "source": [
    "# Ici c'est courbe qui montre le temps d'éxécution total des calculs de composantes  avce 150 partitions inclus\n",
    "times_moy_total = [6119.700418710709,4639.943820714951,3402.2417879104614,2751.9887478351593,2566.8542625904083,1987.750917673111,2229.211688041687]\n",
    "plt.plot(degree_parallelisme, times_moy_total)\n",
    "\n",
    "plt.xlabel('Degrée de Parallélisme')\n",
    "plt.ylabel('Temps')\n",
    "plt.title('Comparaison du temps de calcul des composantes de G avec différents degrés de paralélisme') \n",
    "\n",
    "plt.show()"
   ]
  },
  {
   "cell_type": "code",
   "execution_count": 34,
   "id": "e2896003-99d3-4c17-902d-dd1950da8ade",
   "metadata": {},
   "outputs": [
    {
     "data": {
      "image/png": "[encoded data removed]",
      "text/plain": [
       "<Figure size 432x288 with 1 Axes>"
      ]
     },
     "metadata": {
      "needs_background": "light"
     },
     "output_type": "display_data"
    }
   ],
   "source": [
    "# Ici pour G prime nous n'avons pas inclu l utilisattio de 150 partitions \n",
    "degree_parallelisme_2 = [10,20,30,40,50,60]\n",
    "times_Gprime_moy_total_2 = [318.4092836380005,343.11279368400574,375.805379152298,386.84582018852234,402.47188997268677,409.04388642311096]\n",
    "plt.plot(degree_parallelisme_2, times_Gprime_moy_total_2)\n",
    "\n",
    "plt.xlabel('Degrée de Parallélisme')\n",
    "plt.ylabel('Temps')\n",
    "plt.title('Comparaison du temps de calcul de G prime avec différents degrés de paralélisme') \n",
    "\n",
    "plt.show()"
   ]
  },
  {
   "cell_type": "code",
   "execution_count": 35,
   "id": "ddb3834a-cd8c-4166-9f0a-67e51bc22cb1",
   "metadata": {},
   "outputs": [
    {
     "data": {
      "image/png": "[encoded data removed]",
      "text/plain": [
       "<Figure size 432x288 with 1 Axes>"
      ]
     },
     "metadata": {
      "needs_background": "light"
     },
     "output_type": "display_data"
    }
   ],
   "source": [
    "# Ici c'est courbe qui montre le temps d'éxécution total des calculs de composantes  sans les 150 partitions inclus\n",
    "\n",
    "times_moy_total_2 = [6119.700418710709,4639.943820714951,3402.2417879104614,2751.9887478351593,2566.8542625904083,1987.750917673111]\n",
    "plt.plot(degree_parallelisme_2, times_moy_total_2)\n",
    "\n",
    "plt.xlabel('Degrée de Parallélisme')\n",
    "plt.ylabel('Temps')\n",
    "plt.title('Comparaison du temps de calcul des composantes de G avec différents degrés de paralélisme') \n",
    "\n",
    "plt.show()"
   ]
  },
  {
   "cell_type": "markdown",
   "id": "9631adfa-cffa-49cf-8a0d-f186c4fa1426",
   "metadata": {},
   "source": [
    "## Temps de calcul des composantes partielles : "
   ]
  },
  {
   "cell_type": "code",
   "execution_count": 6,
   "id": "7df74cb3-efed-4bca-b3af-21ed0c34e849",
   "metadata": {},
   "outputs": [
    {
     "name": "stdout",
     "output_type": "stream",
     "text": [
      "20\n"
     ]
    },
    {
     "name": "stderr",
     "output_type": "stream",
     "text": [
      "WARNING: An illegal reflective access operation has occurred\n",
      "WARNING: Illegal reflective access by org.apache.spark.unsafe.Platform (file:/root/anaconda3/lib/python3.9/site-packages/pyspark/jars/spark-unsafe_2.12-3.1.2.jar) to constructor java.nio.DirectByteBuffer(long,int)\n",
      "WARNING: Please consider reporting this to the maintainers of org.apache.spark.unsafe.Platform\n",
      "WARNING: Use --illegal-access=warn to enable warnings of further illegal reflective access operations\n",
      "WARNING: All illegal access operations will be denied in a future release\n",
      "24/04/30 21:36:11 WARN NativeCodeLoader: Unable to load native-hadoop library for your platform... using builtin-java classes where applicable\n",
      "Using Spark's default log4j profile: org/apache/spark/log4j-defaults.properties\n",
      "Setting default log level to \"WARN\".\n",
      "To adjust logging level use sc.setLogLevel(newLevel). For SparkR, use setLogLevel(newLevel).\n",
      "24/04/30 21:36:11 WARN SparkConf: Note that spark.local.dir will be overridden by the value set by the cluster manager (via SPARK_LOCAL_DIRS in mesos/standalone/kubernetes and LOCAL_DIRS in YARN).\n",
      "24/04/30 21:36:12 WARN Utils: Service 'SparkUI' could not bind on port 4040. Attempting port 4041.\n",
      "24/04/30 21:36:12 WARN Utils: Service 'SparkUI' could not bind on port 4041. Attempting port 4042.\n",
      "24/04/30 21:36:12 WARN Utils: Service 'SparkUI' could not bind on port 4042. Attempting port 4043.\n"
     ]
    },
    {
     "name": "stdout",
     "output_type": "stream",
     "text": [
      "shuffle 60\n",
      "session démarrée, son id est  local-1714505772247\n"
     ]
    },
    {
     "name": "stderr",
     "output_type": "stream",
     "text": [
      "                                                                                \r"
     ]
    },
    {
     "name": "stdout",
     "output_type": "stream",
     "text": [
      " Duree : 933.2199971675873\n",
      "30\n",
      "shuffle 90\n",
      "session démarrée, son id est  local-1714506709508\n"
     ]
    },
    {
     "name": "stderr",
     "output_type": "stream",
     "text": [
      "                                                                                \r"
     ]
    },
    {
     "name": "stdout",
     "output_type": "stream",
     "text": [
      " Duree : 604.5231881141663\n",
      "40\n",
      "shuffle 120\n",
      "session démarrée, son id est  local-1714507318774\n"
     ]
    },
    {
     "name": "stderr",
     "output_type": "stream",
     "text": [
      "                                                                                \r"
     ]
    },
    {
     "name": "stdout",
     "output_type": "stream",
     "text": [
      " Duree : 398.63047552108765\n",
      "50\n",
      "shuffle 150\n",
      "session démarrée, son id est  local-1714507718601\n"
     ]
    },
    {
     "name": "stderr",
     "output_type": "stream",
     "text": [
      "                                                                                \r"
     ]
    },
    {
     "name": "stdout",
     "output_type": "stream",
     "text": [
      " Duree : 229.77637386322021\n",
      "60\n",
      "shuffle 180\n",
      "session démarrée, son id est  local-1714507949534\n"
     ]
    },
    {
     "name": "stderr",
     "output_type": "stream",
     "text": [
      "                                                                                \r"
     ]
    },
    {
     "name": "stdout",
     "output_type": "stream",
     "text": [
      " Duree : 225.34035301208496\n",
      "[933.2199971675873, 604.5231881141663, 398.63047552108765, 229.77637386322021, 225.34035301208496]\n"
     ]
    },
    {
     "data": {
      "text/plain": [
       "'\\n10\\nshuffle 30\\nsession démarrée, son id est  local-1714493963914\\n                                                                                \\n Duree : 2712.1822576522827\\n '"
      ]
     },
     "execution_count": 6,
     "metadata": {},
     "output_type": "execute_result"
    }
   ],
   "source": [
    "\n",
    "degree_parallelisme = [20,30,40,50,60]\n",
    "times=[]\n",
    "directory_path = \"/data/bd/dataset/proteine/80_80/G99/TEST_RACHA_CALCUL_COMPOSANTES/composantes_partielles\"\n",
    "for d in degree_parallelisme:\n",
    "    print(d)\n",
    "    spark = demarrer_spark(d)\n",
    "    partition_folder = f\"/data/bd/dataset/proteine/80_80/G99/TEST_RACHA_CALCUL_COMPOSANTES/partitions/{d}_partitions\"\n",
    "    df_with_component = calculate_partition_components(partition_folder , d)\n",
    "    start_time = time.time()\n",
    "    df_with_component.write.mode(\"overwrite\").parquet(directory_path)\n",
    "    duree = time.time() - start_time\n",
    "    times.append(duree)\n",
    "    print(\" Duree :\",duree)\n",
    "    \n",
    "    spark.stop()    \n",
    "\n",
    "print(times)\n",
    "\n",
    "\"\"\"\n",
    "10\n",
    "shuffle 30\n",
    "session démarrée, son id est  local-1714493963914\n",
    "                                                                                \n",
    " Duree : 2712.1822576522827\n",
    " [2712.1822576522827,933.2199971675873, 604.5231881141663, 398.63047552108765, 229.77637386322021, 225.34035301208496]\n",
    " \"\"\"\n",
    "    "
   ]
  },
  {
   "cell_type": "code",
   "execution_count": null,
   "id": "325ed940-f13b-4854-bf97-745961019de0",
   "metadata": {},
   "outputs": [],
   "source": [
    "degree_parallelisme_2 = [10,20,30,40,50,60]\n",
    "temps_calcul_composante_partielles=[2712.1822576522827,933.2199971675873, 604.5231881141663, 398.63047552108765, 229.77637386322021, 225.34035301208496]\n",
    "plt.plot(degree_parallelisme_2, temps_calcul_composante_partielles)\n",
    "\n",
    "plt.xlabel('Degrée de Parallélisme')\n",
    "plt.ylabel('Temps')\n",
    "plt.title('Comparaison du temps de calcul des composantes partielles avec différents degrés de paralélisme') \n",
    "\n",
    "plt.show()"
   ]
  },
  {
   "cell_type": "markdown",
   "id": "5d7777f3-0384-4688-b966-b802d39ed944",
   "metadata": {},
   "source": [
    "## Essayer en variant le degré entre les 2 parties : "
   ]
  },
  {
   "cell_type": "code",
   "execution_count": 10,
   "id": "3abc084b-e917-47e7-ae71-3b44e90c9734",
   "metadata": {},
   "outputs": [],
   "source": [
    "num_partitions = 30\n",
    "spark = demarrer_spark(num_partitions)\n",
    "start_time = time.time()\n",
    "\n",
    "partition_folder = f\"/data/bd/dataset/proteine/80_80/G99/TEST_RACHA_CALCUL_COMPOSANTES/partitions/{num_partitions}_partitions\"\n",
    "print(\"here : \",partition_folder)\n",
    "df_with_components = calculate_partition_components(partition_folder,num_partitions)\n",
    "\n",
    "df_exploded = df_with_components.select('file',  F.explode('components').alias('component'))\n",
    "df_split = df_exploded.select(\"file\", col(\"component.seqID\").alias(\"seqID\"), col(\"component.component_id\").alias(\"component_id\"))\n",
    "\n",
    "# # Ajouter une colonne d'identifiant unique basée sur le couple (file, component_id)\n",
    "windowSpec = Window.orderBy(\"file\", \"component_id\")\n",
    "df = df_split.withColumn(\"new_component_id\", dense_rank().over(windowSpec))\n",
    "new_df = df.select(\"seqID\",\"new_component_id\")\n",
    "\n",
    "\n",
    "components_per_node = new_df \\\n",
    ".groupby(\"seqID\") \\\n",
    ".agg(collect_set(\"new_component_id\").alias(\"components\")) \\\n",
    ".withColumn(\"min_component\", array_min(\"components\"))\n",
    "\n",
    "\n",
    "components_per_node_exploded = components_per_node.select('seqID', 'min_component', F.explode('components').alias('component'))\n",
    "result = components_per_node_exploded.where(col(\"component\") > col(\"min_component\")).drop(\"seqID\").dropDuplicates()\n",
    "\n",
    "\n",
    "new_graph = result.withColumnRenamed(\"min_component\", \"src\").withColumnRenamed(\"component\", \"dst\")\n",
    "\n",
    "\n",
    "new_graph.select('src', 'dst').write.csv(f'/data/bd/dataset/proteine/80_80/G99/TEST_RACHA_CALCUL_COMPOSANTES/20_50_70_150_G_prime_time_comp/{num_partitions}_part_graphe_60_G_prime.csv')\n",
    "spark.stop()\n",
    "spark = demarrer_spark(60)\n",
    "\n",
    "#--------------------\n",
    "edges = spark.read.csv(f'/data/bd/dataset/proteine/80_80/G99/TEST_RACHA_CALCUL_COMPOSANTES/20_50_70_150_G_prime_time_comp/{num_partitions}_part_graphe_60_G_prime.csv', header=False, inferSchema=True)\n",
    "\n",
    "# Création du graph avec igraph\n",
    "\n",
    "# Conversion des arêtes DataFrame en liste de tuples\n",
    "edges_list = edges.rdd.map(lambda row: (row[0], row[1])).collect()\n",
    "\n",
    "g_prime_folder = f'/data/bd/dataset/proteine/80_80/G99/TEST_RACHA_CALCUL_COMPOSANTES/20_50_70_150_G_prime_time_comp/G_prime_folder'\n",
    "\n",
    "#___________\n",
    "composantes_df = components_2(edges_list)\n",
    "\n",
    "\n",
    "composantes_df_exploded = composantes_df \\\n",
    ".groupby(\"component\") \\\n",
    ".agg(collect_set(\"partial_component\").alias(\"partial_components\")) \\\n",
    ".withColumn(\"min_partial_component\", array_min(\"partial_components\")) \\\n",
    ".selectExpr(\"explode(partial_components) as partial_component\" , \"min_partial_component\")\n",
    "\n",
    "# #resultat final en faisant une jointure gauche\n",
    "result = components_per_node.join(composantes_df_exploded, components_per_node.min_component == composantes_df_exploded.partial_component, \"left_outer\") \\\n",
    "       .select(components_per_node.seqID, when(composantes_df_exploded.partial_component.isNull(), components_per_node.min_component).otherwise(composantes_df_exploded.min_partial_component).alias(\"new_component_id\"))\n",
    "\n",
    "\n",
    "#ecriture du résultat dans des fichier parquet\n",
    "file_path = f\"/data/bd/dataset/proteine/80_80/G99/TEST_RACHA_CALCUL_COMPOSANTES/composantes_finales_test_temps_23_avril\"\n",
    "result.write.mode(\"overwrite\").parquet(file_path)\n",
    "\n",
    "stop_time_total = time.time()-start_time\n",
    "print(\"Time total   \",stop_time_total)\n",
    "\n",
    "spark.stop()\n"
   ]
  },
  {
   "cell_type": "code",
   "execution_count": null,
   "id": "34dcbae7-8d8b-4e47-b460-21965f31a902",
   "metadata": {},
   "outputs": [],
   "source": [
    "spark.stop()"
   ]
  }
 ],
 "metadata": {
  "kernelspec": {
   "display_name": "Python 3 (ipykernel)",
   "language": "python",
   "name": "python3"
  },
  "language_info": {
   "codemirror_mode": {
    "name": "ipython",
    "version": 3
   },
   "file_extension": ".py",
   "mimetype": "text/x-python",
   "name": "python",
   "nbconvert_exporter": "python",
   "pygments_lexer": "ipython3",
   "version": "3.9.7"
  }
 },
 "nbformat": 4,
 "nbformat_minor": 5
}

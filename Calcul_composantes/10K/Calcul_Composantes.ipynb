{
 "cells": [
  {
   "cell_type": "markdown",
   "metadata": {},
   "source": [
    "# Importation des bibliothéques"
   ]
  },
  {
   "cell_type": "code",
   "execution_count": 86,
   "metadata": {},
   "outputs": [],
   "source": [
    "import os\n",
    "os.environ[\"SPARK_HOME\"] = \"/home/anyes/spark\"\n",
    "os.environ[\"JAVA_HOME\"] = \"/usr\""
   ]
  },
  {
   "cell_type": "code",
   "execution_count": 87,
   "metadata": {},
   "outputs": [],
   "source": [
    "import pandas as pd\n",
    "import findspark\n",
    "from pyspark.sql import SparkSession\n",
    "from pyspark import SparkConf\n",
    "\n",
    "# for dataframe and udf\n",
    "from pyspark.sql import *\n",
    "from pyspark.sql.functions import *\n",
    "from pyspark.sql.types import *\n",
    "\n",
    "\n",
    "from pyspark.sql.functions import col\n",
    "from pyspark.sql import functions as F\n",
    "\n",
    "from igraph import Graph\n",
    "from pyspark.sql.window import Window\n",
    "from pyspark.sql.functions import col\n",
    "\n",
    "from functools import reduce\n",
    "from pyspark.sql.functions import collect_set, min as min_, expr,array_min,max\n",
    "from pyspark.sql.functions import lit\n",
    "\n",
    "from graphframes import GraphFrame\n"
   ]
  },
  {
   "cell_type": "markdown",
   "metadata": {},
   "source": [
    "# Lancer Spark"
   ]
  },
  {
   "cell_type": "code",
   "execution_count": 88,
   "metadata": {},
   "outputs": [
    {
     "name": "stdout",
     "output_type": "stream",
     "text": [
      "session started, its id is  local-1710842935118\n"
     ]
    }
   ],
   "source": [
    "# initialise environment variables for spark\n",
    "findspark.init()\n",
    "\n",
    "# Start spark session\n",
    "# --------------------------\n",
    "def start_spark():\n",
    "  #fixer la valeur au lieu de * \n",
    "  local = \"local[*]\"\n",
    "  appName = \"PLDAC\"\n",
    "\n",
    "  gf = \"graphframes:graphframes:0.8.3-spark3.5-s_2.12\"\n",
    "\n",
    "  configLocale = SparkConf().setAppName(appName).setMaster(local).\\\n",
    "  set(\"spark.executor.memory\", \"6G\").\\\n",
    "  set(\"spark.driver.memory\",\"6G\").\\\n",
    "  set(\"spark.sql.catalogImplementation\",\"in-memory\").\\\n",
    "  set(\"spark.jars.packages\", gf)\n",
    "\n",
    "  spark = SparkSession.builder.config(conf = configLocale).getOrCreate()\n",
    "  sc = spark.sparkContext\n",
    "  sc.setLogLevel(\"ERROR\")\n",
    "\n",
    "  spark.conf.set(\"spark.sql.autoBroadcastJoinThreshold\",\"-1\")\n",
    "\n",
    "  # Adjust the query execution environment to the size of the cluster (4 cores)\n",
    "  spark.conf.set(\"spark.sql.shuffle.partitions\",\"4\")\n",
    "  print(\"session started, its id is \", sc.applicationId)\n",
    "  return spark\n",
    "spark = start_spark()"
   ]
  },
  {
   "cell_type": "markdown",
   "metadata": {},
   "source": [
    "# Calcul en parallèle des composantes connectées pour tous les fichiers de partition"
   ]
  },
  {
   "cell_type": "code",
   "execution_count": 89,
   "metadata": {},
   "outputs": [],
   "source": [
    "def calculate_partition_components(partition_folder):\n",
    "\n",
    "    def components(partition_file) :\n",
    "        df = pd.read_parquet(partition_file)\n",
    "        g = Graph.TupleList(df[['seqID1', 'seqID2']].itertuples(index=False), directed=False)\n",
    "        connected_components = g.connected_components()\n",
    "        node_ids=[]\n",
    "        for component in connected_components:\n",
    "            node_ids.append([g.vs[node_index]['name'] for node_index in component])\n",
    "        #on trie en fonction de la taille \n",
    "        composantes_triees = sorted(node_ids, key=len, reverse=True)\n",
    "        # Créer une liste de lignes pour chaque composante\n",
    "        rows = []\n",
    "        for i, component in enumerate(composantes_triees):\n",
    "            for seqid in component:\n",
    "                rows.append((seqid , i))\n",
    "        return rows\n",
    "\n",
    "    # Schéma du DataFrame\n",
    "    schema = StructType([\n",
    "        StructField(\"file\", StringType(), False)\n",
    "    ])\n",
    "    \n",
    "    # Données à partir desquelles créer le DataFrame\n",
    "    #data = [(file,) for file in os.listdir(partition_folder)]\n",
    "    data = [(i,) for i, file in enumerate(os.listdir(partition_folder))]\n",
    "\n",
    "    # Création du DataFrame\n",
    "    df = spark.createDataFrame(data, schema).repartition(len(data))\n",
    "\n",
    "    # Enregistrer la fonction UDF\n",
    "    schema_components = StructType([\n",
    "        StructField(\"seqID\", StringType(), nullable=False),\n",
    "        StructField(\"component_id\", IntegerType(), nullable=False)\n",
    "    ])\n",
    "\n",
    "    components_udf = F.udf(components, ArrayType(schema_components))\n",
    "\n",
    "    #df_with_components = df.withColumn(\"components\", components_udf(F.concat(F.lit(partition_folder+\"/\"), df[\"file\"])))\n",
    "    df_with_components = df.withColumn(\n",
    "        \"components\",\n",
    "        components_udf(\n",
    "            F.concat(\n",
    "                F.lit(partition_folder + \"/partition_\"), \n",
    "                df[\"file\"] , \n",
    "                F.lit(\".parquet\")\n",
    "            )\n",
    "        )\n",
    "    )\n",
    "    \n",
    "    return df_with_components"
   ]
  },
  {
   "cell_type": "code",
   "execution_count": 90,
   "metadata": {},
   "outputs": [
    {
     "name": "stderr",
     "output_type": "stream",
     "text": [
      "[Stage 328:===================>                                     (1 + 2) / 3]\r"
     ]
    },
    {
     "name": "stdout",
     "output_type": "stream",
     "text": [
      "+----+--------------------+\n",
      "|file|          components|\n",
      "+----+--------------------+\n",
      "|   0|[{102674247:5, 0}...|\n",
      "|   1|[{25029626:0, 0},...|\n",
      "|   2|[{41179534:1, 0},...|\n",
      "|   3|[{116095523:2, 0}...|\n",
      "|   4|[{125640338:1, 0}...|\n",
      "|   5|[{124175704:0, 0}...|\n",
      "|   6|[{41164712:3, 0},...|\n",
      "|   7|[{138282057:0, 0}...|\n",
      "|   8|[{41137266:3, 0},...|\n",
      "|   9|[{17696323:4, 0},...|\n",
      "|  10|[{103533986:1, 0}...|\n",
      "|  11|[{142280051:4, 0}...|\n",
      "|  12|[{13373965:3, 0},...|\n",
      "|  13|[{109694874:5, 0}...|\n",
      "|  14|[{41193498:4, 0},...|\n",
      "|  15|[{107642134:1, 0}...|\n",
      "|  16|[{EukProt-v2_CAMP...|\n",
      "|  17|[{25029626:2, 0},...|\n",
      "|  18|[{116143369:3, 0}...|\n",
      "|  19|[{3130679:0, 0}, ...|\n",
      "+----+--------------------+\n",
      "\n"
     ]
    },
    {
     "name": "stderr",
     "output_type": "stream",
     "text": [
      "                                                                                \r"
     ]
    }
   ],
   "source": [
    "partition_folder = \"./local/partitionned_data/BDLE_10K\"\n",
    "df_with_components = calculate_partition_components(partition_folder)\n",
    "df_with_components.show()"
   ]
  },
  {
   "cell_type": "markdown",
   "metadata": {},
   "source": [
    "# Calcul des composantes connexes du graph complet"
   ]
  },
  {
   "cell_type": "code",
   "execution_count": 91,
   "metadata": {},
   "outputs": [],
   "source": [
    "def components_2(edges):\n",
    "    # Créer un graphe à partir des arêtes\n",
    "    g = Graph.TupleList(edges, directed=False)\n",
    "    \n",
    "    connected_components = g.connected_components()\n",
    "    node_ids=[]\n",
    "    for component in connected_components:\n",
    "        node_ids.append([g.vs[node_index]['name'] for node_index in component])\n",
    "    #on trie en fonction de la taille \n",
    "    composantes_triees = sorted(node_ids, key=len, reverse=True)\n",
    "    # Créer une liste de lignes pour chaque composante\n",
    "    rows = []\n",
    "    for i, component in enumerate(composantes_triees):\n",
    "        for seqid in component:\n",
    "            rows.append(Row(partial_component=seqid ,component=i ))\n",
    "    \n",
    "    # Créer un DataFrame Spark à partir de la liste de lignes\n",
    "    result_df = spark.createDataFrame(rows)\n",
    "    return result_df"
   ]
  },
  {
   "cell_type": "code",
   "execution_count": 93,
   "metadata": {},
   "outputs": [],
   "source": [
    "def calculate_components(folder_partition ):\n",
    "    # Claclul des composantes partielles dans chaque partition\n",
    "    df_with_components = calculate_partition_components(folder_partition)\n",
    "    df_exploded = df_with_components.select('file',  explode('components').alias('component'))\n",
    "    df_split = df_exploded.select(\"file\", col(\"component.seqID\").alias(\"seqID\"), col(\"component.component_id\").alias(\"component_id\"))\n",
    "    \n",
    "    # Ajouter une colonne d'identifiant unique basée sur le couple (file, component_id)\n",
    "    windowSpec = Window.orderBy(\"file\", \"component_id\")\n",
    "    df = df_split.withColumn(\"new_component_id\", dense_rank().over(windowSpec))\n",
    "    new_df = df.select(\"seqID\",\"new_component_id\")\n",
    "\n",
    "    # new_df = df_split.select(\n",
    "    #             'seqID',\n",
    "    #             concat(col('file'), lit(':'), col('component_id')).alias('new_component_id')\n",
    "    #         )\n",
    "    \n",
    "    #cration d'un graph ou chaque noeud est le numero d'une composante (new_graph)\n",
    "\n",
    "    components_per_node = new_df \\\n",
    "        .groupby(\"seqID\") \\\n",
    "        .agg(collect_set(\"new_component_id\").alias(\"components\")) \\\n",
    "        .withColumn(\"min_component\", array_min(\"components\"))\n",
    "\n",
    "    # components_per_node = new_df \\\n",
    "    #     .groupby(\"seqID\") \\\n",
    "    #     .agg(collect_set(\"new_component_id\").alias(\"components\")) \\\n",
    "    #     .withColumn(\"min_component\", array_min(\"components\"))\n",
    "\n",
    "\n",
    "    components_per_node_exploded = components_per_node.select('seqID', 'min_component', explode('components').alias('component'))\n",
    "    result = components_per_node_exploded.where(col(\"component\") > col(\"min_component\")).drop(\"seqID\").dropDuplicates()\n",
    "  \n",
    "    \n",
    "    new_graph = result.withColumnRenamed(\"min_component\", \"src\").withColumnRenamed(\"component\", \"dst\")\n",
    "\n",
    "    #calcul des composantes sur le nouveau graph\n",
    "    edges =new_graph.select('src', 'dst').collect() #c'est couteux --> on doit faire un repartition de 1\n",
    "    composantes_df = components_2(edges)\n",
    "\n",
    "    composantes_df_exploded = composantes_df \\\n",
    "            .groupby(\"component\") \\\n",
    "            .agg(collect_set(\"partial_component\").alias(\"partial_components\")) \\\n",
    "            .withColumn(\"min_partial_component\", array_min(\"partial_components\")) \\\n",
    "            .selectExpr(\"explode(partial_components) as partial_component\" , \"min_partial_component\")\n",
    "    \n",
    "    #resultat final en faisant une jointure gauche\n",
    "    result = components_per_node.join(composantes_df_exploded, components_per_node.min_component == composantes_df_exploded.partial_component, \"left_outer\") \\\n",
    "               .select(components_per_node.seqID, when(composantes_df_exploded.partial_component.isNull(), components_per_node.min_component).otherwise(composantes_df_exploded.min_partial_component).alias(\"new_component_id\"))\n",
    "\n",
    "\n",
    "    #ecriture du résultat dans des fichier parquet\n",
    "    file_path = f\"./local/Components/BDLE_10K\"\n",
    "    # changer le degre de paraléllisme\n",
    "    #definir le degre de paraléllisme pour les opérations groupby join ...\n",
    "    result.repartition(1).write.mode(\"overwrite\").parquet(file_path)\n",
    "    \n",
    "    return result\n"
   ]
  },
  {
   "cell_type": "markdown",
   "metadata": {},
   "source": [
    "## Calcul des composantes avec la nouvelle méthode"
   ]
  },
  {
   "cell_type": "code",
   "execution_count": 94,
   "metadata": {},
   "outputs": [
    {
     "name": "stderr",
     "output_type": "stream",
     "text": [
      "[Stage 352:>                                                        (0 + 1) / 1]\r"
     ]
    },
    {
     "name": "stdout",
     "output_type": "stream",
     "text": [
      "+-----------+----------------+\n",
      "|      seqID|new_component_id|\n",
      "+-----------+----------------+\n",
      "| 10034756:1|             716|\n",
      "|100367569:3|            1232|\n",
      "|100243206:2|            1344|\n",
      "|100366948:0|             328|\n",
      "|100250530:5|            2032|\n",
      "|100368262:0|            2088|\n",
      "|100367971:5|            1497|\n",
      "|100368246:4|            2644|\n",
      "|100218437:3|            2885|\n",
      "|100073848:2|            1971|\n",
      "|100232688:1|            4563|\n",
      "|100368018:2|            4876|\n",
      "| 10026196:2|             716|\n",
      "|100367776:2|            1483|\n",
      "|100368290:5|            2601|\n",
      "|100102421:5|            6406|\n",
      "|100265858:2|            4494|\n",
      "|100149617:5|            6825|\n",
      "|100171640:4|           10008|\n",
      "|100368089:4|             999|\n",
      "+-----------+----------------+\n",
      "only showing top 20 rows\n",
      "\n"
     ]
    },
    {
     "name": "stderr",
     "output_type": "stream",
     "text": [
      "                                                                                \r"
     ]
    }
   ],
   "source": [
    "partition_folder = \"./local/partitionned_data/BDLE_10K\"\n",
    "result = calculate_components(partition_folder)\n",
    "result.show()"
   ]
  },
  {
   "cell_type": "markdown",
   "metadata": {},
   "source": [
    "## Calcul des composantes avec grapheFrame"
   ]
  },
  {
   "cell_type": "code",
   "execution_count": 95,
   "metadata": {},
   "outputs": [],
   "source": [
    "def calculate_components_with_graphframe(folder_partition) :\n",
    "    spark.sparkContext.setCheckpointDir('./content/checkpoints')\n",
    "    #Création du data frame spark\n",
    "    df = spark.read.format(\"parquet\").option(\"compression\", \"snappy\").load(folder_partition)\n",
    "\n",
    "    vertices = df.selectExpr(\"seqID1 as id\").union(df.selectExpr(\"seqID2 as id\")).distinct()\n",
    "    edges = df.select(\"seqID1\", \"seqID2\", \"sim\").withColumnRenamed(\"seqID1\", \"src\").withColumnRenamed(\"seqID2\", \"dst\")\n",
    "\n",
    "    graph = GraphFrame(vertices, edges)\n",
    "    connected_components = graph.connectedComponents()\n",
    "\n",
    "    file_path = f\"./local/Components_with_graphframe/BDLE_10K\"\n",
    "    result.repartition(1).write.mode(\"overwrite\").parquet(file_path)\n",
    "\n",
    "    return connected_components"
   ]
  },
  {
   "cell_type": "code",
   "execution_count": 39,
   "metadata": {},
   "outputs": [
    {
     "name": "stderr",
     "output_type": "stream",
     "text": [
      "[Stage 1089:============================>                           (4 + 4) / 8]\r"
     ]
    },
    {
     "name": "stdout",
     "output_type": "stream",
     "text": [
      "+-----------+---------+\n",
      "|         id|component|\n",
      "+-----------+---------+\n",
      "|100058801:0|        0|\n",
      "|100073848:2|        1|\n",
      "|100102421:5|        2|\n",
      "|100149617:5|        3|\n",
      "|100171640:4|        4|\n",
      "|100218437:3|        5|\n",
      "|100232688:1|        6|\n",
      "|100243206:2|        7|\n",
      "|100250530:5|        8|\n",
      "| 10026196:2|        9|\n",
      "|100265858:2|       10|\n",
      "| 10034756:1|        9|\n",
      "|100366948:0|       12|\n",
      "|100367569:3|       13|\n",
      "|100367776:2|       14|\n",
      "|100367971:5|       15|\n",
      "|100368018:2|       16|\n",
      "|100368089:4|       17|\n",
      "|100368246:4|       18|\n",
      "|100368262:0|       19|\n",
      "+-----------+---------+\n",
      "only showing top 20 rows\n",
      "\n"
     ]
    },
    {
     "name": "stderr",
     "output_type": "stream",
     "text": [
      "                                                                                \r"
     ]
    }
   ],
   "source": [
    "folder_partition = \"./local/partitionned_data/BDLE_10K\"\n",
    "df = calculate_components_with_graphframe(folder_partition)\n",
    "df.show()"
   ]
  },
  {
   "cell_type": "markdown",
   "metadata": {},
   "source": [
    "# Comparaison de temps d'execution entre graphframe et la nouvelle méthode"
   ]
  },
  {
   "cell_type": "markdown",
   "metadata": {},
   "source": [
    "## Nouvelle méthode"
   ]
  },
  {
   "cell_type": "code",
   "execution_count": 96,
   "metadata": {},
   "outputs": [
    {
     "name": "stderr",
     "output_type": "stream",
     "text": [
      "[Stage 366:>                                                        (0 + 1) / 1]\r"
     ]
    },
    {
     "name": "stdout",
     "output_type": "stream",
     "text": [
      "Temps d'execution avec la nouvelle methode :  6.706066846847534\n"
     ]
    },
    {
     "name": "stderr",
     "output_type": "stream",
     "text": [
      "                                                                                \r"
     ]
    }
   ],
   "source": [
    "import time\n",
    "\n",
    "folder_partition = \"./local/partitionned_data/BDLE_10K\"\n",
    "\n",
    "start_time = time.time()\n",
    "result_df = calculate_components(folder_partition)\n",
    "end_time = time.time()\n",
    "print(\"Temps d'execution avec la nouvelle methode : \", end_time - start_time)"
   ]
  },
  {
   "cell_type": "markdown",
   "metadata": {},
   "source": [
    "## Avec graphframe"
   ]
  },
  {
   "cell_type": "code",
   "execution_count": 97,
   "metadata": {},
   "outputs": [
    {
     "name": "stderr",
     "output_type": "stream",
     "text": [
      "/home/anyes/.local/lib/python3.8/site-packages/pyspark/sql/dataframe.py:168: UserWarning: DataFrame.sql_ctx is an internal property, and will be removed in future releases. Use DataFrame.sparkSession instead.\n",
      "  warnings.warn(\n",
      "/home/anyes/.local/lib/python3.8/site-packages/pyspark/sql/dataframe.py:147: UserWarning: DataFrame constructor is internal. Do not directly use it.\n",
      "  warnings.warn(\"DataFrame constructor is internal. Do not directly use it.\")\n",
      "[Stage 994:>                                                        (0 + 1) / 1]\r"
     ]
    },
    {
     "name": "stdout",
     "output_type": "stream",
     "text": [
      "Temps d'execution avec graphframe :  55.30984425544739\n"
     ]
    },
    {
     "name": "stderr",
     "output_type": "stream",
     "text": [
      "                                                                                \r"
     ]
    }
   ],
   "source": [
    "start_time = time.time()\n",
    "result_df_with_graphframe = calculate_components_with_graphframe(folder_partition)\n",
    "end_time = time.time()\n",
    "print(\"Temps d'execution avec graphframe : \", end_time - start_time)"
   ]
  },
  {
   "cell_type": "markdown",
   "metadata": {},
   "source": [
    "# Calcul du nombre de composantes"
   ]
  },
  {
   "cell_type": "code",
   "execution_count": 99,
   "metadata": {},
   "outputs": [
    {
     "name": "stderr",
     "output_type": "stream",
     "text": [
      "[Stage 1013:>                                                       (0 + 1) / 1]\r"
     ]
    },
    {
     "name": "stdout",
     "output_type": "stream",
     "text": [
      "le nombre de composantes est 4300\n"
     ]
    },
    {
     "name": "stderr",
     "output_type": "stream",
     "text": [
      "                                                                                \r"
     ]
    }
   ],
   "source": [
    "grouped_df = result_df.groupBy('new_component_id').agg(count('*').alias('count'))\n",
    "nb_components = grouped_df.count()\n",
    "print(f\"le nombre de composantes est {nb_components}\")"
   ]
  },
  {
   "cell_type": "code",
   "execution_count": 100,
   "metadata": {},
   "outputs": [
    {
     "name": "stderr",
     "output_type": "stream",
     "text": [
      "[Stage 1032:===================================>                    (5 + 3) / 8]\r"
     ]
    },
    {
     "name": "stdout",
     "output_type": "stream",
     "text": [
      "le nombre de composantes est 4300\n"
     ]
    },
    {
     "name": "stderr",
     "output_type": "stream",
     "text": [
      "                                                                                \r"
     ]
    }
   ],
   "source": [
    "grouped_df_with_graphframe = result_df_with_graphframe.groupBy('component').agg(count('*').alias('count'))\n",
    "nb_components_with_graphframe = grouped_df_with_graphframe.count()\n",
    "print(f\"le nombre de composantes est {nb_components_with_graphframe}\")"
   ]
  },
  {
   "cell_type": "markdown",
   "metadata": {},
   "source": [
    "# TEST de notre methode sur un exemple simple"
   ]
  },
  {
   "cell_type": "code",
   "execution_count": 101,
   "metadata": {},
   "outputs": [],
   "source": [
    "import matplotlib.pyplot as plt\n",
    "import networkx as nx"
   ]
  },
  {
   "cell_type": "code",
   "execution_count": 117,
   "metadata": {},
   "outputs": [],
   "source": [
    "import glob\n",
    "\n",
    "folder_path = f\"./Graph_test/\"\n",
    "# Lire tous les fichiers Parquet dans une liste de DataFrames\n",
    "dfs = [pd.read_parquet(fichier) for fichier in glob.glob(folder_path + '*.parquet')]\n",
    "\n",
    "# Concaténer les DataFrames en un seul DataFrame\n",
    "df = pd.concat(dfs, ignore_index=True)"
   ]
  },
  {
   "cell_type": "code",
   "execution_count": 109,
   "metadata": {},
   "outputs": [
    {
     "name": "stderr",
     "output_type": "stream",
     "text": [
      "/home/anyes/.local/lib/python3.8/site-packages/networkx/drawing/nx_pylab.py:304: UserWarning: \n",
      "\n",
      "The arrowsize keyword argument is not applicable when drawing edges\n",
      "with LineCollection.\n",
      "\n",
      "To make this warning go away, either specify `arrows=True` to\n",
      "force FancyArrowPatches or use the default value for arrowsize.\n",
      "Note that using FancyArrowPatches may be slow for large graphs.\n",
      "\n",
      "  draw_networkx_edges(G, pos, arrows=arrows, **edge_kwds)\n"
     ]
    },
    {
     "data": {
      "image/png": "[encoded data removed]",
      "text/plain": [
       "<Figure size 800x600 with 1 Axes>"
      ]
     },
     "metadata": {},
     "output_type": "display_data"
    }
   ],
   "source": [
    "nx_graph = nx.from_pandas_edgelist(df, 'seqID1', 'seqID2')\n",
    "\n",
    "# Créer un tracé du graphe\n",
    "plt.figure(figsize=(8, 6))\n",
    "nx.draw(nx_graph, with_labels=True, node_size=500, node_color='skyblue', font_size=12, font_weight='bold', arrowsize=20)\n",
    "plt.title(\"Graph Plot\")\n",
    "plt.show()"
   ]
  },
  {
   "cell_type": "markdown",
   "metadata": {},
   "source": [
    "## Partionnement en 3 partitions"
   ]
  },
  {
   "cell_type": "code",
   "execution_count": 118,
   "metadata": {},
   "outputs": [
    {
     "data": {
      "text/html": [
       "<div>\n",
       "<style scoped>\n",
       "    .dataframe tbody tr th:only-of-type {\n",
       "        vertical-align: middle;\n",
       "    }\n",
       "\n",
       "    .dataframe tbody tr th {\n",
       "        vertical-align: top;\n",
       "    }\n",
       "\n",
       "    .dataframe thead th {\n",
       "        text-align: right;\n",
       "    }\n",
       "</style>\n",
       "<table border=\"1\" class=\"dataframe\">\n",
       "  <thead>\n",
       "    <tr style=\"text-align: right;\">\n",
       "      <th></th>\n",
       "      <th>seqID1</th>\n",
       "      <th>seqID2</th>\n",
       "      <th>partition</th>\n",
       "    </tr>\n",
       "  </thead>\n",
       "  <tbody>\n",
       "    <tr>\n",
       "      <th>0</th>\n",
       "      <td>3</td>\n",
       "      <td>0</td>\n",
       "      <td>0</td>\n",
       "    </tr>\n",
       "    <tr>\n",
       "      <th>1</th>\n",
       "      <td>3</td>\n",
       "      <td>6</td>\n",
       "      <td>0</td>\n",
       "    </tr>\n",
       "    <tr>\n",
       "      <th>2</th>\n",
       "      <td>0</td>\n",
       "      <td>1</td>\n",
       "      <td>0</td>\n",
       "    </tr>\n",
       "    <tr>\n",
       "      <th>3</th>\n",
       "      <td>1</td>\n",
       "      <td>4</td>\n",
       "      <td>1</td>\n",
       "    </tr>\n",
       "    <tr>\n",
       "      <th>4</th>\n",
       "      <td>13</td>\n",
       "      <td>16</td>\n",
       "      <td>1</td>\n",
       "    </tr>\n",
       "    <tr>\n",
       "      <th>5</th>\n",
       "      <td>16</td>\n",
       "      <td>19</td>\n",
       "      <td>1</td>\n",
       "    </tr>\n",
       "    <tr>\n",
       "      <th>6</th>\n",
       "      <td>15</td>\n",
       "      <td>12</td>\n",
       "      <td>0</td>\n",
       "    </tr>\n",
       "    <tr>\n",
       "      <th>7</th>\n",
       "      <td>9</td>\n",
       "      <td>12</td>\n",
       "      <td>0</td>\n",
       "    </tr>\n",
       "    <tr>\n",
       "      <th>8</th>\n",
       "      <td>18</td>\n",
       "      <td>12</td>\n",
       "      <td>0</td>\n",
       "    </tr>\n",
       "    <tr>\n",
       "      <th>9</th>\n",
       "      <td>12</td>\n",
       "      <td>10</td>\n",
       "      <td>0</td>\n",
       "    </tr>\n",
       "    <tr>\n",
       "      <th>10</th>\n",
       "      <td>10</td>\n",
       "      <td>7</td>\n",
       "      <td>1</td>\n",
       "    </tr>\n",
       "    <tr>\n",
       "      <th>11</th>\n",
       "      <td>12</td>\n",
       "      <td>20</td>\n",
       "      <td>0</td>\n",
       "    </tr>\n",
       "    <tr>\n",
       "      <th>12</th>\n",
       "      <td>20</td>\n",
       "      <td>23</td>\n",
       "      <td>2</td>\n",
       "    </tr>\n",
       "    <tr>\n",
       "      <th>13</th>\n",
       "      <td>21</td>\n",
       "      <td>26</td>\n",
       "      <td>0</td>\n",
       "    </tr>\n",
       "    <tr>\n",
       "      <th>14</th>\n",
       "      <td>26</td>\n",
       "      <td>17</td>\n",
       "      <td>2</td>\n",
       "    </tr>\n",
       "    <tr>\n",
       "      <th>15</th>\n",
       "      <td>14</td>\n",
       "      <td>11</td>\n",
       "      <td>2</td>\n",
       "    </tr>\n",
       "    <tr>\n",
       "      <th>16</th>\n",
       "      <td>11</td>\n",
       "      <td>5</td>\n",
       "      <td>2</td>\n",
       "    </tr>\n",
       "    <tr>\n",
       "      <th>17</th>\n",
       "      <td>5</td>\n",
       "      <td>2</td>\n",
       "      <td>2</td>\n",
       "    </tr>\n",
       "    <tr>\n",
       "      <th>18</th>\n",
       "      <td>2</td>\n",
       "      <td>8</td>\n",
       "      <td>2</td>\n",
       "    </tr>\n",
       "  </tbody>\n",
       "</table>\n",
       "</div>"
      ],
      "text/plain": [
       "    seqID1  seqID2  partition\n",
       "0        3       0          0\n",
       "1        3       6          0\n",
       "2        0       1          0\n",
       "3        1       4          1\n",
       "4       13      16          1\n",
       "5       16      19          1\n",
       "6       15      12          0\n",
       "7        9      12          0\n",
       "8       18      12          0\n",
       "9       12      10          0\n",
       "10      10       7          1\n",
       "11      12      20          0\n",
       "12      20      23          2\n",
       "13      21      26          0\n",
       "14      26      17          2\n",
       "15      14      11          2\n",
       "16      11       5          2\n",
       "17       5       2          2\n",
       "18       2       8          2"
      ]
     },
     "execution_count": 118,
     "metadata": {},
     "output_type": "execute_result"
    }
   ],
   "source": [
    "# Nombre de partitions\n",
    "num_partitions = 3\n",
    "\n",
    "# Ajout d'une nouvelle colonne 'partition' basée sur le modulo de seqID1\n",
    "df['partition'] = df['seqID1'].apply(lambda x: x % num_partitions)\n",
    "\n",
    "# Afficher le DataFrame partitionné\n",
    "df"
   ]
  },
  {
   "cell_type": "code",
   "execution_count": 119,
   "metadata": {},
   "outputs": [
    {
     "data": {
      "text/html": [
       "<div>\n",
       "<style scoped>\n",
       "    .dataframe tbody tr th:only-of-type {\n",
       "        vertical-align: middle;\n",
       "    }\n",
       "\n",
       "    .dataframe tbody tr th {\n",
       "        vertical-align: top;\n",
       "    }\n",
       "\n",
       "    .dataframe thead th {\n",
       "        text-align: right;\n",
       "    }\n",
       "</style>\n",
       "<table border=\"1\" class=\"dataframe\">\n",
       "  <thead>\n",
       "    <tr style=\"text-align: right;\">\n",
       "      <th></th>\n",
       "      <th>partition</th>\n",
       "      <th>count</th>\n",
       "    </tr>\n",
       "  </thead>\n",
       "  <tbody>\n",
       "    <tr>\n",
       "      <th>0</th>\n",
       "      <td>0</td>\n",
       "      <td>9</td>\n",
       "    </tr>\n",
       "    <tr>\n",
       "      <th>1</th>\n",
       "      <td>1</td>\n",
       "      <td>4</td>\n",
       "    </tr>\n",
       "    <tr>\n",
       "      <th>2</th>\n",
       "      <td>2</td>\n",
       "      <td>6</td>\n",
       "    </tr>\n",
       "  </tbody>\n",
       "</table>\n",
       "</div>"
      ],
      "text/plain": [
       "   partition  count\n",
       "0          0      9\n",
       "1          1      4\n",
       "2          2      6"
      ]
     },
     "execution_count": 119,
     "metadata": {},
     "output_type": "execute_result"
    }
   ],
   "source": [
    "partition_freq = df.groupby('partition').size().reset_index(name='count')\n",
    "\n",
    "# Afficher la fréquence de partition\n",
    "partition_freq"
   ]
  },
  {
   "cell_type": "code",
   "execution_count": 120,
   "metadata": {},
   "outputs": [
    {
     "name": "stderr",
     "output_type": "stream",
     "text": [
      "/home/anyes/.local/lib/python3.8/site-packages/networkx/drawing/nx_pylab.py:304: UserWarning: \n",
      "\n",
      "The arrowsize keyword argument is not applicable when drawing edges\n",
      "with LineCollection.\n",
      "\n",
      "To make this warning go away, either specify `arrows=True` to\n",
      "force FancyArrowPatches or use the default value for arrowsize.\n",
      "Note that using FancyArrowPatches may be slow for large graphs.\n",
      "\n",
      "  draw_networkx_edges(G, pos, arrows=arrows, **edge_kwds)\n"
     ]
    },
    {
     "data": {
      "image/png": "[encoded data removed]",
      "text/plain": [
       "<Figure size 800x600 with 1 Axes>"
      ]
     },
     "metadata": {},
     "output_type": "display_data"
    },
    {
     "data": {
      "image/png": "[encoded data removed]",
      "text/plain": [
       "<Figure size 800x600 with 1 Axes>"
      ]
     },
     "metadata": {},
     "output_type": "display_data"
    },
    {
     "data": {
      "image/png": "[encoded data removed]",
      "text/plain": [
       "<Figure size 800x600 with 1 Axes>"
      ]
     },
     "metadata": {},
     "output_type": "display_data"
    }
   ],
   "source": [
    "partitions = partition_freq['partition'].unique()\n",
    "for partition in partitions:\n",
    "    df_partition = df[df['partition'] == partition]\n",
    "\n",
    "    nx_graph = nx.from_pandas_edgelist(df_partition, 'seqID1', 'seqID2')\n",
    "    # Créer un tracé du graphe\n",
    "    plt.figure(figsize=(8, 6))\n",
    "    nx.draw(nx_graph, with_labels=True, node_size=800, node_color='skyblue', font_size=12, font_weight='bold', arrowsize=20)\n",
    "    plt.title(\"Graph Plot\")\n",
    "    plt.show()\n",
    "\n",
    "\n",
    "    file_path = f\"./partitionned_Graph_test/partition_{partition}.parquet\"\n",
    "    df_partition.to_parquet(file_path, index=False, engine='pyarrow')"
   ]
  },
  {
   "cell_type": "code",
   "execution_count": 122,
   "metadata": {},
   "outputs": [
    {
     "name": "stderr",
     "output_type": "stream",
     "text": [
      "                                                                                \r"
     ]
    },
    {
     "name": "stdout",
     "output_type": "stream",
     "text": [
      "+-----+----------------+\n",
      "|seqID|new_component_id|\n",
      "+-----+----------------+\n",
      "|   15|               1|\n",
      "|   12|               1|\n",
      "|    9|               1|\n",
      "|   18|               1|\n",
      "|   10|               1|\n",
      "|   20|               1|\n",
      "|    3|               2|\n",
      "|    0|               2|\n",
      "|    6|               2|\n",
      "|    1|               2|\n",
      "|   21|               3|\n",
      "|   26|               3|\n",
      "|   13|               4|\n",
      "|   16|               4|\n",
      "|   19|               4|\n",
      "|    4|               2|\n",
      "|    7|               1|\n",
      "|   14|               7|\n",
      "|   11|               7|\n",
      "|    5|               7|\n",
      "|    2|               7|\n",
      "|    8|               7|\n",
      "|   23|               1|\n",
      "|   17|               3|\n",
      "+-----+----------------+\n",
      "\n"
     ]
    }
   ],
   "source": [
    "partition_folder = \"./partitionned_Graph_test\"\n",
    "df_with_components = calculate_components(partition_folder)\n",
    "df_with_components.show(24)"
   ]
  }
 ],
 "metadata": {
  "kernelspec": {
   "display_name": "Python 3",
   "language": "python",
   "name": "python3"
  },
  "language_info": {
   "codemirror_mode": {
    "name": "ipython",
    "version": 3
   },
   "file_extension": ".py",
   "mimetype": "text/x-python",
   "name": "python",
   "nbconvert_exporter": "python",
   "pygments_lexer": "ipython3",
   "version": "3.8.10"
  }
 },
 "nbformat": 4,
 "nbformat_minor": 2
}

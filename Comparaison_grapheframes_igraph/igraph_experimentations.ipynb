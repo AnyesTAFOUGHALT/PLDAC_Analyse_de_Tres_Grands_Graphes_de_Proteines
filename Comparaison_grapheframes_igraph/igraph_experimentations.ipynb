{
 "cells": [
  {
   "cell_type": "markdown",
   "metadata": {},
   "source": [
    "### Installations et configurations :"
   ]
  },
  {
   "cell_type": "code",
   "execution_count": 1,
   "metadata": {},
   "outputs": [],
   "source": [
    "!pip install -q graphframes"
   ]
  },
  {
   "cell_type": "code",
   "execution_count": 1,
   "metadata": {},
   "outputs": [],
   "source": [
    "import igraph as ig\n",
    "import os\n",
    "# # !find /usr/local -name \"pyspark\"\n",
    "os.environ[\"SPARK_HOME\"] = \"/home/djeghali/spark\"\n",
    "os.environ[\"JAVA_HOME\"] = \"/usr\"\n"
   ]
  },
  {
   "cell_type": "markdown",
   "metadata": {},
   "source": [
    "### Ouverture d'une session spark :"
   ]
  },
  {
   "cell_type": "code",
   "execution_count": 2,
   "metadata": {},
   "outputs": [
    {
     "name": "stdout",
     "output_type": "stream",
     "text": [
      "session started, its id is  local-1707224357882\n"
     ]
    }
   ],
   "source": [
    "# Main imports\n",
    "import findspark\n",
    "from pyspark.sql import SparkSession\n",
    "from pyspark import SparkConf\n",
    "\n",
    "# for dataframe and udf\n",
    "from pyspark.sql import *\n",
    "from pyspark.sql.functions import *\n",
    "from pyspark.sql.types import *\n",
    "from datetime import *\n",
    "\n",
    "import pandas as pd\n",
    "\n",
    "\n",
    "# initialise environment variables for spark\n",
    "findspark.init()\n",
    "\n",
    "# Start spark session\n",
    "# --------------------------\n",
    "def start_spark():\n",
    "  local = \"local[*]\"\n",
    "  appName = \"TP\"\n",
    "\n",
    "  gf = \"graphframes:graphframes:0.8.3-spark3.5-s_2.12\"\n",
    "\n",
    "  configLocale = SparkConf().setAppName(appName).setMaster(local).\\\n",
    "  set(\"spark.executor.memory\", \"6G\").\\\n",
    "  set(\"spark.driver.memory\",\"6G\").\\\n",
    "  set(\"spark.sql.catalogImplementation\",\"in-memory\").\\\n",
    "  set(\"spark.jars.packages\", gf)\n",
    "\n",
    "  spark = SparkSession.builder.config(conf = configLocale).getOrCreate()\n",
    "  sc = spark.sparkContext\n",
    "  sc.setLogLevel(\"ERROR\")\n",
    "\n",
    "  spark.conf.set(\"spark.sql.autoBroadcastJoinThreshold\",\"-1\")\n",
    "\n",
    "  # Adjust the query execution environment to the size of the cluster (4 cores)\n",
    "  spark.conf.set(\"spark.sql.shuffle.partitions\",\"4\")\n",
    "  print(\"session started, its id is \", sc.applicationId)\n",
    "  return spark\n",
    "spark = start_spark()\n"
   ]
  },
  {
   "cell_type": "markdown",
   "metadata": {},
   "source": [
    "### Lectures des fichiers : "
   ]
  },
  {
   "cell_type": "code",
   "execution_count": 3,
   "metadata": {},
   "outputs": [],
   "source": [
    "\n",
    "#Import GraphFrames\n",
    "from graphframes import GraphFrame\n",
    "from graphframes.lib import AggregateMessages as AM\n",
    "# from graphframes.lib import Pregel\n",
    "\n",
    "#For connectedComponents()\n",
    "# !pwd\n",
    "# !mkdir -p /content/checkpoints\n",
    "# spark.sparkContext.setCheckpointDir('/content/checkpoints')\n",
    "\n",
    "#Import networkx\n",
    "import matplotlib as mpl\n",
    "import matplotlib.pyplot as plt\n",
    "import networkx as nx\n",
    "\n",
    "\n",
    "# Initialisez une session Spark\n",
    "spark = SparkSession.builder.appName(\"LectureParquet\").getOrCreate()\n",
    "# Chemin vers le fichier Parquet compressé avec Snappy\n",
    "parquet_file_10K = \"local/data/BDLE_10K/*.snappy.parquet\"\n",
    "parquet_file_1M = \"local/data/BDLE_1M/*.snappy.parquet\"\n",
    "\n",
    "# Lisez le fichier Parquet dans un DataFrame PySpark\n",
    "data_10K = spark.read.format(\"parquet\").option(\"compression\", \"snappy\").load(parquet_file_10K)\n",
    "data_1M = spark.read.format(\"parquet\").option(\"compression\", \"snappy\").load(parquet_file_1M)\n",
    "\n",
    "\n",
    "\n"
   ]
  },
  {
   "cell_type": "code",
   "execution_count": 4,
   "metadata": {},
   "outputs": [
    {
     "name": "stdout",
     "output_type": "stream",
     "text": [
      "+-----------+-----------+-----+\n",
      "|     seqID1|     seqID2|  sim|\n",
      "+-----------+-----------+-----+\n",
      "|117761605:5|152890023:5| 97.8|\n",
      "|152904885:3|155591878:2| 88.5|\n",
      "|152887848:4|153682181:0|100.0|\n",
      "|152937692:5| 80009514:2| 82.3|\n",
      "|152990923:2|154549183:4| 98.0|\n",
      "|152867782:1|153171917:1| 83.1|\n",
      "| 15111981:2|153137370:1|100.0|\n",
      "|152794195:0| 15280704:2| 96.9|\n",
      "| 62963742:1| 63783418:5| 98.4|\n",
      "|152170568:3|153062631:2| 97.6|\n",
      "|152904832:4|154500443:5| 98.6|\n",
      "|152745429:3| 22988511:2|100.0|\n",
      "|153161980:3|154256473:0|100.0|\n",
      "|152903373:4|154426964:5| 80.4|\n",
      "|146010871:1|158434400:4| 98.7|\n",
      "|153040013:0|156563807:1| 96.5|\n",
      "|152933621:4|157634534:2| 96.8|\n",
      "|153141720:0|155282497:0| 93.2|\n",
      "|153082115:5|153887336:3| 90.0|\n",
      "|153025447:3|155660759:1| 97.4|\n",
      "+-----------+-----------+-----+\n",
      "only showing top 20 rows\n",
      "\n",
      "Nombre de tuples dans les données de taille 10K  :  20842\n"
     ]
    }
   ],
   "source": [
    "# Affichez le contenu du DataFrame\n",
    "data_10K.show()\n",
    "print(\"Nombre de tuples dans les données de taille 10K  : \",data_10K.count())"
   ]
  },
  {
   "cell_type": "code",
   "execution_count": 5,
   "metadata": {},
   "outputs": [
    {
     "name": "stdout",
     "output_type": "stream",
     "text": [
      "+--------------------+--------------------+-----+\n",
      "|              seqID1|              seqID2|  sim|\n",
      "+--------------------+--------------------+-----+\n",
      "|          28266027:2|          30697475:4|100.0|\n",
      "|         141099253:1|         142374057:2| 87.8|\n",
      "|         100479579:0|          23509310:0| 83.9|\n",
      "|         113579361:3|         114583521:5|100.0|\n",
      "|         127898390:3|         142186630:2|100.0|\n",
      "|          19430332:0|          78781103:4| 85.4|\n",
      "|         141834541:2|         145255331:5|100.0|\n",
      "|         103259805:4|          58392840:4| 83.3|\n",
      "|         122611397:5|         143667719:3|100.0|\n",
      "|          23535857:4|           4695744:1| 95.8|\n",
      "|          41064011:0|          58827273:4|100.0|\n",
      "|         107823489:0|         107855124:4| 85.1|\n",
      "|METdb_00146-1-DN1...|METdb_00154-1-DN1...| 92.6|\n",
      "|         156037355:1|         157677656:3| 88.9|\n",
      "|          36873489:1|          89199423:1| 93.1|\n",
      "|         119223634:3|         119895769:4| 88.7|\n",
      "|         126499401:5|         140644518:1|100.0|\n",
      "|         102837135:1|          92635480:5| 92.7|\n",
      "|          86428924:0|          96248458:3| 87.0|\n",
      "|TARA_MED_95_MAG_0...|TARA_MED_95_MAG_0...|100.0|\n",
      "+--------------------+--------------------+-----+\n",
      "only showing top 20 rows\n",
      "\n",
      "Nombre de tuples dans les données de taille 1M :  1768595\n"
     ]
    }
   ],
   "source": [
    "# Affichez le contenu du DataFrame 1M\n",
    "data_1M.show()\n",
    "print(\"Nombre de tuples dans les données de taille 1M : \",data_1M.count())"
   ]
  },
  {
   "cell_type": "markdown",
   "metadata": {},
   "source": [
    "### Créations des igraphes :"
   ]
  },
  {
   "cell_type": "code",
   "execution_count": 6,
   "metadata": {},
   "outputs": [],
   "source": [
    "# On converti en dataframe pandas :\n",
    "data_10K = data_10K.toPandas()\n",
    "data_1M = data_1M.toPandas()"
   ]
  },
  {
   "cell_type": "markdown",
   "metadata": {},
   "source": [
    "-   Génération des igraphes : "
   ]
  },
  {
   "cell_type": "code",
   "execution_count": 7,
   "metadata": {},
   "outputs": [],
   "source": [
    "# Créarion d'un graphe  à partir des données lues :\n",
    "data_10K_ig_graph = ig.Graph.TupleList(data_10K[['seqID1', 'seqID2']].itertuples(index=False), directed=False)\n",
    "data_1M_ig_graph = ig.Graph.TupleList(data_1M[['seqID1', 'seqID2']].itertuples(index=False), directed=False)\n"
   ]
  },
  {
   "cell_type": "markdown",
   "metadata": {},
   "source": [
    "-   Calcule du temps de calcule des composantes connexes : "
   ]
  },
  {
   "cell_type": "markdown",
   "metadata": {},
   "source": [
    "    -   Data 10 K : "
   ]
  },
  {
   "cell_type": "code",
   "execution_count": 174,
   "metadata": {},
   "outputs": [
    {
     "name": "stdout",
     "output_type": "stream",
     "text": [
      "Temps d'exécution : 0.007563591003417969 secondes\n"
     ]
    }
   ],
   "source": [
    "from time import time\n",
    "\n",
    "def calcul_composantes(g):\n",
    "    # Code du premier programme\n",
    "    return g.components()\n",
    "\n",
    "\n",
    "start_time = time()\n",
    "\n",
    "# Calculer les composantes connexes\n",
    "calcul_composantes(data_10K_ig_graph)\n",
    "\n",
    "end_time = time()\n",
    "\n",
    "# Afficher le temps d'exécution\n",
    "execution_time_10K = end_time - start_time\n",
    "\n",
    "print(\"Temps d'exécution :\", execution_time_10K, \"secondes\")\n"
   ]
  },
  {
   "cell_type": "markdown",
   "metadata": {},
   "source": [
    "    -   Data 1 M : "
   ]
  },
  {
   "cell_type": "code",
   "execution_count": 141,
   "metadata": {},
   "outputs": [
    {
     "name": "stdout",
     "output_type": "stream",
     "text": [
      "Temps d'exécution : 0.6879611015319824 secondes\n"
     ]
    }
   ],
   "source": [
    "\n",
    "start_time = time()\n",
    "\n",
    "# Calculer les composantes connexes\n",
    "calcul_composantes(data_1M_ig_graph)\n",
    "\n",
    "# Afficher le temps d'exécution\n",
    "end_time = time()\n",
    "execution_time_1M = end_time - start_time\n",
    "\n",
    "print(\"Temps d'exécution :\", execution_time_1M, \"secondes\")\n"
   ]
  },
  {
   "cell_type": "markdown",
   "metadata": {},
   "source": [
    "### Vérification du multiprocessing de igraphe :\n"
   ]
  },
  {
   "cell_type": "code",
   "execution_count": 227,
   "metadata": {},
   "outputs": [
    {
     "name": "stdout",
     "output_type": "stream",
     "text": [
      "Temps d'exécution paralèlle : 0.09178948402404785 secondes\n",
      "Temps d'exécution paralèlle : 0.1115109920501709 secondes\n"
     ]
    }
   ],
   "source": [
    "import multiprocessing\n",
    "from igraph import Graph\n",
    "import multiprocessing\n",
    "\n",
    "\n",
    "# Calculer les composantes connexes\n",
    "# Créer deux processus pour exécuter les deux programmes en parallèle\n",
    "    \n",
    "p1 = multiprocessing.Process(target=calcul_composantes, args=(data_10K_ig_graph,))\n",
    "p2 = multiprocessing.Process(target=calcul_composantes, args=(data_10K_ig_graph,))\n",
    "\n",
    "start_time = time.time()\n",
    "\n",
    "# Démarrer les deux processus\n",
    "p1.start()\n",
    "p2.start()\n",
    "\n",
    "# Attendre que les deux processus se terminent\n",
    "p1.join()\n",
    "end_time = time.time()\n",
    "execution_time_2proccessus = end_time - start_time\n",
    "\n",
    "print(\"Temps d'exécution paralèlle :\", execution_time_2proccessus, \"secondes\")\n",
    "\n",
    "p2.join()\n",
    "\n",
    "# Afficher le temps d'exécution\n",
    "end_time = time.time()\n",
    "execution_time_2proccessus = end_time - start_time\n",
    "\n",
    "print(\"Temps d'exécution paralèlle :\", execution_time_2proccessus, \"secondes\")\n"
   ]
  },
  {
   "cell_type": "markdown",
   "metadata": {},
   "source": [
    "On remarque le temps d'éxécution totoal est presque égale au temps d'éxécution de la tache 1 , l'éxécution a bien eu lieu de manière parallèle"
   ]
  },
  {
   "cell_type": "markdown",
   "metadata": {},
   "source": [
    "### Extraction de sous graphes avec seuilage sur les arcs (similarité égale à 100% ):"
   ]
  },
  {
   "cell_type": "markdown",
   "metadata": {},
   "source": [
    "#### Sur des données de taille 10K:"
   ]
  },
  {
   "cell_type": "markdown",
   "metadata": {},
   "source": [
    "        -   Seuillage : "
   ]
  },
  {
   "cell_type": "code",
   "execution_count": 12,
   "metadata": {},
   "outputs": [],
   "source": [
    "# Fonction pour filtrer les arêtes ayant une similarité de 100\n",
    "def filter_edges(edge):\n",
    "    index = edge.index  # Récupérer l'indice de l'arête dans le DataFrame d'origine\n",
    "    similarity = data_10K.loc[index, 'sim']  # Récupérer la similarité de l'arête\n",
    "    return similarity == 100\n",
    "\n",
    "# Filtrer les arêtes\n",
    "filtered_edges = data_10K_ig_graph.es.select(filter_edges)\n",
    "\n",
    "# Créer un nouveau graphe contenant uniquement les arêtes filtrées\n",
    "filtered_10K_edges_100 = filtered_edges.subgraph()\n"
   ]
  },
  {
   "cell_type": "code",
   "execution_count": 13,
   "metadata": {},
   "outputs": [
    {
     "name": "stdout",
     "output_type": "stream",
     "text": [
      "Nombre de tuples dans les données de taille 10K après séléction que des arcs de sim = 100 :  4054\n"
     ]
    }
   ],
   "source": [
    "# Affichez le contenu du DataFrame 1M\n",
    "print(\"Nombre de tuples dans les données de taille 10K après séléction que des arcs de sim = 100 : \",filtered_10K_edges_100.ecount())"
   ]
  },
  {
   "cell_type": "markdown",
   "metadata": {},
   "source": [
    "    -   Temps d'éxécution pour la détection des composantes connexes sur le graphe reduit :"
   ]
  },
  {
   "cell_type": "code",
   "execution_count": 14,
   "metadata": {},
   "outputs": [
    {
     "name": "stdout",
     "output_type": "stream",
     "text": [
      "Temps d'exécution : 0.048300981521606445 secondes\n"
     ]
    }
   ],
   "source": [
    "start_time = time()\n",
    "\n",
    "# Calculer les composantes connexes\n",
    "components = filtered_10K_edges_100.components()\n",
    "\n",
    "# Afficher les composantes connexes\n",
    "# print(\"Composantes connexes :\", components)\n",
    "\n",
    "# Afficher le temps d'exécution\n",
    "end_time = time()\n",
    "execution_time_10K = end_time - start_time\n",
    "\n",
    "print(\"Temps d'exécution :\", execution_time_10K, \"secondes\")"
   ]
  },
  {
   "cell_type": "markdown",
   "metadata": {},
   "source": [
    "    -   AFfichage de la plus grande composante connexe du graphe de taille 10 K:"
   ]
  },
  {
   "cell_type": "code",
   "execution_count": 231,
   "metadata": {},
   "outputs": [
    {
     "name": "stdout",
     "output_type": "stream",
     "text": [
      "(20,)\n"
     ]
    },
    {
     "data": {
      "image/svg+xml": [
       "<?xml version=\"1.0\" encoding=\"UTF-8\"?>\n",
       "<svg xmlns=\"http://www.w3.org/2000/svg\" xmlns:xlink=\"http://www.w3.org/1999/xlink\" width=\"600pt\" height=\"600pt\" viewBox=\"0 0 600 600\" version=\"1.1\">\n",
       "<g id=\"surface2\">\n",
       "<rect x=\"0\" y=\"0\" width=\"600\" height=\"600\" style=\"fill:rgb(100%,100%,100%);fill-opacity:1;stroke:none;\"/>\n",
       "<path style=\"fill:none;stroke-width:1;stroke-linecap:butt;stroke-linejoin:miter;stroke:rgb(26.666667%,26.666667%,26.666667%);stroke-opacity:1;stroke-miterlimit:10;\" d=\"M 531.992188 425.449219 L 423.421875 548.996094 \"/>\n",
       "<path style=\"fill:none;stroke-width:1;stroke-linecap:butt;stroke-linejoin:miter;stroke:rgb(26.666667%,26.666667%,26.666667%);stroke-opacity:1;stroke-miterlimit:10;\" d=\"M 128.640625 280.996094 L 50.035156 451.996094 \"/>\n",
       "<path style=\"fill:none;stroke-width:1;stroke-linecap:butt;stroke-linejoin:miter;stroke:rgb(26.666667%,26.666667%,26.666667%);stroke-opacity:1;stroke-miterlimit:10;\" d=\"M 531.992188 425.449219 L 488 330.046875 \"/>\n",
       "<path style=\"fill:none;stroke-width:1;stroke-linecap:butt;stroke-linejoin:miter;stroke:rgb(26.666667%,26.666667%,26.666667%);stroke-opacity:1;stroke-miterlimit:10;\" d=\"M 423.421875 548.996094 L 488 330.046875 \"/>\n",
       "<path style=\"fill:none;stroke-width:1;stroke-linecap:butt;stroke-linejoin:miter;stroke:rgb(26.666667%,26.666667%,26.666667%);stroke-opacity:1;stroke-miterlimit:10;\" d=\"M 531.992188 425.449219 L 460.023438 436.441406 \"/>\n",
       "<path style=\"fill:none;stroke-width:1;stroke-linecap:butt;stroke-linejoin:miter;stroke:rgb(26.666667%,26.666667%,26.666667%);stroke-opacity:1;stroke-miterlimit:10;\" d=\"M 423.421875 548.996094 L 460.023438 436.441406 \"/>\n",
       "<path style=\"fill:none;stroke-width:1;stroke-linecap:butt;stroke-linejoin:miter;stroke:rgb(26.666667%,26.666667%,26.666667%);stroke-opacity:1;stroke-miterlimit:10;\" d=\"M 488 330.046875 L 460.023438 436.441406 \"/>\n",
       "<path style=\"fill:none;stroke-width:1;stroke-linecap:butt;stroke-linejoin:miter;stroke:rgb(26.666667%,26.666667%,26.666667%);stroke-opacity:1;stroke-miterlimit:10;\" d=\"M 128.640625 280.996094 L 72.144531 248.71875 \"/>\n",
       "<path style=\"fill:none;stroke-width:1;stroke-linecap:butt;stroke-linejoin:miter;stroke:rgb(26.666667%,26.666667%,26.666667%);stroke-opacity:1;stroke-miterlimit:10;\" d=\"M 50.035156 451.996094 L 72.144531 248.71875 \"/>\n",
       "<path style=\"fill:none;stroke-width:1;stroke-linecap:butt;stroke-linejoin:miter;stroke:rgb(26.666667%,26.666667%,26.666667%);stroke-opacity:1;stroke-miterlimit:10;\" d=\"M 128.640625 280.996094 L 26.441406 93.464844 \"/>\n",
       "<path style=\"fill:none;stroke-width:1;stroke-linecap:butt;stroke-linejoin:miter;stroke:rgb(26.666667%,26.666667%,26.666667%);stroke-opacity:1;stroke-miterlimit:10;\" d=\"M 72.144531 248.71875 L 26.441406 93.464844 \"/>\n",
       "<path style=\"fill:none;stroke-width:1;stroke-linecap:butt;stroke-linejoin:miter;stroke:rgb(26.666667%,26.666667%,26.666667%);stroke-opacity:1;stroke-miterlimit:10;\" d=\"M 128.640625 280.996094 L 75.820312 100.441406 \"/>\n",
       "<path style=\"fill:none;stroke-width:1;stroke-linecap:butt;stroke-linejoin:miter;stroke:rgb(26.666667%,26.666667%,26.666667%);stroke-opacity:1;stroke-miterlimit:10;\" d=\"M 72.144531 248.71875 L 75.820312 100.441406 \"/>\n",
       "<path style=\"fill:none;stroke-width:1;stroke-linecap:butt;stroke-linejoin:miter;stroke:rgb(26.666667%,26.666667%,26.666667%);stroke-opacity:1;stroke-miterlimit:10;\" d=\"M 26.441406 93.464844 L 75.820312 100.441406 \"/>\n",
       "<path style=\"fill:none;stroke-width:1;stroke-linecap:butt;stroke-linejoin:miter;stroke:rgb(26.666667%,26.666667%,26.666667%);stroke-opacity:1;stroke-miterlimit:10;\" d=\"M 531.992188 425.449219 L 420.96875 313.445312 \"/>\n",
       "<path style=\"fill:none;stroke-width:1;stroke-linecap:butt;stroke-linejoin:miter;stroke:rgb(26.666667%,26.666667%,26.666667%);stroke-opacity:1;stroke-miterlimit:10;\" d=\"M 423.421875 548.996094 L 420.96875 313.445312 \"/>\n",
       "<path style=\"fill:none;stroke-width:1;stroke-linecap:butt;stroke-linejoin:miter;stroke:rgb(26.666667%,26.666667%,26.666667%);stroke-opacity:1;stroke-miterlimit:10;\" d=\"M 488 330.046875 L 420.96875 313.445312 \"/>\n",
       "<path style=\"fill:none;stroke-width:1;stroke-linecap:butt;stroke-linejoin:miter;stroke:rgb(26.666667%,26.666667%,26.666667%);stroke-opacity:1;stroke-miterlimit:10;\" d=\"M 460.023438 436.441406 L 420.96875 313.445312 \"/>\n",
       "<path style=\"fill:none;stroke-width:1;stroke-linecap:butt;stroke-linejoin:miter;stroke:rgb(26.666667%,26.666667%,26.666667%);stroke-opacity:1;stroke-miterlimit:10;\" d=\"M 423.421875 548.996094 L 352.550781 343.664062 \"/>\n",
       "<path style=\"fill:none;stroke-width:1;stroke-linecap:butt;stroke-linejoin:miter;stroke:rgb(26.666667%,26.666667%,26.666667%);stroke-opacity:1;stroke-miterlimit:10;\" d=\"M 488 330.046875 L 352.550781 343.664062 \"/>\n",
       "<path style=\"fill:none;stroke-width:1;stroke-linecap:butt;stroke-linejoin:miter;stroke:rgb(26.666667%,26.666667%,26.666667%);stroke-opacity:1;stroke-miterlimit:10;\" d=\"M 460.023438 436.441406 L 352.550781 343.664062 \"/>\n",
       "<path style=\"fill:none;stroke-width:1;stroke-linecap:butt;stroke-linejoin:miter;stroke:rgb(26.666667%,26.666667%,26.666667%);stroke-opacity:1;stroke-miterlimit:10;\" d=\"M 420.96875 313.445312 L 352.550781 343.664062 \"/>\n",
       "<path style=\"fill:none;stroke-width:1;stroke-linecap:butt;stroke-linejoin:miter;stroke:rgb(26.666667%,26.666667%,26.666667%);stroke-opacity:1;stroke-miterlimit:10;\" d=\"M 531.992188 425.449219 L 517.425781 580 \"/>\n",
       "<path style=\"fill:none;stroke-width:1;stroke-linecap:butt;stroke-linejoin:miter;stroke:rgb(26.666667%,26.666667%,26.666667%);stroke-opacity:1;stroke-miterlimit:10;\" d=\"M 423.421875 548.996094 L 517.425781 580 \"/>\n",
       "<path style=\"fill:none;stroke-width:1;stroke-linecap:butt;stroke-linejoin:miter;stroke:rgb(26.666667%,26.666667%,26.666667%);stroke-opacity:1;stroke-miterlimit:10;\" d=\"M 488 330.046875 L 517.425781 580 \"/>\n",
       "<path style=\"fill:none;stroke-width:1;stroke-linecap:butt;stroke-linejoin:miter;stroke:rgb(26.666667%,26.666667%,26.666667%);stroke-opacity:1;stroke-miterlimit:10;\" d=\"M 460.023438 436.441406 L 517.425781 580 \"/>\n",
       "<path style=\"fill:none;stroke-width:1;stroke-linecap:butt;stroke-linejoin:miter;stroke:rgb(26.666667%,26.666667%,26.666667%);stroke-opacity:1;stroke-miterlimit:10;\" d=\"M 128.640625 280.996094 L 20 210.746094 \"/>\n",
       "<path style=\"fill:none;stroke-width:1;stroke-linecap:butt;stroke-linejoin:miter;stroke:rgb(26.666667%,26.666667%,26.666667%);stroke-opacity:1;stroke-miterlimit:10;\" d=\"M 50.035156 451.996094 L 20 210.746094 \"/>\n",
       "<path style=\"fill:none;stroke-width:1;stroke-linecap:butt;stroke-linejoin:miter;stroke:rgb(26.666667%,26.666667%,26.666667%);stroke-opacity:1;stroke-miterlimit:10;\" d=\"M 72.144531 248.71875 L 20 210.746094 \"/>\n",
       "<path style=\"fill:none;stroke-width:1;stroke-linecap:butt;stroke-linejoin:miter;stroke:rgb(26.666667%,26.666667%,26.666667%);stroke-opacity:1;stroke-miterlimit:10;\" d=\"M 26.441406 93.464844 L 20 210.746094 \"/>\n",
       "<path style=\"fill:none;stroke-width:1;stroke-linecap:butt;stroke-linejoin:miter;stroke:rgb(26.666667%,26.666667%,26.666667%);stroke-opacity:1;stroke-miterlimit:10;\" d=\"M 75.820312 100.441406 L 20 210.746094 \"/>\n",
       "<path style=\"fill:none;stroke-width:1;stroke-linecap:butt;stroke-linejoin:miter;stroke:rgb(26.666667%,26.666667%,26.666667%);stroke-opacity:1;stroke-miterlimit:10;\" d=\"M 128.640625 280.996094 L 108.167969 20 \"/>\n",
       "<path style=\"fill:none;stroke-width:1;stroke-linecap:butt;stroke-linejoin:miter;stroke:rgb(26.666667%,26.666667%,26.666667%);stroke-opacity:1;stroke-miterlimit:10;\" d=\"M 72.144531 248.71875 L 108.167969 20 \"/>\n",
       "<path style=\"fill:none;stroke-width:1;stroke-linecap:butt;stroke-linejoin:miter;stroke:rgb(26.666667%,26.666667%,26.666667%);stroke-opacity:1;stroke-miterlimit:10;\" d=\"M 26.441406 93.464844 L 108.167969 20 \"/>\n",
       "<path style=\"fill:none;stroke-width:1;stroke-linecap:butt;stroke-linejoin:miter;stroke:rgb(26.666667%,26.666667%,26.666667%);stroke-opacity:1;stroke-miterlimit:10;\" d=\"M 75.820312 100.441406 L 108.167969 20 \"/>\n",
       "<path style=\"fill:none;stroke-width:1;stroke-linecap:butt;stroke-linejoin:miter;stroke:rgb(26.666667%,26.666667%,26.666667%);stroke-opacity:1;stroke-miterlimit:10;\" d=\"M 20 210.746094 L 108.167969 20 \"/>\n",
       "<path style=\"fill:none;stroke-width:1;stroke-linecap:butt;stroke-linejoin:miter;stroke:rgb(26.666667%,26.666667%,26.666667%);stroke-opacity:1;stroke-miterlimit:10;\" d=\"M 128.640625 280.996094 L 147.542969 167.46875 \"/>\n",
       "<path style=\"fill:none;stroke-width:1;stroke-linecap:butt;stroke-linejoin:miter;stroke:rgb(26.666667%,26.666667%,26.666667%);stroke-opacity:1;stroke-miterlimit:10;\" d=\"M 72.144531 248.71875 L 147.542969 167.46875 \"/>\n",
       "<path style=\"fill:none;stroke-width:1;stroke-linecap:butt;stroke-linejoin:miter;stroke:rgb(26.666667%,26.666667%,26.666667%);stroke-opacity:1;stroke-miterlimit:10;\" d=\"M 26.441406 93.464844 L 147.542969 167.46875 \"/>\n",
       "<path style=\"fill:none;stroke-width:1;stroke-linecap:butt;stroke-linejoin:miter;stroke:rgb(26.666667%,26.666667%,26.666667%);stroke-opacity:1;stroke-miterlimit:10;\" d=\"M 75.820312 100.441406 L 147.542969 167.46875 \"/>\n",
       "<path style=\"fill:none;stroke-width:1;stroke-linecap:butt;stroke-linejoin:miter;stroke:rgb(26.666667%,26.666667%,26.666667%);stroke-opacity:1;stroke-miterlimit:10;\" d=\"M 20 210.746094 L 147.542969 167.46875 \"/>\n",
       "<path style=\"fill:none;stroke-width:1;stroke-linecap:butt;stroke-linejoin:miter;stroke:rgb(26.666667%,26.666667%,26.666667%);stroke-opacity:1;stroke-miterlimit:10;\" d=\"M 108.167969 20 L 147.542969 167.46875 \"/>\n",
       "<path style=\"fill:none;stroke-width:1;stroke-linecap:butt;stroke-linejoin:miter;stroke:rgb(26.666667%,26.666667%,26.666667%);stroke-opacity:1;stroke-miterlimit:10;\" d=\"M 128.640625 280.996094 L 26.355469 318.625 \"/>\n",
       "<path style=\"fill:none;stroke-width:1;stroke-linecap:butt;stroke-linejoin:miter;stroke:rgb(26.666667%,26.666667%,26.666667%);stroke-opacity:1;stroke-miterlimit:10;\" d=\"M 50.035156 451.996094 L 26.355469 318.625 \"/>\n",
       "<path style=\"fill:none;stroke-width:1;stroke-linecap:butt;stroke-linejoin:miter;stroke:rgb(26.666667%,26.666667%,26.666667%);stroke-opacity:1;stroke-miterlimit:10;\" d=\"M 72.144531 248.71875 L 26.355469 318.625 \"/>\n",
       "<path style=\"fill:none;stroke-width:1;stroke-linecap:butt;stroke-linejoin:miter;stroke:rgb(26.666667%,26.666667%,26.666667%);stroke-opacity:1;stroke-miterlimit:10;\" d=\"M 26.441406 93.464844 L 26.355469 318.625 \"/>\n",
       "<path style=\"fill:none;stroke-width:1;stroke-linecap:butt;stroke-linejoin:miter;stroke:rgb(26.666667%,26.666667%,26.666667%);stroke-opacity:1;stroke-miterlimit:10;\" d=\"M 75.820312 100.441406 L 26.355469 318.625 \"/>\n",
       "<path style=\"fill:none;stroke-width:1;stroke-linecap:butt;stroke-linejoin:miter;stroke:rgb(26.666667%,26.666667%,26.666667%);stroke-opacity:1;stroke-miterlimit:10;\" d=\"M 20 210.746094 L 26.355469 318.625 \"/>\n",
       "<path style=\"fill:none;stroke-width:1;stroke-linecap:butt;stroke-linejoin:miter;stroke:rgb(26.666667%,26.666667%,26.666667%);stroke-opacity:1;stroke-miterlimit:10;\" d=\"M 147.542969 167.46875 L 26.355469 318.625 \"/>\n",
       "<path style=\"fill:none;stroke-width:1;stroke-linecap:butt;stroke-linejoin:miter;stroke:rgb(26.666667%,26.666667%,26.666667%);stroke-opacity:1;stroke-miterlimit:10;\" d=\"M 531.992188 425.449219 L 413.148438 450.828125 \"/>\n",
       "<path style=\"fill:none;stroke-width:1;stroke-linecap:butt;stroke-linejoin:miter;stroke:rgb(26.666667%,26.666667%,26.666667%);stroke-opacity:1;stroke-miterlimit:10;\" d=\"M 423.421875 548.996094 L 413.148438 450.828125 \"/>\n",
       "<path style=\"fill:none;stroke-width:1;stroke-linecap:butt;stroke-linejoin:miter;stroke:rgb(26.666667%,26.666667%,26.666667%);stroke-opacity:1;stroke-miterlimit:10;\" d=\"M 488 330.046875 L 413.148438 450.828125 \"/>\n",
       "<path style=\"fill:none;stroke-width:1;stroke-linecap:butt;stroke-linejoin:miter;stroke:rgb(26.666667%,26.666667%,26.666667%);stroke-opacity:1;stroke-miterlimit:10;\" d=\"M 460.023438 436.441406 L 413.148438 450.828125 \"/>\n",
       "<path style=\"fill:none;stroke-width:1;stroke-linecap:butt;stroke-linejoin:miter;stroke:rgb(26.666667%,26.666667%,26.666667%);stroke-opacity:1;stroke-miterlimit:10;\" d=\"M 420.96875 313.445312 L 413.148438 450.828125 \"/>\n",
       "<path style=\"fill:none;stroke-width:1;stroke-linecap:butt;stroke-linejoin:miter;stroke:rgb(26.666667%,26.666667%,26.666667%);stroke-opacity:1;stroke-miterlimit:10;\" d=\"M 352.550781 343.664062 L 413.148438 450.828125 \"/>\n",
       "<path style=\"fill:none;stroke-width:1;stroke-linecap:butt;stroke-linejoin:miter;stroke:rgb(26.666667%,26.666667%,26.666667%);stroke-opacity:1;stroke-miterlimit:10;\" d=\"M 517.425781 580 L 413.148438 450.828125 \"/>\n",
       "<path style=\"fill:none;stroke-width:1;stroke-linecap:butt;stroke-linejoin:miter;stroke:rgb(26.666667%,26.666667%,26.666667%);stroke-opacity:1;stroke-miterlimit:10;\" d=\"M 531.992188 425.449219 L 447.925781 213.367188 \"/>\n",
       "<path style=\"fill:none;stroke-width:1;stroke-linecap:butt;stroke-linejoin:miter;stroke:rgb(26.666667%,26.666667%,26.666667%);stroke-opacity:1;stroke-miterlimit:10;\" d=\"M 488 330.046875 L 447.925781 213.367188 \"/>\n",
       "<path style=\"fill:none;stroke-width:1;stroke-linecap:butt;stroke-linejoin:miter;stroke:rgb(26.666667%,26.666667%,26.666667%);stroke-opacity:1;stroke-miterlimit:10;\" d=\"M 460.023438 436.441406 L 447.925781 213.367188 \"/>\n",
       "<path style=\"fill:none;stroke-width:1;stroke-linecap:butt;stroke-linejoin:miter;stroke:rgb(26.666667%,26.666667%,26.666667%);stroke-opacity:1;stroke-miterlimit:10;\" d=\"M 420.96875 313.445312 L 447.925781 213.367188 \"/>\n",
       "<path style=\"fill:none;stroke-width:1;stroke-linecap:butt;stroke-linejoin:miter;stroke:rgb(26.666667%,26.666667%,26.666667%);stroke-opacity:1;stroke-miterlimit:10;\" d=\"M 352.550781 343.664062 L 447.925781 213.367188 \"/>\n",
       "<path style=\"fill:none;stroke-width:1;stroke-linecap:butt;stroke-linejoin:miter;stroke:rgb(26.666667%,26.666667%,26.666667%);stroke-opacity:1;stroke-miterlimit:10;\" d=\"M 413.148438 450.828125 L 447.925781 213.367188 \"/>\n",
       "<path style=\"fill:none;stroke-width:1;stroke-linecap:butt;stroke-linejoin:miter;stroke:rgb(26.666667%,26.666667%,26.666667%);stroke-opacity:1;stroke-miterlimit:10;\" d=\"M 488 330.046875 L 580 177.109375 \"/>\n",
       "<path style=\"fill:none;stroke-width:1;stroke-linecap:butt;stroke-linejoin:miter;stroke:rgb(26.666667%,26.666667%,26.666667%);stroke-opacity:1;stroke-miterlimit:10;\" d=\"M 128.640625 280.996094 L 242.679688 288.976562 \"/>\n",
       "<path style=\"fill:none;stroke-width:1;stroke-linecap:butt;stroke-linejoin:miter;stroke:rgb(26.666667%,26.666667%,26.666667%);stroke-opacity:1;stroke-miterlimit:10;\" d=\"M 352.550781 343.664062 L 242.679688 288.976562 \"/>\n",
       "<path style=\"fill:none;stroke-width:1;stroke-linecap:butt;stroke-linejoin:miter;stroke:rgb(26.666667%,26.666667%,26.666667%);stroke-opacity:1;stroke-miterlimit:10;\" d=\"M 147.542969 167.46875 L 242.679688 288.976562 \"/>\n",
       "<path style=\"fill-rule:nonzero;fill:rgb(100%,0%,0%);fill-opacity:1;stroke-width:1;stroke-linecap:butt;stroke-linejoin:miter;stroke:rgb(0%,0%,0%);stroke-opacity:1;stroke-miterlimit:10;\" d=\"M 541.992188 425.449219 C 541.992188 430.972656 537.515625 435.449219 531.992188 435.449219 C 526.46875 435.449219 521.992188 430.972656 521.992188 425.449219 C 521.992188 419.929688 526.46875 415.449219 531.992188 415.449219 C 537.515625 415.449219 541.992188 419.929688 541.992188 425.449219 \"/>\n",
       "<path style=\"fill-rule:nonzero;fill:rgb(100%,0%,0%);fill-opacity:1;stroke-width:1;stroke-linecap:butt;stroke-linejoin:miter;stroke:rgb(0%,0%,0%);stroke-opacity:1;stroke-miterlimit:10;\" d=\"M 433.421875 548.996094 C 433.421875 554.515625 428.945312 558.996094 423.421875 558.996094 C 417.898438 558.996094 413.421875 554.515625 413.421875 548.996094 C 413.421875 543.472656 417.898438 538.996094 423.421875 538.996094 C 428.945312 538.996094 433.421875 543.472656 433.421875 548.996094 \"/>\n",
       "<path style=\"fill-rule:nonzero;fill:rgb(100%,0%,0%);fill-opacity:1;stroke-width:1;stroke-linecap:butt;stroke-linejoin:miter;stroke:rgb(0%,0%,0%);stroke-opacity:1;stroke-miterlimit:10;\" d=\"M 138.640625 280.996094 C 138.640625 286.515625 134.164062 290.996094 128.640625 290.996094 C 123.117188 290.996094 118.640625 286.515625 118.640625 280.996094 C 118.640625 275.472656 123.117188 270.996094 128.640625 270.996094 C 134.164062 270.996094 138.640625 275.472656 138.640625 280.996094 \"/>\n",
       "<path style=\"fill-rule:nonzero;fill:rgb(100%,0%,0%);fill-opacity:1;stroke-width:1;stroke-linecap:butt;stroke-linejoin:miter;stroke:rgb(0%,0%,0%);stroke-opacity:1;stroke-miterlimit:10;\" d=\"M 60.035156 451.996094 C 60.035156 457.519531 55.558594 461.996094 50.035156 461.996094 C 44.515625 461.996094 40.035156 457.519531 40.035156 451.996094 C 40.035156 446.472656 44.515625 441.996094 50.035156 441.996094 C 55.558594 441.996094 60.035156 446.472656 60.035156 451.996094 \"/>\n",
       "<path style=\"fill-rule:nonzero;fill:rgb(100%,0%,0%);fill-opacity:1;stroke-width:1;stroke-linecap:butt;stroke-linejoin:miter;stroke:rgb(0%,0%,0%);stroke-opacity:1;stroke-miterlimit:10;\" d=\"M 498 330.046875 C 498 335.570312 493.523438 340.046875 488 340.046875 C 482.476562 340.046875 478 335.570312 478 330.046875 C 478 324.523438 482.476562 320.046875 488 320.046875 C 493.523438 320.046875 498 324.523438 498 330.046875 \"/>\n",
       "<path style=\"fill-rule:nonzero;fill:rgb(100%,0%,0%);fill-opacity:1;stroke-width:1;stroke-linecap:butt;stroke-linejoin:miter;stroke:rgb(0%,0%,0%);stroke-opacity:1;stroke-miterlimit:10;\" d=\"M 470.023438 436.441406 C 470.023438 441.964844 465.546875 446.441406 460.023438 446.441406 C 454.5 446.441406 450.023438 441.964844 450.023438 436.441406 C 450.023438 430.917969 454.5 426.441406 460.023438 426.441406 C 465.546875 426.441406 470.023438 430.917969 470.023438 436.441406 \"/>\n",
       "<path style=\"fill-rule:nonzero;fill:rgb(100%,0%,0%);fill-opacity:1;stroke-width:1;stroke-linecap:butt;stroke-linejoin:miter;stroke:rgb(0%,0%,0%);stroke-opacity:1;stroke-miterlimit:10;\" d=\"M 82.144531 248.71875 C 82.144531 254.242188 77.667969 258.71875 72.144531 258.71875 C 66.621094 258.71875 62.144531 254.242188 62.144531 248.71875 C 62.144531 243.195312 66.621094 238.71875 72.144531 238.71875 C 77.667969 238.71875 82.144531 243.195312 82.144531 248.71875 \"/>\n",
       "<path style=\"fill-rule:nonzero;fill:rgb(100%,0%,0%);fill-opacity:1;stroke-width:1;stroke-linecap:butt;stroke-linejoin:miter;stroke:rgb(0%,0%,0%);stroke-opacity:1;stroke-miterlimit:10;\" d=\"M 36.441406 93.464844 C 36.441406 98.988281 31.964844 103.464844 26.441406 103.464844 C 20.917969 103.464844 16.441406 98.988281 16.441406 93.464844 C 16.441406 87.941406 20.917969 83.464844 26.441406 83.464844 C 31.964844 83.464844 36.441406 87.941406 36.441406 93.464844 \"/>\n",
       "<path style=\"fill-rule:nonzero;fill:rgb(100%,0%,0%);fill-opacity:1;stroke-width:1;stroke-linecap:butt;stroke-linejoin:miter;stroke:rgb(0%,0%,0%);stroke-opacity:1;stroke-miterlimit:10;\" d=\"M 85.820312 100.441406 C 85.820312 105.964844 81.339844 110.441406 75.820312 110.441406 C 70.296875 110.441406 65.820312 105.964844 65.820312 100.441406 C 65.820312 94.917969 70.296875 90.441406 75.820312 90.441406 C 81.339844 90.441406 85.820312 94.917969 85.820312 100.441406 \"/>\n",
       "<path style=\"fill-rule:nonzero;fill:rgb(100%,0%,0%);fill-opacity:1;stroke-width:1;stroke-linecap:butt;stroke-linejoin:miter;stroke:rgb(0%,0%,0%);stroke-opacity:1;stroke-miterlimit:10;\" d=\"M 430.96875 313.445312 C 430.96875 318.96875 426.492188 323.445312 420.96875 323.445312 C 415.445312 323.445312 410.96875 318.96875 410.96875 313.445312 C 410.96875 307.921875 415.445312 303.445312 420.96875 303.445312 C 426.492188 303.445312 430.96875 307.921875 430.96875 313.445312 \"/>\n",
       "<path style=\"fill-rule:nonzero;fill:rgb(100%,0%,0%);fill-opacity:1;stroke-width:1;stroke-linecap:butt;stroke-linejoin:miter;stroke:rgb(0%,0%,0%);stroke-opacity:1;stroke-miterlimit:10;\" d=\"M 362.550781 343.664062 C 362.550781 349.1875 358.074219 353.664062 352.550781 353.664062 C 347.027344 353.664062 342.550781 349.1875 342.550781 343.664062 C 342.550781 338.140625 347.027344 333.664062 352.550781 333.664062 C 358.074219 333.664062 362.550781 338.140625 362.550781 343.664062 \"/>\n",
       "<path style=\"fill-rule:nonzero;fill:rgb(100%,0%,0%);fill-opacity:1;stroke-width:1;stroke-linecap:butt;stroke-linejoin:miter;stroke:rgb(0%,0%,0%);stroke-opacity:1;stroke-miterlimit:10;\" d=\"M 527.425781 580 C 527.425781 585.523438 522.949219 590 517.425781 590 C 511.902344 590 507.425781 585.523438 507.425781 580 C 507.425781 574.476562 511.902344 570 517.425781 570 C 522.949219 570 527.425781 574.476562 527.425781 580 \"/>\n",
       "<path style=\"fill-rule:nonzero;fill:rgb(100%,0%,0%);fill-opacity:1;stroke-width:1;stroke-linecap:butt;stroke-linejoin:miter;stroke:rgb(0%,0%,0%);stroke-opacity:1;stroke-miterlimit:10;\" d=\"M 30 210.746094 C 30 216.269531 25.523438 220.746094 20 220.746094 C 14.476562 220.746094 10 216.269531 10 210.746094 C 10 205.226562 14.476562 200.746094 20 200.746094 C 25.523438 200.746094 30 205.226562 30 210.746094 \"/>\n",
       "<path style=\"fill-rule:nonzero;fill:rgb(100%,0%,0%);fill-opacity:1;stroke-width:1;stroke-linecap:butt;stroke-linejoin:miter;stroke:rgb(0%,0%,0%);stroke-opacity:1;stroke-miterlimit:10;\" d=\"M 118.167969 20 C 118.167969 25.523438 113.691406 30 108.167969 30 C 102.644531 30 98.167969 25.523438 98.167969 20 C 98.167969 14.476562 102.644531 10 108.167969 10 C 113.691406 10 118.167969 14.476562 118.167969 20 \"/>\n",
       "<path style=\"fill-rule:nonzero;fill:rgb(100%,0%,0%);fill-opacity:1;stroke-width:1;stroke-linecap:butt;stroke-linejoin:miter;stroke:rgb(0%,0%,0%);stroke-opacity:1;stroke-miterlimit:10;\" d=\"M 157.542969 167.46875 C 157.542969 172.992188 153.0625 177.46875 147.542969 177.46875 C 142.019531 177.46875 137.542969 172.992188 137.542969 167.46875 C 137.542969 161.945312 142.019531 157.46875 147.542969 157.46875 C 153.0625 157.46875 157.542969 161.945312 157.542969 167.46875 \"/>\n",
       "<path style=\"fill-rule:nonzero;fill:rgb(100%,0%,0%);fill-opacity:1;stroke-width:1;stroke-linecap:butt;stroke-linejoin:miter;stroke:rgb(0%,0%,0%);stroke-opacity:1;stroke-miterlimit:10;\" d=\"M 36.355469 318.625 C 36.355469 324.148438 31.875 328.625 26.355469 328.625 C 20.832031 328.625 16.355469 324.148438 16.355469 318.625 C 16.355469 313.101562 20.832031 308.625 26.355469 308.625 C 31.875 308.625 36.355469 313.101562 36.355469 318.625 \"/>\n",
       "<path style=\"fill-rule:nonzero;fill:rgb(100%,0%,0%);fill-opacity:1;stroke-width:1;stroke-linecap:butt;stroke-linejoin:miter;stroke:rgb(0%,0%,0%);stroke-opacity:1;stroke-miterlimit:10;\" d=\"M 423.148438 450.828125 C 423.148438 456.351562 418.671875 460.828125 413.148438 460.828125 C 407.625 460.828125 403.148438 456.351562 403.148438 450.828125 C 403.148438 445.304688 407.625 440.828125 413.148438 440.828125 C 418.671875 440.828125 423.148438 445.304688 423.148438 450.828125 \"/>\n",
       "<path style=\"fill-rule:nonzero;fill:rgb(100%,0%,0%);fill-opacity:1;stroke-width:1;stroke-linecap:butt;stroke-linejoin:miter;stroke:rgb(0%,0%,0%);stroke-opacity:1;stroke-miterlimit:10;\" d=\"M 457.925781 213.367188 C 457.925781 218.890625 453.449219 223.367188 447.925781 223.367188 C 442.402344 223.367188 437.925781 218.890625 437.925781 213.367188 C 437.925781 207.847656 442.402344 203.367188 447.925781 203.367188 C 453.449219 203.367188 457.925781 207.847656 457.925781 213.367188 \"/>\n",
       "<path style=\"fill-rule:nonzero;fill:rgb(100%,0%,0%);fill-opacity:1;stroke-width:1;stroke-linecap:butt;stroke-linejoin:miter;stroke:rgb(0%,0%,0%);stroke-opacity:1;stroke-miterlimit:10;\" d=\"M 590 177.109375 C 590 182.632812 585.523438 187.109375 580 187.109375 C 574.476562 187.109375 570 182.632812 570 177.109375 C 570 171.589844 574.476562 167.109375 580 167.109375 C 585.523438 167.109375 590 171.589844 590 177.109375 \"/>\n",
       "<path style=\"fill-rule:nonzero;fill:rgb(100%,0%,0%);fill-opacity:1;stroke-width:1;stroke-linecap:butt;stroke-linejoin:miter;stroke:rgb(0%,0%,0%);stroke-opacity:1;stroke-miterlimit:10;\" d=\"M 252.679688 288.976562 C 252.679688 294.5 248.203125 298.976562 242.679688 298.976562 C 237.15625 298.976562 232.679688 294.5 232.679688 288.976562 C 232.679688 283.457031 237.15625 278.976562 242.679688 278.976562 C 248.203125 278.976562 252.679688 283.457031 252.679688 288.976562 \"/>\n",
       "</g>\n",
       "</svg>\n"
      ],
      "text/plain": [
       "<igraph.drawing.cairo.plot.CairoPlot at 0x7f6285c69a90>"
      ]
     },
     "execution_count": 231,
     "metadata": {
      "image/svg+xml": {
       "isolated": true
      }
     },
     "output_type": "execute_result"
    }
   ],
   "source": [
    "\n",
    "# Trier les composantes par taille (en ordre décroissant)\n",
    "composantes_triees = sorted(components, key=len, reverse=True)\n",
    "\n",
    "# Sélectionner la plus grande composante connexe\n",
    "plus_grande_composante = composantes_triees[0]\n",
    "print(np.array(plus_grande_composante).shape)\n",
    "sous_graphe = data_10K_ig_graph.subgraph(plus_grande_composante)\n",
    "\n",
    "ig.plot(sous_graphe)\n"
   ]
  },
  {
   "cell_type": "markdown",
   "metadata": {},
   "source": [
    "#### Sur des données de taille 1M:"
   ]
  },
  {
   "cell_type": "markdown",
   "metadata": {},
   "source": [
    "        -   Seuillage sur le graphe 1M: "
   ]
  },
  {
   "cell_type": "code",
   "execution_count": 16,
   "metadata": {},
   "outputs": [],
   "source": [
    "# Fonction pour filtrer les arêtes ayant une similarité de 100\n",
    "def filter_edges(edge):\n",
    "    index = edge.index  # Récupérer l'indice de l'arête dans le DataFrame d'origine\n",
    "    similarity = data_1M.loc[index, 'sim']  # Récupérer la similarité de l'arête\n",
    "    return similarity == 100\n",
    "\n",
    "# Filtrer les arêtes\n",
    "filtered_edges = data_1M_ig_graph.es.select(filter_edges)\n",
    "\n",
    "# Créer un nouveau graphe contenant uniquement les arêtes filtrées\n",
    "filtered_1M_edges_100 = filtered_edges.subgraph()\n"
   ]
  },
  {
   "cell_type": "code",
   "execution_count": 17,
   "metadata": {},
   "outputs": [
    {
     "name": "stdout",
     "output_type": "stream",
     "text": [
      "Nombre de tuples dans les données de taille 1M après séléction que des arcs de sim = 100 :  375095\n"
     ]
    }
   ],
   "source": [
    "# Affichez le contenu du DataFrame 1M\n",
    "print(\"Nombre de tuples dans les données de taille 1M après séléction que des arcs de sim = 100 : \",filtered_1M_edges_100.ecount())"
   ]
  },
  {
   "cell_type": "markdown",
   "metadata": {},
   "source": [
    "    -   Temps d'éxécution pour la détection des composantes connexes sur le graphe 1M reduit :"
   ]
  },
  {
   "cell_type": "code",
   "execution_count": 18,
   "metadata": {},
   "outputs": [
    {
     "name": "stdout",
     "output_type": "stream",
     "text": [
      "Nombres de omposantes connexes : 209516\n",
      "Temps d'exécution sur le graphe de taille 1M filtré (sim = 100): 0.2212080955505371 secondes\n"
     ]
    }
   ],
   "source": [
    "start_time = time()\n",
    "\n",
    "# Calculer les composantes connexes\n",
    "components = filtered_1M_edges_100.components()\n",
    "end_time = time()\n",
    "\n",
    "# Afficher les composantes connexes\n",
    "print(\"Nombres de omposantes connexes :\",len(components))\n",
    "\n",
    "# Afficher le temps d'exécution\n",
    "execution_time_10K = end_time - start_time\n",
    "\n",
    "print(\"Temps d'exécution sur le graphe de taille 1M filtré (sim = 100):\", execution_time_10K, \"secondes\")"
   ]
  }
 ],
 "metadata": {
  "kernelspec": {
   "display_name": "Python 3",
   "language": "python",
   "name": "python3"
  },
  "language_info": {
   "codemirror_mode": {
    "name": "ipython",
    "version": 3
   },
   "file_extension": ".py",
   "mimetype": "text/x-python",
   "name": "python",
   "nbconvert_exporter": "python",
   "pygments_lexer": "ipython3",
   "version": "3.8.10"
  }
 },
 "nbformat": 4,
 "nbformat_minor": 2
}

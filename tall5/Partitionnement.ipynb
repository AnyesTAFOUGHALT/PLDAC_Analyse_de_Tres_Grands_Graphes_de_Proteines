{
 "cells": [
  {
   "cell_type": "markdown",
   "id": "07be34bc-8d03-4f0e-b26b-141e9bfe98df",
   "metadata": {},
   "source": [
    "# Importation des bibliothéques"
   ]
  },
  {
   "cell_type": "code",
   "execution_count": 26,
   "id": "b7631f0f-afa5-45bd-bd8c-38d99e5c5606",
   "metadata": {},
   "outputs": [],
   "source": [
    "import pandas as pd\n",
    "import glob"
   ]
  },
  {
   "cell_type": "markdown",
   "id": "37ef6150-7338-4846-8f52-b0f1edb5507e",
   "metadata": {},
   "source": [
    "# Lecture des fichiers du dossier graph G99"
   ]
  },
  {
   "cell_type": "code",
   "execution_count": 27,
   "id": "17ab093f-67dd-4f3d-b67a-dde380deb751",
   "metadata": {},
   "outputs": [
    {
     "name": "stdout",
     "output_type": "stream",
     "text": [
      "components.parquet\t\t    graph_partition_by_query_id\n",
      "graph\t\t\t\t    graph_partitionned\n",
      "graph_deduplicated2\t\t    graph_partitionned_components\n",
      "graph_nodeID_only\t\t    graph_removed\n",
      "graph_nodeID_only_component\t    graph_with_components\n",
      "graph_nodeID_only_partitionned\t    node_with_comp_and_annotation\n",
      "graph_nodeID_only_partitionned_200\n"
     ]
    }
   ],
   "source": [
    "!ls /data/bd/dataset/proteine/80_80/G99"
   ]
  },
  {
   "cell_type": "code",
   "execution_count": 28,
   "id": "29d8e5e3-0bbc-4632-b81d-db74c6dd90d8",
   "metadata": {},
   "outputs": [
    {
     "data": {
      "text/html": [
       "<div>\n",
       "<style scoped>\n",
       "    .dataframe tbody tr th:only-of-type {\n",
       "        vertical-align: middle;\n",
       "    }\n",
       "\n",
       "    .dataframe tbody tr th {\n",
       "        vertical-align: top;\n",
       "    }\n",
       "\n",
       "    .dataframe thead th {\n",
       "        text-align: right;\n",
       "    }\n",
       "</style>\n",
       "<table border=\"1\" class=\"dataframe\">\n",
       "  <thead>\n",
       "    <tr style=\"text-align: right;\">\n",
       "      <th></th>\n",
       "      <th>query_id</th>\n",
       "      <th>query_length</th>\n",
       "      <th>target_id</th>\n",
       "      <th>target_length</th>\n",
       "      <th>match_length</th>\n",
       "      <th>percent_identity</th>\n",
       "      <th>e_value</th>\n",
       "      <th>relative_sim</th>\n",
       "    </tr>\n",
       "  </thead>\n",
       "  <tbody>\n",
       "    <tr>\n",
       "      <th>0</th>\n",
       "      <td>17253890:3</td>\n",
       "      <td>205</td>\n",
       "      <td>132997206:3</td>\n",
       "      <td>281</td>\n",
       "      <td>231</td>\n",
       "      <td>87.9</td>\n",
       "      <td>1.300000e-105</td>\n",
       "      <td>0.99</td>\n",
       "    </tr>\n",
       "    <tr>\n",
       "      <th>1</th>\n",
       "      <td>17253916:4</td>\n",
       "      <td>97</td>\n",
       "      <td>15406465:2</td>\n",
       "      <td>321</td>\n",
       "      <td>96</td>\n",
       "      <td>100.0</td>\n",
       "      <td>6.100000e-47</td>\n",
       "      <td>0.99</td>\n",
       "    </tr>\n",
       "    <tr>\n",
       "      <th>2</th>\n",
       "      <td>17253916:4</td>\n",
       "      <td>97</td>\n",
       "      <td>METdb_00033-1-DN42202-c1-g7-i1.p1</td>\n",
       "      <td>392</td>\n",
       "      <td>96</td>\n",
       "      <td>100.0</td>\n",
       "      <td>8.200000e-47</td>\n",
       "      <td>0.99</td>\n",
       "    </tr>\n",
       "    <tr>\n",
       "      <th>3</th>\n",
       "      <td>17253916:4</td>\n",
       "      <td>97</td>\n",
       "      <td>METdb_00033-1-DN42202-c1-g7-i2.p1</td>\n",
       "      <td>392</td>\n",
       "      <td>96</td>\n",
       "      <td>100.0</td>\n",
       "      <td>8.200000e-47</td>\n",
       "      <td>0.99</td>\n",
       "    </tr>\n",
       "    <tr>\n",
       "      <th>4</th>\n",
       "      <td>17253916:4</td>\n",
       "      <td>97</td>\n",
       "      <td>METdb_00369-1-DN52456-c0-g1-i1.p1</td>\n",
       "      <td>392</td>\n",
       "      <td>96</td>\n",
       "      <td>100.0</td>\n",
       "      <td>8.200000e-47</td>\n",
       "      <td>0.99</td>\n",
       "    </tr>\n",
       "  </tbody>\n",
       "</table>\n",
       "</div>"
      ],
      "text/plain": [
       "     query_id  query_length                          target_id  target_length  \\\n",
       "0  17253890:3           205                        132997206:3            281   \n",
       "1  17253916:4            97                         15406465:2            321   \n",
       "2  17253916:4            97  METdb_00033-1-DN42202-c1-g7-i1.p1            392   \n",
       "3  17253916:4            97  METdb_00033-1-DN42202-c1-g7-i2.p1            392   \n",
       "4  17253916:4            97  METdb_00369-1-DN52456-c0-g1-i1.p1            392   \n",
       "\n",
       "   match_length  percent_identity        e_value  relative_sim  \n",
       "0           231              87.9  1.300000e-105          0.99  \n",
       "1            96             100.0   6.100000e-47          0.99  \n",
       "2            96             100.0   8.200000e-47          0.99  \n",
       "3            96             100.0   8.200000e-47          0.99  \n",
       "4            96             100.0   8.200000e-47          0.99  "
      ]
     },
     "execution_count": 28,
     "metadata": {},
     "output_type": "execute_result"
    }
   ],
   "source": [
    "parquet_folder = \"/data/bd/dataset/proteine/80_80/G99/graph/\"\n",
    "\n",
    "# Lire tous les fichiers Parquet dans une liste de DataFrames\n",
    "dfs = [pd.read_parquet(fichier) for fichier in glob.glob(parquet_folder + '*.parquet')]\n",
    "\n",
    "# Concaténer les DataFrames en un seul DataFrame\n",
    "df = pd.concat(dfs, ignore_index=True)\n",
    "\n",
    "# Afficher les premières lignes du DataFrame\n",
    "df.head()"
   ]
  },
  {
   "cell_type": "code",
   "execution_count": 29,
   "id": "7e3dd805-2ce4-4932-b6a1-60a38e504413",
   "metadata": {},
   "outputs": [
    {
     "data": {
      "text/plain": [
       "(359798439, 2)"
      ]
     },
     "execution_count": 29,
     "metadata": {},
     "output_type": "execute_result"
    }
   ],
   "source": [
    "df = df[['target_id', 'query_id']]\n",
    "df.shape"
   ]
  },
  {
   "cell_type": "code",
   "execution_count": 31,
   "id": "6ef7ff68-da6b-450d-88f0-21440263eeeb",
   "metadata": {},
   "outputs": [
    {
     "data": {
      "text/html": [
       "<div>\n",
       "<style scoped>\n",
       "    .dataframe tbody tr th:only-of-type {\n",
       "        vertical-align: middle;\n",
       "    }\n",
       "\n",
       "    .dataframe tbody tr th {\n",
       "        vertical-align: top;\n",
       "    }\n",
       "\n",
       "    .dataframe thead th {\n",
       "        text-align: right;\n",
       "    }\n",
       "</style>\n",
       "<table border=\"1\" class=\"dataframe\">\n",
       "  <thead>\n",
       "    <tr style=\"text-align: right;\">\n",
       "      <th></th>\n",
       "      <th>partition</th>\n",
       "      <th>count</th>\n",
       "    </tr>\n",
       "  </thead>\n",
       "  <tbody>\n",
       "    <tr>\n",
       "      <th>0</th>\n",
       "      <td>0</td>\n",
       "      <td>1784868</td>\n",
       "    </tr>\n",
       "    <tr>\n",
       "      <th>1</th>\n",
       "      <td>1</td>\n",
       "      <td>1787699</td>\n",
       "    </tr>\n",
       "    <tr>\n",
       "      <th>2</th>\n",
       "      <td>2</td>\n",
       "      <td>1710721</td>\n",
       "    </tr>\n",
       "    <tr>\n",
       "      <th>3</th>\n",
       "      <td>3</td>\n",
       "      <td>1758926</td>\n",
       "    </tr>\n",
       "    <tr>\n",
       "      <th>4</th>\n",
       "      <td>4</td>\n",
       "      <td>1799652</td>\n",
       "    </tr>\n",
       "  </tbody>\n",
       "</table>\n",
       "</div>"
      ],
      "text/plain": [
       "   partition    count\n",
       "0          0  1784868\n",
       "1          1  1787699\n",
       "2          2  1710721\n",
       "3          3  1758926\n",
       "4          4  1799652"
      ]
     },
     "execution_count": 31,
     "metadata": {},
     "output_type": "execute_result"
    }
   ],
   "source": [
    "d = 200\n",
    "new_df = df\n",
    "# Ajout d'une nouvelle colonne 'partition' basée sur le modulo de target_id\n",
    "new_df['partition'] = new_df['target_id'].apply(lambda x: hash(x) % d)\n",
    "partition_freq = new_df.groupby('partition').size().reset_index(name='count')\n",
    "partition_freq.head()"
   ]
  },
  {
   "cell_type": "code",
   "execution_count": 32,
   "id": "ba043612-411a-4aeb-80fc-f62167f6ce56",
   "metadata": {},
   "outputs": [],
   "source": [
    "partitions = partition_freq['partition'].unique()\n",
    "for partition in partitions:\n",
    "    df_partition = new_df[new_df['partition'] == partition]\n",
    "    file_path = f\"/data/bd/dataset/proteine/80_80/G99/graph_partitionned/200_partitions/partition_{partition}.parquet\"\n",
    "    df_partition.to_parquet(file_path, index=False, engine='pyarrow')"
   ]
  },
  {
   "cell_type": "markdown",
   "id": "ccafc67b-1f9a-4af5-9c7d-fbbcdee9c0b7",
   "metadata": {},
   "source": [
    "# On varie le degree de parallélisme (num_partition)"
   ]
  },
  {
   "cell_type": "code",
   "execution_count": 25,
   "id": "9aaca3c8-6338-4646-b860-9cb872681b20",
   "metadata": {},
   "outputs": [
    {
     "name": "stdout",
     "output_type": "stream",
     "text": [
      "degree de parallélisme :  10\n",
      "degree de parallélisme :  20\n",
      "degree de parallélisme :  30\n",
      "degree de parallélisme :  40\n",
      "degree de parallélisme :  50\n",
      "degree de parallélisme :  60\n"
     ]
    }
   ],
   "source": [
    "degree_parallelisme = [10,20, 30, 40, 50, 60]\n",
    "\n",
    "for d in degree_parallelisme :\n",
    "    print(\"degree de parallélisme : \",d)\n",
    "    new_df = df\n",
    "    # Ajout d'une nouvelle colonne 'partition' basée sur le modulo de target_id\n",
    "    new_df['partition'] = new_df['target_id'].apply(lambda x: hash(x) % d)\n",
    "    partition_freq = new_df.groupby('partition').size().reset_index(name='count')\n",
    "    \n",
    "    partitions = partition_freq['partition'].unique()\n",
    "    for partition in partitions:\n",
    "        df_partition = new_df[new_df['partition'] == partition]\n",
    "        file_path = f\"/data/bd/dataset/proteine/80_80/G99/graph_partitionned/{d}_partitions/partition_{partition}.parquet\"\n",
    "        df_partition.to_parquet(file_path, index=False, engine='pyarrow')\n",
    "    "
   ]
  }
 ],
 "metadata": {
  "kernelspec": {
   "display_name": "Python 3 (ipykernel)",
   "language": "python",
   "name": "python3"
  },
  "language_info": {
   "codemirror_mode": {
    "name": "ipython",
    "version": 3
   },
   "file_extension": ".py",
   "mimetype": "text/x-python",
   "name": "python",
   "nbconvert_exporter": "python",
   "pygments_lexer": "ipython3",
   "version": "3.9.7"
  }
 },
 "nbformat": 4,
 "nbformat_minor": 5
}

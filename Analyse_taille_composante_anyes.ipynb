{
 "cells": [
  {
   "cell_type": "code",
   "execution_count": 1,
   "metadata": {},
   "outputs": [],
   "source": [
    "import pandas as pd\n",
    "import plotly.graph_objs as go\n",
    "import plotly.express as px\n",
    "import datashader as ds\n",
    "import datashader.transfer_functions as tf\n",
    "from datashader.colors import inferno\n",
    "from datashader.utils import export_image"
   ]
  },
  {
   "cell_type": "markdown",
   "metadata": {},
   "source": [
    "# Lecture du Fichier Component Size"
   ]
  },
  {
   "cell_type": "code",
   "execution_count": 2,
   "metadata": {},
   "outputs": [
    {
     "name": "stdout",
     "output_type": "stream",
     "text": [
      "   compID  size\n",
      "0    7044     5\n",
      "1   16965     5\n",
      "2   31427     5\n",
      "3   34321     5\n",
      "4   35262     5\n"
     ]
    }
   ],
   "source": [
    "# Chemin vers le fichier Parquet\n",
    "chemin_fichier_parquet = \"./local/component_size/part-00000-e6d8696c-b587-4027-ab29-734e311a33fe-c000.snappy.parquet\"\n",
    "\n",
    "# Lecture du fichier Parquet et création du DataFrame\n",
    "try:\n",
    "    data = pd.read_parquet(chemin_fichier_parquet, engine='pyarrow')\n",
    "    # Afficher le DataFrame\n",
    "    print(data.head())\n",
    "except Exception as e:\n",
    "    print(\"Une erreur s'est produite lors de la lecture du fichier Parquet :\", e)"
   ]
  },
  {
   "cell_type": "code",
   "execution_count": 3,
   "metadata": {},
   "outputs": [
    {
     "data": {
      "text/plain": [
       "(67957171, 2)"
      ]
     },
     "execution_count": 3,
     "metadata": {},
     "output_type": "execute_result"
    }
   ],
   "source": [
    "data.shape"
   ]
  },
  {
   "cell_type": "markdown",
   "metadata": {},
   "source": [
    "# Création d'un histogramme"
   ]
  },
  {
   "cell_type": "code",
   "execution_count": 3,
   "metadata": {},
   "outputs": [
    {
     "ename": "",
     "evalue": "",
     "output_type": "error",
     "traceback": [
      "\u001b[1;31mLe noyau s’est bloqué lors de l’exécution du code dans une cellule active ou une cellule précédente. \n",
      "\u001b[1;31mVeuillez vérifier le code dans la ou les cellules pour identifier une cause possible de l’échec. \n",
      "\u001b[1;31mCliquez <a href='https://aka.ms/vscodeJupyterKernelCrash'>ici</a> pour plus d’informations. \n",
      "\u001b[1;31mPour plus d’informations, consultez Jupyter <a href='command:jupyter.viewOutput'>log</a>."
     ]
    }
   ],
   "source": [
    "sns.histplot(df, x=\"size\")"
   ]
  },
  {
   "cell_type": "code",
   "execution_count": 4,
   "metadata": {},
   "outputs": [
    {
     "ename": "",
     "evalue": "",
     "output_type": "error",
     "traceback": [
      "\u001b[1;31mLe noyau s’est bloqué lors de l’exécution du code dans une cellule active ou une cellule précédente. \n",
      "\u001b[1;31mVeuillez vérifier le code dans la ou les cellules pour identifier une cause possible de l’échec. \n",
      "\u001b[1;31mCliquez <a href='https://aka.ms/vscodeJupyterKernelCrash'>ici</a> pour plus d’informations. \n",
      "\u001b[1;31mPour plus d’informations, consultez Jupyter <a href='command:jupyter.viewOutput'>log</a>."
     ]
    }
   ],
   "source": [
    "\n",
    "# sns.histplot(data=df['size'])\n",
    "\n",
    "# # Ajoutez des titres et des labels d'axes\n",
    "# plt.title('Histogramme des valeurs')\n",
    "# plt.xlabel('Taille')\n",
    "# plt.ylabel('Fréquence')\n",
    "\n",
    "# # Affichez l'histogramme\n",
    "# plt.show()"
   ]
  },
  {
   "cell_type": "code",
   "execution_count": 7,
   "metadata": {},
   "outputs": [
    {
     "data": {
      "image/png": "[encoded data removed]",
      "text/plain": [
       "<Figure size 640x480 with 1 Axes>"
      ]
     },
     "metadata": {},
     "output_type": "display_data"
    }
   ],
   "source": [
    "# Échantillonner aléatoirement vos données\n",
    "sampled_data = df.sample(n=50)  # Vous pouvez ajuster le nombre d'échantillons selon vos besoins\n",
    "\n",
    "# Tracer l'histogramme avec seaborn\n",
    "sns.histplot(sampled_data['size'], bins=30)  # Remplacez 'colonne_données' par le nom de votre colonne de données\n",
    "plt.show()"
   ]
  },
  {
   "cell_type": "code",
   "execution_count": 9,
   "metadata": {},
   "outputs": [
    {
     "ename": "AttributeError",
     "evalue": "'Canvas' object has no attribute 'density_heatmap'",
     "output_type": "error",
     "traceback": [
      "\u001b[0;31m---------------------------------------------------------------------------\u001b[0m",
      "\u001b[0;31mAttributeError\u001b[0m                            Traceback (most recent call last)",
      "Cell \u001b[0;32mIn[9], line 3\u001b[0m\n\u001b[1;32m      1\u001b[0m \u001b[38;5;66;03m# Agréger les données avec Datashader\u001b[39;00m\n\u001b[1;32m      2\u001b[0m cvs \u001b[38;5;241m=\u001b[39m ds\u001b[38;5;241m.\u001b[39mCanvas(plot_width\u001b[38;5;241m=\u001b[39m\u001b[38;5;241m1000\u001b[39m, plot_height\u001b[38;5;241m=\u001b[39m\u001b[38;5;241m1000\u001b[39m)\n\u001b[0;32m----> 3\u001b[0m agg \u001b[38;5;241m=\u001b[39m \u001b[43mcvs\u001b[49m\u001b[38;5;241;43m.\u001b[39;49m\u001b[43mdensity_heatmap\u001b[49m(df, x\u001b[38;5;241m=\u001b[39m\u001b[38;5;124m'\u001b[39m\u001b[38;5;124msize\u001b[39m\u001b[38;5;124m'\u001b[39m , y\u001b[38;5;241m=\u001b[39m\u001b[38;5;124m'\u001b[39m\u001b[38;5;124mcompID\u001b[39m\u001b[38;5;124m'\u001b[39m)\n\u001b[1;32m      4\u001b[0m img \u001b[38;5;241m=\u001b[39m tf\u001b[38;5;241m.\u001b[39mshade(agg, cmap\u001b[38;5;241m=\u001b[39minferno, how\u001b[38;5;241m=\u001b[39m\u001b[38;5;124m'\u001b[39m\u001b[38;5;124meq_hist\u001b[39m\u001b[38;5;124m'\u001b[39m)\n\u001b[1;32m      6\u001b[0m \u001b[38;5;66;03m# Convertir l'image Datashader en Plotly figure\u001b[39;00m\n",
      "\u001b[0;31mAttributeError\u001b[0m: 'Canvas' object has no attribute 'density_heatmap'"
     ]
    }
   ],
   "source": [
    "# Agréger les données avec Datashader\n",
    "cvs = ds.Canvas(plot_width=1000, plot_height=1000)\n",
    "agg = cvs.density_heatmap(df, x='size' , y='compID')\n",
    "img = tf.shade(agg, cmap=inferno, how='eq_hist')\n",
    "\n",
    "# Convertir l'image Datashader en Plotly figure\n",
    "fig = px.imshow(img.to_pil(), color_continuous_scale='inferno')\n",
    "\n",
    "# Ajouter des informations sur l'axe x\n",
    "fig.update_layout(\n",
    "    xaxis_title=\"Taille\",\n",
    "    yaxis_title=\"Count\"\n",
    ")\n",
    "\n",
    "# Afficher la figure Plotly\n",
    "fig.show()"
   ]
  }
 ],
 "metadata": {
  "kernelspec": {
   "display_name": "Python 3",
   "language": "python",
   "name": "python3"
  },
  "language_info": {
   "codemirror_mode": {
    "name": "ipython",
    "version": 3
   },
   "file_extension": ".py",
   "mimetype": "text/x-python",
   "name": "python",
   "nbconvert_exporter": "python",
   "pygments_lexer": "ipython3",
   "version": "3.8.10"
  }
 },
 "nbformat": 4,
 "nbformat_minor": 2
}

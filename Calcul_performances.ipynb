{
 "cells": [
  {
   "cell_type": "code",
   "execution_count": null,
   "metadata": {},
   "outputs": [],
   "source": [
    "import pandas as pd\n",
    "import findspark\n",
    "from pyspark.sql import SparkSession\n",
    "from pyspark import SparkConf\n",
    "\n",
    "# for dataframe and udf\n",
    "from pyspark.sql import *\n",
    "from pyspark.sql.functions import *\n",
    "from pyspark.sql.types import *\n",
    "\n",
    "\n",
    "from pyspark.sql.functions import col\n",
    "from pyspark.sql import functions as F\n",
    "\n",
    "from igraph import Graph\n",
    "from pyspark.sql.window import Window\n",
    "from pyspark.sql.functions import col\n",
    "\n",
    "from functools import reduce\n",
    "from pyspark.sql.functions import collect_set, min as min_, expr,array_min,max\n",
    "from pyspark.sql.functions import lit\n",
    "\n",
    "from pyspark.sql.types import StringType, IntegerType, LongType, FloatType, ArrayType,StructType,StructField, BooleanType\n",
    "\n",
    "import pandas as pd\n",
    "import glob\n",
    "\n",
    "import time\n",
    "\n",
    "import matplotlib.pyplot as plt\n",
    "\n",
    "from pyspark.sql.types import BooleanType\n"
   ]
  },
  {
   "cell_type": "code",
   "execution_count": null,
   "metadata": {},
   "outputs": [],
   "source": [
    "import os\n",
    "os.environ[\"SPARK_HOME\"] =  \"/root/anaconda3/lib/python3.9/site-packages/pyspark\" \n",
    "os.environ[\"JAVA_HOME\"] =\"/usr\""
   ]
  },
  {
   "cell_type": "markdown",
   "metadata": {},
   "source": [
    "# Lancer spark"
   ]
  },
  {
   "cell_type": "code",
   "execution_count": null,
   "metadata": {},
   "outputs": [],
   "source": [
    "findspark.init() \n",
    "\n",
    "def demarrer_spark(NB_CORES):\n",
    "  local = f\"local[{NB_CORES}]\"\n",
    "  # le parametre spark.local.dir indique le repertoire contenant les données temporaires ecrites sur disque lorsque le shufle ne tient pas en memoire\n",
    "  appName = \"PLDAC\"\n",
    "  configLocale = SparkConf().setAppName(appName).setMaster(local).\\\n",
    "  set(\"spark.executor.memory\", \"320G\").\\\n",
    "  set(\"spark.driver.memory\",\"320G\").\\\n",
    "  set(\"spark.sql.catalogImplementation\",\"in-memory\").\\\n",
    "  set(\"spark.driver.maxResultSize\", \"20G\").\\\n",
    "  set(\"spark.local.dir\", \"/data/bd/spark/tmp\").\\\n",
    "  set(\"spark.sql.execution.arrow.pyspark.enabled\", \"true\")\n",
    "    \n",
    "\n",
    "# # to allow sharing in memory arow format between pandas and spark : speeds up the creation of a spark df from a pandas df\n",
    "# spark.conf.set(\"spark.sql.execution.arrow.pyspark.enabled\", \"true\")\n",
    "\n",
    "\n",
    "  spark = SparkSession.builder.config(conf = configLocale).getOrCreate()\n",
    "  sc = spark.sparkContext\n",
    "  sc.setLogLevel(\"ERROR\")\n",
    "  \n",
    "  # spark.conf.set(\"spark.sql.autoBroadcastJoinThreshold\",\"-1\")\n",
    "    \n",
    "  # On ajuste l'environnement d'exécution des requêtes à la taille du cluster (NB_CORES coeurs)\n",
    "  shuffle_partitions = 3 * NB_CORES\n",
    "  print(\"shuffle\", shuffle_partitions)\n",
    "  spark.conf.set(\"spark.sql.shuffle.partitions\", str(shuffle_partitions))    \n",
    "\n",
    "  print(\"session démarrée, son id est \", sc.applicationId)\n",
    "  return spark\n"
   ]
  },
  {
   "cell_type": "markdown",
   "metadata": {},
   "source": [
    "# Comparaison du temps de lecture des fichiers avec plusieurs degrés de parallélisme :"
   ]
  },
  {
   "cell_type": "code",
   "execution_count": null,
   "metadata": {},
   "outputs": [],
   "source": [
    "import time\n",
    "def read_files(partition_folder,nb_partition ):\n",
    "   \n",
    "    def read_file(partition_file) :\n",
    "        #print(partition_file)\n",
    "        try:\n",
    "            df = pd.read_parquet(partition_file)\n",
    "            return True\n",
    "        except Exception as e:\n",
    "            return False\n",
    "\n",
    "    # Schéma du DataFrame\n",
    "    schema = StructType([\n",
    "        StructField(\"file\", StringType(), False)\n",
    "    ])\n",
    "    \n",
    "    # Données à partir desquelles créer le DataFrame\n",
    "    data = [(i,) for i, file in enumerate(os.listdir(partition_folder))]\n",
    "\n",
    "    # Création du DataFrame\n",
    "    df = spark.createDataFrame(data, schema).repartition(nb_partition)\n",
    "    # Enregistrer la fonction UDF\n",
    "    read_file_udf = F.udf(read_file,  BooleanType())\n",
    "    read_files_df = df.withColumn(\n",
    "        \"read_bool\",\n",
    "        read_file_udf(\n",
    "            F.concat(\n",
    "                F.lit(partition_folder + \"/partition_\"), \n",
    "                df[\"file\"] , \n",
    "                F.lit(\".parquet\")\n",
    "            )\n",
    "        )\n",
    "    )\n",
    "    \n",
    "    return read_files_df"
   ]
  },
  {
   "cell_type": "code",
   "execution_count": null,
   "metadata": {},
   "outputs": [
    {
     "name": "stdout",
     "output_type": "stream",
     "text": [
      "shuffle 180\n",
      "session démarrée, son id est  local-1712392800788\n"
     ]
    }
   ],
   "source": [
    "spark = demarrer_spark(60)\n",
    "partition_folder = f\"/data/bd/dataset/proteine/80_80/G99/graph_partitionned/200_partitions\""
   ]
  },
  {
   "cell_type": "code",
   "execution_count": null,
   "metadata": {},
   "outputs": [],
   "source": [
    "read_files_df = read_files(partition_folder , 60)"
   ]
  },
  {
   "cell_type": "code",
   "execution_count": null,
   "metadata": {},
   "outputs": [
    {
     "name": "stderr",
     "output_type": "stream",
     "text": [
      "[Stage 1:======================================================>  (57 + 3) / 60]\r"
     ]
    },
    {
     "name": "stdout",
     "output_type": "stream",
     "text": [
      "11.047338008880615\n"
     ]
    },
    {
     "name": "stderr",
     "output_type": "stream",
     "text": [
      "                                                                                \r"
     ]
    }
   ],
   "source": [
    "import time \n",
    "file_path = f\"/data/bd/dataset/proteine/80_80/G99/graph_partitionned/200_partitions/read_files_df\"\n",
    "start_time = time.time()\n",
    "read_files_df.write.mode(\"overwrite\").parquet(file_path)\n",
    "print(time.time() - start_time)"
   ]
  },
  {
   "cell_type": "code",
   "execution_count": null,
   "metadata": {},
   "outputs": [
    {
     "name": "stderr",
     "output_type": "stream",
     "text": [
      "                                                                                \r"
     ]
    }
   ],
   "source": [
    "\n",
    "import numpy as np\n",
    "degree_parallelisme = range(1,60,10)\n",
    "times_moy = []\n",
    "for d in degree_parallelisme:\n",
    "    times=[]\n",
    "    for i in range(15):\n",
    "        read_files_df = read_files(partition_folder , d)\n",
    "        start_time = time.time()\n",
    "        read_files_df.write.mode(\"overwrite\").parquet(file_path)\n",
    "        times.append(time.time() - start_time)\n",
    "    times_moy.append(np.mean(times))\n",
    "    \n",
    "    "
   ]
  },
  {
   "cell_type": "code",
   "execution_count": null,
   "metadata": {},
   "outputs": [
    {
     "data": {
      "image/png": "[encoded data removed]",
      "text/plain": [
       "<Figure size 432x288 with 1 Axes>"
      ]
     },
     "metadata": {},
     "output_type": "display_data"
    }
   ],
   "source": [
    "plt.plot(degree_parallelisme, times_moy)\n",
    "\n",
    "plt.xlabel('Degrée de Parallélisme')\n",
    "plt.ylabel('Temps')\n",
    "plt.title('Comparaison du temps de lecture des fichiers sur 200_partitions') \n",
    "\n",
    "plt.show()\n",
    "\n",
    "#clculer la moyenne avec le write"
   ]
  },
  {
   "cell_type": "code",
   "execution_count": null,
   "metadata": {},
   "outputs": [],
   "source": [
    "spark.stop()"
   ]
  },
  {
   "cell_type": "markdown",
   "metadata": {},
   "source": [
    "# Comparaison du temps de calcul des composantes partielles :"
   ]
  },
  {
   "cell_type": "code",
   "execution_count": null,
   "metadata": {},
   "outputs": [],
   "source": [
    "def calculate_partition_components(partition_folder , nb_partition):\n",
    "   \n",
    "    def components(partition_file, num_file , d) :\n",
    "        df = pd.read_parquet(partition_file )\n",
    "        g = Graph.TupleList(df[['query_id', 'target_id']].itertuples(index=False), directed=False)\n",
    "        connected_components = g.connected_components()\n",
    "        node_ids=[]\n",
    "        for component in connected_components:\n",
    "            node_ids.append([g.vs[node_index]['name'] for node_index in component])\n",
    "        #on trie en fonction de la taille \n",
    "        composantes_triees = sorted(node_ids, key=len, reverse=True)\n",
    "        # Créer une liste de lignes pour chaque composante\n",
    "        rows = []\n",
    "        for i, component in enumerate(composantes_triees):\n",
    "            for seqid in component:\n",
    "                rows.append((seqid , i)) \n",
    "        return rows\n",
    "\n",
    "    # Schéma du DataFrame\n",
    "    schema = StructType([\n",
    "        StructField(\"file\", StringType(), False)\n",
    "    ])\n",
    "    \n",
    "    # Données à partir desquelles créer le DataFrame\n",
    "    data = [(i,) for i in range(200)]\n",
    "\n",
    "    # Création du DataFrame\n",
    "    df = spark.createDataFrame(data, schema).repartition(nb_partition)\n",
    "    # Enregistrer la fonction UDF\n",
    "    schema_components = StructType([\n",
    "        StructField(\"seqID\", StringType(), nullable=False),\n",
    "        StructField(\"component_id\", IntegerType(), nullable=False)\n",
    "    ])\n",
    "    components_udf = F.udf(components, ArrayType(schema_components))\n",
    "    #df_with_components = df.withColumn(\"components\", components_udf(F.concat(F.lit(partition_folder+\"/\"), df[\"file\"])))\n",
    "    df_with_components = df.withColumn(\n",
    "        \"components\",\n",
    "        components_udf(\n",
    "            F.concat(\n",
    "                F.lit(partition_folder + \"/partition_\"), \n",
    "                df[\"file\"] , \n",
    "                F.lit(\".parquet\")\n",
    "            ) , \n",
    "            df[\"file\"],\n",
    "            F.lit(nb_partition)\n",
    "        )\n",
    "    )\n",
    "    \n",
    "    return df_with_components"
   ]
  },
  {
   "cell_type": "code",
   "execution_count": null,
   "metadata": {},
   "outputs": [
    {
     "name": "stdout",
     "output_type": "stream",
     "text": [
      "shuffle 180\n",
      "session démarrée, son id est  local-1712401023419\n"
     ]
    }
   ],
   "source": [
    "spark = demarrer_spark(60)"
   ]
  },
  {
   "cell_type": "code",
   "execution_count": null,
   "metadata": {},
   "outputs": [],
   "source": [
    "partition_folder = f\"/data/bd/dataset/proteine/80_80/G99/graph_partitionned/200_partitions\""
   ]
  },
  {
   "cell_type": "code",
   "execution_count": null,
   "metadata": {},
   "outputs": [],
   "source": [
    "df_with_component = calculate_partition_components(partition_folder , 60)"
   ]
  },
  {
   "cell_type": "code",
   "execution_count": null,
   "metadata": {},
   "outputs": [
    {
     "name": "stderr",
     "output_type": "stream",
     "text": [
      "[Stage 1:========================================================>(59 + 1) / 60]\r"
     ]
    },
    {
     "name": "stdout",
     "output_type": "stream",
     "text": [
      "60.28257203102112\n"
     ]
    },
    {
     "name": "stderr",
     "output_type": "stream",
     "text": [
      "                                                                                \r"
     ]
    }
   ],
   "source": [
    "start_time = time.time()\n",
    "directory_path =f\"/data/bd/dataset/proteine/80_80/G99/graph_partitionned_components/200_partitions_components\"\n",
    "# df_with_component.write.mode(\"overwrite\").parquet(directory_path)\n",
    "df_with_component.write.mode(\"overwrite\").parquet(directory_path)\n",
    "print(time.time() - start_time)\n"
   ]
  },
  {
   "cell_type": "code",
   "execution_count": null,
   "metadata": {},
   "outputs": [
    {
     "name": "stderr",
     "output_type": "stream",
     "text": [
      "[Stage 3:===================================================>       (7 + 1) / 8]\r"
     ]
    },
    {
     "name": "stdout",
     "output_type": "stream",
     "text": [
      "317.6276843547821\n"
     ]
    },
    {
     "name": "stderr",
     "output_type": "stream",
     "text": [
      "                                                                                \r"
     ]
    }
   ],
   "source": [
    "df_with_component = calculate_partition_components(partition_folder , 8)\n",
    "start_time = time.time()\n",
    "df_with_component.write.mode(\"overwrite\").parquet(directory_path)\n",
    "print(time.time() - start_time)\n"
   ]
  },
  {
   "cell_type": "code",
   "execution_count": null,
   "metadata": {},
   "outputs": [
    {
     "name": "stderr",
     "output_type": "stream",
     "text": [
      "[Stage 9:======================================================>  (19 + 1) / 20]\r"
     ]
    },
    {
     "name": "stdout",
     "output_type": "stream",
     "text": [
      "77.11013054847717\n"
     ]
    },
    {
     "name": "stderr",
     "output_type": "stream",
     "text": [
      "                                                                                \r"
     ]
    }
   ],
   "source": [
    "df_with_component = calculate_partition_components(partition_folder , 20)\n",
    "start_time = time.time()\n",
    "df_with_component.write.mode(\"overwrite\").parquet(directory_path)\n",
    "print(time.time() - start_time)\n"
   ]
  },
  {
   "cell_type": "code",
   "execution_count": null,
   "metadata": {},
   "outputs": [
    {
     "name": "stderr",
     "output_type": "stream",
     "text": [
      "[Stage 7:========================================================>(59 + 1) / 60]\r"
     ]
    },
    {
     "name": "stdout",
     "output_type": "stream",
     "text": [
      "56.03961229324341\n"
     ]
    },
    {
     "name": "stderr",
     "output_type": "stream",
     "text": [
      "                                                                                \r"
     ]
    }
   ],
   "source": [
    "df_with_component = calculate_partition_components(partition_folder , 60)\n",
    "start_time = time.time()\n",
    "df_with_component.write.mode(\"overwrite\").parquet(directory_path)\n",
    "print(time.time() - start_time)\n"
   ]
  },
  {
   "cell_type": "code",
   "execution_count": null,
   "metadata": {},
   "outputs": [
    {
     "name": "stderr",
     "output_type": "stream",
     "text": [
      "                                                                                \r"
     ]
    }
   ],
   "source": [
    "\n",
    "degree_parallelisme = range(1,60,10)\n",
    "times_moy = []\n",
    "\n",
    "for d in degree_parallelisme:\n",
    "    times=[]\n",
    "    for i in range(5):\n",
    "        df_with_component = calculate_partition_components(partition_folder , d)\n",
    "        start_time = time.time()\n",
    "        df_with_component.write.mode(\"overwrite\").parquet(directory_path)\n",
    "        times.append(time.time() - start_time)\n",
    "    times_moy.append(np.mean(times))\n",
    "    \n",
    "    "
   ]
  },
  {
   "cell_type": "code",
   "execution_count": null,
   "metadata": {},
   "outputs": [
    {
     "data": {
      "image/png": "[encoded data removed]",
      "text/plain": [
       "<Figure size 432x288 with 1 Axes>"
      ]
     },
     "metadata": {},
     "output_type": "display_data"
    }
   ],
   "source": [
    "plt.plot(degree_parallelisme, times)\n",
    "\n",
    "plt.xlabel('Degrée de Parallélisme')\n",
    "plt.ylabel('Temps de calcul des composantes')\n",
    "plt.title('Comparaison du Temps de calcul des composantes sur 200_partitions') \n",
    "\n",
    "plt.show()\n",
    "\n"
   ]
  },
  {
   "cell_type": "markdown",
   "metadata": {},
   "source": [
    "## G prime : "
   ]
  },
  {
   "cell_type": "code",
   "execution_count": null,
   "metadata": {},
   "outputs": [],
   "source": [
    "def components_2(edges):\n",
    "    # Créer un graphe à partir des arêtes\n",
    "    g = Graph.TupleList(edges, directed=False)\n",
    "    \n",
    "    connected_components = g.connected_components()\n",
    "    node_ids=[]\n",
    "    for component in connected_components:\n",
    "        node_ids.append([g.vs[node_index]['name'] for node_index in component])\n",
    "    #on trie en fonction de la taille \n",
    "    composantes_triees = sorted(node_ids, key=len, reverse=True)\n",
    "    # Créer une liste de lignes pour chaque composante\n",
    "    rows = []\n",
    "    for i, component in enumerate(composantes_triees):\n",
    "        for seqid in component:\n",
    "            rows.append(Row(partial_component=seqid ,component=i ))\n",
    "    \n",
    "    # Créer un DataFrame Spark à partir de la liste de lignes\n",
    "    result_df = spark.createDataFrame(rows)\n",
    "    return result_df"
   ]
  },
  {
   "cell_type": "code",
   "execution_count": null,
   "metadata": {},
   "outputs": [],
   "source": [
    "def calculate_components(folder_partition,d ):\n",
    "    # Claclul des composantes partielles dans chaque partition\n",
    "    df_with_components = calculate_partition_components(folder_partition,d)\n",
    "    \n",
    "    df_exploded = df_with_components.select('file',  F.explode('components').alias('component'))\n",
    "    df_split = df_exploded.select(\"file\", col(\"component.seqID\").alias(\"seqID\"), col(\"component.component_id\").alias(\"component_id\"))\n",
    "    \n",
    "    # Ajouter une colonne d'identifiant unique basée sur le couple (file, component_id)\n",
    "    windowSpec = Window.orderBy(\"file\", \"component_id\")\n",
    "    df = df_split.withColumn(\"new_component_id\", dense_rank().over(windowSpec))\n",
    "    new_df = df.select(\"seqID\",\"new_component_id\")\n",
    "\n",
    "    # new_df = df_split.select(\n",
    "    #             'seqID',\n",
    "    #             concat(col('file'), lit(':'), col('component_id')).alias('new_component_id')\n",
    "    #         )\n",
    "    \n",
    "    #cration d'un graph ou chaque noeud est le numero d'une composante (new_graph)\n",
    "\n",
    "    components_per_node = new_df \\\n",
    "        .groupby(\"seqID\") \\\n",
    "        .agg(collect_set(\"new_component_id\").alias(\"components\")) \\\n",
    "        .withColumn(\"min_component\", array_min(\"components\"))\n",
    "\n",
    "    # components_per_node = new_df \\\n",
    "    #     .groupby(\"seqID\") \\\n",
    "    #     .agg(collect_set(\"new_component_id\").alias(\"components\")) \\\n",
    "    #     .withColumn(\"min_component\", array_min(\"components\"))\n",
    "\n",
    "\n",
    "    components_per_node_exploded = components_per_node.select('seqID', 'min_component', F.explode('components').alias('component'))\n",
    "    result = components_per_node_exploded.where(col(\"component\") > col(\"min_component\")).drop(\"seqID\").dropDuplicates()\n",
    "  \n",
    "    \n",
    "    new_graph = result.withColumnRenamed(\"min_component\", \"src\").withColumnRenamed(\"component\", \"dst\")\n",
    "\n",
    "    #calcul des composantes sur le nouveau graph\n",
    "    edges =new_graph.select('src', 'dst').collect()\n",
    "    composantes_df = components_2(edges)\n",
    "\n",
    "    composantes_df_exploded = composantes_df \\\n",
    "            .groupby(\"component\") \\\n",
    "            .agg(collect_set(\"partial_component\").alias(\"partial_components\")) \\\n",
    "            .withColumn(\"min_partial_component\", array_min(\"partial_components\")) \\\n",
    "            .selectExpr(\"explode(partial_components) as partial_component\" , \"min_partial_component\")\n",
    "    \n",
    "    #resultat final en faisant une jointure gauche\n",
    "    result = components_per_node.join(composantes_df_exploded, components_per_node.min_component == composantes_df_exploded.partial_component, \"left_outer\") \\\n",
    "               .select(components_per_node.seqID, when(composantes_df_exploded.partial_component.isNull(), components_per_node.min_component).otherwise(composantes_df_exploded.min_partial_component).alias(\"new_component_id\"))\n",
    "\n",
    "\n",
    "    #ecriture du résultat dans des fichier parquet\n",
    "    file_path = f\"/data/bd/dataset/proteine/80_80/G99/graph_nodeID_only\"\n",
    "    result.repartition(1).write.mode(\"overwrite\").parquet(file_path)\n",
    "    \n",
    "    return result"
   ]
  },
  {
   "cell_type": "code",
   "execution_count": null,
   "metadata": {},
   "outputs": [],
   "source": [
    "def calculate_components_bis(folder_partition,d ):    \n",
    "    # partition_folder = f\"/data/bd/dataset/proteine/80_80/G99/TEST_RACHA_CALCUL_COMPOSANTES/200_partitions/\"\n",
    "    df_with_components = calculate_partition_components(folder_partition,d)\n",
    "\n",
    "    df_exploded = df_with_components.select('file',  F.explode('components').alias('component'))\n",
    "    df_split = df_exploded.select(\"file\", col(\"component.seqID\").alias(\"seqID\"), col(\"component.component_id\").alias(\"component_id\"))\n",
    "\n",
    "    # # Ajouter une colonne d'identifiant unique basée sur le couple (file, component_id)\n",
    "    windowSpec = Window.orderBy(\"file\", \"component_id\")\n",
    "    df = df_split.withColumn(\"new_component_id\", dense_rank().over(windowSpec))\n",
    "    new_df = df.select(\"seqID\",\"new_component_id\")\n",
    "\n",
    "\n",
    "    components_per_node = new_df \\\n",
    "        .groupby(\"seqID\") \\\n",
    "        .agg(collect_set(\"new_component_id\").alias(\"components\")) \\\n",
    "        .withColumn(\"min_component\", array_min(\"components\"))\n",
    "\n",
    "\n",
    "    components_per_node_exploded = components_per_node.select('seqID', 'min_component', F.explode('components').alias('component'))\n",
    "    result = components_per_node_exploded.where(col(\"component\") > col(\"min_component\")).drop(\"seqID\").dropDuplicates()\n",
    "\n",
    "\n",
    "    new_graph = result.withColumnRenamed(\"min_component\", \"src\").withColumnRenamed(\"component\", \"dst\")\n",
    "\n",
    "\n",
    "    new_graph.select('src', 'dst').write.csv(f'/data/bd/dataset/proteine/80_80/G99/TEST_RACHA_CALCUL_COMPOSANTES/200_part_test_60/200_part_graphe_{d}_G_prime.csv')\n",
    "\n",
    "    #--------------------\n",
    "    edges = spark.read.csv(f'/data/bd/dataset/proteine/80_80/G99/TEST_RACHA_CALCUL_COMPOSANTES/200_part_test_60/200_part_graphe_{d}_G_prime.csv', header=False, inferSchema=True)\n",
    "\n",
    "    # Création du graph avec igraph\n",
    "    # from igraph import Graph\n",
    "\n",
    "    # Conversion des arêtes DataFrame en liste de tuples\n",
    "    edges_list = edges.rdd.map(lambda row: (row[0], row[1])).collect()\n",
    "\n",
    "    start_timeG = time.time()\n",
    "\n",
    "    #___________\n",
    "    composantes_df = components_2(edges_list)\n",
    "    \n",
    "    composantes_df_exploded = composantes_df \\\n",
    "        .groupby(\"component\") \\\n",
    "        .agg(collect_set(\"partial_component\").alias(\"partial_components\")) \\\n",
    "        .withColumn(\"min_partial_component\", array_min(\"partial_components\")) \\\n",
    "        .selectExpr(\"explode(partial_components) as partial_component\" , \"min_partial_component\")\n",
    "\n",
    "    # #resultat final en faisant une jointure gauche\n",
    "    result = components_per_node.join(composantes_df_exploded, components_per_node.min_component == composantes_df_exploded.partial_component, \"left_outer\") \\\n",
    "               .select(components_per_node.seqID, when(composantes_df_exploded.partial_component.isNull(), components_per_node.min_component).otherwise(composantes_df_exploded.min_partial_component).alias(\"new_component_id\"))\n",
    "\n",
    "\n",
    "    #ecriture du résultat dans des fichier parquet\n",
    "    # file_path = f\"/data/bd/dataset/proteine/80_80/G99/TEST_RACHA_CALCUL_COMPOSANTES/composantes_finales_test_temps\"\n",
    "    # result.write.mode(\"overwrite\").parquet(file_path)\n",
    "\n",
    "    return result"
   ]
  },
  {
   "cell_type": "markdown",
   "metadata": {},
   "source": [
    "### Temps de calcul :"
   ]
  },
  {
   "cell_type": "code",
   "execution_count": null,
   "metadata": {},
   "outputs": [],
   "source": [
    "import numpy as np\n",
    "# Création du graph avec igraph\n",
    "from igraph import Graph\n",
    "\n",
    "degree_parallelisme = range(60,70,10)\n",
    "#times_moy_total = []\n",
    "# times_moy_total = [8239.460281133652, 8227.631975936889]\n",
    "# times_Gprime_moy_total = [0, 0]\n",
    "\n",
    "\n",
    "times_Gprime_moy_total =  []\n",
    "times_moy_total =  []\n",
    "\n",
    "for d in degree_parallelisme:\n",
    "    print(times_moy_total)\n",
    "    print(\"d :\",d)\n",
    "    spark = demarrer_spark(d)\n",
    "    times = []\n",
    "    start_time = time.time()\n",
    "    \n",
    "    partition_folder = f\"/data/bd/dataset/proteine/80_80/G99/TEST_RACHA_CALCUL_COMPOSANTES/200_partitions/\"\n",
    "    df_with_components = calculate_partition_components(partition_folder,60)\n",
    "\n",
    "    df_exploded = df_with_components.select('file',  F.explode('components').alias('component'))\n",
    "    df_split = df_exploded.select(\"file\", col(\"component.seqID\").alias(\"seqID\"), col(\"component.component_id\").alias(\"component_id\"))\n",
    "\n",
    "    # # Ajouter une colonne d'identifiant unique basée sur le couple (file, component_id)\n",
    "    windowSpec = Window.orderBy(\"file\", \"component_id\")\n",
    "    df = df_split.withColumn(\"new_component_id\", dense_rank().over(windowSpec))\n",
    "    new_df = df.select(\"seqID\",\"new_component_id\")\n",
    "\n",
    "\n",
    "    components_per_node = new_df \\\n",
    "        .groupby(\"seqID\") \\\n",
    "        .agg(collect_set(\"new_component_id\").alias(\"components\")) \\\n",
    "        .withColumn(\"min_component\", array_min(\"components\"))\n",
    "\n",
    "\n",
    "    components_per_node_exploded = components_per_node.select('seqID', 'min_component', F.explode('components').alias('component'))\n",
    "    result = components_per_node_exploded.where(col(\"component\") > col(\"min_component\")).drop(\"seqID\").dropDuplicates()\n",
    "\n",
    "\n",
    "    new_graph = result.withColumnRenamed(\"min_component\", \"src\").withColumnRenamed(\"component\", \"dst\")\n",
    "\n",
    "    file_path_writing = f\"/data/bd/dataset/proteine/80_80/G99/TEST_RACHA_CALCUL_COMPOSANTES/200_part_G_prime_temps_execution/200_part_d_{d}_sans_i_graphe_G_prime.csv\"\n",
    "    new_graph.select('src', 'dst').write.csv(file_path_writing)\n",
    "\n",
    "    #--------------------\n",
    "    edges = spark.read.csv(f\"/data/bd/dataset/proteine/80_80/G99/TEST_RACHA_CALCUL_COMPOSANTES/200_part_G_prime_temps_execution/200_part_d_{d}_sans_i_graphe_G_prime.csv\", header=False, inferSchema=True)\n",
    "\n",
    "\n",
    "    # Conversion des arêtes DataFrame en liste de tuples\n",
    "    edges_list = edges.rdd.map(lambda row: (row[0], row[1])).collect()\n",
    "\n",
    "    #___________\n",
    "    \n",
    "    start_time_G_prime = time.time()\n",
    "\n",
    "    composantes_df = components_2(edges_list)\n",
    "    composantes_df_exploded = composantes_df \\\n",
    "    .groupby(\"component\") \\\n",
    "    .agg(collect_set(\"partial_component\").alias(\"partial_components\")) \\\n",
    "    .withColumn(\"min_partial_component\", array_min(\"partial_components\")) \\\n",
    "    .selectExpr(\"explode(partial_components) as partial_component\" , \"min_partial_component\")\n",
    "\n",
    "    # #resultat final en faisant une jointure gauche\n",
    "    result = components_per_node.join(composantes_df_exploded, components_per_node.min_component == composantes_df_exploded.partial_component, \"left_outer\") \\\n",
    "               .select(components_per_node.seqID, when(composantes_df_exploded.partial_component.isNull(), components_per_node.min_component).otherwise(composantes_df_exploded.min_partial_component).alias(\"new_component_id\"))\n",
    "\n",
    "\n",
    "    #ecriture du résultat dans des fichier parquet\n",
    "    file_path = f\"/data/bd/dataset/proteine/80_80/G99/TEST_RACHA_CALCUL_COMPOSANTES/composantes_finales_test_temps\"\n",
    "    result.write.mode(\"overwrite\").parquet(file_path)\n",
    "\n",
    "    # times.append(time.time() - start_time)\n",
    "    # times_moy_total.append(np.mean(times))\n",
    "    times_Gprime_moy_total.append(time.time() - start_time_G_prime)\n",
    "    times_moy_total.append(time.time() - start_time)\n",
    "    print(\"G prime \",times_Gprime_moy_total)\n",
    "    print(\"Time total   \",times_moy_total)\n",
    "    spark.stop()\n",
    "    \n"
   ]
  },
  {
   "cell_type": "code",
   "execution_count": null,
   "metadata": {},
   "outputs": [
    {
     "data": {
      "image/png": "[encoded data removed]",
      "text/plain": [
       "<Figure size 432x288 with 1 Axes>"
      ]
     },
     "metadata": {},
     "output_type": "display_data"
    }
   ],
   "source": [
    "plt.plot(degree_parallelisme, times_Gprime_moy_total)\n",
    "\n",
    "plt.xlabel('Degrée de Parallélisme')\n",
    "plt.ylabel('Temps')\n",
    "plt.title('Comparaison du temps de calcul de G prime avec 200_partitions') \n",
    "\n",
    "plt.show()"
   ]
  },
  {
   "cell_type": "code",
   "execution_count": null,
   "metadata": {},
   "outputs": [
    {
     "data": {
      "image/png": "[encoded data removed]",
      "text/plain": [
       "<Figure size 432x288 with 1 Axes>"
      ]
     },
     "metadata": {},
     "output_type": "display_data"
    }
   ],
   "source": [
    "plt.plot(degree_parallelisme, times_moy_total)\n",
    "\n",
    "plt.xlabel('Degrée de Parallélisme')\n",
    "plt.ylabel('Temps')\n",
    "plt.title('Comparaison du temps de calcul des composantes finales avec 200_partitions') \n",
    "\n",
    "plt.show()"
   ]
  },
  {
   "cell_type": "markdown",
   "metadata": {},
   "source": [
    "# Vérification des résultats : "
   ]
  },
  {
   "cell_type": "code",
   "execution_count": null,
   "metadata": {},
   "outputs": [
    {
     "name": "stdout",
     "output_type": "stream",
     "text": [
      "shuffle 180\n",
      "session démarrée, son id est  local-1713565470459\n"
     ]
    }
   ],
   "source": [
    "spark = demarrer_spark(60)"
   ]
  },
  {
   "cell_type": "code",
   "execution_count": null,
   "metadata": {},
   "outputs": [
    {
     "name": "stderr",
     "output_type": "stream",
     "text": [
      "                                                                                \r"
     ]
    }
   ],
   "source": [
    "# Création du graph avec igraph\n",
    "from igraph import Graph\n",
    "\n",
    "partition_folder = f\"/data/bd/dataset/proteine/80_80/G99/TEST_RACHA_CALCUL_COMPOSANTES/200_partitions/\"\n",
    "df_with_components = calculate_partition_components(partition_folder,60)\n",
    "\n",
    "df_exploded = df_with_components.select('file',  F.explode('components').alias('component'))\n",
    "df_split = df_exploded.select(\"file\", col(\"component.seqID\").alias(\"seqID\"), col(\"component.component_id\").alias(\"component_id\"))\n",
    "\n",
    "# # Ajouter une colonne d'identifiant unique basée sur le couple (file, component_id)\n",
    "windowSpec = Window.orderBy(\"file\", \"component_id\")\n",
    "df = df_split.withColumn(\"new_component_id\", dense_rank().over(windowSpec))\n",
    "new_df = df.select(\"seqID\",\"new_component_id\")\n",
    "\n",
    "\n",
    "components_per_node = new_df \\\n",
    "    .groupby(\"seqID\") \\\n",
    "    .agg(collect_set(\"new_component_id\").alias(\"components\")) \\\n",
    "    .withColumn(\"min_component\", array_min(\"components\"))\n",
    "\n",
    "\n",
    "components_per_node_exploded = components_per_node.select('seqID', 'min_component', F.explode('components').alias('component'))\n",
    "result = components_per_node_exploded.where(col(\"component\") > col(\"min_component\")).drop(\"seqID\").dropDuplicates()\n",
    "\n",
    "\n",
    "new_graph = result.withColumnRenamed(\"min_component\", \"src\").withColumnRenamed(\"component\", \"dst\")\n",
    "\n",
    "\n",
    "new_graph.select('src', 'dst').write.csv('/data/bd/dataset/proteine/80_80/G99/TEST_RACHA_CALCUL_COMPOSANTES/200_part_graphe_G_prime.csv')\n",
    "\n",
    "#--------------------\n",
    "edges = spark.read.csv('/data/bd/dataset/proteine/80_80/G99/TEST_RACHA_CALCUL_COMPOSANTES/200_part_graphe_G_prime.csv', header=False, inferSchema=True)\n",
    "\n",
    "\n",
    "# Conversion des arêtes DataFrame en liste de tuples\n",
    "edges_list = edges.rdd.map(lambda row: (row[0], row[1])).collect()\n",
    "\n",
    "#___________\n",
    "composantes_df = components_2(edges_list)\n"
   ]
  },
  {
   "cell_type": "code",
   "execution_count": null,
   "metadata": {},
   "outputs": [
    {
     "name": "stderr",
     "output_type": "stream",
     "text": [
      "                                                                                \r"
     ]
    }
   ],
   "source": [
    "composantes_df_exploded = composantes_df \\\n",
    "        .groupby(\"component\") \\\n",
    "        .agg(collect_set(\"partial_component\").alias(\"partial_components\")) \\\n",
    "        .withColumn(\"min_partial_component\", array_min(\"partial_components\")) \\\n",
    "        .selectExpr(\"explode(partial_components) as partial_component\" , \"min_partial_component\")\n",
    "\n",
    "# #resultat final en faisant une jointure gauche\n",
    "result = components_per_node.join(composantes_df_exploded, components_per_node.min_component == composantes_df_exploded.partial_component, \"left_outer\") \\\n",
    "           .select(components_per_node.seqID, when(composantes_df_exploded.partial_component.isNull(), components_per_node.min_component).otherwise(composantes_df_exploded.min_partial_component).alias(\"new_component_id\"))\n",
    "\n",
    "\n",
    "#ecriture du résultat dans des fichier parquet\n",
    "file_path = f\"/data/bd/dataset/proteine/80_80/G99/TEST_RACHA_CALCUL_COMPOSANTES/composantes_finales\"\n",
    "result.repartition(1).write.mode(\"overwrite\").parquet(file_path)"
   ]
  },
  {
   "cell_type": "code",
   "execution_count": null,
   "metadata": {},
   "outputs": [],
   "source": [
    "import pandas as pd\n",
    "comp_finales = pd.read_parquet(\"/data/bd/dataset/proteine/80_80/G99/TEST_RACHA_CALCUL_COMPOSANTES/composantes_finales/part-00000-b029e13d-fe4a-4a50-8637-053cae6409cd-c000.snappy.parquet\")\n"
   ]
  },
  {
   "cell_type": "code",
   "execution_count": null,
   "metadata": {},
   "outputs": [
    {
     "data": {
      "text/html": [
       "<div>\n",
       "<style scoped>\n",
       "    .dataframe tbody tr th:only-of-type {\n",
       "        vertical-align: middle;\n",
       "    }\n",
       "\n",
       "    .dataframe tbody tr th {\n",
       "        vertical-align: top;\n",
       "    }\n",
       "\n",
       "    .dataframe thead th {\n",
       "        text-align: right;\n",
       "    }\n",
       "</style>\n",
       "<table border=\"1\" class=\"dataframe\">\n",
       "  <thead>\n",
       "    <tr style=\"text-align: right;\">\n",
       "      <th></th>\n",
       "      <th>seqID</th>\n",
       "      <th>new_component_id</th>\n",
       "    </tr>\n",
       "  </thead>\n",
       "  <tbody>\n",
       "    <tr>\n",
       "      <th>0</th>\n",
       "      <td>EukProt-v2_XP_001277102.1</td>\n",
       "      <td>163</td>\n",
       "    </tr>\n",
       "    <tr>\n",
       "      <th>1</th>\n",
       "      <td>EukProt-v2_XP_001277207.1</td>\n",
       "      <td>163</td>\n",
       "    </tr>\n",
       "    <tr>\n",
       "      <th>2</th>\n",
       "      <td>EukProt-v2_XP_001277400.1</td>\n",
       "      <td>163</td>\n",
       "    </tr>\n",
       "    <tr>\n",
       "      <th>3</th>\n",
       "      <td>EukProt-v2_XP_001277426.1</td>\n",
       "      <td>163</td>\n",
       "    </tr>\n",
       "    <tr>\n",
       "      <th>4</th>\n",
       "      <td>EukProt-v2_XP_001277442.1</td>\n",
       "      <td>163</td>\n",
       "    </tr>\n",
       "    <tr>\n",
       "      <th>...</th>\n",
       "      <td>...</td>\n",
       "      <td>...</td>\n",
       "    </tr>\n",
       "    <tr>\n",
       "      <th>495</th>\n",
       "      <td>METdb_00138-1-DN8667-c4-g1-i1.p1</td>\n",
       "      <td>906</td>\n",
       "    </tr>\n",
       "    <tr>\n",
       "      <th>496</th>\n",
       "      <td>METdb_00138-1-DN8667-c4-g1-i2.p1</td>\n",
       "      <td>906</td>\n",
       "    </tr>\n",
       "    <tr>\n",
       "      <th>497</th>\n",
       "      <td>METdb_00138-1-DN8667-c4-g1-i3.p1</td>\n",
       "      <td>906</td>\n",
       "    </tr>\n",
       "    <tr>\n",
       "      <th>498</th>\n",
       "      <td>METdb_00139-1-DN5009-c8-g1-i15.p1</td>\n",
       "      <td>906</td>\n",
       "    </tr>\n",
       "    <tr>\n",
       "      <th>499</th>\n",
       "      <td>METdb_00139-1-DN5009-c8-g1-i7.p1</td>\n",
       "      <td>906</td>\n",
       "    </tr>\n",
       "  </tbody>\n",
       "</table>\n",
       "<p>500 rows × 2 columns</p>\n",
       "</div>"
      ],
      "text/plain": [
       "                                 seqID  new_component_id\n",
       "0            EukProt-v2_XP_001277102.1               163\n",
       "1            EukProt-v2_XP_001277207.1               163\n",
       "2            EukProt-v2_XP_001277400.1               163\n",
       "3            EukProt-v2_XP_001277426.1               163\n",
       "4            EukProt-v2_XP_001277442.1               163\n",
       "..                                 ...               ...\n",
       "495   METdb_00138-1-DN8667-c4-g1-i1.p1               906\n",
       "496   METdb_00138-1-DN8667-c4-g1-i2.p1               906\n",
       "497   METdb_00138-1-DN8667-c4-g1-i3.p1               906\n",
       "498  METdb_00139-1-DN5009-c8-g1-i15.p1               906\n",
       "499   METdb_00139-1-DN5009-c8-g1-i7.p1               906\n",
       "\n",
       "[500 rows x 2 columns]"
      ]
     },
     "metadata": {},
     "output_type": "display_data"
    }
   ],
   "source": [
    "comp_finales.head(500)"
   ]
  },
  {
   "cell_type": "code",
   "execution_count": null,
   "metadata": {},
   "outputs": [
    {
     "data": {
      "text/plain": [
       "6987557"
      ]
     },
     "metadata": {},
     "output_type": "display_data"
    }
   ],
   "source": [
    "comp_finales['new_component_id'].nunique()"
   ]
  },
  {
   "cell_type": "code",
   "execution_count": null,
   "metadata": {},
   "outputs": [
    {
     "data": {
      "text/plain": [
       "(25434662, 2)"
      ]
     },
     "metadata": {},
     "output_type": "display_data"
    }
   ],
   "source": [
    "comp_finales.shape"
   ]
  },
  {
   "cell_type": "markdown",
   "metadata": {},
   "source": [
    "### Verification du nombre de composantes calculé:"
   ]
  },
  {
   "cell_type": "code",
   "execution_count": null,
   "metadata": {},
   "outputs": [
    {
     "name": "stdout",
     "output_type": "stream",
     "text": [
      "      query_id                     target_id  component_id  query_length  \\\n",
      "0  100001694:0                    99948071:3         35357            84   \n",
      "1  100002413:0  EukProt-v2_GAXK01086771.1.p1       4198637           117   \n",
      "2  100003668:0                    39074797:4           354           102   \n",
      "3  100003668:0                    47972146:2           354           102   \n",
      "4  100003668:0                    49586757:5           354           102   \n",
      "\n",
      "   target_length  match_length  percent_identity       e_value  relative_sim  \\\n",
      "0             63            63             100.0  4.400000e-30         1.000   \n",
      "1            903           117              99.1  2.500000e-58         0.991   \n",
      "2            284           102              99.0  8.700000e-55         0.990   \n",
      "3            259           102             100.0  1.700000e-55         1.000   \n",
      "4            234           102              99.0  8.700000e-55         0.990   \n",
      "\n",
      "   r  \n",
      "0  1  \n",
      "1  1  \n",
      "2  1  \n",
      "3  1  \n",
      "4  1  \n",
      "Nombre de lignes dans le DataFrame : 341807741\n",
      "Nombre de colonnes dans le DataFrame : 10\n"
     ]
    }
   ],
   "source": [
    "# Chemin du dossier contenant les fichiers Parquet\n",
    "folder_path = \"/data/bd/dataset/proteine/80_80/G99/graph_with_components\"\n",
    "\n",
    "# Lire les fichiers Parquet\n",
    "df = pd.read_parquet(folder_path)\n",
    "\n",
    "# Afficher les premières lignes du DataFrame\n",
    "print(df.head())\n",
    "\n",
    "# Afficher le nombre de lignes et de colonnes dans le DataFrame\n",
    "nb_rows, nb_cols = df.shape\n",
    "print(\"Nombre de lignes dans le DataFrame :\", nb_rows)\n",
    "print(\"Nombre de colonnes dans le DataFrame :\", nb_cols)"
   ]
  },
  {
   "cell_type": "code",
   "execution_count": null,
   "metadata": {},
   "outputs": [
    {
     "data": {
      "text/plain": [
       "6987557"
      ]
     },
     "metadata": {},
     "output_type": "display_data"
    }
   ],
   "source": [
    "df['component_id'].nunique()"
   ]
  }
 ],
 "metadata": {
  "language_info": {
   "name": "python"
  }
 },
 "nbformat": 4,
 "nbformat_minor": 2
}

{
 "cells": [
  {
   "cell_type": "markdown",
   "id": "07be34bc-8d03-4f0e-b26b-141e9bfe98df",
   "metadata": {},
   "source": [
    "# Importation des bibliothéques"
   ]
  },
  {
   "cell_type": "code",
   "execution_count": 33,
   "id": "b7631f0f-afa5-45bd-bd8c-38d99e5c5606",
   "metadata": {},
   "outputs": [],
   "source": [
    "import pandas as pd\n",
    "import glob"
   ]
  },
  {
   "cell_type": "markdown",
   "id": "37ef6150-7338-4846-8f52-b0f1edb5507e",
   "metadata": {},
   "source": [
    "# Lecture des fichiers du dossier graph G99"
   ]
  },
  {
   "cell_type": "code",
   "execution_count": 34,
   "id": "17ab093f-67dd-4f3d-b67a-dde380deb751",
   "metadata": {},
   "outputs": [
    {
     "name": "stdout",
     "output_type": "stream",
     "text": [
      "components.parquet\t\tgraph_nodeID_only_partitionned_200\n",
      "graph\t\t\t\tgraph_partition_by_query_id\n",
      "graph_deduplicated2\t\tgraph_partitionned\n",
      "graph_nodeID_only\t\tgraph_removed\n",
      "graph_nodeID_only_component\tgraph_with_components\n",
      "graph_nodeID_only_partitionned\tnode_with_comp_and_annotation\n"
     ]
    }
   ],
   "source": [
    "!ls /data/bd/dataset/proteine/80_80/G99"
   ]
  },
  {
   "cell_type": "code",
   "execution_count": 35,
   "id": "29d8e5e3-0bbc-4632-b81d-db74c6dd90d8",
   "metadata": {},
   "outputs": [
    {
     "data": {
      "text/html": [
       "<div>\n",
       "<style scoped>\n",
       "    .dataframe tbody tr th:only-of-type {\n",
       "        vertical-align: middle;\n",
       "    }\n",
       "\n",
       "    .dataframe tbody tr th {\n",
       "        vertical-align: top;\n",
       "    }\n",
       "\n",
       "    .dataframe thead th {\n",
       "        text-align: right;\n",
       "    }\n",
       "</style>\n",
       "<table border=\"1\" class=\"dataframe\">\n",
       "  <thead>\n",
       "    <tr style=\"text-align: right;\">\n",
       "      <th></th>\n",
       "      <th>query_id</th>\n",
       "      <th>query_length</th>\n",
       "      <th>target_id</th>\n",
       "      <th>target_length</th>\n",
       "      <th>match_length</th>\n",
       "      <th>percent_identity</th>\n",
       "      <th>e_value</th>\n",
       "      <th>relative_sim</th>\n",
       "    </tr>\n",
       "  </thead>\n",
       "  <tbody>\n",
       "    <tr>\n",
       "      <th>0</th>\n",
       "      <td>40910035:3</td>\n",
       "      <td>86</td>\n",
       "      <td>30648403:2</td>\n",
       "      <td>1486</td>\n",
       "      <td>86</td>\n",
       "      <td>100.0</td>\n",
       "      <td>1.300000e-38</td>\n",
       "      <td>1.0</td>\n",
       "    </tr>\n",
       "    <tr>\n",
       "      <th>1</th>\n",
       "      <td>40910035:3</td>\n",
       "      <td>86</td>\n",
       "      <td>40725366:3</td>\n",
       "      <td>484</td>\n",
       "      <td>86</td>\n",
       "      <td>100.0</td>\n",
       "      <td>1.300000e-38</td>\n",
       "      <td>1.0</td>\n",
       "    </tr>\n",
       "    <tr>\n",
       "      <th>2</th>\n",
       "      <td>40910035:3</td>\n",
       "      <td>86</td>\n",
       "      <td>40725367:5</td>\n",
       "      <td>323</td>\n",
       "      <td>86</td>\n",
       "      <td>100.0</td>\n",
       "      <td>1.300000e-38</td>\n",
       "      <td>1.0</td>\n",
       "    </tr>\n",
       "    <tr>\n",
       "      <th>3</th>\n",
       "      <td>40910035:3</td>\n",
       "      <td>86</td>\n",
       "      <td>40787900:2</td>\n",
       "      <td>368</td>\n",
       "      <td>86</td>\n",
       "      <td>100.0</td>\n",
       "      <td>1.300000e-38</td>\n",
       "      <td>1.0</td>\n",
       "    </tr>\n",
       "    <tr>\n",
       "      <th>4</th>\n",
       "      <td>40910042:0</td>\n",
       "      <td>149</td>\n",
       "      <td>103459895:5</td>\n",
       "      <td>69</td>\n",
       "      <td>69</td>\n",
       "      <td>100.0</td>\n",
       "      <td>1.500000e-28</td>\n",
       "      <td>1.0</td>\n",
       "    </tr>\n",
       "  </tbody>\n",
       "</table>\n",
       "</div>"
      ],
      "text/plain": [
       "     query_id  query_length    target_id  target_length  match_length  \\\n",
       "0  40910035:3            86   30648403:2           1486            86   \n",
       "1  40910035:3            86   40725366:3            484            86   \n",
       "2  40910035:3            86   40725367:5            323            86   \n",
       "3  40910035:3            86   40787900:2            368            86   \n",
       "4  40910042:0           149  103459895:5             69            69   \n",
       "\n",
       "   percent_identity       e_value  relative_sim  \n",
       "0             100.0  1.300000e-38           1.0  \n",
       "1             100.0  1.300000e-38           1.0  \n",
       "2             100.0  1.300000e-38           1.0  \n",
       "3             100.0  1.300000e-38           1.0  \n",
       "4             100.0  1.500000e-28           1.0  "
      ]
     },
     "execution_count": 35,
     "metadata": {},
     "output_type": "execute_result"
    }
   ],
   "source": [
    "parquet_folder = \"/data/bd/dataset/proteine/80_80/G99/graph/\"\n",
    "\n",
    "# Lire tous les fichiers Parquet dans une liste de DataFrames\n",
    "dfs = [pd.read_parquet(fichier) for fichier in glob.glob(parquet_folder + '*.parquet')]\n",
    "\n",
    "# Concaténer les DataFrames en un seul DataFrame\n",
    "df = pd.concat(dfs, ignore_index=True)\n",
    "\n",
    "# Afficher les premières lignes du DataFrame\n",
    "df.head()"
   ]
  },
  {
   "cell_type": "code",
   "execution_count": 36,
   "id": "7e3dd805-2ce4-4932-b6a1-60a38e504413",
   "metadata": {},
   "outputs": [
    {
     "data": {
      "text/plain": [
       "(359798439, 2)"
      ]
     },
     "execution_count": 36,
     "metadata": {},
     "output_type": "execute_result"
    }
   ],
   "source": [
    "df = df[['target_id', 'query_id']]\n",
    "df.shape"
   ]
  },
  {
   "cell_type": "markdown",
   "id": "ccafc67b-1f9a-4af5-9c7d-fbbcdee9c0b7",
   "metadata": {},
   "source": [
    "# On varie le degree de parallélisme (num_partition)"
   ]
  },
  {
   "cell_type": "code",
   "execution_count": 11,
   "id": "9aaca3c8-6338-4646-b860-9cb872681b20",
   "metadata": {},
   "outputs": [
    {
     "name": "stdout",
     "output_type": "stream",
     "text": [
      "degree de parallélisme :  10\n",
      "degree de parallélisme :  20\n",
      "degree de parallélisme :  30\n",
      "degree de parallélisme :  40\n",
      "degree de parallélisme :  50\n",
      "degree de parallélisme :  60\n"
     ]
    }
   ],
   "source": [
    "degree_parallelisme = [10,20, 30, 40, 50, 60]\n",
    "\n",
    "for d in degree_parallelisme :\n",
    "    print(\"degree de parallélisme : \",d)\n",
    "    new_df = df\n",
    "    # Ajout d'une nouvelle colonne 'partition' basée sur le modulo de target_id\n",
    "    new_df['partition'] = new_df['target_id'].apply(lambda x: hash(x) % d)\n",
    "    partition_freq = new_df.groupby('partition').size().reset_index(name='count')\n",
    "    \n",
    "    partitions = partition_freq['partition'].unique()\n",
    "    for partition in partitions:\n",
    "        df_partition = new_df[new_df['partition'] == partition]\n",
    "        file_path = f\"/data/bd/dataset/proteine/80_80/G99/graph_partitionned/{d}_partitions/partition_{partition}.parquet\"\n",
    "        df_partition.to_parquet(file_path, index=False, engine='pyarrow')\n",
    "    "
   ]
  },
  {
   "cell_type": "code",
   "execution_count": 10,
   "id": "22c5c5bf-49e8-48f3-8723-a7b400fba8a1",
   "metadata": {},
   "outputs": [
    {
     "name": "stdout",
     "output_type": "stream",
     "text": [
      "10_partitions  30_partitions  50_partitions\n",
      "20_partitions  40_partitions  60_partitions\n"
     ]
    }
   ],
   "source": [
    "! ls /data/bd/dataset/proteine/80_80/G99/graph_partitionned"
   ]
  },
  {
   "cell_type": "markdown",
   "id": "efe47ae1-2e3b-4903-8261-9cbba944230b",
   "metadata": {},
   "source": [
    "## Nombre de noeuds par partition selon le nombre de partitions choisi : "
   ]
  },
  {
   "cell_type": "code",
   "execution_count": 25,
   "id": "67363882-886d-486d-80f8-121c3bd012a3",
   "metadata": {},
   "outputs": [
    {
     "data": {
      "text/html": [
       "<div>\n",
       "<style scoped>\n",
       "    .dataframe tbody tr th:only-of-type {\n",
       "        vertical-align: middle;\n",
       "    }\n",
       "\n",
       "    .dataframe tbody tr th {\n",
       "        vertical-align: top;\n",
       "    }\n",
       "\n",
       "    .dataframe thead th {\n",
       "        text-align: right;\n",
       "    }\n",
       "</style>\n",
       "<table border=\"1\" class=\"dataframe\">\n",
       "  <thead>\n",
       "    <tr style=\"text-align: right;\">\n",
       "      <th></th>\n",
       "      <th>partition</th>\n",
       "      <th>target_id</th>\n",
       "      <th>query_id</th>\n",
       "      <th>nombre_de_noeuds_ditincts</th>\n",
       "    </tr>\n",
       "  </thead>\n",
       "  <tbody>\n",
       "    <tr>\n",
       "      <th>0</th>\n",
       "      <td>0</td>\n",
       "      <td>[103459895:5, 40739982:2, 40227380:0, 58427391...</td>\n",
       "      <td>[40910042:0, 40910052:1, 40910094:0, 40910141:...</td>\n",
       "      <td>8925220</td>\n",
       "    </tr>\n",
       "    <tr>\n",
       "      <th>1</th>\n",
       "      <td>1</td>\n",
       "      <td>[146399187:3, 147965653:0, 93108247:4, 1435401...</td>\n",
       "      <td>[40910042:0, 40910042:0, 40910042:0, 40910042:...</td>\n",
       "      <td>8927575</td>\n",
       "    </tr>\n",
       "    <tr>\n",
       "      <th>2</th>\n",
       "      <td>2</td>\n",
       "      <td>[4374326:0, 137538873:3, 73805081:0, 1383828:1...</td>\n",
       "      <td>[40910042:0, 40910042:0, 40910049:2, 40910094:...</td>\n",
       "      <td>8923305</td>\n",
       "    </tr>\n",
       "    <tr>\n",
       "      <th>3</th>\n",
       "      <td>3</td>\n",
       "      <td>[1365595:5, TARA_AOS_82_MAG_00186_000000000601...</td>\n",
       "      <td>[40910094:0, 40910147:1, 40910194:3, 40910194:...</td>\n",
       "      <td>8926643</td>\n",
       "    </tr>\n",
       "    <tr>\n",
       "      <th>4</th>\n",
       "      <td>4</td>\n",
       "      <td>[40725366:3, 106359663:3, 40798112:0, 48074368...</td>\n",
       "      <td>[40910035:3, 40910194:3, 40910194:3, 40910194:...</td>\n",
       "      <td>8925794</td>\n",
       "    </tr>\n",
       "  </tbody>\n",
       "</table>\n",
       "</div>"
      ],
      "text/plain": [
       "   partition                                          target_id  \\\n",
       "0          0  [103459895:5, 40739982:2, 40227380:0, 58427391...   \n",
       "1          1  [146399187:3, 147965653:0, 93108247:4, 1435401...   \n",
       "2          2  [4374326:0, 137538873:3, 73805081:0, 1383828:1...   \n",
       "3          3  [1365595:5, TARA_AOS_82_MAG_00186_000000000601...   \n",
       "4          4  [40725366:3, 106359663:3, 40798112:0, 48074368...   \n",
       "\n",
       "                                            query_id  \\\n",
       "0  [40910042:0, 40910052:1, 40910094:0, 40910141:...   \n",
       "1  [40910042:0, 40910042:0, 40910042:0, 40910042:...   \n",
       "2  [40910042:0, 40910042:0, 40910049:2, 40910094:...   \n",
       "3  [40910094:0, 40910147:1, 40910194:3, 40910194:...   \n",
       "4  [40910035:3, 40910194:3, 40910194:3, 40910194:...   \n",
       "\n",
       "   nombre_de_noeuds_ditincts  \n",
       "0                    8925220  \n",
       "1                    8927575  \n",
       "2                    8923305  \n",
       "3                    8926643  \n",
       "4                    8925794  "
      ]
     },
     "execution_count": 25,
     "metadata": {},
     "output_type": "execute_result"
    }
   ],
   "source": [
    "\n",
    "# Fonction pour concaténer les listes de chaque ligne\n",
    "def concat_lists(row):\n",
    "    return row['target_id'] + row['query_id']\n",
    "\n",
    "\n",
    "# Afficher les premières lignes du nouveau DataFrame\n",
    "aggregated_df.head()"
   ]
  },
  {
   "cell_type": "code",
   "execution_count": 26,
   "id": "5d963748-b761-4b1b-b6cd-58499ba1dd6f",
   "metadata": {},
   "outputs": [
    {
     "data": {
      "text/plain": [
       "8925988.3"
      ]
     },
     "execution_count": 26,
     "metadata": {},
     "output_type": "execute_result"
    }
   ],
   "source": [
    "np.mean(aggregated_df['nombre_de_noeuds_ditincts'])"
   ]
  },
  {
   "cell_type": "code",
   "execution_count": 27,
   "id": "a413f08d-9432-4686-813b-39d63ff80a6a",
   "metadata": {},
   "outputs": [
    {
     "name": "stdout",
     "output_type": "stream",
     "text": [
      "degree de parallélisme :  10\n",
      "degree de parallélisme :  20\n",
      "degree de parallélisme :  30\n",
      "degree de parallélisme :  40\n",
      "degree de parallélisme :  50\n",
      "degree de parallélisme :  60\n"
     ]
    },
    {
     "data": {
      "image/png": "[encoded data removed]",
      "text/plain": [
       "<Figure size 432x288 with 1 Axes>"
      ]
     },
     "metadata": {
      "needs_background": "light"
     },
     "output_type": "display_data"
    }
   ],
   "source": [
    "import numpy as np \n",
    "import matplotlib.pyplot as plt\n",
    "\n",
    "    \n",
    "def nombre_noeuds_distincts(row):\n",
    "    return len(set(row['target_id']+ row['query_id']))\n",
    "\n",
    "degree_parallelisme = [10,20, 30, 40, 50, 60]\n",
    "nb_noeuds = []\n",
    "for d in degree_parallelisme :\n",
    "    print(\"degree de parallélisme : \",d)\n",
    "    new_df = df\n",
    "    # Ajout d'une nouvelle colonne 'partition' basée sur le modulo de target_id\n",
    "    new_df['partition'] = new_df['target_id'].apply(lambda x: hash(x) % d)\n",
    "\n",
    "    # Grouper les données par 'partition' et agréger les autres colonnes sous forme de listes\n",
    "    aggregated_df = df.groupby('partition').agg(lambda x: x.tolist()).reset_index()\n",
    "\n",
    "\n",
    "    # Appliquer la fonction à chaque ligne\n",
    "    # aggregated_df['concatenated_lists'] = aggregated_df.apply(concat_lists, axis=1)\n",
    "    aggregated_df['nombre_de_noeuds_ditincts'] = aggregated_df.apply(nombre_noeuds_distincts, axis=1)\n",
    "\n",
    "    nb_noeuds.append(np.mean(aggregated_df['nombre_de_noeuds_ditincts']))\n",
    "    \n",
    "# Tracer la courbe\n",
    "plt.plot(degree_parallelisme, nb_noeuds)\n",
    "\n",
    "# Ajouter un titre et des étiquettes d'axe\n",
    "plt.title('Exemple de courbe')\n",
    "plt.xlabel('Nombre de partitions ')\n",
    "plt.ylabel('Nombre moyen de noeuds apr partition')\n",
    "\n",
    "# Afficher la courbe\n",
    "plt.show()\n",
    "\n"
   ]
  },
  {
   "cell_type": "code",
   "execution_count": 37,
   "id": "6378b55f-ee5e-4da8-93d0-9a38addc5a42",
   "metadata": {},
   "outputs": [
    {
     "name": "stdout",
     "output_type": "stream",
     "text": [
      "degree de parallélisme :  10\n",
      "degree de parallélisme :  20\n",
      "degree de parallélisme :  30\n",
      "degree de parallélisme :  40\n",
      "degree de parallélisme :  50\n",
      "degree de parallélisme :  60\n"
     ]
    },
    {
     "data": {
      "image/png": "[encoded data removed]",
      "text/plain": [
       "<Figure size 432x288 with 1 Axes>"
      ]
     },
     "metadata": {
      "needs_background": "light"
     },
     "output_type": "display_data"
    }
   ],
   "source": [
    "import numpy as np \n",
    "import matplotlib.pyplot as plt\n",
    "\n",
    "    \n",
    "def nombre_noeuds_distincts(row):\n",
    "    return len(set(row['target_id']+ row['query_id']))\n",
    "\n",
    "degree_parallelisme = [10,20, 30, 40, 50, 60]\n",
    "nb_noeuds = []\n",
    "for d in degree_parallelisme :\n",
    "    print(\"degree de parallélisme : \",d)\n",
    "    new_df = df\n",
    "    # Ajout d'une nouvelle colonne 'partition' basée sur le modulo de target_id\n",
    "    new_df['partition'] = new_df['target_id'].apply(lambda x: hash(x) % d)\n",
    "\n",
    "    # Grouper les données par 'partition' et agréger les autres colonnes sous forme de listes\n",
    "    aggregated_df = df.groupby('partition').agg(lambda x: x.tolist()).reset_index()\n",
    "\n",
    "\n",
    "    # Appliquer la fonction à chaque ligne\n",
    "    # aggregated_df['concatenated_lists'] = aggregated_df.apply(concat_lists, axis=1)\n",
    "    aggregated_df['nombre_de_noeuds_ditincts'] = aggregated_df.apply(nombre_noeuds_distincts, axis=1)\n",
    "\n",
    "    nb_noeuds.append(np.mean(aggregated_df['nombre_de_noeuds_ditincts']))\n",
    "    \n",
    "# Tracer la courbe\n",
    "plt.plot(degree_parallelisme, nb_noeuds)\n",
    "\n",
    "# Ajouter un titre et des étiquettes d'axe\n",
    "plt.title('Exemple de courbe')\n",
    "plt.xlabel('Nombre de partitions ')\n",
    "plt.ylabel('Nombre moyen de noeuds apr partition')\n",
    "\n",
    "# Afficher la courbe\n",
    "plt.show()\n",
    "\n"
   ]
  }
 ],
 "metadata": {
  "kernelspec": {
   "display_name": "Python 3 (ipykernel)",
   "language": "python",
   "name": "python3"
  },
  "language_info": {
   "codemirror_mode": {
    "name": "ipython",
    "version": 3
   },
   "file_extension": ".py",
   "mimetype": "text/x-python",
   "name": "python",
   "nbconvert_exporter": "python",
   "pygments_lexer": "ipython3",
   "version": "3.9.7"
  }
 },
 "nbformat": 4,
 "nbformat_minor": 5
}

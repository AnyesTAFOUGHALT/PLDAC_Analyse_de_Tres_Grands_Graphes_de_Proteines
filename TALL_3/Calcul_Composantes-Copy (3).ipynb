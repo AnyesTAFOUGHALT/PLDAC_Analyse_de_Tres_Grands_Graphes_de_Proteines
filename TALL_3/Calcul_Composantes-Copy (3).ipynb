{
 "cells": [
  {
   "cell_type": "code",
   "execution_count": 1,
   "id": "f60599ca-38d0-4f48-91fe-cc14072573c1",
   "metadata": {},
   "outputs": [],
   "source": [
    "import pandas as pd\n",
    "import findspark\n",
    "from pyspark.sql import SparkSession\n",
    "from pyspark import SparkConf\n",
    "\n",
    "# for dataframe and udf\n",
    "from pyspark.sql import *\n",
    "from pyspark.sql.functions import *\n",
    "from pyspark.sql.types import *\n",
    "\n",
    "\n",
    "from pyspark.sql.functions import col\n",
    "from pyspark.sql import functions as F\n",
    "\n",
    "from igraph import Graph\n",
    "from pyspark.sql.window import Window\n",
    "from pyspark.sql.functions import col\n",
    "\n",
    "from functools import reduce\n",
    "from pyspark.sql.functions import collect_set, min as min_, expr,array_min,max\n",
    "from pyspark.sql.functions import lit\n",
    "\n",
    "from pyspark.sql.types import StringType, IntegerType, LongType, FloatType, ArrayType,StructType,StructField, BooleanType\n",
    "\n",
    "import pandas as pd\n",
    "import glob\n",
    "\n",
    "import time\n",
    "\n",
    "import matplotlib.pyplot as plt\n",
    "\n",
    "from pyspark.sql.types import BooleanType\n"
   ]
  },
  {
   "cell_type": "code",
   "execution_count": 2,
   "id": "1c45abfa-fa7c-4da3-a3a0-35f8552d1009",
   "metadata": {},
   "outputs": [],
   "source": [
    "import os\n",
    "os.environ[\"SPARK_HOME\"] =  \"/root/anaconda3/lib/python3.9/site-packages/pyspark\" \n",
    "os.environ[\"JAVA_HOME\"] =\"/usr\""
   ]
  },
  {
   "cell_type": "markdown",
   "id": "6ae7395b-6135-447b-832a-611fdf8de711",
   "metadata": {},
   "source": [
    "# Lancer spark"
   ]
  },
  {
   "cell_type": "code",
   "execution_count": 3,
   "id": "530a1fb1-21ef-4744-b434-916796fc5192",
   "metadata": {},
   "outputs": [],
   "source": [
    "findspark.init() \n",
    "\n",
    "def demarrer_spark(NB_CORES):\n",
    "  local = f\"local[{NB_CORES}]\"\n",
    "  # le parametre spark.local.dir indique le repertoire contenant les données temporaires ecrites sur disque lorsque le shufle ne tient pas en memoire\n",
    "  appName = \"PLDAC\"\n",
    "  configLocale = SparkConf().setAppName(appName).setMaster(local).\\\n",
    "  set(\"spark.executor.memory\", \"320G\").\\\n",
    "  set(\"spark.driver.memory\",\"320G\").\\\n",
    "  set(\"spark.sql.catalogImplementation\",\"in-memory\").\\\n",
    "  set(\"spark.driver.maxResultSize\", \"20G\").\\\n",
    "  set(\"spark.local.dir\", \"/data/bd/spark/tmp\").\\\n",
    "  set(\"spark.sql.execution.arrow.pyspark.enabled\", \"true\")\n",
    "    \n",
    "\n",
    "# # to allow sharing in memory arow format between pandas and spark : speeds up the creation of a spark df from a pandas df\n",
    "# spark.conf.set(\"spark.sql.execution.arrow.pyspark.enabled\", \"true\")\n",
    "\n",
    "\n",
    "  spark = SparkSession.builder.config(conf = configLocale).getOrCreate()\n",
    "  sc = spark.sparkContext\n",
    "  sc.setLogLevel(\"ERROR\")\n",
    "  \n",
    "  # spark.conf.set(\"spark.sql.autoBroadcastJoinThreshold\",\"-1\")\n",
    "    \n",
    "  # On ajuste l'environnement d'exécution des requêtes à la taille du cluster (NB_CORES coeurs)\n",
    "  shuffle_partitions = 3 * NB_CORES\n",
    "  print(\"shuffle\", shuffle_partitions)\n",
    "  spark.conf.set(\"spark.sql.shuffle.partitions\", str(shuffle_partitions))    \n",
    "\n",
    "  print(\"session démarrée, son id est \", sc.applicationId)\n",
    "  return spark\n"
   ]
  },
  {
   "cell_type": "markdown",
   "id": "a14e4b16-d238-4555-8dfd-27e19168199c",
   "metadata": {},
   "source": [
    "# Comparaison du temps de lecture des fichier avec plusieurs degree de parallélisme"
   ]
  },
  {
   "cell_type": "code",
   "execution_count": 4,
   "id": "75a31120-1096-4ddd-8eb3-acd30fa63ce9",
   "metadata": {},
   "outputs": [],
   "source": [
    "import time\n",
    "def read_files(partition_folder,nb_partition ):\n",
    "   \n",
    "    def read_file(partition_file) :\n",
    "        #print(partition_file)\n",
    "        try:\n",
    "            df = pd.read_parquet(partition_file)\n",
    "            return True\n",
    "        except Exception as e:\n",
    "            return False\n",
    "\n",
    "    # Schéma du DataFrame\n",
    "    schema = StructType([\n",
    "        StructField(\"file\", StringType(), False)\n",
    "    ])\n",
    "    \n",
    "    # Données à partir desquelles créer le DataFrame\n",
    "    data = [(i,) for i, file in enumerate(os.listdir(partition_folder))]\n",
    "\n",
    "    # Création du DataFrame\n",
    "    df = spark.createDataFrame(data, schema).repartition(nb_partition)\n",
    "    # Enregistrer la fonction UDF\n",
    "    read_file_udf = F.udf(read_file,  BooleanType())\n",
    "    read_files_df = df.withColumn(\n",
    "        \"read_bool\",\n",
    "        read_file_udf(\n",
    "            F.concat(\n",
    "                F.lit(partition_folder + \"/partition_\"), \n",
    "                df[\"file\"] , \n",
    "                F.lit(\".parquet\")\n",
    "            )\n",
    "        )\n",
    "    )\n",
    "    \n",
    "    return read_files_df"
   ]
  },
  {
   "cell_type": "markdown",
   "id": "e74e73a3-ef6c-44fc-ba58-534d3c2ac13f",
   "metadata": {},
   "source": [
    "## Temps de calcul d'une lecture de fichiers : # RACHA :\n"
   ]
  },
  {
   "cell_type": "code",
   "execution_count": 6,
   "id": "9396d036-5d28-4546-b4d5-fdbe2b6499d7",
   "metadata": {},
   "outputs": [
    {
     "name": "stdout",
     "output_type": "stream",
     "text": [
      "shuffle 180\n",
      "session démarrée, son id est  local-1712392800788\n"
     ]
    }
   ],
   "source": [
    "spark = demarrer_spark(60)\n",
    "partition_folder = f\"/data/bd/dataset/proteine/80_80/G99/graph_partitionned/200_partitions\""
   ]
  },
  {
   "cell_type": "code",
   "execution_count": 7,
   "id": "3f54478d-1b8f-4d97-8830-7a0fe5715758",
   "metadata": {},
   "outputs": [],
   "source": [
    "read_files_df = read_files(partition_folder , 60)"
   ]
  },
  {
   "cell_type": "code",
   "execution_count": 8,
   "id": "1bc32c1d-8895-49b1-8aca-e6f235c9cefa",
   "metadata": {},
   "outputs": [
    {
     "name": "stderr",
     "output_type": "stream",
     "text": [
      "[Stage 1:======================================================>  (57 + 3) / 60]\r"
     ]
    },
    {
     "name": "stdout",
     "output_type": "stream",
     "text": [
      "11.047338008880615\n"
     ]
    },
    {
     "name": "stderr",
     "output_type": "stream",
     "text": [
      "                                                                                \r"
     ]
    }
   ],
   "source": [
    "import time \n",
    "file_path = f\"/data/bd/dataset/proteine/80_80/G99/graph_partitionned/200_partitions/read_files_df\"\n",
    "start_time = time.time()\n",
    "read_files_df.write.mode(\"overwrite\").parquet(file_path)\n",
    "print(time.time() - start_time)"
   ]
  },
  {
   "cell_type": "code",
   "execution_count": 13,
   "id": "d8f10994-8534-4168-bfb6-44330e946fe4",
   "metadata": {
    "tags": []
   },
   "outputs": [
    {
     "name": "stderr",
     "output_type": "stream",
     "text": [
      "                                                                                \r"
     ]
    }
   ],
   "source": [
    "\n",
    "import numpy as np\n",
    "degree_parallelisme = range(1,60,10)\n",
    "times_moy = []\n",
    "for d in degree_parallelisme:\n",
    "    times=[]\n",
    "    for i in range(15):\n",
    "        read_files_df = read_files(partition_folder , d)\n",
    "        start_time = time.time()\n",
    "        read_files_df.write.mode(\"overwrite\").parquet(file_path)\n",
    "        times.append(time.time() - start_time)\n",
    "    times_moy.append(np.mean(times))\n",
    "    \n",
    "    "
   ]
  },
  {
   "cell_type": "code",
   "execution_count": 15,
   "id": "d7f284e9-e3e2-4a53-9e52-d03d7e749989",
   "metadata": {
    "tags": []
   },
   "outputs": [
    {
     "data": {
      "image/png": "[encoded data removed]",
      "text/plain": [
       "<Figure size 432x288 with 1 Axes>"
      ]
     },
     "metadata": {
      "needs_background": "light"
     },
     "output_type": "display_data"
    }
   ],
   "source": [
    "plt.plot(degree_parallelisme, times_moy)\n",
    "\n",
    "plt.xlabel('Degrée de Parallélisme')\n",
    "plt.ylabel('Temps')\n",
    "plt.title('Comparaison du temps de lecture des fichiers sur 200_partitions') \n",
    "\n",
    "plt.show()\n",
    "\n",
    "#clculer la moyenne avec le write"
   ]
  },
  {
   "cell_type": "code",
   "execution_count": 16,
   "id": "c5532c2f-004a-4821-b648-1b932a4cb68b",
   "metadata": {},
   "outputs": [],
   "source": [
    "spark.stop()"
   ]
  },
  {
   "cell_type": "markdown",
   "id": "89ea0955-b00f-426f-b9fa-f18edbbcb6d0",
   "metadata": {
    "jp-MarkdownHeadingCollapsed": true,
    "tags": []
   },
   "source": [
    "## Variation du degree de parallélisme : #ANYES"
   ]
  },
  {
   "cell_type": "markdown",
   "id": "dd547cfd-1b6b-42fc-b252-8d820d70132f",
   "metadata": {},
   "source": [
    "### Le graph a était partitionné en 200 partitions"
   ]
  },
  {
   "cell_type": "code",
   "execution_count": 24,
   "id": "cae0669e-361d-434f-ac15-393432cc8c28",
   "metadata": {},
   "outputs": [
    {
     "name": "stdout",
     "output_type": "stream",
     "text": [
      "shuffle 30\n",
      "session démarrée, son id est  local-1712160474618\n"
     ]
    },
    {
     "name": "stderr",
     "output_type": "stream",
     "text": [
      "                                                                                \r"
     ]
    },
    {
     "name": "stdout",
     "output_type": "stream",
     "text": [
      "shuffle 60\n",
      "session démarrée, son id est  local-1712160485284\n"
     ]
    },
    {
     "name": "stderr",
     "output_type": "stream",
     "text": [
      "                                                                                \r"
     ]
    },
    {
     "name": "stdout",
     "output_type": "stream",
     "text": [
      "shuffle 90\n",
      "session démarrée, son id est  local-1712160492560\n"
     ]
    },
    {
     "name": "stderr",
     "output_type": "stream",
     "text": [
      "                                                                                \r"
     ]
    },
    {
     "name": "stdout",
     "output_type": "stream",
     "text": [
      "shuffle 120\n",
      "session démarrée, son id est  local-1712160499412\n"
     ]
    },
    {
     "name": "stderr",
     "output_type": "stream",
     "text": [
      "                                                                                \r"
     ]
    },
    {
     "name": "stdout",
     "output_type": "stream",
     "text": [
      "shuffle 150\n",
      "session démarrée, son id est  local-1712160505684\n"
     ]
    },
    {
     "name": "stderr",
     "output_type": "stream",
     "text": [
      "                                                                                \r"
     ]
    },
    {
     "name": "stdout",
     "output_type": "stream",
     "text": [
      "shuffle 180\n",
      "session démarrée, son id est  local-1712160512355\n"
     ]
    },
    {
     "name": "stderr",
     "output_type": "stream",
     "text": [
      "                                                                                \r"
     ]
    }
   ],
   "source": [
    "import time\n",
    "times = []\n",
    "\n",
    "degree_parallelisme = [10 ,20,  30, 40,  50, 60]\n",
    "\n",
    "for d in degree_parallelisme :\n",
    "     spark = demarrer_spark(d)\n",
    "     parquet_folder = f\"/data/bd/dataset/proteine/80_80/G99/graph_partitionned/200_partitions/*\"\n",
    "     read_files_df = read_files(partition_folder , d)\n",
    "     start_time = time.time()\n",
    "     # On lance une action   \n",
    "     c = read_files_df.collect()\n",
    "     end_time = time.time()\n",
    "     times.append(end_time-start_time)\n",
    "    \n",
    "     spark.stop()"
   ]
  },
  {
   "cell_type": "code",
   "execution_count": 25,
   "id": "b1c914dc-4f3f-4d8b-b7be-06bbac5eb023",
   "metadata": {},
   "outputs": [
    {
     "data": {
      "image/png": "[encoded data removed]",
      "text/plain": [
       "<Figure size 432x288 with 1 Axes>"
      ]
     },
     "metadata": {
      "needs_background": "light"
     },
     "output_type": "display_data"
    }
   ],
   "source": [
    "plt.plot(degree_parallelisme, times)\n",
    "\n",
    "plt.xlabel('Degrée de Parallélisme')\n",
    "plt.ylabel('Temps')\n",
    "plt.title('Comparaison du temps de lecture des fichiers sur 200_partitions') \n",
    "\n",
    "plt.show()\n",
    "\n",
    "#clculer la moyenne avec le write"
   ]
  },
  {
   "cell_type": "code",
   "execution_count": 17,
   "id": "b4e7bf62-5a70-401f-9e30-4c31a975fa21",
   "metadata": {},
   "outputs": [
    {
     "name": "stdout",
     "output_type": "stream",
     "text": [
      "shuffle 30\n",
      "session démarrée, son id est  local-1712159606828\n"
     ]
    },
    {
     "name": "stderr",
     "output_type": "stream",
     "text": [
      "                                                                                \r"
     ]
    },
    {
     "name": "stdout",
     "output_type": "stream",
     "text": [
      "shuffle 60\n",
      "session démarrée, son id est  local-1712159618744\n"
     ]
    },
    {
     "name": "stderr",
     "output_type": "stream",
     "text": [
      "                                                                                \r"
     ]
    },
    {
     "name": "stdout",
     "output_type": "stream",
     "text": [
      "shuffle 90\n",
      "session démarrée, son id est  local-1712159626632\n"
     ]
    },
    {
     "name": "stderr",
     "output_type": "stream",
     "text": [
      "                                                                                \r"
     ]
    },
    {
     "name": "stdout",
     "output_type": "stream",
     "text": [
      "shuffle 120\n",
      "session démarrée, son id est  local-1712159633634\n"
     ]
    },
    {
     "name": "stderr",
     "output_type": "stream",
     "text": [
      "                                                                                \r"
     ]
    },
    {
     "name": "stdout",
     "output_type": "stream",
     "text": [
      "shuffle 150\n",
      "session démarrée, son id est  local-1712159640026\n"
     ]
    },
    {
     "name": "stderr",
     "output_type": "stream",
     "text": [
      "                                                                                \r"
     ]
    },
    {
     "name": "stdout",
     "output_type": "stream",
     "text": [
      "shuffle 180\n",
      "session démarrée, son id est  local-1712159646225\n"
     ]
    },
    {
     "name": "stderr",
     "output_type": "stream",
     "text": [
      "                                                                                \r"
     ]
    },
    {
     "data": {
      "image/png": "[encoded data removed]",
      "text/plain": [
       "<Figure size 432x288 with 1 Axes>"
      ]
     },
     "metadata": {
      "needs_background": "light"
     },
     "output_type": "display_data"
    }
   ],
   "source": [
    "import time\n",
    "times = []\n",
    "\n",
    "degree_parallelisme = [10,20, 30, 40, 50, 60]\n",
    "\n",
    "for d in degree_parallelisme :\n",
    "     spark = demarrer_spark(d)\n",
    "     parquet_folder = f\"/data/bd/dataset/proteine/80_80/G99/graph_partitionned/200_partitions/*\"\n",
    "     read_files_df = read_files(partition_folder , 3*d)\n",
    "     start_time = time.time()\n",
    "     # On lance une action   \n",
    "     c = read_files_df.collect()\n",
    "     end_time = time.time()\n",
    "     times.append(end_time-start_time)\n",
    "    \n",
    "     spark.stop()\n",
    "plt.plot(degree_parallelisme, times)\n",
    "\n",
    "plt.xlabel('Degrée de Parallélisme')\n",
    "plt.ylabel('Temps')\n",
    "plt.title('Comparaison du temps de lecture des fichiers sur 200_partitions') \n",
    "\n",
    "plt.show()"
   ]
  },
  {
   "cell_type": "markdown",
   "id": "704fe298-e5ee-4b63-b0e7-45d44cedc087",
   "metadata": {},
   "source": [
    "### Le graph a était partitionné en 60 partitions"
   ]
  },
  {
   "cell_type": "code",
   "execution_count": 19,
   "id": "1f9d3517-ea77-4246-940e-abe5de1accdb",
   "metadata": {},
   "outputs": [
    {
     "name": "stdout",
     "output_type": "stream",
     "text": [
      "shuffle 30\n",
      "session démarrée, son id est  local-1712159831546\n"
     ]
    },
    {
     "name": "stderr",
     "output_type": "stream",
     "text": [
      "                                                                                \r"
     ]
    },
    {
     "name": "stdout",
     "output_type": "stream",
     "text": [
      "shuffle 60\n",
      "session démarrée, son id est  local-1712159842356\n"
     ]
    },
    {
     "name": "stderr",
     "output_type": "stream",
     "text": [
      "                                                                                \r"
     ]
    },
    {
     "name": "stdout",
     "output_type": "stream",
     "text": [
      "shuffle 90\n",
      "session démarrée, son id est  local-1712159849705\n"
     ]
    },
    {
     "name": "stderr",
     "output_type": "stream",
     "text": [
      "                                                                                \r"
     ]
    },
    {
     "name": "stdout",
     "output_type": "stream",
     "text": [
      "shuffle 120\n",
      "session démarrée, son id est  local-1712159856414\n"
     ]
    },
    {
     "name": "stderr",
     "output_type": "stream",
     "text": [
      "                                                                                \r"
     ]
    },
    {
     "name": "stdout",
     "output_type": "stream",
     "text": [
      "shuffle 150\n",
      "session démarrée, son id est  local-1712159862756\n"
     ]
    },
    {
     "name": "stderr",
     "output_type": "stream",
     "text": [
      "                                                                                \r"
     ]
    },
    {
     "name": "stdout",
     "output_type": "stream",
     "text": [
      "shuffle 180\n",
      "session démarrée, son id est  local-1712159869542\n"
     ]
    },
    {
     "name": "stderr",
     "output_type": "stream",
     "text": [
      "                                                                                \r"
     ]
    },
    {
     "data": {
      "image/png": "[encoded data removed]",
      "text/plain": [
       "<Figure size 432x288 with 1 Axes>"
      ]
     },
     "metadata": {
      "needs_background": "light"
     },
     "output_type": "display_data"
    }
   ],
   "source": [
    "import time\n",
    "times = []\n",
    "\n",
    "degree_parallelisme = [10,20, 30, 40, 50, 60]\n",
    "\n",
    "for d in degree_parallelisme :\n",
    "     spark = demarrer_spark(d)\n",
    "     parquet_folder = f\"/data/bd/dataset/proteine/80_80/G99/graph_partitionned/60_partitions/*\"\n",
    "     read_files_df = read_files(partition_folder , d)\n",
    "     start_time = time.time()\n",
    "     # On lance une action   \n",
    "     c = read_files_df.collect()\n",
    "     end_time = time.time()\n",
    "     times.append(end_time-start_time)\n",
    "    \n",
    "     spark.stop()\n",
    "plt.plot(degree_parallelisme, times)\n",
    "\n",
    "plt.xlabel('Degrée de Parallélisme')\n",
    "plt.ylabel('Temps')\n",
    "plt.title('Comparaison du temps de lecture des fichiers sur 60_partitions') \n",
    "\n",
    "plt.show()"
   ]
  },
  {
   "cell_type": "markdown",
   "id": "c8ffbeaf-15b5-4719-9ef9-4fa827469b95",
   "metadata": {},
   "source": [
    "# Comparaison du temps de calcul des composantes partielles : # RACHA"
   ]
  },
  {
   "cell_type": "code",
   "execution_count": 47,
   "id": "ad4ccfe3-55fc-4509-a3ad-651aaba59b1b",
   "metadata": {},
   "outputs": [],
   "source": [
    "def calculate_partition_components(partition_folder , nb_partition):\n",
    "   \n",
    "    def components(partition_file, num_file , d) :\n",
    "        # print(partition_file)\n",
    "        df = pd.read_parquet(partition_file )\n",
    "        g = Graph.TupleList(df[['query_id', 'target_id']].itertuples(index=False), directed=False)\n",
    "        connected_components = g.connected_components()\n",
    "        node_ids=[]\n",
    "        for component in connected_components:\n",
    "            node_ids.append([g.vs[node_index]['name'] for node_index in component])\n",
    "        #on trie en fonction de la taille \n",
    "        composantes_triees = sorted(node_ids, key=len, reverse=True)\n",
    "        # Créer une liste de lignes pour chaque composante\n",
    "        rows = []\n",
    "        for i, component in enumerate(composantes_triees):\n",
    "            for seqid in component:\n",
    "                rows.append((seqid , i)) \n",
    "                \n",
    "        # result_df = pd.DataFrame(rows, columns=['seqid', 'component'])\n",
    "        # file_path = f\"/data/bd/dataset/proteine/80_80/G99/graph_partitionned_components/200_partitions_components/partition_{num_file}.parquet\"\n",
    "        # result_df.to_parquet(file_path, index=False)\n",
    "\n",
    "        return file_path\n",
    "\n",
    "    # Schéma du DataFrame\n",
    "    schema = StructType([\n",
    "        StructField(\"file\", StringType(), False)\n",
    "    ])\n",
    "    \n",
    "    # Données à partir desquelles créer le DataFrame\n",
    "    #data = [(file,) for file in os.listdir(partition_folder)]\n",
    "    # data = [(i,) for i, file in enumerate(os.listdir(partition_folder))]\n",
    "    data = [(i,) for i in range(200)]\n",
    "\n",
    "    # Création du DataFrame\n",
    "    df = spark.createDataFrame(data, schema).repartition(nb_partition)\n",
    "    # Enregistrer la fonction UDF\n",
    "    schema_components = StructType([\n",
    "        StructField(\"seqID\", StringType(), nullable=False),\n",
    "        StructField(\"component_id\", IntegerType(), nullable=False)\n",
    "    ])\n",
    "    components_udf = F.udf(components, StringType())\n",
    "    #df_with_components = df.withColumn(\"components\", components_udf(F.concat(F.lit(partition_folder+\"/\"), df[\"file\"])))\n",
    "    df_with_components = df.withColumn(\n",
    "        \"components\",\n",
    "        components_udf(\n",
    "            F.concat(\n",
    "                F.lit(partition_folder + \"/partition_\"), \n",
    "                df[\"file\"] , \n",
    "                F.lit(\".parquet\")\n",
    "            ) , \n",
    "            df[\"file\"],\n",
    "            F.lit(nb_partition)\n",
    "        )\n",
    "    )\n",
    "    \n",
    "    return df_with_components"
   ]
  },
  {
   "cell_type": "code",
   "execution_count": 48,
   "id": "c4f67f65-3be1-4487-a82a-a02d5928f71b",
   "metadata": {},
   "outputs": [
    {
     "name": "stdout",
     "output_type": "stream",
     "text": [
      "shuffle 180\n",
      "session démarrée, son id est  local-1712401023419\n"
     ]
    }
   ],
   "source": [
    "spark = demarrer_spark(60)"
   ]
  },
  {
   "cell_type": "code",
   "execution_count": 49,
   "id": "48b438f6-34c5-4029-a6d5-898c2b79c75f",
   "metadata": {},
   "outputs": [],
   "source": [
    "partition_folder = f\"/data/bd/dataset/proteine/80_80/G99/graph_partitionned/200_partitions\""
   ]
  },
  {
   "cell_type": "code",
   "execution_count": 50,
   "id": "1870a2b4-0bf2-421b-9ed0-74c1a6da2e51",
   "metadata": {},
   "outputs": [],
   "source": [
    "df_with_component = calculate_partition_components(partition_folder , 60)"
   ]
  },
  {
   "cell_type": "code",
   "execution_count": 51,
   "id": "b5387071-67ab-4379-b8f6-c9b661efe36d",
   "metadata": {},
   "outputs": [
    {
     "name": "stderr",
     "output_type": "stream",
     "text": [
      "[Stage 1:========================================================>(59 + 1) / 60]\r"
     ]
    },
    {
     "name": "stdout",
     "output_type": "stream",
     "text": [
      "60.28257203102112\n"
     ]
    },
    {
     "name": "stderr",
     "output_type": "stream",
     "text": [
      "                                                                                \r"
     ]
    }
   ],
   "source": [
    "start_time = time.time()\n",
    "directory_path =f\"/data/bd/dataset/proteine/80_80/G99/graph_partitionned_components/200_partitions_components\"\n",
    "# df_with_component.write.mode(\"overwrite\").parquet(directory_path)\n",
    "df_with_component.write.mode(\"overwrite\").parquet(directory_path)\n",
    "print(time.time() - start_time)\n"
   ]
  },
  {
   "cell_type": "code",
   "execution_count": 52,
   "id": "0ab0c9f4-7745-4cd5-ab80-3d6c9b89e012",
   "metadata": {},
   "outputs": [
    {
     "name": "stderr",
     "output_type": "stream",
     "text": [
      "[Stage 3:===================================================>       (7 + 1) / 8]\r"
     ]
    },
    {
     "name": "stdout",
     "output_type": "stream",
     "text": [
      "317.6276843547821\n"
     ]
    },
    {
     "name": "stderr",
     "output_type": "stream",
     "text": [
      "                                                                                \r"
     ]
    }
   ],
   "source": [
    "df_with_component = calculate_partition_components(partition_folder , 8)\n",
    "start_time = time.time()\n",
    "directory_path =f\"/data/bd/dataset/proteine/80_80/G99/graph_partitionned_components/200_partitions_components\"\n",
    "df_with_component.write.mode(\"overwrite\").parquet(directory_path)\n",
    "print(time.time() - start_time)\n"
   ]
  },
  {
   "cell_type": "code",
   "execution_count": 55,
   "id": "05231068-e064-4fb8-a7f1-c9ebffd1b6fc",
   "metadata": {},
   "outputs": [
    {
     "name": "stderr",
     "output_type": "stream",
     "text": [
      "[Stage 9:======================================================>  (19 + 1) / 20]\r"
     ]
    },
    {
     "name": "stdout",
     "output_type": "stream",
     "text": [
      "77.11013054847717\n"
     ]
    },
    {
     "name": "stderr",
     "output_type": "stream",
     "text": [
      "                                                                                \r"
     ]
    }
   ],
   "source": [
    "df_with_component = calculate_partition_components(partition_folder , 20)\n",
    "start_time = time.time()\n",
    "directory_path =f\"/data/bd/dataset/proteine/80_80/G99/graph_partitionned_components/200_partitions_components\"\n",
    "df_with_component.write.mode(\"overwrite\").parquet(directory_path)\n",
    "print(time.time() - start_time)\n"
   ]
  },
  {
   "cell_type": "code",
   "execution_count": 54,
   "id": "ed85c99c-1b1a-4b1d-8155-73d5ab888ae8",
   "metadata": {},
   "outputs": [
    {
     "name": "stderr",
     "output_type": "stream",
     "text": [
      "[Stage 7:========================================================>(59 + 1) / 60]\r"
     ]
    },
    {
     "name": "stdout",
     "output_type": "stream",
     "text": [
      "56.03961229324341\n"
     ]
    },
    {
     "name": "stderr",
     "output_type": "stream",
     "text": [
      "                                                                                \r"
     ]
    }
   ],
   "source": [
    "df_with_component = calculate_partition_components(partition_folder , 60)\n",
    "start_time = time.time()\n",
    "directory_path =f\"/data/bd/dataset/proteine/80_80/G99/graph_partitionned_components/200_partitions_components\"\n",
    "df_with_component.write.mode(\"overwrite\").parquet(directory_path)\n",
    "print(time.time() - start_time)\n"
   ]
  },
  {
   "cell_type": "code",
   "execution_count": 57,
   "id": "795eae72-b658-43a9-9915-89689225379b",
   "metadata": {
    "tags": []
   },
   "outputs": [
    {
     "name": "stderr",
     "output_type": "stream",
     "text": [
      "                                                                                \r"
     ]
    }
   ],
   "source": [
    "\n",
    "degree_parallelisme = range(1,60,10)\n",
    "times_moy = []\n",
    "times=[]\n",
    "\n",
    "for d in degree_parallelisme:\n",
    "    # for i in range(5):\n",
    "    df_with_component = calculate_partition_components(partition_folder , d)\n",
    "    start_time = time.time()\n",
    "    df_with_component.write.mode(\"overwrite\").parquet(directory_path)\n",
    "    times.append(time.time() - start_time)\n",
    "    # times_moy.append(np.mean(times))\n",
    "    \n",
    "    "
   ]
  },
  {
   "cell_type": "code",
   "execution_count": 62,
   "id": "fee8c61f-27e8-4d8f-94bf-efb7550a9019",
   "metadata": {
    "tags": []
   },
   "outputs": [
    {
     "ename": "ValueError",
     "evalue": "x and y must have same first dimension, but have shapes (6,) and (10,)",
     "output_type": "error",
     "traceback": [
      "\u001b[0;31m---------------------------------------------------------------------------\u001b[0m",
      "\u001b[0;31mValueError\u001b[0m                                Traceback (most recent call last)",
      "\u001b[0;32m/tmp/ipykernel_47751/1778961044.py\u001b[0m in \u001b[0;36m<module>\u001b[0;34m\u001b[0m\n\u001b[0;32m----> 1\u001b[0;31m \u001b[0mplt\u001b[0m\u001b[0;34m.\u001b[0m\u001b[0mplot\u001b[0m\u001b[0;34m(\u001b[0m\u001b[0mdegree_parallelisme\u001b[0m\u001b[0;34m,\u001b[0m \u001b[0mtimes\u001b[0m\u001b[0;34m)\u001b[0m\u001b[0;34m\u001b[0m\u001b[0;34m\u001b[0m\u001b[0m\n\u001b[0m\u001b[1;32m      2\u001b[0m \u001b[0;34m\u001b[0m\u001b[0m\n\u001b[1;32m      3\u001b[0m \u001b[0mplt\u001b[0m\u001b[0;34m.\u001b[0m\u001b[0mxlabel\u001b[0m\u001b[0;34m(\u001b[0m\u001b[0;34m'Degrée de Parallélisme'\u001b[0m\u001b[0;34m)\u001b[0m\u001b[0;34m\u001b[0m\u001b[0;34m\u001b[0m\u001b[0m\n\u001b[1;32m      4\u001b[0m \u001b[0mplt\u001b[0m\u001b[0;34m.\u001b[0m\u001b[0mylabel\u001b[0m\u001b[0;34m(\u001b[0m\u001b[0;34m'Temps de calcul des composantes'\u001b[0m\u001b[0;34m)\u001b[0m\u001b[0;34m\u001b[0m\u001b[0;34m\u001b[0m\u001b[0m\n\u001b[1;32m      5\u001b[0m \u001b[0mplt\u001b[0m\u001b[0;34m.\u001b[0m\u001b[0mtitle\u001b[0m\u001b[0;34m(\u001b[0m\u001b[0;34m'Comparaison du Temps de calcul des composantes sur 200_partitions'\u001b[0m\u001b[0;34m)\u001b[0m\u001b[0;34m\u001b[0m\u001b[0;34m\u001b[0m\u001b[0m\n",
      "\u001b[0;32m~/anaconda3/lib/python3.9/site-packages/matplotlib/pyplot.py\u001b[0m in \u001b[0;36mplot\u001b[0;34m(scalex, scaley, data, *args, **kwargs)\u001b[0m\n\u001b[1;32m   3017\u001b[0m \u001b[0;34m@\u001b[0m\u001b[0m_copy_docstring_and_deprecators\u001b[0m\u001b[0;34m(\u001b[0m\u001b[0mAxes\u001b[0m\u001b[0;34m.\u001b[0m\u001b[0mplot\u001b[0m\u001b[0;34m)\u001b[0m\u001b[0;34m\u001b[0m\u001b[0;34m\u001b[0m\u001b[0m\n\u001b[1;32m   3018\u001b[0m \u001b[0;32mdef\u001b[0m \u001b[0mplot\u001b[0m\u001b[0;34m(\u001b[0m\u001b[0;34m*\u001b[0m\u001b[0margs\u001b[0m\u001b[0;34m,\u001b[0m \u001b[0mscalex\u001b[0m\u001b[0;34m=\u001b[0m\u001b[0;32mTrue\u001b[0m\u001b[0;34m,\u001b[0m \u001b[0mscaley\u001b[0m\u001b[0;34m=\u001b[0m\u001b[0;32mTrue\u001b[0m\u001b[0;34m,\u001b[0m \u001b[0mdata\u001b[0m\u001b[0;34m=\u001b[0m\u001b[0;32mNone\u001b[0m\u001b[0;34m,\u001b[0m \u001b[0;34m**\u001b[0m\u001b[0mkwargs\u001b[0m\u001b[0;34m)\u001b[0m\u001b[0;34m:\u001b[0m\u001b[0;34m\u001b[0m\u001b[0;34m\u001b[0m\u001b[0m\n\u001b[0;32m-> 3019\u001b[0;31m     return gca().plot(\n\u001b[0m\u001b[1;32m   3020\u001b[0m         \u001b[0;34m*\u001b[0m\u001b[0margs\u001b[0m\u001b[0;34m,\u001b[0m \u001b[0mscalex\u001b[0m\u001b[0;34m=\u001b[0m\u001b[0mscalex\u001b[0m\u001b[0;34m,\u001b[0m \u001b[0mscaley\u001b[0m\u001b[0;34m=\u001b[0m\u001b[0mscaley\u001b[0m\u001b[0;34m,\u001b[0m\u001b[0;34m\u001b[0m\u001b[0;34m\u001b[0m\u001b[0m\n\u001b[1;32m   3021\u001b[0m         **({\"data\": data} if data is not None else {}), **kwargs)\n",
      "\u001b[0;32m~/anaconda3/lib/python3.9/site-packages/matplotlib/axes/_axes.py\u001b[0m in \u001b[0;36mplot\u001b[0;34m(self, scalex, scaley, data, *args, **kwargs)\u001b[0m\n\u001b[1;32m   1603\u001b[0m         \"\"\"\n\u001b[1;32m   1604\u001b[0m         \u001b[0mkwargs\u001b[0m \u001b[0;34m=\u001b[0m \u001b[0mcbook\u001b[0m\u001b[0;34m.\u001b[0m\u001b[0mnormalize_kwargs\u001b[0m\u001b[0;34m(\u001b[0m\u001b[0mkwargs\u001b[0m\u001b[0;34m,\u001b[0m \u001b[0mmlines\u001b[0m\u001b[0;34m.\u001b[0m\u001b[0mLine2D\u001b[0m\u001b[0;34m)\u001b[0m\u001b[0;34m\u001b[0m\u001b[0;34m\u001b[0m\u001b[0m\n\u001b[0;32m-> 1605\u001b[0;31m         \u001b[0mlines\u001b[0m \u001b[0;34m=\u001b[0m \u001b[0;34m[\u001b[0m\u001b[0;34m*\u001b[0m\u001b[0mself\u001b[0m\u001b[0;34m.\u001b[0m\u001b[0m_get_lines\u001b[0m\u001b[0;34m(\u001b[0m\u001b[0;34m*\u001b[0m\u001b[0margs\u001b[0m\u001b[0;34m,\u001b[0m \u001b[0mdata\u001b[0m\u001b[0;34m=\u001b[0m\u001b[0mdata\u001b[0m\u001b[0;34m,\u001b[0m \u001b[0;34m**\u001b[0m\u001b[0mkwargs\u001b[0m\u001b[0;34m)\u001b[0m\u001b[0;34m]\u001b[0m\u001b[0;34m\u001b[0m\u001b[0;34m\u001b[0m\u001b[0m\n\u001b[0m\u001b[1;32m   1606\u001b[0m         \u001b[0;32mfor\u001b[0m \u001b[0mline\u001b[0m \u001b[0;32min\u001b[0m \u001b[0mlines\u001b[0m\u001b[0;34m:\u001b[0m\u001b[0;34m\u001b[0m\u001b[0;34m\u001b[0m\u001b[0m\n\u001b[1;32m   1607\u001b[0m             \u001b[0mself\u001b[0m\u001b[0;34m.\u001b[0m\u001b[0madd_line\u001b[0m\u001b[0;34m(\u001b[0m\u001b[0mline\u001b[0m\u001b[0;34m)\u001b[0m\u001b[0;34m\u001b[0m\u001b[0;34m\u001b[0m\u001b[0m\n",
      "\u001b[0;32m~/anaconda3/lib/python3.9/site-packages/matplotlib/axes/_base.py\u001b[0m in \u001b[0;36m__call__\u001b[0;34m(self, data, *args, **kwargs)\u001b[0m\n\u001b[1;32m    313\u001b[0m                 \u001b[0mthis\u001b[0m \u001b[0;34m+=\u001b[0m \u001b[0margs\u001b[0m\u001b[0;34m[\u001b[0m\u001b[0;36m0\u001b[0m\u001b[0;34m]\u001b[0m\u001b[0;34m,\u001b[0m\u001b[0;34m\u001b[0m\u001b[0;34m\u001b[0m\u001b[0m\n\u001b[1;32m    314\u001b[0m                 \u001b[0margs\u001b[0m \u001b[0;34m=\u001b[0m \u001b[0margs\u001b[0m\u001b[0;34m[\u001b[0m\u001b[0;36m1\u001b[0m\u001b[0;34m:\u001b[0m\u001b[0;34m]\u001b[0m\u001b[0;34m\u001b[0m\u001b[0;34m\u001b[0m\u001b[0m\n\u001b[0;32m--> 315\u001b[0;31m             \u001b[0;32myield\u001b[0m \u001b[0;32mfrom\u001b[0m \u001b[0mself\u001b[0m\u001b[0;34m.\u001b[0m\u001b[0m_plot_args\u001b[0m\u001b[0;34m(\u001b[0m\u001b[0mthis\u001b[0m\u001b[0;34m,\u001b[0m \u001b[0mkwargs\u001b[0m\u001b[0;34m)\u001b[0m\u001b[0;34m\u001b[0m\u001b[0;34m\u001b[0m\u001b[0m\n\u001b[0m\u001b[1;32m    316\u001b[0m \u001b[0;34m\u001b[0m\u001b[0m\n\u001b[1;32m    317\u001b[0m     \u001b[0;32mdef\u001b[0m \u001b[0mget_next_color\u001b[0m\u001b[0;34m(\u001b[0m\u001b[0mself\u001b[0m\u001b[0;34m)\u001b[0m\u001b[0;34m:\u001b[0m\u001b[0;34m\u001b[0m\u001b[0;34m\u001b[0m\u001b[0m\n",
      "\u001b[0;32m~/anaconda3/lib/python3.9/site-packages/matplotlib/axes/_base.py\u001b[0m in \u001b[0;36m_plot_args\u001b[0;34m(self, tup, kwargs, return_kwargs)\u001b[0m\n\u001b[1;32m    499\u001b[0m \u001b[0;34m\u001b[0m\u001b[0m\n\u001b[1;32m    500\u001b[0m         \u001b[0;32mif\u001b[0m \u001b[0mx\u001b[0m\u001b[0;34m.\u001b[0m\u001b[0mshape\u001b[0m\u001b[0;34m[\u001b[0m\u001b[0;36m0\u001b[0m\u001b[0;34m]\u001b[0m \u001b[0;34m!=\u001b[0m \u001b[0my\u001b[0m\u001b[0;34m.\u001b[0m\u001b[0mshape\u001b[0m\u001b[0;34m[\u001b[0m\u001b[0;36m0\u001b[0m\u001b[0;34m]\u001b[0m\u001b[0;34m:\u001b[0m\u001b[0;34m\u001b[0m\u001b[0;34m\u001b[0m\u001b[0m\n\u001b[0;32m--> 501\u001b[0;31m             raise ValueError(f\"x and y must have same first dimension, but \"\n\u001b[0m\u001b[1;32m    502\u001b[0m                              f\"have shapes {x.shape} and {y.shape}\")\n\u001b[1;32m    503\u001b[0m         \u001b[0;32mif\u001b[0m \u001b[0mx\u001b[0m\u001b[0;34m.\u001b[0m\u001b[0mndim\u001b[0m \u001b[0;34m>\u001b[0m \u001b[0;36m2\u001b[0m \u001b[0;32mor\u001b[0m \u001b[0my\u001b[0m\u001b[0;34m.\u001b[0m\u001b[0mndim\u001b[0m \u001b[0;34m>\u001b[0m \u001b[0;36m2\u001b[0m\u001b[0;34m:\u001b[0m\u001b[0;34m\u001b[0m\u001b[0;34m\u001b[0m\u001b[0m\n",
      "\u001b[0;31mValueError\u001b[0m: x and y must have same first dimension, but have shapes (6,) and (10,)"
     ]
    },
    {
     "data": {
      "image/png": "[encoded data removed]",
      "text/plain": [
       "<Figure size 432x288 with 1 Axes>"
      ]
     },
     "metadata": {
      "needs_background": "light"
     },
     "output_type": "display_data"
    }
   ],
   "source": [
    "plt.plot(degree_parallelisme, times)\n",
    "\n",
    "plt.xlabel('Degrée de Parallélisme')\n",
    "plt.ylabel('Temps de calcul des composantes')\n",
    "plt.title('Comparaison du Temps de calcul des composantes sur 200_partitions') \n",
    "\n",
    "plt.show()\n",
    "\n",
    "#clculer la moyenne avec le write"
   ]
  },
  {
   "cell_type": "code",
   "execution_count": 61,
   "id": "0dce4ab5-86e4-4950-8356-2bdfd7bbbc1a",
   "metadata": {},
   "outputs": [
    {
     "name": "stdout",
     "output_type": "stream",
     "text": [
      "1\n"
     ]
    },
    {
     "name": "stderr",
     "output_type": "stream",
     "text": [
      "                                                                                \r"
     ]
    },
    {
     "name": "stdout",
     "output_type": "stream",
     "text": [
      "11\n"
     ]
    },
    {
     "name": "stderr",
     "output_type": "stream",
     "text": [
      "                                                                                \r"
     ]
    },
    {
     "name": "stdout",
     "output_type": "stream",
     "text": [
      "21\n"
     ]
    },
    {
     "name": "stderr",
     "output_type": "stream",
     "text": [
      "                                                                                \r"
     ]
    },
    {
     "name": "stdout",
     "output_type": "stream",
     "text": [
      "31\n"
     ]
    },
    {
     "name": "stderr",
     "output_type": "stream",
     "text": [
      "                                                                                \r"
     ]
    },
    {
     "name": "stdout",
     "output_type": "stream",
     "text": [
      "41\n"
     ]
    },
    {
     "name": "stderr",
     "output_type": "stream",
     "text": [
      "                                                                                \r"
     ]
    },
    {
     "name": "stdout",
     "output_type": "stream",
     "text": [
      "51\n"
     ]
    },
    {
     "name": "stderr",
     "output_type": "stream",
     "text": [
      "                                                                                \r"
     ]
    }
   ],
   "source": [
    "\n",
    "degree_parallelisme = range(1,60,10)\n",
    "times_moy = []\n",
    "times=[]\n",
    "\n",
    "for d in degree_parallelisme:\n",
    "    print(d)\n",
    "    times = []\n",
    "    for i in range(10):\n",
    "        df_with_component = calculate_partition_components(partition_folder , d)\n",
    "        start_time = time.time()\n",
    "        df_with_component.write.mode(\"overwrite\").parquet(directory_path)\n",
    "        times.append(time.time() - start_time)\n",
    "    times_moy.append(np.mean(times))\n",
    "    \n",
    "    "
   ]
  },
  {
   "cell_type": "code",
   "execution_count": 63,
   "id": "c699bebc-227c-45ca-a981-3b2d916ea745",
   "metadata": {},
   "outputs": [
    {
     "data": {
      "image/png": "[encoded data removed]",
      "text/plain": [
       "<Figure size 432x288 with 1 Axes>"
      ]
     },
     "metadata": {
      "needs_background": "light"
     },
     "output_type": "display_data"
    }
   ],
   "source": [
    "plt.plot(degree_parallelisme, times_moy)\n",
    "\n",
    "plt.xlabel('Degrée de Parallélisme')\n",
    "plt.ylabel('Temps de calcul des composantes')\n",
    "plt.title('Comparaison du Temps moyen de calcul des composantes sur 200_partitions') \n",
    "\n",
    "plt.show()\n",
    "\n",
    "#clculer la moyenne avec le write"
   ]
  },
  {
   "cell_type": "code",
   "execution_count": 38,
   "id": "cbaef770-8681-4c8d-abfb-87f1d3daf4a8",
   "metadata": {},
   "outputs": [],
   "source": [
    "spark.stop()"
   ]
  },
  {
   "cell_type": "markdown",
   "id": "7514fbba-79a7-4f34-a69f-0df4713bbd16",
   "metadata": {},
   "source": [
    "## G' : # RACHA :"
   ]
  },
  {
   "cell_type": "code",
   "execution_count": 64,
   "id": "1d821482-b9af-44b1-a2cf-8cc43aa84d5c",
   "metadata": {},
   "outputs": [],
   "source": [
    "def components_2(edges):\n",
    "    # Créer un graphe à partir des arêtes\n",
    "    g = Graph.TupleList(edges, directed=False)\n",
    "    \n",
    "    connected_components = g.connected_components()\n",
    "    node_ids=[]\n",
    "    for component in connected_components:\n",
    "        node_ids.append([g.vs[node_index]['name'] for node_index in component])\n",
    "    #on trie en fonction de la taille \n",
    "    composantes_triees = sorted(node_ids, key=len, reverse=True)\n",
    "    # Créer une liste de lignes pour chaque composante\n",
    "    rows = []\n",
    "    for i, component in enumerate(composantes_triees):\n",
    "        for seqid in component:\n",
    "            rows.append(Row(partial_component=seqid ,component=i ))\n",
    "    \n",
    "    # Créer un DataFrame Spark à partir de la liste de lignes\n",
    "    result_df = spark.createDataFrame(rows)\n",
    "    return result_df"
   ]
  },
  {
   "cell_type": "code",
   "execution_count": 12,
   "id": "9b18697c-a052-44e7-a2ff-9cd1ea236992",
   "metadata": {},
   "outputs": [],
   "source": [
    "def calculate_components(folder_partition ):\n",
    "    # Claclul des composantes partielles dans chaque partition\n",
    "    df_with_components = calculate_partition_components(folder_partition)\n",
    "    df_exploded = df_with_components.select('file',  explode('components').alias('component'))\n",
    "    df_split = df_exploded.select(\"file\", col(\"component.seqID\").alias(\"seqID\"), col(\"component.component_id\").alias(\"component_id\"))\n",
    "    \n",
    "    # Ajouter une colonne d'identifiant unique basée sur le couple (file, component_id)\n",
    "    windowSpec = Window.orderBy(\"file\", \"component_id\")\n",
    "    df = df_split.withColumn(\"new_component_id\", dense_rank().over(windowSpec))\n",
    "    new_df = df.select(\"seqID\",\"new_component_id\")\n",
    "\n",
    "    # new_df = df_split.select(\n",
    "    #             'seqID',\n",
    "    #             concat(col('file'), lit(':'), col('component_id')).alias('new_component_id')\n",
    "    #         )\n",
    "    \n",
    "    #cration d'un graph ou chaque noeud est le numero d'une composante (new_graph)\n",
    "\n",
    "    components_per_node = new_df \\\n",
    "        .groupby(\"seqID\") \\\n",
    "        .agg(collect_set(\"new_component_id\").alias(\"components\")) \\\n",
    "        .withColumn(\"min_component\", array_min(\"components\"))\n",
    "\n",
    "    # components_per_node = new_df \\\n",
    "    #     .groupby(\"seqID\") \\\n",
    "    #     .agg(collect_set(\"new_component_id\").alias(\"components\")) \\\n",
    "    #     .withColumn(\"min_component\", array_min(\"components\"))\n",
    "\n",
    "\n",
    "    components_per_node_exploded = components_per_node.select('seqID', 'min_component', explode('components').alias('component'))\n",
    "    result = components_per_node_exploded.where(col(\"component\") > col(\"min_component\")).drop(\"seqID\").dropDuplicates()\n",
    "  \n",
    "    \n",
    "    new_graph = result.withColumnRenamed(\"min_component\", \"src\").withColumnRenamed(\"component\", \"dst\")\n",
    "\n",
    "    #calcul des composantes sur le nouveau graph\n",
    "    edges =new_graph.select('src', 'dst').collect()\n",
    "    composantes_df = components_2(edges)\n",
    "\n",
    "    composantes_df_exploded = composantes_df \\\n",
    "            .groupby(\"component\") \\\n",
    "            .agg(collect_set(\"partial_component\").alias(\"partial_components\")) \\\n",
    "            .withColumn(\"min_partial_component\", array_min(\"partial_components\")) \\\n",
    "            .selectExpr(\"explode(partial_components) as partial_component\" , \"min_partial_component\")\n",
    "    \n",
    "    #resultat final en faisant une jointure gauche\n",
    "    result = components_per_node.join(composantes_df_exploded, components_per_node.min_component == composantes_df_exploded.partial_component, \"left_outer\") \\\n",
    "               .select(components_per_node.seqID, when(composantes_df_exploded.partial_component.isNull(), components_per_node.min_component).otherwise(composantes_df_exploded.min_partial_component).alias(\"new_component_id\"))\n",
    "\n",
    "\n",
    "    #ecriture du résultat dans des fichier parquet\n",
    "    file_path = f\"/data/bd/dataset/proteine/80_80/G99/graph_nodeID_only\"\n",
    "    result.repartition(1).write.mode(\"overwrite\").parquet(file_path)\n",
    "    \n",
    "    return result"
   ]
  },
  {
   "cell_type": "markdown",
   "id": "e159e1b2-134b-4e94-b075-5bc425fe7ade",
   "metadata": {
    "jp-MarkdownHeadingCollapsed": true,
    "tags": []
   },
   "source": [
    "# ANyes"
   ]
  },
  {
   "cell_type": "code",
   "execution_count": null,
   "id": "dbf4d99f-aba1-48fd-8d69-e6ec68bb6a19",
   "metadata": {},
   "outputs": [],
   "source": [
    "import time\n",
    "times = []\n",
    "\n",
    "degree_parallelisme = [10,20, 30, 40, 50, 60]\n",
    "\n",
    "for d in degree_parallelisme :\n",
    "     spark = demarrer_spark(d)\n",
    "     partition_folder = f\"/data/bd/dataset/proteine/80_80/G99/graph_partitionned/200_partitions\"\n",
    "     df_with_component = calculate_partition_components(partition_folder , d)\n",
    "     start_time = time.time()\n",
    "     # On lance une action   \n",
    "     c = df_with_component.collect()\n",
    "     end_time = time.time()\n",
    "     times.append(end_time-start_time)\n",
    "    \n",
    "     spark.stop()\n"
   ]
  },
  {
   "cell_type": "code",
   "execution_count": 90,
   "id": "7015c16c-3920-4e14-b90f-e12fef8834b4",
   "metadata": {},
   "outputs": [
    {
     "data": {
      "image/png": "[encoded data removed]",
      "text/plain": [
       "<Figure size 432x288 with 1 Axes>"
      ]
     },
     "metadata": {
      "needs_background": "light"
     },
     "output_type": "display_data"
    }
   ],
   "source": [
    "plt.plot(degree_parallelisme, times)\n",
    "\n",
    "plt.xlabel('Degrée de Parallélisme')\n",
    "plt.ylabel('Temps')\n",
    "plt.title('Comparaison du temps de calcul des composantes des fichiers sur 200_partitions') \n",
    "\n",
    "plt.show()"
   ]
  }
 ],
 "metadata": {
  "kernelspec": {
   "display_name": "Python 3 (ipykernel)",
   "language": "python",
   "name": "python3"
  },
  "language_info": {
   "codemirror_mode": {
    "name": "ipython",
    "version": 3
   },
   "file_extension": ".py",
   "mimetype": "text/x-python",
   "name": "python",
   "nbconvert_exporter": "python",
   "pygments_lexer": "ipython3",
   "version": "3.9.7"
  }
 },
 "nbformat": 4,
 "nbformat_minor": 5
}
